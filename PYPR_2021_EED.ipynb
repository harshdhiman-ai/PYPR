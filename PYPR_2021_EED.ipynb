{
  "nbformat": 4,
  "nbformat_minor": 0,
  "metadata": {
    "accelerator": "GPU",
    "colab": {
      "name": "PYPR_2021_EED.ipynb",
      "provenance": [],
      "collapsed_sections": [],
      "mount_file_id": "1yiK237FytzEGJ9UCTxtpKav2kJHuQONr",
      "authorship_tag": "ABX9TyMgeTY7y++ceLrFVidXuHx0",
      "include_colab_link": true
    },
    "kernelspec": {
      "display_name": "Python 3",
      "name": "python3"
    },
    "language_info": {
      "name": "python"
    }
  },
  "cells": [
    {
      "cell_type": "markdown",
      "metadata": {
        "id": "view-in-github",
        "colab_type": "text"
      },
      "source": [
        "<a href=\"https://colab.research.google.com/github/harshdhiman-ai/PYPR/blob/main/PYPR_2021_EED.ipynb\" target=\"_parent\"><img src=\"https://colab.research.google.com/assets/colab-badge.svg\" alt=\"Open In Colab\"/></a>"
      ]
    },
    {
      "cell_type": "code",
      "metadata": {
        "colab": {
          "base_uri": "https://localhost:8080/",
          "height": 35
        },
        "id": "LxjopMUK64XV",
        "outputId": "4d8c8517-42b1-4c5a-bb58-d5cc55610c35"
      },
      "source": [
        "import tensorflow as tf\n",
        "tf.test.gpu_device_name()"
      ],
      "execution_count": null,
      "outputs": [
        {
          "output_type": "execute_result",
          "data": {
            "application/vnd.google.colaboratory.intrinsic+json": {
              "type": "string"
            },
            "text/plain": [
              "'/device:GPU:0'"
            ]
          },
          "metadata": {
            "tags": []
          },
          "execution_count": 18
        }
      ]
    },
    {
      "cell_type": "code",
      "metadata": {
        "colab": {
          "base_uri": "https://localhost:8080/"
        },
        "id": "cWqwDPp17_dB",
        "outputId": "ed20ab44-ab85-4d75-b428-c6702272bdf4"
      },
      "source": [
        "import math\n",
        "math.trunc(62.6938)"
      ],
      "execution_count": null,
      "outputs": [
        {
          "output_type": "execute_result",
          "data": {
            "text/plain": [
              "62"
            ]
          },
          "metadata": {
            "tags": []
          },
          "execution_count": 9
        }
      ]
    },
    {
      "cell_type": "code",
      "metadata": {
        "colab": {
          "base_uri": "https://localhost:8080/"
        },
        "id": "ewUirjID7-iK",
        "outputId": "3c6afca9-e070-4dd0-c90a-b76ea5cfef1e"
      },
      "source": [
        "import numpy as np\n",
        "import pandas as pd\n",
        "x=np.array([[1,2,3],[4,5,6]]) # array x has two rows and three cols\n",
        "print(x.shape)"
      ],
      "execution_count": null,
      "outputs": [
        {
          "output_type": "stream",
          "text": [
            "(2, 3)\n"
          ],
          "name": "stdout"
        }
      ]
    },
    {
      "cell_type": "code",
      "metadata": {
        "colab": {
          "base_uri": "https://localhost:8080/"
        },
        "id": "BKqyDrWdrKPE",
        "outputId": "794c3369-158c-42dd-e36b-5ee41c781c31"
      },
      "source": [
        "import math\n",
        "x=math.cos(math.pi/4)\n",
        "print(x)"
      ],
      "execution_count": null,
      "outputs": [
        {
          "output_type": "stream",
          "text": [
            "0.7071067811865476\n"
          ],
          "name": "stdout"
        }
      ]
    },
    {
      "cell_type": "code",
      "metadata": {
        "colab": {
          "base_uri": "https://localhost:8080/"
        },
        "id": "QObSGN-jsJD6",
        "outputId": "c1bbd03a-630c-4d53-f268-62654e84f24f"
      },
      "source": [
        "# Inverse Trignometric functions\n",
        "print(math.asin(-1))"
      ],
      "execution_count": null,
      "outputs": [
        {
          "output_type": "stream",
          "text": [
            "-1.5707963267948966\n"
          ],
          "name": "stdout"
        }
      ]
    },
    {
      "cell_type": "markdown",
      "metadata": {
        "id": "vaAlLhSGMUXF"
      },
      "source": [
        "# Addition"
      ]
    },
    {
      "cell_type": "code",
      "metadata": {
        "id": "I-JHjg8rKmAN"
      },
      "source": [
        ""
      ],
      "execution_count": null,
      "outputs": []
    },
    {
      "cell_type": "markdown",
      "metadata": {
        "id": "B2Okq9huNIG1"
      },
      "source": [
        "#Data Types in Python\n",
        "\n",
        "> Indented block\n",
        "\n",
        "> Indented block\n",
        "\n",
        "\n",
        "\n"
      ]
    },
    {
      "cell_type": "code",
      "metadata": {
        "colab": {
          "base_uri": "https://localhost:8080/"
        },
        "id": "0YKXuqucNP1r",
        "outputId": "753b27d6-9f67-4c24-e3da-408f49b1aba0"
      },
      "source": [
        "# type() command is used for determining the type of a variable.\n",
        "x=1\n",
        "y=2.3\n",
        "z='aha'\n",
        "type(z)"
      ],
      "execution_count": null,
      "outputs": [
        {
          "output_type": "execute_result",
          "data": {
            "text/plain": [
              "str"
            ]
          },
          "metadata": {
            "tags": []
          },
          "execution_count": 2
        }
      ]
    },
    {
      "cell_type": "code",
      "metadata": {
        "colab": {
          "base_uri": "https://localhost:8080/"
        },
        "id": "KfYSFFuhqTnX",
        "outputId": "74fd002c-7d19-4578-9239-71d0b1d4c274"
      },
      "source": [
        "import math   # Python lib for math functions- log, exp, poly, hyperbolic\n",
        "import cmath  # Python library for working with complex functions\n",
        "# x=6+8i / 6+j8\n",
        "num=complex(6,8) # x=3+j4\n",
        "type(num)\n",
        "abs_value=abs(num) # Magnitude of the complex number x+iy, sqrt(x^2+y^2)\n",
        "print(y)\n",
        "# Function name is abs(), argument will be ......\n"
      ],
      "execution_count": null,
      "outputs": [
        {
          "output_type": "stream",
          "text": [
            "10.0\n",
            "6.0\n"
          ],
          "name": "stdout"
        }
      ]
    },
    {
      "cell_type": "markdown",
      "metadata": {
        "id": "dsbAmrT7yx5B"
      },
      "source": [
        "# Python Lists: Lists are used to store multiple items in a single variable.\n",
        "\n",
        "Lists are one of 4 built-in data types in Python used to store collections of data"
      ]
    },
    {
      "cell_type": "code",
      "metadata": {
        "colab": {
          "base_uri": "https://localhost:8080/"
        },
        "id": "CveJmSELwqVn",
        "outputId": "c79aaa29-9d7f-41b3-deb8-6d10a5c981fc"
      },
      "source": [
        "x=[181,68.75,'harsh', 45.100007,'apple','indonesia']\n",
        "# The most important/fundamental aspect is indexing \n",
        "# Indexing in python starts from 0\n",
        "x[0] # Means the first element of your list\n",
        "x[0:4] # This is known as list slicing\n",
        "x[-1] # Points to the first element from the end, This is known as negative indexing of list\n",
        "x[0]='Virat'\n",
        "print(x)"
      ],
      "execution_count": null,
      "outputs": [
        {
          "output_type": "stream",
          "text": [
            "['Virat', 68.75, 'harsh', 45.100007, 'apple', 'indonesia']\n"
          ],
          "name": "stdout"
        }
      ]
    },
    {
      "cell_type": "markdown",
      "metadata": {
        "id": "cYQa2Q7uy3Hs"
      },
      "source": [
        "# Python Tuple: Tuples are used to store multiple items in a single variable.\n",
        "\n",
        "Tuple is one of 4 built-in data types in Python used to store collections of data"
      ]
    },
    {
      "cell_type": "code",
      "metadata": {
        "colab": {
          "base_uri": "https://localhost:8080/"
        },
        "id": "AUF4tHKx0oLR",
        "outputId": "1782cd62-127f-47a0-93f1-fdb89ef023fb"
      },
      "source": [
        "y=(1,2,4,'dell',64.08) # y is defined as a tuple. \n",
        "print(y)\n",
        "## Tuples are ordered and unchangeble"
      ],
      "execution_count": null,
      "outputs": [
        {
          "output_type": "stream",
          "text": [
            "(1, 2, 4, 'dell', 64.08)\n"
          ],
          "name": "stdout"
        }
      ]
    },
    {
      "cell_type": "markdown",
      "metadata": {
        "id": "z7tgzO-iPpxl"
      },
      "source": [
        "# Python Sets: Sets are used to store multiple items in a single variable. Set is one of 4 built-in data types in Python used to store collections of data"
      ]
    },
    {
      "cell_type": "code",
      "metadata": {
        "colab": {
          "base_uri": "https://localhost:8080/",
          "height": 225
        },
        "id": "iEw8k-edP32-",
        "outputId": "6587e51a-55d8-454d-e7c2-bca3338450c2"
      },
      "source": [
        "x={'apple','cherry','mango'}\n",
        "# Set items are unordered and unchangeble\n",
        "# Set cannot have duplicate values and will be ignored, For example\n",
        "y={'apple','cherry','mango','apple'}\n",
        "print(y)\n",
        "#Set of voewls \n",
        "f={'a','e','i','o','u'}"
      ],
      "execution_count": null,
      "outputs": [
        {
          "output_type": "stream",
          "text": [
            "{'cherry', 'apple', 'mango'}\n"
          ],
          "name": "stdout"
        },
        {
          "output_type": "error",
          "ename": "TypeError",
          "evalue": "ignored",
          "traceback": [
            "\u001b[0;31m---------------------------------------------------------------------------\u001b[0m",
            "\u001b[0;31mTypeError\u001b[0m                                 Traceback (most recent call last)",
            "\u001b[0;32m<ipython-input-9-2eca30d3e6a8>\u001b[0m in \u001b[0;36m<module>\u001b[0;34m()\u001b[0m\n\u001b[1;32m      6\u001b[0m \u001b[0;31m#Set of voewls\u001b[0m\u001b[0;34m\u001b[0m\u001b[0;34m\u001b[0m\u001b[0;34m\u001b[0m\u001b[0m\n\u001b[1;32m      7\u001b[0m \u001b[0mf\u001b[0m\u001b[0;34m=\u001b[0m\u001b[0;34m{\u001b[0m\u001b[0;34m'a'\u001b[0m\u001b[0;34m,\u001b[0m\u001b[0;34m'e'\u001b[0m\u001b[0;34m,\u001b[0m\u001b[0;34m'i'\u001b[0m\u001b[0;34m,\u001b[0m\u001b[0;34m'o'\u001b[0m\u001b[0;34m,\u001b[0m\u001b[0;34m'u'\u001b[0m\u001b[0;34m}\u001b[0m\u001b[0;34m\u001b[0m\u001b[0;34m\u001b[0m\u001b[0m\n\u001b[0;32m----> 8\u001b[0;31m \u001b[0mprint\u001b[0m\u001b[0;34m(\u001b[0m\u001b[0mf\u001b[0m\u001b[0;34m[\u001b[0m\u001b[0;36m1\u001b[0m\u001b[0;34m]\u001b[0m\u001b[0;34m)\u001b[0m\u001b[0;34m\u001b[0m\u001b[0;34m\u001b[0m\u001b[0m\n\u001b[0m",
            "\u001b[0;31mTypeError\u001b[0m: 'set' object is not subscriptable"
          ]
        }
      ]
    },
    {
      "cell_type": "markdown",
      "metadata": {
        "id": "jP-fdO-FEC5V"
      },
      "source": [
        "#Python Variables and Ops Lecture-3: 24/6/2021"
      ]
    },
    {
      "cell_type": "code",
      "metadata": {
        "colab": {
          "base_uri": "https://localhost:8080/"
        },
        "id": "f8oCOywhGSh8",
        "outputId": "dc5f672e-6d38-4128-aae3-4320d8440b93"
      },
      "source": [
        "import cmath # Library to deal with complex number z=x+iy\n",
        "import math # Log, exp, hyperbolic, sin, cos, trigno\n",
        "#z=complex(3,4) # Aruguments are real and imag part of the CN , z= 3+j4\n",
        "# Magnitude of a complex number |z|= sqrt(x^2+y^2)\n",
        "#abs_z=abs(z)\n",
        "# Task is 3 raised to 12 3^12 , \n",
        "# In Matlab, ^ known as carrot operator. \n",
        "# In C programming , pow(3,12): You have use #include <math.h>\n",
        "a=1\n",
        "b=2\n",
        "c=a+b\n",
        "print(\"The addition is\",c)\n",
        "# In C programming, printf(\"The addition is %d\",c);\n",
        "c=a-b\n",
        "print(\"The sub is\",c)\n",
        "# Task is divide a by b and extract the remainder\n",
        "c=a/b\n",
        "print(\"The division is \",c)\n",
        "c=a%b\n",
        "print(\"The remainder is \",c)"
      ],
      "execution_count": null,
      "outputs": [
        {
          "output_type": "stream",
          "text": [
            "The addition is 3\n",
            "The sub is -1\n",
            "The division is  0.5\n",
            "The remainder is  1\n"
          ],
          "name": "stdout"
        }
      ]
    },
    {
      "cell_type": "markdown",
      "metadata": {
        "id": "JUPJAcLIMn0D"
      },
      "source": [
        "# Python Arith Operations & Expressions"
      ]
    },
    {
      "cell_type": "code",
      "metadata": {
        "colab": {
          "base_uri": "https://localhost:8080/"
        },
        "id": "p3cEW3Z_Mv9J",
        "outputId": "ed7b087a-4d07-448c-a36d-a3393de5eb88"
      },
      "source": [
        "a=1\n",
        "b=2\n",
        "import math\n",
        "# Evaluate a^2+b^2-sqrt(a+b)\n",
        "c=a**2+b**2-math.sqrt(a+b)\n",
        "print(\"The expression is\",c)\n",
        "x=45\n",
        "y=math.tan(math.pi/4) # angle pi/4\n",
        "print(y)"
      ],
      "execution_count": null,
      "outputs": [
        {
          "output_type": "stream",
          "text": [
            "The expression is 3.267949192431123\n",
            "0.9999999999999999\n"
          ],
          "name": "stdout"
        }
      ]
    },
    {
      "cell_type": "markdown",
      "metadata": {
        "id": "WeyTNppdHudq"
      },
      "source": [
        "#Python Relational & Logical Ops- (July 1, 2021)"
      ]
    },
    {
      "cell_type": "code",
      "metadata": {
        "colab": {
          "base_uri": "https://localhost:8080/"
        },
        "id": "5RbiHLg_H1Wh",
        "outputId": "bbe1f2b6-7838-4b97-ee6a-f9900269798f"
      },
      "source": [
        "# Use of == operator\n",
        "x=2\n",
        "y=3.5\n",
        "x==y\n",
        "# Difference between = (Assignment) and ==(Relational operator)\n",
        "#Strings in Python\n",
        "x=\"python\"\n",
        "y=\"programming\"\n",
        "z=\" \"\n",
        "print(\"The combined string is\",x+z+y)"
      ],
      "execution_count": null,
      "outputs": [
        {
          "output_type": "stream",
          "text": [
            "The combined string is python programming\n"
          ],
          "name": "stdout"
        }
      ]
    },
    {
      "cell_type": "code",
      "metadata": {
        "colab": {
          "base_uri": "https://localhost:8080/"
        },
        "id": "RSBHujOyKG0V",
        "outputId": "17b09801-8481-4704-fb78-558b6a9edada"
      },
      "source": [
        "#Logical Operations in Python\n",
        "# OR operator- symbol ||\n",
        "import math\n",
        "#OR operator (x+y), where x and y are binary inputs. False(0) and True(1)\n",
        "#AND operator (x*y), where x and y are binary inputs. False(0) and True(1)\n",
        "x=1\n",
        "y=math.pi/6\n",
        "theta=math.pi\n",
        "#evaluate the expression\n",
        "(x**2+math.sin(y))<(x-math.cos(theta)) and (math.sin(theta)+2*x < x*math.tan(y)) \n",
        "\n",
        "x*y #Normal multiplication\n",
        "x**y # x raised to y"
      ],
      "execution_count": null,
      "outputs": [
        {
          "output_type": "execute_result",
          "data": {
            "text/plain": [
              "False"
            ]
          },
          "metadata": {
            "tags": []
          },
          "execution_count": 18
        }
      ]
    },
    {
      "cell_type": "markdown",
      "metadata": {
        "id": "v5RQoe_nSu9o"
      },
      "source": [
        "# A three-phase star-connected load draws a current 10∠ − 45◦ ampere. Assuming wires have negligible impedance, calculate active, reactive and apparent power if the system voltage is 400 Volts. Compare all the powers if the load current changes to 10∠45◦ ampere"
      ]
    },
    {
      "cell_type": "code",
      "metadata": {
        "colab": {
          "base_uri": "https://localhost:8080/"
        },
        "id": "2ENRaZPkS2zN",
        "outputId": "2e3942a3-7a7b-48f1-d0b6-f0c3988a462c"
      },
      "source": [
        "import math\n",
        "import cmath\n",
        "phi=float(input('enter phase angle'))\n",
        "phi=phi*math.pi/180   ### degree to radian conversion for phase angle\n",
        "I=float(input('enter current magnitude'))\n",
        "V=float(input('enter line voltage'))\n",
        "I_new=cmath.rect(I,phi)  ## cmath.rect converts polar to rectangular with arguments in form of mag and phase (in radians)\n",
        "print(I_new)"
      ],
      "execution_count": null,
      "outputs": [
        {
          "output_type": "stream",
          "text": [
            "enter phase angle0\n",
            "enter current magnitude10\n",
            "enter line voltage400\n",
            "(10+0j)\n"
          ],
          "name": "stdout"
        }
      ]
    },
    {
      "cell_type": "code",
      "metadata": {
        "colab": {
          "base_uri": "https://localhost:8080/"
        },
        "id": "z-peLBbqS5PF",
        "outputId": "7f22d992-28f6-4a2f-e262-f26ee2ffb963"
      },
      "source": [
        "## Active Power: sqrt(3)*V_L*I_L*cos(phi)\n",
        "act_power=math.sqrt(3)*V*I_new.real  \n",
        "print(\"Active power in Watts is\",act_power,'Watts')\n",
        "\n",
        "## Reactive Power: sqrt(3)*V_L*I_L*sin(phi)\n",
        "react_power=math.sqrt(3)*V*I_new.imag\n",
        "print(\"Reactive power in VAR is\",react_power,'VAR')\n",
        "\n",
        "app_power=math.sqrt(3)*V*I_new   # S= sqrt(P^2+Q^2)\n",
        "print(\"apparent power is \",app_power, 'VA')\n",
        "#Absolute of Apparent power \n",
        "S=abs(app_power)\n",
        "print(\"Magnitude of apparent power is\",S,\"VA\")"
      ],
      "execution_count": null,
      "outputs": [
        {
          "output_type": "stream",
          "text": [
            "Active power in Watts is 6928.203230275509 Watts\n",
            "Reactive power in VAR is 0.0 VAR\n",
            "apparent power is  (6928.203230275509+0j) VA\n",
            "Magnitude of apparent power is 6928.203230275509 VA\n"
          ],
          "name": "stdout"
        }
      ]
    },
    {
      "cell_type": "markdown",
      "metadata": {
        "id": "mWdJF6KaOKM0"
      },
      "source": [
        "# E1-batch: Evaluate P, Q and S given I=4.5+j2.25 Ampere and Voltage of 440 Volts"
      ]
    },
    {
      "cell_type": "code",
      "metadata": {
        "colab": {
          "base_uri": "https://localhost:8080/"
        },
        "id": "oLN72rXaONOM",
        "outputId": "c07942b1-65d5-428f-c18f-e67b04c5642d"
      },
      "source": [
        "import cmath\n",
        "import math\n",
        "I=complex(4.5,2.25) # I= 4.5+j2.25\n",
        "V=440\n",
        "phi=math.atan(2.25/4.5)\n",
        "#phi=phi*180/(math.pi)\n",
        "print(\"The angle in radian is \",phi)\n",
        "P=V*abs(I)*math.cos(phi)              \n",
        "print(\"The active is \",P,\"Watts\")\n",
        "Q=V*abs(I)*math.sin(phi)\n",
        "print(\"The recactive power is \",Q,\"VAR\")\n",
        "S=V*I\n",
        "print(\"The Apparent is \",S,\"VA\")\n",
        "x=complex(5,19)\n",
        "abs(x)"
      ],
      "execution_count": null,
      "outputs": [
        {
          "output_type": "stream",
          "text": [
            "The angle in radian is  0.4636476090008061\n",
            "The active is  1979.9999999999998 Watts\n",
            "The recactive power is  989.9999999999999 VAR\n",
            "The Apparent is  (1980+990j) VA\n"
          ],
          "name": "stdout"
        },
        {
          "output_type": "execute_result",
          "data": {
            "text/plain": [
              "19.6468827043885"
            ]
          },
          "metadata": {
            "tags": []
          },
          "execution_count": 7
        }
      ]
    },
    {
      "cell_type": "markdown",
      "metadata": {
        "id": "4VMCl5X2xmNR"
      },
      "source": [
        "# Square roots of Quadratic Eqn"
      ]
    },
    {
      "cell_type": "code",
      "metadata": {
        "colab": {
          "base_uri": "https://localhost:8080/"
        },
        "id": "YuuGbzTzyIs-",
        "outputId": "460fdaa5-bd88-46e4-bea9-b1fda26c3bdc"
      },
      "source": [
        "# x^2-8x+90=0 compare this equation with ax^2+bx+c=0\n",
        "import math\n",
        "import cmath\n",
        "a=1\n",
        "b=-8\n",
        "c=90\n",
        "D=cmath.sqrt(b**2-4*a*c)\n",
        "# let us have two roots alpha and beta\n",
        "alpha= (-b+D)/(2*a)\n",
        "beta=(-b-D)/(2*a)\n",
        "print(\"The roots are\",alpha,beta)"
      ],
      "execution_count": null,
      "outputs": [
        {
          "output_type": "stream",
          "text": [
            "The roots are (4+8.602325267042627j) (4-8.602325267042627j)\n"
          ],
          "name": "stdout"
        }
      ]
    },
    {
      "cell_type": "markdown",
      "metadata": {
        "id": "pUfM23LfzjBz"
      },
      "source": [
        "# Compare area of a square with that of circle"
      ]
    },
    {
      "cell_type": "code",
      "metadata": {
        "colab": {
          "base_uri": "https://localhost:8080/"
        },
        "id": "wYyxoQY7znCq",
        "outputId": "5bcbfff7-2797-4e74-ee06-3e3cbf9ed8f5"
      },
      "source": [
        "a=5.12*0.01 # converison from cm to m\n",
        "r=0.23  \n",
        "area_s=a**2\n",
        "import math\n",
        "area_c=math.pi*r**2\n",
        "area_c<area_s       # Initial Hypothesis: area of circle is less than area of sqaure"
      ],
      "execution_count": null,
      "outputs": [
        {
          "output_type": "execute_result",
          "data": {
            "text/plain": [
              "False"
            ]
          },
          "metadata": {
            "tags": []
          },
          "execution_count": 2
        }
      ]
    },
    {
      "cell_type": "code",
      "metadata": {
        "colab": {
          "base_uri": "https://localhost:8080/"
        },
        "id": "xV9i5huK1Qda",
        "outputId": "e4567a4e-b8be-48c8-a8ff-580a5bf0f9e4"
      },
      "source": [
        "x=1\n",
        "y=0.94\n",
        "v=3/math.pi\n",
        "#import math\n",
        "# Logical OR, if one input is HIGH, output is HIGH\n",
        "(math.log(x**2)+9*math.exp(-y))>(7*v-math.log(x/4)) # log to the base e\n",
        "\n",
        "# for example , e^(-x)\n",
        "y=math.log2(2)\n",
        "print(y)\n",
        "x=1\n",
        "y=2\n",
        "import cmath\n",
        "k=complex(3,4)\n",
        "theta=36.86\n",
        "\n",
        "math.log(x**2)-math.sin(theta*math.pi/180)+y**(4.4)-abs(k)/2.0"
      ],
      "execution_count": null,
      "outputs": [
        {
          "output_type": "stream",
          "text": [
            "1.0\n"
          ],
          "name": "stdout"
        },
        {
          "output_type": "execute_result",
          "data": {
            "text/plain": [
              "18.012264778524575"
            ]
          },
          "metadata": {
            "tags": []
          },
          "execution_count": 15
        }
      ]
    },
    {
      "cell_type": "markdown",
      "metadata": {
        "id": "9xm6eWsRGs0K"
      },
      "source": [
        "# Application of Electrical Engg in Python"
      ]
    },
    {
      "cell_type": "code",
      "metadata": {
        "colab": {
          "base_uri": "https://localhost:8080/"
        },
        "id": "9rrhEmiFGxRk",
        "outputId": "573097a8-2360-4214-f5cf-3062cc93288f"
      },
      "source": [
        "I=complex(60,80) # I=60+j80 ampere\n",
        "V=complex(400,0) # Line-line voltage, V=400+j0 \n",
        "# How will you find the p.f. ?\n",
        "theta=math.atan(8/6)\n",
        "theta=theta*(180/math.pi)\n",
        "P=V*I.real\n",
        "print(\"The active power is\",P, \"Watts\")\n",
        "Q=V*I.imag\n",
        "print(\"The reactive power is\",Q, \"VAR\")\n"
      ],
      "execution_count": null,
      "outputs": [
        {
          "output_type": "execute_result",
          "data": {
            "text/plain": [
              "80.0"
            ]
          },
          "metadata": {
            "tags": []
          },
          "execution_count": 23
        }
      ]
    },
    {
      "cell_type": "markdown",
      "metadata": {
        "id": "kZldyWQKAwsA"
      },
      "source": [
        "# Numpy Module- Arrays in Python (July 8, 2021)\n",
        "\n"
      ]
    },
    {
      "cell_type": "code",
      "metadata": {
        "colab": {
          "base_uri": "https://localhost:8080/"
        },
        "id": "I5b64qlNA2_t",
        "outputId": "04cc794b-e183-44fc-c19a-bfa65259e3e5"
      },
      "source": [
        "import numpy as np\n",
        "import math \n",
        "#a=np.array([1,2,5,6,7,67,34,13])  # create 1-D array\n",
        "#print(a)\n",
        "\n",
        "\n",
        "x=np.array([[1,2,3],[4,5,6]]) # creates a 2-D array with 3 cols and 2 rows\n",
        "print(x)\n",
        "\n",
        "c=np.zeros(3) # creates 1-D array of length 3 with all zeros\n",
        "print(c)\n",
        "\n",
        "f=np.ones((5,2))  # creates 1-D array of size 5 x 2 with all ones\n",
        "print(f)"
      ],
      "execution_count": null,
      "outputs": [
        {
          "output_type": "stream",
          "text": [
            "[[1 2 3]\n",
            " [4 5 6]]\n",
            "[0. 0. 0.]\n",
            "[[1. 1.]\n",
            " [1. 1.]\n",
            " [1. 1.]\n",
            " [1. 1.]\n",
            " [1. 1.]]\n"
          ],
          "name": "stdout"
        }
      ]
    },
    {
      "cell_type": "markdown",
      "metadata": {
        "id": "7ZP7-W7pIcRE"
      },
      "source": [
        "# Additional numpy functions for arrays"
      ]
    },
    {
      "cell_type": "code",
      "metadata": {
        "colab": {
          "base_uri": "https://localhost:8080/"
        },
        "id": "vd-iWVMIIiuS",
        "outputId": "f2af398b-94a3-4796-fd36-eaeb4ff55dd7"
      },
      "source": [
        "#x=np.eye(5) # 5 x 5 matrix with 1 as diagonal element and 0 as off-diagonal element \n",
        "#print(x)\n",
        "\n",
        "y=np.linspace(0,100,20) # creates array of 20 equally spaced elements b/w 0 and 100\n",
        "print(y) \n",
        "\n",
        "#z=np.arange(0,10,1) #Array of values from 0 to less than 10 with step 1\n",
        "#print(z) "
      ],
      "execution_count": null,
      "outputs": [
        {
          "output_type": "stream",
          "text": [
            "[  0.           5.26315789  10.52631579  15.78947368  21.05263158\n",
            "  26.31578947  31.57894737  36.84210526  42.10526316  47.36842105\n",
            "  52.63157895  57.89473684  63.15789474  68.42105263  73.68421053\n",
            "  78.94736842  84.21052632  89.47368421  94.73684211 100.        ]\n"
          ],
          "name": "stdout"
        }
      ]
    },
    {
      "cell_type": "markdown",
      "metadata": {
        "id": "oQ1KBctLJ18a"
      },
      "source": [
        "#Inspecting array properties"
      ]
    },
    {
      "cell_type": "code",
      "metadata": {
        "colab": {
          "base_uri": "https://localhost:8080/"
        },
        "id": "JpbHxHe9EYEG",
        "outputId": "e68b2c78-ea4e-47ed-913c-a26547fdceb8"
      },
      "source": [
        "x=np.array([(1,2,3),(4,5,6)])\n",
        "y=x.reshape((3,2))  # Changes the shape to 3x2 from 2x3\n",
        "#print(y)\n",
        "\n",
        "y=x.T # transpose of array x\n",
        "print(y)\n",
        "\n",
        "\n",
        "#y.shape # Matrix size in terms of rows and cols\n",
        "#y.size # Returns the number of elements in an array\n",
        "#x.shape\n",
        "\n",
        "#p=x.tolist() # Converts array to a python list\n",
        "#print(p[0])\n",
        "\n",
        "z=np.array([1,3,4,7,5,2,9])\n",
        "w=np.sort(z) # Sorts a given array\n",
        "print(w)\n"
      ],
      "execution_count": null,
      "outputs": [
        {
          "output_type": "stream",
          "text": [
            "[[1 4]\n",
            " [2 5]\n",
            " [3 6]]\n",
            "[1 2 3 4 5 7 9]\n"
          ],
          "name": "stdout"
        }
      ]
    },
    {
      "cell_type": "markdown",
      "metadata": {
        "id": "YypHalb1MaE-"
      },
      "source": [
        "# Resizing Array\n",
        "# If the new array is larger than the original array, then the new array is filled with repeated copies of a. Note that this behavior is different from a.resize(new_shape) which fills with zeros instead of repeated copies of a. \n"
      ]
    },
    {
      "cell_type": "code",
      "metadata": {
        "colab": {
          "base_uri": "https://localhost:8080/"
        },
        "id": "-uFDl8qdMiH_",
        "outputId": "8fff54ad-e1fe-4cc1-dcaf-974c84eca3ca"
      },
      "source": [
        "y=np.resize(x,(7,7)) # 7x7 target size of new array\n",
        "print(y)"
      ],
      "execution_count": null,
      "outputs": [
        {
          "output_type": "stream",
          "text": [
            "[[1 2 3 4 5 6 1]\n",
            " [2 3 4 5 6 1 2]\n",
            " [3 4 5 6 1 2 3]\n",
            " [4 5 6 1 2 3 4]\n",
            " [5 6 1 2 3 4 5]\n",
            " [6 1 2 3 4 5 6]\n",
            " [1 2 3 4 5 6 1]]\n"
          ],
          "name": "stdout"
        }
      ]
    },
    {
      "cell_type": "markdown",
      "metadata": {
        "id": "mnX69scTTIh1"
      },
      "source": [
        "# Adding/Deleting elements from Array"
      ]
    },
    {
      "cell_type": "code",
      "metadata": {
        "colab": {
          "base_uri": "https://localhost:8080/"
        },
        "id": "lSFWv-HATTpx",
        "outputId": "f1dae5e8-0508-4d28-a8fc-622d3326d75c"
      },
      "source": [
        "x=np.array([1,2])\n",
        "\n",
        "#y=np.append(x,[3,4,5]) # adds the values to the current array x\n",
        "#print(y)\n",
        "\n",
        "y=np.insert(x,1,5) # insert a given value 5 on axis=2 , that is, column index =2\n",
        "print(y)\n"
      ],
      "execution_count": null,
      "outputs": [
        {
          "output_type": "stream",
          "text": [
            "[1 5 2]\n"
          ],
          "name": "stdout"
        }
      ]
    },
    {
      "cell_type": "markdown",
      "metadata": {
        "id": "1TsNgyIXU3pd"
      },
      "source": [
        "#Combining and Splitting arrays "
      ]
    },
    {
      "cell_type": "code",
      "metadata": {
        "colab": {
          "base_uri": "https://localhost:8080/"
        },
        "id": "pofJUMfqU-RP",
        "outputId": "844ee0b9-0854-45cf-aaa2-f9974c9a81b9"
      },
      "source": [
        "import numpy as np\n",
        "x=np.array([(1,2,3,4,5,6)])\n",
        "y=np.array([(4,6,7,8,9,9)])\n",
        "z=np.concatenate((x,y),axis=1)  #Adds y as columns to end of x. For adding columns we keep axis=1.\n",
        "print(z)\n",
        "# Similary for concatenating rows (or adding rows) we keep axis=0\n",
        "#print(z)\n",
        "\n",
        "#z=np.split(x,3,axis=1) # splits a given array into 2 equal sub-arrays\n",
        "#print(z)"
      ],
      "execution_count": null,
      "outputs": [
        {
          "output_type": "stream",
          "text": [
            "[[1 2 3 4 5 6 4 6 7 8 9 9]]\n"
          ],
          "name": "stdout"
        }
      ]
    },
    {
      "cell_type": "markdown",
      "metadata": {
        "id": "iPBoLmAcYai1"
      },
      "source": [
        "# Random Arrays in Python"
      ]
    },
    {
      "cell_type": "code",
      "metadata": {
        "id": "wH7CQDFuYdSy"
      },
      "source": [
        "#x=np.random.rand(2,2) #creates 2x2 array of random floats between 0-1\n",
        "#print(x)\n",
        "\n",
        "#x=np.random.randint(51,size=(1000,1)) # creates random array of size 3x4 with values between 0-9#\n",
        "#print(x)\n",
        "\n",
        "#x.astype(str) # converts a given array to str data type"
      ],
      "execution_count": null,
      "outputs": []
    },
    {
      "cell_type": "markdown",
      "metadata": {
        "id": "m2Noxl_-BQZp"
      },
      "source": [
        "# Array plotting - Visualization in Python"
      ]
    },
    {
      "cell_type": "code",
      "metadata": {
        "colab": {
          "base_uri": "https://localhost:8080/",
          "height": 279
        },
        "id": "EL5RCWleBUv9",
        "outputId": "f6826301-420f-48c8-976f-68a4fb66dbbf"
      },
      "source": [
        "import matplotlib.pyplot as plt\n",
        "import numpy as np\n",
        "import math\n",
        "a=np.array([1,2,3,4,5,6,7,8,56,6.7,6,6,6,6,6,6,6,6,6,6]) #1-D array\n",
        "plt.plot(a,'g',linewidth=3.0)\n",
        "plt.xlabel('t')\n",
        "plt.ylabel('y(t)')\n",
        "plt.show()"
      ],
      "execution_count": null,
      "outputs": [
        {
          "output_type": "display_data",
          "data": {
            "image/png": "[encoded data removed]",
            "text/plain": [
              "<Figure size 432x288 with 1 Axes>"
            ]
          },
          "metadata": {
            "tags": []
          }
        }
      ]
    },
    {
      "cell_type": "code",
      "metadata": {
        "colab": {
          "base_uri": "https://localhost:8080/",
          "height": 592
        },
        "id": "rUc-hAWeE0OX",
        "outputId": "6d703466-f65e-4afa-9ed6-162d425db864"
      },
      "source": [
        "import numpy as np\n",
        "import math\n",
        "x=np.arange(0,math.pi/2,0.001)  #1-D array, with equally spaced entities \n",
        "print(x)\n",
        "print(\"The number of elements are \",len(x))\n",
        "print(\"The shape of array x is\",np.shape(x))\n",
        "y=np.sin(x) # returns the sine of array x or sine of entities present in array x\n",
        "plt.plot(y)\n",
        "plt.xlabel('x')\n",
        "plt.ylabel('y=sin(x)')\n",
        "plt.show()\n",
        "#print(np.max(y))\n",
        "v=np.cos(x)\n",
        "plt.plot(v)\n",
        "plt.xlabel('x')\n",
        "plt.ylabel('y=cos(x)')\n",
        "plt.show()"
      ],
      "execution_count": null,
      "outputs": [
        {
          "output_type": "stream",
          "text": [
            "[0.000e+00 1.000e-03 2.000e-03 ... 1.568e+00 1.569e+00 1.570e+00]\n",
            "The number of elements are  1571\n",
            "The shape of array x is (1571,)\n"
          ],
          "name": "stdout"
        },
        {
          "output_type": "display_data",
          "data": {
            "image/png": "[encoded data removed]",
            "text/plain": [
              "<Figure size 432x288 with 1 Axes>"
            ]
          },
          "metadata": {
            "tags": []
          }
        },
        {
          "output_type": "display_data",
          "data": {
            "image/png": "[encoded data removed]",
            "text/plain": [
              "<Figure size 432x288 with 1 Axes>"
            ]
          },
          "metadata": {
            "tags": []
          }
        }
      ]
    },
    {
      "cell_type": "markdown",
      "metadata": {
        "id": "ljfB6ltAUCzE"
      },
      "source": [
        "# Indexing & Slicing in Arrays"
      ]
    },
    {
      "cell_type": "code",
      "metadata": {
        "colab": {
          "base_uri": "https://localhost:8080/"
        },
        "id": "_SKmTYnfUHUd",
        "outputId": "5294d027-232e-4a0a-9315-a92e71c65ff8"
      },
      "source": [
        "import numpy as np\n",
        "x=np.array([(1,2,3,4,5),(2,3,4,5,6)])\n",
        "x[1] # extracts the first row\n",
        "\n",
        "#x[0:] # prints the entire 2-D array\n",
        "\n",
        "x[0,2:5] # prints first row and col number 3, 4 and 5\n",
        "\n",
        "#x[:,-1] # prints first column from the end and for all the rows\n",
        "\n",
        "#x>=4 # Returns boolean values for each array element given the condition\n",
        "\n",
        "#x[0,1]=-45.23 # manipulates the element on position (1,3)- 1st row and 3rd col\n",
        "\n",
        "#y=x[x<5] # returns array small than 3\n"
      ],
      "execution_count": null,
      "outputs": [
        {
          "output_type": "execute_result",
          "data": {
            "text/plain": [
              "array([[  1, -45,   3,   4,   5],\n",
              "       [  2,   3,   4,   5,   6]])"
            ]
          },
          "metadata": {
            "tags": []
          },
          "execution_count": 25
        }
      ]
    },
    {
      "cell_type": "markdown",
      "metadata": {
        "id": "nveEOR6pS8iM"
      },
      "source": [
        "# Arithmetic Ops on Arrays"
      ]
    },
    {
      "cell_type": "code",
      "metadata": {
        "colab": {
          "base_uri": "https://localhost:8080/"
        },
        "id": "5kgGz2zPTAmf",
        "outputId": "bcf75f42-4572-41b5-af87-ef0818f0dfc5"
      },
      "source": [
        "\n",
        "np.add(x,1) # add 1 to each element of array x\n",
        "np.subtract(x,-8) #subtract -8 from each element of array x\n",
        "\n",
        "np.power(x,2) # returns array with each element being squared\n",
        "\n",
        "# Consider two arrays x and y. Perform standard arithmetic ops\n",
        "y=np.array([(-1,2,13,-4,5),(-2.5,3.6,4.4,5,6)])\n",
        "\n",
        "x+y # standard addition\n",
        "x-y # standard subtraction\n",
        "x*y # element to element multiplication\n",
        "\n",
        "print(\"The shape of x and y is\",x.shape,y.shape)\n",
        "\n",
        "#np.dot(x,y.T) # matrix multiplaction of x and y' \n",
        "\n",
        "import cmath\n",
        "#np.sqrt(x) # returns the square root of array x\n",
        "\n",
        "np.abs(x)  # returns the absolute value of array x\n",
        "\n",
        "np.floor(y) # rounds down to the nearest integer value\n",
        "\n",
        "np.ceil(y)  # rounds up to the nearest integer value\n",
        "\n",
        "np.round(y) # rounds to the nearest integer"
      ],
      "execution_count": null,
      "outputs": [
        {
          "output_type": "stream",
          "text": [
            "The shape of x and y is (2, 5) (2, 5)\n"
          ],
          "name": "stdout"
        },
        {
          "output_type": "execute_result",
          "data": {
            "text/plain": [
              "array([[-1.,  2., 13., -4.,  5.],\n",
              "       [-2.,  4.,  4.,  5.,  6.]])"
            ]
          },
          "metadata": {
            "tags": []
          },
          "execution_count": 40
        }
      ]
    },
    {
      "cell_type": "markdown",
      "metadata": {
        "id": "ZSUfu1d2Vgw-"
      },
      "source": [
        "#Statistical Ops on Numpy Array"
      ]
    },
    {
      "cell_type": "code",
      "metadata": {
        "colab": {
          "base_uri": "https://localhost:8080/"
        },
        "id": "D_MBr2R1VlQp",
        "outputId": "4797bae7-5470-4357-8228-116b6a40ab46"
      },
      "source": [
        "#x=np.arange(1,50,1)\n",
        "#x\n",
        "#np.mean(x) # returns the mean value\n",
        "\n",
        "y=np.array([(-1,2,13,-4,5),(-2.5,3.6,4.4,5,6)])\n",
        "np.mean(y,axis=1)\n",
        "z=np.std(y,axis=1)\n",
        "\n",
        "variance=np.power(z,2)\n",
        "variance\n",
        "\n",
        "#xnew=list()\n",
        "#for i in range(len(x)):\n",
        "#    xnew.append((x[i]-x.max())/(x.max()-x.min()))\n",
        "#print(np.asarray(xnew).shape)  "
      ],
      "execution_count": null,
      "outputs": [
        {
          "output_type": "execute_result",
          "data": {
            "text/plain": [
              "array([34.   ,  9.024])"
            ]
          },
          "metadata": {
            "tags": []
          },
          "execution_count": 55
        }
      ]
    },
    {
      "cell_type": "code",
      "metadata": {
        "colab": {
          "base_uri": "https://localhost:8080/"
        },
        "id": "hqDiWmzW_dBs",
        "outputId": "9a088ff3-aa78-48be-9b41-01a12c88eb51"
      },
      "source": [
        "import math\n",
        "c=\"Benjamin White\"\n",
        "math.log2(len(c)-1)<=math.sinh(len(c)+1) or c[len(c)-1]!=c[:,-7] "
      ],
      "execution_count": null,
      "outputs": [
        {
          "output_type": "execute_result",
          "data": {
            "text/plain": [
              "True"
            ]
          },
          "metadata": {
            "tags": []
          },
          "execution_count": 15
        }
      ]
    },
    {
      "cell_type": "markdown",
      "metadata": {
        "id": "NK1tTjwy3rm2"
      },
      "source": [
        "# Decision-Making in Python"
      ]
    },
    {
      "cell_type": "code",
      "metadata": {
        "colab": {
          "base_uri": "https://localhost:8080/"
        },
        "id": "4XytS-hg3xiB",
        "outputId": "ae2a058d-d54f-4e22-9be5-1f3f92a1e3ee"
      },
      "source": [
        "x=-9\n",
        "y=8\n",
        "if (x+y)>0 or (y-7<0):\n",
        "   print(\"Condition is true\")\n",
        "else:\n",
        "   print(\"Condition is false\")   "
      ],
      "execution_count": null,
      "outputs": [
        {
          "output_type": "stream",
          "text": [
            "Condition is false\n"
          ],
          "name": "stdout"
        }
      ]
    },
    {
      "cell_type": "code",
      "metadata": {
        "colab": {
          "base_uri": "https://localhost:8080/"
        },
        "id": "H9RnX6PB4Xy0",
        "outputId": "abfae431-e355-4465-9f1f-92a28feeb6f0"
      },
      "source": [
        "import numpy as np\n",
        "x=np.arange(0,100,1)\n",
        "y=np.arange(1,101,1)\n",
        "k=np.mean(x)-np.mean(y)\n",
        "\n",
        "if k>0.05:\n",
        "   print(\"True and the mean is\",k)\n",
        "else:\n",
        "   print(\"False and the mean is\",k)    \n",
        "   "
      ],
      "execution_count": null,
      "outputs": [
        {
          "output_type": "stream",
          "text": [
            "False and the mean is -1.0\n"
          ],
          "name": "stdout"
        }
      ]
    },
    {
      "cell_type": "markdown",
      "metadata": {
        "id": "Zi_p-g8Q4u5k"
      },
      "source": [
        " # Problem Statement:  Xavier’s weight is 61 kgs with a height of 175.31 cm.  Determine, if his body mass index is greater than 20.1 or not"
      ]
    },
    {
      "cell_type": "code",
      "metadata": {
        "colab": {
          "base_uri": "https://localhost:8080/"
        },
        "id": "65Tp9E_i46Fi",
        "outputId": "7bec30e9-88db-4ea3-9b28-53daa48254b1"
      },
      "source": [
        "h=float(input(\"Enter height in cm\"))\n",
        "w=float(input(\"Enter weight in kgs\"))\n",
        "h=h*0.01\n",
        "BMI=w/(h**2)\n",
        "\n",
        "if BMI>20.01:\n",
        "   print(\"BMI higher than threshold and BMI is\",BMI)\n",
        "else:\n",
        "   print(\"Not true and BMI is\",round(BMI,4))  "
      ],
      "execution_count": null,
      "outputs": [
        {
          "output_type": "stream",
          "text": [
            "Enter height in cm181\n",
            "Enter weight in kgs68\n",
            "BMI higher than threshold and BMI is 20.756387167668876\n"
          ],
          "name": "stdout"
        }
      ]
    },
    {
      "cell_type": "markdown",
      "metadata": {
        "id": "4InVyPPO63q2"
      },
      "source": [
        "# Write a program to determine whether a wind farm operator will pay a penalty, given the actual and predicted wind powers in MW\n",
        "# Actual powers ={34.1, 45.6, 33.9, 45.78} and Predicted powers ={33.7, 41.4, 33.9, 45.88}"
      ]
    },
    {
      "cell_type": "code",
      "metadata": {
        "colab": {
          "base_uri": "https://localhost:8080/"
        },
        "id": "qkRE83iF7PPD",
        "outputId": "825cff68-d5fc-4910-a056-c910c14c5039"
      },
      "source": [
        "import numpy as np\n",
        "act=np.array([34.1,45.6,33.9, 45.78])\n",
        "pred=np.array([33.7,41.4,33.9, 45.88])\n",
        "\n",
        "for i in range(len(act)):\n",
        "    if act[i]<pred[i]:\n",
        "       print(\"Pay Penalty in\",i,\"window\")\n",
        "    else:   \n",
        "       print(\"Don't pay penalty in\",i,\"window\")\n",
        "   "
      ],
      "execution_count": null,
      "outputs": [
        {
          "output_type": "stream",
          "text": [
            "Don't pay penalty in 0 window\n",
            "Don't pay penalty in 1 window\n",
            "Don't pay penalty in 2 window\n",
            "Pay Penalty in 3 window\n"
          ],
          "name": "stdout"
        }
      ]
    },
    {
      "cell_type": "code",
      "metadata": {
        "colab": {
          "base_uri": "https://localhost:8080/"
        },
        "id": "xcxsMCW_9Arp",
        "outputId": "c8ba7c1e-2da0-4abe-c486-f25e3bbb7fd0"
      },
      "source": [
        "i=0\n",
        "while i<len(act):\n",
        "      if act[i]<pred[i]:\n",
        "         print(\"Pay penalty\")\n",
        "      else:\n",
        "         print(\"Don't pay penalty\")\n",
        "      i+=1    "
      ],
      "execution_count": null,
      "outputs": [
        {
          "output_type": "stream",
          "text": [
            "Don't pay penalty\n",
            "Don't pay penalty\n",
            "Don't pay penalty\n",
            "Pay penalty\n"
          ],
          "name": "stdout"
        }
      ]
    },
    {
      "cell_type": "markdown",
      "metadata": {
        "id": "FNing0uH_UAF"
      },
      "source": [
        "# Create Heaviside function H(x) for x in [-10,10] and plot the same in Python"
      ]
    },
    {
      "cell_type": "code",
      "metadata": {
        "colab": {
          "base_uri": "https://localhost:8080/",
          "height": 279
        },
        "id": "nffl9LRQ_ZMf",
        "outputId": "dd58f5b0-4b57-423b-a033-c393775f21b1"
      },
      "source": [
        "x=np.arange(-10,11,0.01)\n",
        "import matplotlib.pyplot as plt\n",
        "y=list()\n",
        "for i in x:    # for loop runs for the counter variable i in x , values of i are x \n",
        "    if (i>0):\n",
        "        y.append(1)\n",
        "    else: \n",
        "        y.append(0)\n",
        "plt.plot(x,y,'g')\n",
        "plt.xlabel(\"x\")\n",
        "plt.ylabel(\"y\")\n",
        "plt.grid()\n",
        "plt.show()"
      ],
      "execution_count": null,
      "outputs": [
        {
          "output_type": "display_data",
          "data": {
            "image/png": "[encoded data removed]",
            "text/plain": [
              "<Figure size 432x288 with 1 Axes>"
            ]
          },
          "metadata": {
            "tags": []
          }
        }
      ]
    },
    {
      "cell_type": "markdown",
      "metadata": {
        "id": "Yez8N_AQv5zb"
      },
      "source": [
        "# Experiment-4 | Decision Making | 22/7/2021\n",
        "1.   Consider two integers x and y.  Determine if x is divisible by y\n",
        "2.   Write a C code to check if the first and last character of variable x= \"BAYERN Munchen” is in lowercase.  Print appropriate message.\n",
        "3.  Write a python script to check if sum of roots of aquadratic equation p(x)=x^2−4x+8 is equal to product of the roots.\n",
        "4. For the following mark distribution: \n",
        "    \n",
        "\n",
        "*   Allot A+ grade if the average score in Math & Physics exceeds 75% of the overall average.\n",
        "* Allot A- grade if the average score in Math & Yoga exceeds 95% of the overall average. \n",
        "* Allot B+ grade if the average score in Math & C programming exceeds 70% of the overall average\n",
        "*   Else, allot B- grade.\n",
        "\n",
        "\n",
        "![if_else.JPG](data:image/jpeg;base64,/9j/4AAQSkZJRgABAQEAYABgAAD/4RDyRXhpZgAATU0AKgAAAAgABAE7AAIAAAANAAAISodpAAQAAAABAAAIWJydAAEAAAAaAAAQ0OocAAcAAAgMAAAAPgAAAAAc6gAAAAgAAAAAAAAAAAAAAAAAAAAAAAAAAAAAAAAAAAAAAAAAAAAAAAAAAAAAAAAAAAAAAAAAAAAAAAAAAAAAAAAAAAAAAAAAAAAAAAAAAAAAAAAAAAAAAAAAAAAAAAAAAAAAAAAAAAAAAAAAAAAAAAAAAAAAAAAAAAAAAAAAAAAAAAAAAAAAAAAAAAAAAAAAAAAAAAAAAAAAAAAAAAAAAAAAAAAAAAAAAAAAAAAAAAAAAAAAAAAAAAAAAAAAAAAAAAAAAAAAAAAAAAAAAAAAAAAAAAAAAAAAAAAAAAAAAAAAAAAAAAAAAAAAAAAAAAAAAAAAAAAAAAAAAAAAAAAAAAAAAAAAAAAAAAAAAAAAAAAAAAAAAAAAAAAAAAAAAAAAAAAAAAAAAAAAAAAAAAAAAAAAAAAAAAAAAAAAAAAAAAAAAAAAAAAAAAAAAAAAAAAAAAAAAAAAAAAAAAAAAAAAAAAAAAAAAAAAAAAAAAAAAAAAAAAAAAAAAAAAAAAAAAAAAAAAAAAAAAAAAAAAAAAAAAAAAAAAAAAAAAAAAAAAAAAAAAAAAAAAAAAAAAAAAAAAAAAAAAAAAAAAAAAAAAAAAAAAAAAAAAAAAAAAAAAAAAAAAAAAAAAAAAAAAAAAAAAAAAAAAAAAAAAAAAAAAAAAAAAAAAAAAAAAAAAAAAAAAAAAAAAAAAAAAAAAAAAAAAAAAAAAAAAAAAAAAAAAAAAAAAAAAAAAAAAAAAAAAAAAAAAAAAAAAAAAAAAAAAAAAAAAAAAAAAAAAAAAAAAAAAAAAAAAAAAAAAAAAAAAAAAAAAAAAAAAAAAAAAAAAAAAAAAAAAAAAAAAAAAAAAAAAAAAAAAAAAAAAAAAAAAAAAAAAAAAAAAAAAAAAAAAAAAAAAAAAAAAAAAAAAAAAAAAAAAAAAAAAAAAAAAAAAAAAAAAAAAAAAAAAAAAAAAAAAAAAAAAAAAAAAAAAAAAAAAAAAAAAAAAAAAAAAAAAAAAAAAAAAAAAAAAAAAAAAAAAAAAAAAAAAAAAAAAAAAAAAAAAAAAAAAAAAAAAAAAAAAAAAAAAAAAAAAAAAAAAAAAAAAAAAAAAAAAAAAAAAAAAAAAAAAAAAAAAAAAAAAAAAAAAAAAAAAAAAAAAAAAAAAAAAAAAAAAAAAAAAAAAAAAAAAAAAAAAAAAAAAAAAAAAAAAAAAAAAAAAAAAAAAAAAAAAAAAAAAAAAAAAAAAAAAAAAAAAAAAAAAAAAAAAAAAAAAAAAAAAAAAAAAAAAAAAAAAAAAAAAAAAAAAAAAAAAAAAAAAAAAAAAAAAAAAAAAAAAAAAAAAAAAAAAAAAAAAAAAAAAAAAAAAAAAAAAAAAAAAAAAAAAAAAAAAAAAAAAAAAAAAAAAAAAAAAAAAAAAAAAAAAAAAAAAAAAAAAAAAAAAAAAAAAAAAAAAAAAAAAAAAAAAAAAAAAAAAAAAAAAAAAAAAAAAAAAAAAAAAAAAAAAAAAAAAAAAAAAAAAAAAAAAAAAAAAAAAAAAAAAAAAAAAAAAAAAAAAAAAAAAAAAAAAAAAAAAAAAAAAAAAAAAAAAAAAAAAAAAAAAAAAAAAAAAAAAAAAAAAAAAAAAAAAAAAAAAAAAAAAAAAAAAAAAAAAAAAAAAAAAAAAAAAAAAAAAAAAAAAAAAAAAAAAAAAAAAAAAAAAAAAAAAAAAAAAAAAAAAAAAAAAAAAAAAAAAAAAAAAAAAAAAAAAAAAAAAAAAAAAAAAAAAAAAAAAAAAAAAAAAAAAAAAAAAAAAAAAAAAAAAAAAAAAAAAAAAAAAAAAAAAAAAAAAAAAAAAAAAAAAAAAAAAAAAAAAAAAAAAAAAAAAAAAAAAAAAAAAAAAAAAAAAAAAAAAAAAAAAAAAAAAAAAAAAAAAAAAAAAAAAAAAAAAAAAAAAAAAAAAAAAAAAAAAAAAAAAAAAAAAAAAAAAAAAAAAAAAAAAAAAAAAAAAAAAAAAAAAAAAAAAAAAAAAAAAAAAAAAAAAAAAAAAAAAAAAAAAAAAAAAAAAAAAAAAAAAAAAAAAAAAAAAAAAAAAAAAAAAAAAAAAAAAAAAAAAAAAAAAAAAAAAAAAAAAAAAAAAAAAAAAAAAAAAAAAAAAAAAAAAAAAAAAAAAAAAAAAAAAAAAAAAAAAAAAAAAAAAAAAAAAAAAAAAAAAAAAAAAAAAAAAAAAAAAAAAAAAAAAAAAAAAAAAAAAAAAAAAAAAAAAAAAAAAAAAAAAAAAAAAAAAAAAAAAAAAAAAAAAAAAAAAAAAAAAAAAAAAAAAAAAAAAAAAAAAAAAAAAAAAAAAAAAAAAAAAAAAAAAAAAAAAAAAAAAAAAAAAAAAAAAAAAAAAAAAAAAAAAAAAAAAAAAAAAAAAAAAAAAAAAAAAAAAAAAAAAAAAAAAAAAAAAAAAAAAAAAAAAAAAAAAAAAAAAAAAAAAAAAAAAAAAAAAAAAAAAAAAAAAAAAAAAAAAAAAAAAAAAAAAAAAAAAAAAAAAAAAAAAAAAAAAAAAAAAAAAAAAAAAAAAAAAAAAAAAAAAAAAAAAAAAAAAAAAAAAAAAAAAAAAAAAAAAAAAAAAAAAAAAAAAAAAAAAAAAAAAAAAAAAAAAAAAAAAAAAAAAAAAAAAAAAAAAAAAAAAAAAAAAAAAAAAAAAAAAAAAAAAAAAAAAAAAAAAAAAAAAAAAAAAAAAAAAAAAAAAAAAAAAAAAAAAAAAAAAAAAAAAAAAAAAAAAAAAAAAAAAAAAAAAAAAAAAEhhcnNoIERoaW1hbgAAAAWQAwACAAAAFAAAEKaQBAACAAAAFAAAELqSkQACAAAAAzIyAACSkgACAAAAAzIyAADqHAAHAAAIDAAACJoAAAAAHOoAAAAIAAAAAAAAAAAAAAAAAAAAAAAAAAAAAAAAAAAAAAAAAAAAAAAAAAAAAAAAAAAAAAAAAAAAAAAAAAAAAAAAAAAAAAAAAAAAAAAAAAAAAAAAAAAAAAAAAAAAAAAAAAAAAAAAAAAAAAAAAAAAAAAAAAAAAAAAAAAAAAAAAAAAAAAAAAAAAAAAAAAAAAAAAAAAAAAAAAAAAAAAAAAAAAAAAAAAAAAAAAAAAAAAAAAAAAAAAAAAAAAAAAAAAAAAAAAAAAAAAAAAAAAAAAAAAAAAAAAAAAAAAAAAAAAAAAAAAAAAAAAAAAAAAAAAAAAAAAAAAAAAAAAAAAAAAAAAAAAAAAAAAAAAAAAAAAAAAAAAAAAAAAAAAAAAAAAAAAAAAAAAAAAAAAAAAAAAAAAAAAAAAAAAAAAAAAAAAAAAAAAAAAAAAAAAAAAAAAAAAAAAAAAAAAAAAAAAAAAAAAAAAAAAAAAAAAAAAAAAAAAAAAAAAAAAAAAAAAAAAAAAAAAAAAAAAAAAAAAAAAAAAAAAAAAAAAAAAAAAAAAAAAAAAAAAAAAAAAAAAAAAAAAAAAAAAAAAAAAAAAAAAAAAAAAAAAAAAAAAAAAAAAAAAAAAAAAAAAAAAAAAAAAAAAAAAAAAAAAAAAAAAAAAAAAAAAAAAAAAAAAAAAAAAAAAAAAAAAAAAAAAAAAAAAAAAAAAAAAAAAAAAAAAAAAAAAAAAAAAAAAAAAAAAAAAAAAAAAAAAAAAAAAAAAAAAAAAAAAAAAAAAAAAAAAAAAAAAAAAAAAAAAAAAAAAAAAAAAAAAAAAAAAAAAAAAAAAAAAAAAAAAAAAAAAAAAAAAAAAAAAAAAAAAAAAAAAAAAAAAAAAAAAAAAAAAAAAAAAAAAAAAAAAAAAAAAAAAAAAAAAAAAAAAAAAAAAAAAAAAAAAAAAAAAAAAAAAAAAAAAAAAAAAAAAAAAAAAAAAAAAAAAAAAAAAAAAAAAAAAAAAAAAAAAAAAAAAAAAAAAAAAAAAAAAAAAAAAAAAAAAAAAAAAAAAAAAAAAAAAAAAAAAAAAAAAAAAAAAAAAAAAAAAAAAAAAAAAAAAAAAAAAAAAAAAAAAAAAAAAAAAAAAAAAAAAAAAAAAAAAAAAAAAAAAAAAAAAAAAAAAAAAAAAAAAAAAAAAAAAAAAAAAAAAAAAAAAAAAAAAAAAAAAAAAAAAAAAAAAAAAAAAAAAAAAAAAAAAAAAAAAAAAAAAAAAAAAAAAAAAAAAAAAAAAAAAAAAAAAAAAAAAAAAAAAAAAAAAAAAAAAAAAAAAAAAAAAAAAAAAAAAAAAAAAAAAAAAAAAAAAAAAAAAAAAAAAAAAAAAAAAAAAAAAAAAAAAAAAAAAAAAAAAAAAAAAAAAAAAAAAAAAAAAAAAAAAAAAAAAAAAAAAAAAAAAAAAAAAAAAAAAAAAAAAAAAAAAAAAAAAAAAAAAAAAAAAAAAAAAAAAAAAAAAAAAAAAAAAAAAAAAAAAAAAAAAAAAAAAAAAAAAAAAAAAAAAAAAAAAAAAAAAAAAAAAAAAAAAAAAAAAAAAAAAAAAAAAAAAAAAAAAAAAAAAAAAAAAAAAAAAAAAAAAAAAAAAAAAAAAAAAAAAAAAAAAAAAAAAAAAAAAAAAAAAAAAAAAAAAAAAAAAAAAAAAAAAAAAAAAAAAAAAAAAAAAAAAAAAAAAAAAAAAAAAAAAAAAAAAAAAAAAAAAAAAAAAAAAAAAAAAAAAAAAAAAAAAAAAAAAAAAAAAAAAAAAAAAAAAAAAAAAAAAAAAAAAAAAAAAAAAAAAAAAAAAAAAAAAAAAAAAAAAAAAAAAAAAAAAAAAAAAAAAAAAAAAAAAAAAAAAAAAAAAAAAAAAAAAAAAAAAAAAAAAAAAAAAAAAAAAAAAAAAAAAAAAAAAAAAAAAAAAAAAAAAAAAAAAAAAAAAAAAAAAAAAAAAAAAAAAAAAAAAAAAAAAAAAAAAAAAAAAAAAAAAAAAAAAAAAAAAAAAAAAAAAAAAAAAAAAAAAAAAAAAAAAAAAAAAAAAAAAAAAAAAAAAAAAAAAAAAAAAAAAAAAAAAAAAAAAAAAAAAAAAAAAAAAAAAAAAAAAAAAAAAAAAAAAAAAAAAAAAAAAAAAAAAAAAAAAAAAAAAAAAAAAAAAAAAAAAAAAAAAAAAAAAAAAAAAAAAAAAAAAAAAAAAAAAAAAAAAAAAAAAAAAAAAAAAAAAAAAAAAAAAAAAAAAAAAAAAAAAAAAAAAAAAAAAAAAAAAAAAAAAAAAAAAAAAAAAAAAAAAAAAAAAAAAAAAAAAAAAAAAAAAAAAAAAAAAAAAAAAAAAAAAAAAAAAAAAAAAAAAAAAAAAAAAAAAAAAAAAAAAAAAAAAAAAAAAAAAAAAAAAAAAAAAAAAAAAAAAAAAAAAAAAAAAAAAAAAAAAAAAAAAAAAAAAAAAAAAAAAAAAAAAAAAAAAAAAAAAAAAAAAAAAAAAAAAAAAAAAAAAAAAAAAAAAAAAAAAAAAAAAAAAAAAAAAAAAAAAAAAAAAAAAAAAAAAAAAAAAAAAAAAAAAAAAAAAAAAAAAAAAAAAAAAAAAAAAAAAAAAAAAAAAAAAAAAAAAAAAAAAAAAAAAAAAAAAAAAAAAAAAAAAAAAAAAAAAAAAAAAAAAAAAAAAAAAAAAAAAAAAAAAAAAAAAAAAAAAAAAAAAAAAAAAAAAAAAAAAAAAAAAAAAAAAAAAAAAAAAAAAAAAAAAAAAAAAAAAAAAAAAAAAAAAAAAAyMDIxOjA3OjIyIDExOjI0OjUxADIwMjE6MDc6MjIgMTE6MjQ6NTEAAABIAGEAcgBzAGgAIABEAGgAaQBtAGEAbgAAAP/hCx9odHRwOi8vbnMuYWRvYmUuY29tL3hhcC8xLjAvADw/eHBhY2tldCBiZWdpbj0n77u/JyBpZD0nVzVNME1wQ2VoaUh6cmVTek5UY3prYzlkJz8+DQo8eDp4bXBtZXRhIHhtbG5zOng9ImFkb2JlOm5zOm1ldGEvIj48cmRmOlJERiB4bWxuczpyZGY9Imh0dHA6Ly93d3cudzMub3JnLzE5OTkvMDIvMjItcmRmLXN5bnRheC1ucyMiPjxyZGY6RGVzY3JpcHRpb24gcmRmOmFib3V0PSJ1dWlkOmZhZjViZGQ1LWJhM2QtMTFkYS1hZDMxLWQzM2Q3NTE4MmYxYiIgeG1sbnM6ZGM9Imh0dHA6Ly9wdXJsLm9yZy9kYy9lbGVtZW50cy8xLjEvIi8+PHJkZjpEZXNjcmlwdGlvbiByZGY6YWJvdXQ9InV1aWQ6ZmFmNWJkZDUtYmEzZC0xMWRhLWFkMzEtZDMzZDc1MTgyZjFiIiB4bWxuczp4bXA9Imh0dHA6Ly9ucy5hZG9iZS5jb20veGFwLzEuMC8iPjx4bXA6Q3JlYXRlRGF0ZT4yMDIxLTA3LTIyVDExOjI0OjUxLjIxNzwveG1wOkNyZWF0ZURhdGU+PC9yZGY6RGVzY3JpcHRpb24+PHJkZjpEZXNjcmlwdGlvbiByZGY6YWJvdXQ9InV1aWQ6ZmFmNWJkZDUtYmEzZC0xMWRhLWFkMzEtZDMzZDc1MTgyZjFiIiB4bWxuczpkYz0iaHR0cDovL3B1cmwub3JnL2RjL2VsZW1lbnRzLzEuMS8iPjxkYzpjcmVhdG9yPjxyZGY6U2VxIHhtbG5zOnJkZj0iaHR0cDovL3d3dy53My5vcmcvMTk5OS8wMi8yMi1yZGYtc3ludGF4LW5zIyI+PHJkZjpsaT5IYXJzaCBEaGltYW48L3JkZjpsaT48L3JkZjpTZXE+DQoJCQk8L2RjOmNyZWF0b3I+PC9yZGY6RGVzY3JpcHRpb24+PC9yZGY6UkRGPjwveDp4bXBtZXRhPg0KICAgICAgICAgICAgICAgICAgICAgICAgICAgICAgICAgICAgICAgICAgICAgICAgICAgICAgICAgICAgICAgICAgICAgICAgICAgICAgICAgICAgICAgICAgICAgICAgICAgIAogICAgICAgICAgICAgICAgICAgICAgICAgICAgICAgICAgICAgICAgICAgICAgICAgICAgICAgICAgICAgICAgICAgICAgICAgICAgICAgICAgICAgICAgICAgICAgICAgICAgCiAgICAgICAgICAgICAgICAgICAgICAgICAgICAgICAgICAgICAgICAgICAgICAgICAgICAgICAgICAgICAgICAgICAgICAgICAgICAgICAgICAgICAgICAgICAgICAgICAgICAKICAgICAgICAgICAgICAgICAgICAgICAgICAgICAgICAgICAgICAgICAgICAgICAgICAgICAgICAgICAgICAgICAgICAgICAgICAgICAgICAgICAgICAgICAgICAgICAgICAgIAogICAgICAgICAgICAgICAgICAgICAgICAgICAgICAgICAgICAgICAgICAgICAgICAgICAgICAgICAgICAgICAgICAgICAgICAgICAgICAgICAgICAgICAgICAgICAgICAgICAgCiAgICAgICAgICAgICAgICAgICAgICAgICAgICAgICAgICAgICAgICAgICAgICAgICAgICAgICAgICAgICAgICAgICAgICAgICAgICAgICAgICAgICAgICAgICAgICAgICAgICAKICAgICAgICAgICAgICAgICAgICAgICAgICAgICAgICAgICAgICAgICAgICAgICAgICAgICAgICAgICAgICAgICAgICAgICAgICAgICAgICAgICAgICAgICAgICAgICAgICAgIAogICAgICAgICAgICAgICAgICAgICAgICAgICAgICAgICAgICAgICAgICAgICAgICAgICAgICAgICAgICAgICAgICAgICAgICAgICAgICAgICAgICAgICAgICAgICAgICAgICAgCiAgICAgICAgICAgICAgICAgICAgICAgICAgICAgICAgICAgICAgICAgICAgICAgICAgICAgICAgICAgICAgICAgICAgICAgICAgICAgICAgICAgICAgICAgICAgICAgICAgICAKICAgICAgICAgICAgICAgICAgICAgICAgICAgICAgICAgICAgICAgICAgICAgICAgICAgICAgICAgICAgICAgICAgICAgICAgICAgICAgICAgICAgICAgICAgICAgICAgICAgIAogICAgICAgICAgICAgICAgICAgICAgICAgICAgICAgICAgICAgICAgICAgICAgICAgICAgICAgICAgICAgICAgICAgICAgICAgICAgICAgICAgICAgICAgICAgICAgICAgICAgCiAgICAgICAgICAgICAgICAgICAgICAgICAgICAgICAgICAgICAgICAgICAgICAgICAgICAgICAgICAgICAgICAgICAgICAgICAgICAgICAgICAgICAgICAgICAgICAgICAgICAKICAgICAgICAgICAgICAgICAgICAgICAgICAgICAgICAgICAgICAgICAgICAgICAgICAgICAgICAgICAgICAgICAgICAgICAgICAgICAgICAgICAgICAgICAgICAgICAgICAgIAogICAgICAgICAgICAgICAgICAgICAgICAgICAgICAgICAgICAgICAgICAgICAgICAgICAgICAgICAgICAgICAgICAgICAgICAgICAgICAgICAgICAgICAgICAgICAgICAgICAgCiAgICAgICAgICAgICAgICAgICAgICAgICAgICAgICAgICAgICAgICAgICAgICAgICAgICAgICAgICAgICAgICAgICAgICAgICAgICAgICAgICAgICAgICAgICAgICAgICAgICAKICAgICAgICAgICAgICAgICAgICAgICAgICAgICAgICAgICAgICAgICAgICAgICAgICAgICAgICAgICAgICAgICAgICAgICAgICAgICAgICAgICAgICAgICAgICAgICAgICAgIAogICAgICAgICAgICAgICAgICAgICAgICAgICAgICAgICAgICAgICAgICAgICAgICAgICAgICAgICAgICAgICAgICAgICAgICAgICAgICAgICAgICAgICAgICAgICAgICAgICAgCiAgICAgICAgICAgICAgICAgICAgICAgICAgICAgICAgICAgICAgICAgICAgICAgICAgICAgICAgICAgICAgICAgICAgICAgICAgICAgICAgICAgICAgICAgICAgICAgICAgICAKICAgICAgICAgICAgICAgICAgICAgICAgICAgICAgICAgICAgICAgICAgICAgICAgICAgICAgICAgICAgICAgICAgICAgICAgICAgICAgICAgICAgICAgICAgICAgICAgICAgIAogICAgICAgICAgICAgICAgICAgICAgICAgICAgICAgICAgICAgICAgICAgICAgICAgICAgICAgICAgICAgICAgICAgICAgICAgICAgICAgICAgICAgICAgICAgICAgICAgICAgCiAgICAgICAgICAgICAgICAgICAgICAgICAgICA8P3hwYWNrZXQgZW5kPSd3Jz8+/9sAQwAHBQUGBQQHBgUGCAcHCAoRCwoJCQoVDxAMERgVGhkYFRgXGx4nIRsdJR0XGCIuIiUoKSssKxogLzMvKjInKisq/9sAQwEHCAgKCQoUCwsUKhwYHCoqKioqKioqKioqKioqKioqKioqKioqKioqKioqKioqKioqKioqKioqKioqKioqKioq/8AAEQgAmAEhAwEiAAIRAQMRAf/EAB8AAAEFAQEBAQEBAAAAAAAAAAABAgMEBQYHCAkKC//EALUQAAIBAwMCBAMFBQQEAAABfQECAwAEEQUSITFBBhNRYQcicRQygZGhCCNCscEVUtHwJDNicoIJChYXGBkaJSYnKCkqNDU2Nzg5OkNERUZHSElKU1RVVldYWVpjZGVmZ2hpanN0dXZ3eHl6g4SFhoeIiYqSk5SVlpeYmZqio6Slpqeoqaqys7S1tre4ubrCw8TFxsfIycrS09TV1tfY2drh4uPk5ebn6Onq8fLz9PX29/j5+v/EAB8BAAMBAQEBAQEBAQEAAAAAAAABAgMEBQYHCAkKC//EALURAAIBAgQEAwQHBQQEAAECdwABAgMRBAUhMQYSQVEHYXETIjKBCBRCkaGxwQkjM1LwFWJy0QoWJDThJfEXGBkaJicoKSo1Njc4OTpDREVGR0hJSlNUVVZXWFlaY2RlZmdoaWpzdHV2d3h5eoKDhIWGh4iJipKTlJWWl5iZmqKjpKWmp6ipqrKztLW2t7i5usLDxMXGx8jJytLT1NXW19jZ2uLj5OXm5+jp6vLz9PX29/j5+v/aAAwDAQACEQMRAD8A+kaKKKAMf/hLdD/6CCf98t/hR/wluh/9BBP++W/wrYooAx/+Et0P/oIJ/wB8t/hR/wAJbof/AEEE/wC+W/wrYooAx/8AhLdD/wCggn/fLf4Uf8Jbof8A0EE/75b/AArYooAx/wDhLdD/AOggn/fLf4Uf8Jbof/QQT/vlv8K2KKAMf/hLdD/6CCf98t/hR/wluh/9BBP++W/wrm9Z1y6vPiK/huXxE/huCOzjnt3iWHzb52JDBWmRlwuBwBnn0rqbORtG0+1t9d1mO6uJJfJjuZlSFp2JJVdq4BbHoBnBOBQBF/wluh/9BBP++W/wo/4S3Q/+ggn/AHy3+FUfG3iE6V4N1660m8hXUNNtvMIBVzCTypZT0yPWr2j+KdE1qY2um6xZXt3HGHlignV2UdM4B6Z4oAP+Et0P/oIJ/wB8t/hR/wAJbof/AEEE/wC+W/wplprVpp3h832s+ILK6hWZ0a9XbFGTvICYDEbh93Gckjp2qwviTRX0VtXGq2n9nISHujMojUg4IJPQ54wec0ARf8Jbof8A0EE/75b/AAo/4S3Q/wDoIJ/3y3+FZeqfEnw1p+itqMOqWd0qzxwGNbhVYMzKOQeRgNu+ldLZX9pqVot1p9zFdW752ywuHVscHBFAGd/wluh/9BBP++W/wo/4S3Q/+ggn/fLf4VsUUAY//CW6H/0EE/75b/Cj/hLdD/6CCf8AfLf4VsUUAY//AAluh/8AQQT/AL5b/Cj/AIS3Q/8AoIJ/3y3+FbFFAGP/AMJbof8A0EE/75b/AAo/4S3Q/wDoIJ/3y3+FbFFAGP8A8Jbof/QQT/vlv8KP+Et0P/oIJ/3y3+FW9ZuJbPQb+5t22yw20kiNjOGCkg4+tcj8KfFmp+I/BvmeKHj/ALVtcNcOihFeN1EkbgYAxtbH1U0AdH/wluh/9BBP++W/wo/4S3Q/+ggn/fLf4VyHw98Z6t4i8SeI31ieJNKiSK509dqr5du+/DM2OchQ3PQGux07xVoWrGYabq1rcmGPzXEcoJCf3/dfccUAN/4S3Q/+ggn/AHy3+FH/AAluh/8AQQT/AL5b/CsTxR43sx4Vu7rwtrFpcXcD2xbyHSUokkqgEjnGVJxmuluNa0u0kuUutRtYWtIhNcLJMqmGM9GbJ+UcHk0AVf8AhLdD/wCggn/fLf4U+HxPo1xPHDDfI0kjBEUK3JJwB0qTSvEGk64ZRpN/DdNDjzFRvmQHoSOoBwcHvWjQAUUUUAFFFFABRRRQAUVjnxTpYOM3n/gBP/8AEUf8JVpfref+C+f/AOIoA2KKx/8AhKtL9bz/AMF8/wD8RR/wlWl+t5/4L5//AIigDYorH/4SrS/W8/8ABfP/APEUf8JVpfref+C+f/4igDYorH/4SrS/W8/8F8//AMRR/wAJVpfref8Agvn/APiKAMfxbqPhqe4fS/GHh26vrdVDwzPpEl5C5I5CtGjbWHTBwfTNcfDpWpab4L0CSWw1IWNn4jFzb2zQyTXFtZbmCBkUF+ARxgkAjPSvSP8AhKtL9bz/AMF8/wD8RR/wlWl+t5/4L5//AIigDzrxHbahreg/EuWx0jUsX1lClmslnIj3JERB2IQGPPGMZ9q2LeR/EHjbwvLpml6haJo0Ev225u7CS2VQ0YQQqXUbzu5+XK/L16V1v/CVaX63n/gvn/8AiKp6nrel6lYtbi81azJIImtbOdHUj0PlkfgQRQB53Z6Xe3PhXQdTtptQjttN1q/kuG02BJ5490sqrIsbo4bBPIClsEkVem0iQLZa7p58QaxaW+trfahHqGniGacCExh44FijLbTtbGzJKnGa7LQ9Q8P+HtHh03Tvt/kxZO6SyuGd2YlmZjs5JJJJ960P+Eq0v1vP/BfP/wDEUAcv4y1L/hJPA95NpGl6o4trm1mPm6dNDJMqTKzbI3UO2AD/AA/TNdrpmoxarYpd28VzFG5O1bq3eB8DuUcBh+IFUv8AhKtL9bz/AMF8/wD8RR/wlWl+t5/4L5//AIigDYorH/4SrS/W8/8ABfP/APEUf8JVpfref+C+f/4igDYorH/4SrS/W8/8F8//AMRR/wAJVpfref8Agvn/APiKANiisf8A4SrS/W8/8F8//wARR/wlWl+t5/4L5/8A4igDYorH/wCEq0v1vP8AwXz/APxFH/CVaX63n/gvn/8AiKALOvRvN4b1KKFGkke0lVUUZLEocADua8uPhvxDb+G/Dq6NYzRyato8OkaqCux7VRgiVgeQVUyL65YV6R/wlWl+t5/4L5//AIij/hKtL9bz/wAF8/8A8RQBykFnf6B4q8X3elaNLcxw6TapYwlCqXDRxuPLVsYPYED1rHhn1XX/ABhp+oSW+oT7dFvYppG0SeyjidghEQ8wbmJIOOSDjivQ/wDhKtL9bz/wXz//ABFH/CVaX63n/gvn/wDiKAOCm8MXdn+ztYaNpFhNbX/2e1JiW2LSJL5iFmZMZJByTn05qe38PnR9J8Q+G/EVtqmqW97/AKb/AGxZ2xe4udzDIYqD+8QgEDHKgYBwRXbf8JVpfref+C+f/wCIo/4SrS/W8/8ABfP/APEUAYPgTUNZudR1G2vLnUNR0qGOM2t/qWmtZTs53boyhRN4ACndtHXHNdtWP/wlWl+t5/4L5/8A4inweJNNuLiOGI3W+Rgq7rKZRk+pKYH40AatFFFABRRRQAUUUUAFFFFABRRRQAUUUUAFFFFABXnPi3xlrOgfFTRrKKSM6C9sH1BCg3Jvl8tHBxnAZlzzjFejVwev+HZNd+ItxBc2032C68PSWrXAjOxXMoIG7puHXHXigCv8WvGGr+G9MtYPDMscd+7faJ3dA/l26sFY4IIyWdQPxrrdQ8UaJozxxavqtraTPGJNksgUhem4jsue54rzO80TxLqvgHxBqOvaZP8A2zJDb6fBbRKZGaOF1LOqjP32LNx2A9K6LxZrWrJqN9owsruGyk08CKW20ea8a8dlYFN6ZSLHTDjnOcigDe1nxzomh63p2m31/axtfK773uEURqFyGOT0boDWa/jmy0vxzq9prus2dnpkNnazW3nyIgJffuIbqRhR9Kw4Fu9F034d32oadqLpZWjw3SQWUs0sLNAANyIpYcjHTjvWja6bcXPxO8UahLp1wLa60K1ihllgIDn96WjBI5IyuV+lAHewzR3EKTQSLLFIoZHRsqwPQgjqKfXMfDa1ubL4YeHLa/glt7mHToUlimQq6MEGQwPIPsa6egAooooAKKKKACiiigAooooAKKKKAOb8YeILrRv7JstMEQvtYvls4JZ1LRxfKzs5UEE4VDgZGTiqNjrGvT63rPhdr6y/tWyhhura+ezZo3hkLD54hIPmBRhww7Gr3jex0+70WGXUZr+1a0uUnt7vT7dppbeQdG2qrZHJByCMHmsDwNo10fF2veK7qTUJ47qCK0tpdQiEUs6x7mZxGFXYpLYUbQTtz3yQC/oepeKpvG8+l3upaRqFjZQ7r2S106S3aOVhlIwTM4Jx8x44GPWu0rkfhpZXVv4PF3qkM0OoaldT3lys6FXDPIcAggEYUKPoK66gAooooAKKKKACiiigAooooAKKKKACiiigAorjPFWp6hfeMNJ8IaTeS6f9rgkvL68hA8xIEIXYhOQrMzYzjIAOOea2dI8MwaJevPa6jq06PHsaC91GW5TOQdw8xmIPHY456UAbVFZ2u6/pvhvThfazOYLcypCGEbOS7naowoJ5Jx0rJHxD8PC31SWee5tTpMInuorq0lhkWI9JAjqCV9xQB09Fc6njvQpNLTUI5rl7eaYQWxFpLuu3IyPKXbmQYz8ygjgnOBUsPjHRpdMvr6WeS1TTzi7iuYHjlhPYFCMnPbAOe2aAN2iuatvHmj3V1cW0cWpJNaxmW4WXTp4/JXaWBYsoAyAcc807TfHei6xpMmp6Ub28s4whEsFjM4kLdFTC/OR325x3xQB0dFc9/wAJxoq6Rqmo3Ek9tHpIzfRTwMkkAxkEqRkgjkEZBqqvxJ8PPdraq2ofaZYvOt4f7Nn33Kf3ohsy4Hcjp16UAdXRXNv4/wDDsfhmDX2vHGnzXAtQ/kPuWUsV2MmNwIYEEYzmqx+Jnh4NdxEal9ps133Fr/Zdx50SYz5hTZkLj+Lp260AdbRWANV0vUdZ0K4tdYucXtvJNaW8P+pu02gln+XsCCOR171Tt/iV4buZokjnuvLluzZC4NlKIVnDFfLMm3aCSMdfT1oA6uiuc1bx3oWi3k9vey3TG2ZFuHt7KaZIWf7isyKQCcjj3GcZrcsrtb6yjuY4polkGQk8TRuPqrAEfjQBPRRRQAUUUUAFFFFABRXJfELxU/hnSbJLabyLrU71LOGbyTKYt2SzBACWYKpwuDk4qPQpotYs9T03T/EWuwX8DoJzeQxrcW5PIZVki27WHsR6YoA7GiuE8Nx6zL45vIo/FOpanpWlr5NyLyG2Cy3DAHapjiQjYOTyeWA7Gu7oAKKKKACiiigAooooAKKKKACiiigAooooA5HxVoOo/wDCR6X4q8Owx3OoadHJbzWkknl/areTBZVY8KwKgjPHUHGc1qaRrOqaneFLrw1e6TbqhJlvZ4CzNxgKsTvkdeSR9DW1RQBwXxhd4/B1i8UZlkXWtPKxggbz9oTAyeBmsjxP4c8QeM312/bQptODaM2m2lpc3EJlumdwzMxR2RVGMDLZ5PSvSdR0uy1e3SDUrZLiKOVJkV+gdDuVvqCAat0Ach4i0fUYrnw7q2j2IvX0ZmElgkio0kbx7D5ZYhdy8YyQCM81yHizTtRuLPxD4g1PT59Ol1ZbLTrDTTJG87MkpYMSpaMSEsduWKjaNx6ivXqrahp1nqtk9nqVtFdW8mN0cqhgccg/UHnPagDzzTprhb7VbLWdM1iDXtesXjgmvhaiOYRxkCNfIkYKRuJ+bGcnnsNU6f4h0P4XaNp3h+0eO+tYbeK5gtmh81EAAkEZkPl7/TPHWuh03wxpGk3n2uztP9K2bBPPK80ir/dDOSQvA4BxxWtQB5Hf+FPEeq6B48C6VfJNrOnww2Ud/dQNNK6owIYo5ReSO+K619Cv2+Ivh3VPswNnY6Rc200u9f3cjtDtXGcnIRuQMce9dfRQB5Zb+DddTwbDYvYf6Qvix9RMfnR8W5umkD53Y+6QcdfbNdIdBvv+Ey8UagLUeTf6ZBb28u9cyOolyvXIxuHXA5rr6KAPOvCvhbWdNh8ALe2flnR9Klt7796h8mQxoAOD83IPK5FUIPBmup8M49KawxfL4kF8YvOj/wBT9v8AN353Y/1fOM57YzxXqlFAHj13Fd3/AIi8UtbaTq+oaHNqKNdjTPsoWZ4UQMCZpFfOUAbaCCAMEHNeqaNqtrrmi2mqaczNa3cSyxFl2nB9R2NUbzwdoN/eTXNxYDzLg5n8qV41nOMfvFUgPwMfMDWvBBFa28cFtEkMMahEjjUKqqOgAHQUASUUUUAFFFFABRRRQBy3jjRbvUY9H1LTbb7ZdaLqCXq228KZl2sjKpJA3bXJGSBkdRVfQNP1G68a6v4ou9Pl06O4s4bO2tZ2TzX8suxd9hIGS+AMk8E8ZrsaKAOX+HmjXmieDYYdWhMOo3E011dqXDnzJJGY5IJB4I711FFFABRRRQAUUUUAFFFFABRRRQAUUUUAFFFFABRRRQAUUUUAebeKjorfGLTIvEiWstodFmZY7pA6lxKvOCDzgnmsu5Dx6D47fQkuYfDH9lH7IsquqC4CP5hhD8hMbOny5zjvXbXXhq8n+KWn+JUkgFna6XNZvGWPmF3kRgQMYxhT3z7Vo+KtKn1zwjqul2jRpPeWkkMbSkhQzKQMkAnH4UAYXh3xoJn0rSrnRdQtJLvT/Ps5ZvLK3IRV3AbXJU8ggMBwavReOdNn0HS9ThguW/tO5W0itQq+akpJDKw3YGzaxbBPCnGajTw1dx6z4YvXltxFo9lLBcfMcszRooK8cjKnrisPw9oSy/FTV7y0uUm0ewJnt4l5WO8nUebg+yqD7GU0Ab+ieLX8RqJ7TRbr+y5HkjF4Z4uNhIJZA+4AkcdTzyBVDS/FmlWHhfQ4/D2mX1y2pB/sNh5gaXapJdneRyAo7kseoAz0qjbeCtVbxra6wNK0TRGjkke8u9MuZC+oKykBHi8tVHJDElmIxx60tj4G1jRtO8NXmnPYT6xokE1vJDNK6Q3EUpyyhwpKkEKQdp6EYoA2brxlPaS6fZzaBeR6pqEkiQ2kk8IBEaglvMDkYwRjv7CuhsLia6so5rqzlspWzuglZGZOfVCQfXg1yeuaRr3iDSI4db8N+GdVHmMzWVxdyhYuBtZZTCSW+9k7F6jHTnX8GaLe+H/CtrpupXIuJ4i5+V2dY1LErGrN8zBQQoJ5IFAG7RRRQAUUUUAFFFFABRRRQAUUUUAcn8Q55bbQ7SY3EsNit9EL5LeUxzTQkkbIyCCSWK/Kp3MMgZJxXG3HiifQNC8W6n4dkuo9NgS3gs7W9WQzW9y52s3lSHei4ZCFYDJBIGDmu78YaDe6wulXmlPEbzSb5byKCdykc+FZSjMASOGJBwcEDiufvfAmqeJZde1DWGtdOvNRtYLe1gt5DOsJhcyJI7FV3EsemOAOvNAFjwpcWem+JItLvNN1ay1S6szPFc6heecbxQRvLYdlDgkcY4B44yK7uuRsdG13U/FthrfiSGysxpltJDDBaXDTebJJgM5JRdowuAME88111ABRRRQAUUUUAFFFFABRRRQAU2SRIo2kldURBlmY4Cj1Jp1cF45Uav448K+Gr0MdLvHnurmM/cuTEoKRN6jJ3Y77aAOp0zxPoGtXDwaNrmm6hNHnfHaXccrLj1CkkVqVnXy6ZpFrJq1xbQRiwt3PmrEN0cYGSoPYcDj2Fc5H401W1t9K1PXNJtbTSdVmjhjaO7LzW5l4iMilQpySAdp4J79aAO0orzm8+I+t2+m6xqsPh62n07SNRezl/wBNKzTAOF3IuwjPzDgsM/rW3p3irVD4on0TW9LtrWX7B9vge2umlBXdtKNlFwwOOmRQB1dFebWfxI8QXGj6Fqp8NWjWutzi1gRNQPmLId21mHl4CZU9CSBzjtV24+IV9peheLLjVdJgF94bQSPDb3RaO4Vk3rhygKnsflNAHeUVz0vikx+K9K0b7ID/AGhp01953mf6vyzGNuMc58zrkdOnNc9o/wAQ9YvrHQ9TvNCtYNM1a7+xhkvC00bEsFfZsxtJX+9nv7UAd9HPBcGRIpY5TG2yRVYNtPofQ+1Ms7G0063Fvp9rDawgkiOCMIoJ6nA4rjW8YWWkR6/LZaHCl4msJYJHCyob64dU2u7BePvYJO4gL36Vu21x4pFrdfbdO0k3CoDbeTeybHYnlXJiyoHHIzn0FAG5Uc9xDbR+ZczRwpkDdIwUZPQZNcS/jHVZP+Eh0o2tgdT02xW7SW3vGMTowYddhZXUqeMc8cjtXj1y7X4V6ZqPivSbHUxKLHajzeb5rOyASNujADAkNgZ5HUUAehUVyk/ifV77VNVtvDWmWl1FpDiK4ku7lojLLtDmNAEboCPmPGTjHes5fiHdarqmh2XhrTIbg6xp0t6r3lwYhB5bKrK21WJ5bHA60Ad5Wdq/iDRvD8KS67qtlpsch2o13cJEGPoNxGap+DvEb+KPDqahNai0nWea2nhWTeqyRSNG2GwMjKnBwKwdesdd0b4gHxRpei/8JDazWKWj28c6Rz2m1mYtGHwrBt3IyD8ooA66DWdMubGC9t9RtJbW4YJDOk6skrHgBWBwSfQVamnitoWmuJUiiQZZ5GCqv1JrzLxF4k0O/wDBOj6rZINLs4fEFv8Aa4rmMQNbSLIfMEg6A55J79cmte88YW+r/DrWPEE2iwX2hrEzWsNy4YX8YOCzIVIVSegOTjkgdKAOyN/ZrLJG11AJI4vOdTIMon98jsvB56cVJDNFcQpNbyJLFIoZHRgysD0II6ivPL4hvGviVlUIp8LRkKOgGZeKr6d42k0TR/C+jI2l2ZuNGhnS61a6MEcrYVfKQhTlu55444NAHp1FR27SvaxNcLGkrIC6xvvUHHIDEDI98CpKACiiigBGZV+8QPqaFdW+6wP0NZuvaPomsaeR4k06yv7W3zNtvIFlWMgHLYYHBxnmvMLHw7pCfDbXvE9la2Xh8a1EDAlvB5SLaq/7uMqi5JkHUgE/PgZwBQB69DcwXKsbeaOUKdrFGDYPpxUleb+HPJb4jWbR6J/wijDS3X7C6xq1+u5cMPLJUiP3Icb+VA6+kUAFFFFABRRRQAUUUUAFFFFABWJ4m8Mw+I7W2/0iSyvrGYXFlewgF4JMYzg8EEEgqeoNbdFAHNw6Hr96ktt4n1qxvbGWF4Xt7LTTb+aGXBLM0snr/Dt5rNt/AupSx6Zp+t6/Hf6NpU0c1vbrZeXNKY/9X5sm8hgpwflRckDNdtRQBx7+At/hnWtI/tLH9q6g975vkf6rc6vtxu5+7jOR16VpzeGvN8Y/279rx/xLWsPI8v1fdv3Z/DGPxrdooA5Cx8B/YvDnhrSv7R3/ANhXSXPm+Rjz9u/5cbvl+/1yelN1bwAmrQeLoZNRaNfEkKRHbDzb7Y9mevzevauxooA5Cx8H6oPFWn65q+s21w9jp0tilvbWJhUhyh35aRjn9309x0xyWXgP7H4X0LR/7S3/ANkXqXfneRjzdrM23G75fvdcnp0rr6oT65p1rrdtpFxciO+u0aSCJlYeaF+9hsYJHpnNAHP3XgCK7t9XV9QdJr7U01O2njiAa0lRUC9Sd4ynPTIJHvTdU8KeItf8P3ena14jtGeby/L+yaaY4htcMRIjSsXVsbWXcoIJrpNR1iw0qS0jv7gRSXkwgt0ClmlcjOAACegJJ6Adau0AcXo3gOey1LUrzUL+xf7fpy2H2fT9O+yxRKC53KPMc87/AF7U2HwNqkvgmDw9quu286Wr232eaGwMe1IXVgGBkbczbQMggD0rtqKAOSu/COrW+r6ld+Gdch02LVmD3kVxZG42yBQpkiIkXaxUD7wYZGcUaX4BtdG1/Rb7T7plt9I0yWwSB03NL5joxkL565Q5GOc9q62igDF8KeHf+EY0iax+1favNvbm73+Xsx5srSbcZPTdjPfGeKi1Ww8TtqTXOga3Yw27oFa0v7BplRh/ErJIhGeMg5/Ct+igDiT8OIp/D8Nhf363c7asmq3s0lsNtzIG3FQmcKvAA5OAO9TXvgITaV4h0ux1EWmna0pZbfyNwtZm++6/MOG67eOcnPNdhRQBzc3hLzdZ1K/+24+3aUunbPK+5tL/AD5zz9/px061SvPB+sN4ctNEstX01rGGxS0lj1DSTcByq7fMXEq7SR2O4cV2NFAFDQ9KTQ9AsdKhlkmSygSBZJTlnCjGT78VfoooAKKKKAM3xHpUuueGdR0q3uvskl5bPAtxs3eWWUjdjIz16ZFUdU8JW+qeB08OPO0KRwxJFOijKPHgq2DweVBxWxfX9ppllJd6jcxWttGMvLM4VV+pNQWOu6VqVhLe2OoW81tCSJZBIMREDJDZ+7gc80AY1h4a1SbxNaa34l1O1u57CB4bWKztWhQF8b3bc7EsQAABgDnrXUVm6T4i0fXWkGj6lbXjRAF1ikBIB6HHoex6GtKgAooooAKKKKACiiigAooooAKKKKACiiigAooooAKKKKACud8a+Fx4n0Ly7eb7LqVnILnT7sDmCdfun6HoR3BNdFQRkEUAeS6Nr19eeG7v4la/axSXlrA1pp1gkhMcLBtjvuxwXk6nsoA9a6d9b13w9ruiW3iC6s7+DWpWth9mtWhaCYRtIMZdtyEKRzyDg57Vp6f4K0mw8Hy+GWEt1p03m+YtwwLMJGLHlQO54x04qrbeCvsVzHfz6tqGt3VjC66dHqTx+XbkrjP7tFLEjjc244zzyaAOZ03xp4i1y+0dLDU9JjOqzXCS2i2bSzWCxZ5b96M8gKSQOWGK0PFPjC98PXkk8Ou6XeeRdQxSaVHbnzEjdlU7nDkq/wA24ZAHbHeuf0TSvEeiabZRaPNrya0GjW4srjT7YWQG75wZ/L3FACduJWbgdeldZc/DW1ukvLc65q8Wn3d59tksImhEYl3hyQxiL4LDoWxQB2lFFFABRRRQAUUUUAFFFFABRRRQAUUUUAcZ8Rbe5x4f1FIJ7my03VY7m9ggiMrGPayhtg5bazK3AJ4rg9flvPE3ibxrDoFlePavpthO8DwNE10UlYvhHAJLRqV5HO0diK9j1SyuL+y8qz1K402XcGE9ukbNx2IdWBB+mfes3TvCqaZZagINSvG1HUW33Gpv5ZmLAYUgbdgCjgLtwPTkmgDkU1+DVvjH4bbR7S8iifS7pZ3uLWS3ygMZC7XUFtrY5xgE4z1r0ysLR/DCadqs2q32oXWq6nNEIftNyEXy4wc7EVFVVGeTxknqeBW7QAUUUUAFFFFABRRRQAUUUUAY/wDYE/8A0HtV/wC+4v8A43R/YE//AEH9W/77i/8AjdFFAB/YE/8A0H9W/wC+4v8A43R/YE//AEH9W/77i/8AjdFFAB/YE/8A0H9W/wC+4v8A43R/YE//AEH9W/77i/8AjdFFAB/YE/8A0H9W/wC+4v8A43R/YE//AEH9W/77i/8AjdFFAB/YE/8A0H9W/wC+4v8A43R/YE//AEH9W/77i/8AjdFFAB/YE/8A0H9W/wC+4v8A43R/YE//AEH9W/77i/8AjdFFAB/YE/8A0H9W/wC+4v8A43R/YE//AEH9W/77i/8AjdFFAB/YE/8A0H9W/wC+4v8A43R/YE//AEH9W/77i/8AjdFFAB/YE/8A0H9W/wC+4v8A43R/YE//AEH9W/77i/8AjdFFAB/YE/8A0H9W/wC+4v8A43R/YE//AEH9W/77i/8AjdFFAB/YE/8A0H9W/wC+4v8A43R/YE//AEH9W/77i/8AjdFFAB/YE/8A0H9W/wC+4v8A43R/YE//AEH9W/77i/8AjdFFAB/YE/8A0H9W/wC+4v8A43R/YE//AEH9W/77i/8AjdFFAB/YE/8A0H9W/wC+4v8A43R/YE//AEH9W/77i/8AjdFFAB/YE/8A0H9W/wC+4v8A43R/YE//AEH9W/77i/8AjdFFAB/YE/8A0H9W/wC+4v8A43T4dEmhnjkbW9TlCMGKSPHtbHY4QHFFFAGrRRRQAUUUUAf/2Q==)\n",
        "\n"
      ]
    },
    {
      "cell_type": "code",
      "metadata": {
        "colab": {
          "base_uri": "https://localhost:8080/"
        },
        "id": "Bqbfxd4Qwe9U",
        "outputId": "caec0f80-22a9-442a-da0c-7181545c4d26"
      },
      "source": [
        "# Solution to Problem number 4\n",
        "import numpy as np\n",
        "# First we create a dictionary. Each dictionary item as a associated attribute of type either int, float, str or complex\n",
        "x={'Math':97,'C programming':71, 'Physics':49, 'Comm Skills':82, 'Yoga':75}\n",
        "# Now we want to access the marks of the students using .values() command. \n",
        "x.values()\n",
        "# To get average marks, we need to assign these values to an array. \n",
        "x=list(x.values())\n",
        "x=np.asarray(x)\n",
        "mean_marks=np.mean(x) #overall avg\n",
        "\n",
        "\n",
        "if (x[0]+x[2])/2 > 0.75*mean_marks:\n",
        "   print('Secured grade is A+')\n",
        "elif (x[0]+x[4])/2 >0.95*mean_marks:\n",
        "   print(\"Secured grade is A-\")\n",
        "elif (x[0]+x[1])/2 > 0.7*mean_marks:\n",
        "   print(\"Secured grade is B+\")\n",
        "else:       \n",
        "   print(\"Secured grade is B-\") \n"
      ],
      "execution_count": null,
      "outputs": [
        {
          "output_type": "stream",
          "text": [
            "Secured grade is A+\n"
          ],
          "name": "stdout"
        }
      ]
    },
    {
      "cell_type": "code",
      "metadata": {
        "colab": {
          "base_uri": "https://localhost:8080/"
        },
        "id": "9gFLWJ9A37OW",
        "outputId": "f64cf05f-ad61-4931-8694-fbcaad1c89e8"
      },
      "source": [
        "x='BAYERN Munchen'\n",
        "\n",
        "for i in range(len(x)):\n",
        "    if x[i].islower():\n",
        "       print(\"The character at position \",i, \"is in lowercase\")\n",
        "    elif x[i]==' ':\n",
        "       print(\"The character at position \",i, \"is a space\")   \n",
        "    else:\n",
        "       print(\"The character at position\",i, \"is in uppercase\")   "
      ],
      "execution_count": null,
      "outputs": [
        {
          "output_type": "stream",
          "text": [
            "The character at position 0 is in uppercase\n",
            "The character at position 1 is in uppercase\n",
            "The character at position 2 is in uppercase\n",
            "The character at position 3 is in uppercase\n",
            "The character at position 4 is in uppercase\n",
            "The character at position 5 is in uppercase\n",
            "The character at position  6 is a space\n",
            "The character at position 7 is in uppercase\n",
            "The character at position  8 is in lowercase\n",
            "The character at position  9 is in lowercase\n",
            "The character at position  10 is in lowercase\n",
            "The character at position  11 is in lowercase\n",
            "The character at position  12 is in lowercase\n",
            "The character at position  13 is in lowercase\n"
          ],
          "name": "stdout"
        }
      ]
    },
    {
      "cell_type": "code",
      "metadata": {
        "colab": {
          "base_uri": "https://localhost:8080/"
        },
        "id": "2Lv9Ckew-gZi",
        "outputId": "688f6417-b959-426e-f5b1-26474c92a1fa"
      },
      "source": [
        "x=3\n",
        "y=9\n",
        "\n",
        "if x%y==0:\n",
        "   print(\"x is divisible by y\")\n",
        "else: \n",
        "   print(\"false\")     "
      ],
      "execution_count": null,
      "outputs": [
        {
          "output_type": "stream",
          "text": [
            "false\n"
          ],
          "name": "stdout"
        }
      ]
    },
    {
      "cell_type": "code",
      "metadata": {
        "colab": {
          "base_uri": "https://localhost:8080/"
        },
        "id": "UQRbXLde_HpA",
        "outputId": "4fdf198e-19a6-4725-f108-fa164f526457"
      },
      "source": [
        "x='BAYERN Munchen'\n",
        "\n",
        "if x[0].islower() and x[-1].islower():\n",
        "   print(\"True\")\n",
        "else:\n",
        "   print(\"false\")   "
      ],
      "execution_count": null,
      "outputs": [
        {
          "output_type": "stream",
          "text": [
            "false\n"
          ],
          "name": "stdout"
        }
      ]
    },
    {
      "cell_type": "markdown",
      "metadata": {
        "id": "4Yz2G51Fhj-b"
      },
      "source": [
        "# Looping in Python"
      ]
    },
    {
      "cell_type": "code",
      "metadata": {
        "colab": {
          "base_uri": "https://localhost:8080/"
        },
        "id": "3KnVYK7ch7J8",
        "outputId": "45ef1ecd-5014-45ec-852e-d6715af2a1d5"
      },
      "source": [
        "#for i in range(5):\n",
        "#    print(i)\n",
        "\n",
        "#for i in range(1,5):  # starts from n and ends at m-1\n",
        "#    print(i)\n",
        "\n",
        "for i in range(-10,10,1): # starts from n and runs till m-1 in step size (always of int type) of 1 and it cannot be fractional   \n",
        "    print(i)\n"
      ],
      "execution_count": null,
      "outputs": [
        {
          "output_type": "stream",
          "text": [
            "-10\n",
            "-8\n",
            "-6\n",
            "-4\n",
            "-2\n",
            "0\n",
            "2\n",
            "4\n",
            "6\n",
            "8\n"
          ],
          "name": "stdout"
        }
      ]
    },
    {
      "cell_type": "code",
      "metadata": {
        "colab": {
          "base_uri": "https://localhost:8080/"
        },
        "id": "WjX124JIikCw",
        "outputId": "5a1db45b-0290-4ddf-a37a-8a0e494fb0f5"
      },
      "source": [
        "import numpy as np\n",
        "x=np.arange(-10,10,1)\n",
        "#for i in x:\n",
        "#    print(i) \n",
        "\n",
        "for i in range(len(x)):\n",
        "    print(i)     "
      ],
      "execution_count": null,
      "outputs": [
        {
          "output_type": "stream",
          "text": [
            "0\n",
            "1\n",
            "2\n",
            "3\n",
            "4\n",
            "5\n",
            "6\n",
            "7\n",
            "8\n",
            "9\n",
            "10\n",
            "11\n",
            "12\n",
            "13\n",
            "14\n",
            "15\n",
            "16\n",
            "17\n",
            "18\n",
            "19\n"
          ],
          "name": "stdout"
        }
      ]
    },
    {
      "cell_type": "code",
      "metadata": {
        "colab": {
          "base_uri": "https://localhost:8080/"
        },
        "id": "6svJkJswjZ2g",
        "outputId": "e910e427-6930-4c02-c53e-5cb40befaf74"
      },
      "source": [
        "# While loop\n",
        "i=1\n",
        "num=12\n",
        "while i<=10:\n",
        "      print(num,\"x\",i,\"=\",i*num)\n",
        "      i=i+1\n",
        "      "
      ],
      "execution_count": null,
      "outputs": [
        {
          "output_type": "stream",
          "text": [
            "12 x 1 = 12\n",
            "12 x 2 = 24\n",
            "12 x 3 = 36\n",
            "12 x 4 = 48\n",
            "12 x 5 = 60\n",
            "12 x 6 = 72\n",
            "12 x 7 = 84\n",
            "12 x 8 = 96\n",
            "12 x 9 = 108\n",
            "12 x 10 = 120\n"
          ],
          "name": "stdout"
        }
      ]
    },
    {
      "cell_type": "markdown",
      "metadata": {
        "id": "XLohawaTk5H0"
      },
      "source": [
        "# Count number of vowels in a user-defined string\n"
      ]
    },
    {
      "cell_type": "code",
      "metadata": {
        "colab": {
          "base_uri": "https://localhost:8080/"
        },
        "id": "kktPwPlLk6aN",
        "outputId": "3333e0b2-4f8a-4683-f175-d20cc11f4e16"
      },
      "source": [
        "v=list(['a','e','i','o','u','A','E','I','O','U'])\n",
        "var=str(input(\"enter your name \"))\n",
        "count=0\n",
        "for i in range(len(var)):\n",
        "     if var[i] in v:      # in is a membership operator \n",
        "        count+=1\n",
        "print(\"Number of vowels are \",count)    \n"
      ],
      "execution_count": null,
      "outputs": [
        {
          "output_type": "stream",
          "text": [
            "enter your name vistara\n",
            "Number of vowels are  3\n"
          ],
          "name": "stdout"
        }
      ]
    },
    {
      "cell_type": "code",
      "metadata": {
        "colab": {
          "base_uri": "https://localhost:8080/"
        },
        "id": "I0eda0rhldgd",
        "outputId": "bd853c5c-15e7-4397-de73-9e012335b1e4"
      },
      "source": [
        "# Approach 2: Using nested for-loop\n",
        "\n",
        "v=list(['a','e','i','o','u','A','E','I','O','U'])\n",
        "var=str(input(\"enter your name \"))\n",
        "count=0\n",
        "\n",
        "for i in range(len(var)):\n",
        "     for j in v:\n",
        "          if var[i]==j:\n",
        "             count+=1\n",
        "print(\"number of vowels in \",var, \"are\",count)              "
      ],
      "execution_count": null,
      "outputs": [
        {
          "output_type": "stream",
          "text": [
            "enter your name apple_dell_sony_vio\n",
            "number of vowels in  apple_dell_sony_vio are 6\n"
          ],
          "name": "stdout"
        }
      ]
    },
    {
      "cell_type": "markdown",
      "metadata": {
        "id": "KDKynohbiuWX"
      },
      "source": [
        "# Accept number from user and calculate the sum of all number between 1 and given number\n",
        "                \n"
      ]
    },
    {
      "cell_type": "code",
      "metadata": {
        "id": "iHWZJDeOiwT0",
        "colab": {
          "base_uri": "https://localhost:8080/"
        },
        "outputId": "0007dd39-e216-46c1-8ad7-7a57b65e8868"
      },
      "source": [
        "sum=0\n",
        "n=int(input(\"Enter the given number \"))\n",
        "for i in range(1,n+1,1):\n",
        "    sum+=i\n",
        "print(\"The sum is\", sum)\n"
      ],
      "execution_count": null,
      "outputs": [
        {
          "output_type": "stream",
          "text": [
            "Enter the given number 100\n",
            "The sum is 5050\n"
          ],
          "name": "stdout"
        }
      ]
    },
    {
      "cell_type": "markdown",
      "metadata": {
        "id": "UjnGIU6xi13i"
      },
      "source": [
        "# Using range(1,101), make two list, one containing all even numbers and other containing all odd numbers."
      ]
    },
    {
      "cell_type": "code",
      "metadata": {
        "id": "aYiumqAYixC4"
      },
      "source": [
        "a=list() ## one for even \n",
        "b=list() ## One for odd numbers\n",
        "for i in range(1,101):\n",
        "    if i%2==0:\n",
        "       a1=i\n",
        "       a.append(a1)\n",
        "    else:\n",
        "       b1=i\n",
        "       b.append(b1)\n",
        "\n",
        "print(a)\n",
        "print(b)"
      ],
      "execution_count": null,
      "outputs": []
    },
    {
      "cell_type": "markdown",
      "metadata": {
        "id": "G0aPEodai8iZ"
      },
      "source": [
        "### From a list containing ints, strings and floats, make three lists to store them separately.\n"
      ]
    },
    {
      "cell_type": "code",
      "metadata": {
        "id": "qUvICGQOjCaI"
      },
      "source": [
        "harsh=list([22,\"Male\",65.7,\"dell\",\"glucose\"])\n",
        "lfc=list() # for string\n",
        "tot=list() # for integer\n",
        "mun=list()  # for float\n",
        "\n",
        "for i in harsh:\n",
        "    if type(i)==str:\n",
        "       lfc.append(i)\n",
        "    elif type(i)==int:\n",
        "       tot.append(i)\n",
        "    else:\n",
        "       mun.append(i)   \n",
        "print(lfc,tot,mun)\n"
      ],
      "execution_count": null,
      "outputs": []
    },
    {
      "cell_type": "markdown",
      "metadata": {
        "id": "u1jZi3VnjFgN"
      },
      "source": [
        "# Plot wind turbine power curve for Siemens SG 2.1-114"
      ]
    },
    {
      "cell_type": "code",
      "metadata": {
        "id": "XM0m3B39jIht",
        "colab": {
          "base_uri": "https://localhost:8080/",
          "height": 494
        },
        "outputId": "cc6d8edc-09ce-4527-abcd-8b3185797e5e"
      },
      "source": [
        "import math\n",
        "import numpy as np\n",
        "P_r=np.array(float(input(\"Enter rated power\")))  ##rated power in MW\n",
        "dia=np.array(int(input(\"Enter diameter in meters\"))) ## Rotor diameter in meters\n",
        "Cp=0.24 ## Power coefficient\n",
        "\n",
        "v_r=np.array(((2*P_r*10**6)/(1.125*Cp*(math.pi/4)*dia**2))**(1/3))\n",
        "print(\"Rated wind speed is \", v_r)\n",
        "\n",
        "v_cin= np.array(float(input(\"enter cut-in wind speed\"))) ## Cut-in speed\n",
        "v_coff=np.array(float(input(\"enter cut-off wind speed\"))) ## Cut-off speed\n",
        "P=list()  ### To create a list for wind power\n",
        "v=range(0,26,1) #### Wind speed vector with range command\n",
        "\n",
        "for i in v:     \n",
        "    if i<v_cin:\n",
        "         Pw=0\n",
        "         #print(Pw)\n",
        "         P=np.append(P,Pw) ## Add Pw value to Target array P \n",
        "    elif v_cin <=i <v_r:\n",
        "         Pw=0.5*1.125*(math.pi/4)*dia**2*i**3\n",
        "         #print(Pw)\n",
        "         P=np.append(P,Pw)\n",
        "    elif v_r<= i < v_coff:\n",
        "         i=v_r \n",
        "         Pw=0.5*1.125*(math.pi/4)*dia**2*i**3\n",
        "         #print(Pw)\n",
        "         P=np.append(P,Pw) \n",
        "    else:\n",
        "         Pw=0\n",
        "         #print(Pw)\n",
        "         P=np.append(P,Pw)\n",
        "\n",
        "print(P) \n",
        "\n",
        "import matplotlib.pyplot as plt\n",
        "plt.figure()\n",
        "plt.plot(v,P)\n",
        "plt.xlabel(\"Wind speed (m/sec)\")\n",
        "plt.ylabel(\"Wind power (Watts)\")\n",
        "plt.show()"
      ],
      "execution_count": null,
      "outputs": [
        {
          "output_type": "stream",
          "text": [
            "Enter rated power4\n",
            "Enter diameter in meters130\n",
            "Rated wind speed is  13.069226327166177\n",
            "enter cut-in wind speed2.5\n",
            "enter cut-off wind speed25\n",
            "[       0.                0.                0.           201587.16485152\n",
            "   477836.24261101   933273.91134962  1612697.31881215  2560903.61274337\n",
            "  3822689.94088806  5442853.45099101  7466191.29079699  9937500.6080508\n",
            " 12901578.5504972  16403222.26588099 16666666.66666666 16666666.66666666\n",
            " 16666666.66666666 16666666.66666666 16666666.66666666 16666666.66666666\n",
            " 16666666.66666666 16666666.66666666 16666666.66666666 16666666.66666666\n",
            " 16666666.66666666        0.        ]\n"
          ],
          "name": "stdout"
        },
        {
          "output_type": "display_data",
          "data": {
            "image/png": "[encoded data removed]",
            "text/plain": [
              "<Figure size 432x288 with 1 Axes>"
            ]
          },
          "metadata": {
            "tags": [],
            "needs_background": "light"
          }
        }
      ]
    },
    {
      "cell_type": "code",
      "metadata": {
        "colab": {
          "base_uri": "https://localhost:8080/"
        },
        "id": "HWg-Vg4TayWU",
        "outputId": "484eb2a8-e5bd-4300-ed70-efe1f7dac52f"
      },
      "source": [
        "x=int(input(\"Enter a number\"))\n",
        "if x%5==0:\n",
        "   print(\"Hello\")\n",
        "else: \n",
        "   print(\"bye\")    "
      ],
      "execution_count": null,
      "outputs": [
        {
          "output_type": "stream",
          "text": [
            "Enter a number100\n",
            "Hello\n"
          ],
          "name": "stdout"
        }
      ]
    },
    {
      "cell_type": "code",
      "metadata": {
        "colab": {
          "base_uri": "https://localhost:8080/"
        },
        "id": "JxtE7OzFbS7r",
        "outputId": "b06097c3-3d3e-4f54-beff-d8011b7063e6"
      },
      "source": [
        "cost=float(input(\"Enter the cost of bike in INR\"))\n",
        "if cost>100000:\n",
        "     tax=0.15*cost\n",
        "     final_cost=cost+tax\n",
        "elif cost>50000 or cost<=100000:\n",
        "     tax=0.1*cost\n",
        "     final_cost=cost+tax\n",
        "else: \n",
        "     tax=0.05*cost\n",
        "     final_cost=cost+tax\n",
        "print(\"The overall cost is \",final_cost)             "
      ],
      "execution_count": null,
      "outputs": [
        {
          "output_type": "stream",
          "text": [
            "Enter the cost of bike in INR75000\n",
            "The overall cost is  82500.0\n"
          ],
          "name": "stdout"
        }
      ]
    },
    {
      "cell_type": "code",
      "metadata": {
        "colab": {
          "base_uri": "https://localhost:8080/"
        },
        "id": "L4-OkoPac7I2",
        "outputId": "0da9f63d-05dd-4e14-976f-f62745ba5af8"
      },
      "source": [
        "import numpy as np\n",
        "x=np.array([28.78, 34.71, 32.95, 45.04, 29.22])\n",
        "SD=np.std(x)\n",
        "\n",
        "temp_F=float(input(\"Enter the temp in F \"))\n",
        "temp_K=temp_F*273.15/32\n",
        "\n",
        "if temp_K>5*SD:\n",
        "   temp_C=(temp_F-32)*(5/9)\n",
        "   print(\"Condition satisfied\")\n",
        "\n",
        "print(\"The temp in deg cel is\",round(temp_C,4))        "
      ],
      "execution_count": null,
      "outputs": [
        {
          "output_type": "stream",
          "text": [
            "Enter the temp in F 98.5\n",
            "Condition satisfied\n",
            "The temp in deg cel is 36.9444\n"
          ],
          "name": "stdout"
        }
      ]
    },
    {
      "cell_type": "code",
      "metadata": {
        "colab": {
          "base_uri": "https://localhost:8080/"
        },
        "id": "IwBj74W3SklO",
        "outputId": "dd6fc509-ff57-4deb-970c-7ce2b2b526d6"
      },
      "source": [
        "u=\"Kylian Mbappe\"\n",
        "u[-1]!=u[len(u)-1]"
      ],
      "execution_count": null,
      "outputs": [
        {
          "output_type": "execute_result",
          "data": {
            "text/plain": [
              "False"
            ]
          },
          "metadata": {
            "tags": []
          },
          "execution_count": 1
        }
      ]
    },
    {
      "cell_type": "code",
      "metadata": {
        "colab": {
          "base_uri": "https://localhost:8080/"
        },
        "id": "haTrwN0LfuRs",
        "outputId": "485219fb-50de-4470-a8a8-ac4bd0dcf927"
      },
      "source": [
        "x=np.random.rand(10,10)\n",
        "print(np.round(x,3))"
      ],
      "execution_count": null,
      "outputs": [
        {
          "output_type": "stream",
          "text": [
            "[[0.454 0.423 0.966 0.152 0.52  0.696 0.256 0.524 0.018 0.047]\n",
            " [0.071 0.101 0.544 0.836 0.394 0.515 0.986 0.666 0.093 0.027]\n",
            " [0.516 0.166 0.518 0.235 0.794 0.648 0.638 0.063 0.239 0.588]\n",
            " [0.544 0.438 0.813 0.327 0.368 0.108 0.099 0.217 0.906 0.642]\n",
            " [0.643 0.622 0.663 0.701 0.571 0.546 0.123 0.541 0.622 0.821]\n",
            " [0.455 0.055 0.166 0.4   0.752 0.151 0.615 0.858 0.255 0.11 ]\n",
            " [0.037 0.108 0.025 0.678 0.741 0.591 0.752 0.359 0.539 0.686]\n",
            " [0.289 0.639 0.079 0.634 0.213 0.822 0.927 0.926 0.112 0.256]\n",
            " [0.723 0.425 0.672 0.753 0.291 0.585 0.365 0.411 0.729 0.655]\n",
            " [0.45  0.064 0.483 0.728 0.777 0.482 0.528 0.925 0.971 0.017]]\n"
          ],
          "name": "stdout"
        }
      ]
    },
    {
      "cell_type": "code",
      "metadata": {
        "colab": {
          "base_uri": "https://localhost:8080/"
        },
        "id": "-Kh7BPznSafa",
        "outputId": "1d91fdb2-34da-474c-f621-0ff12e14e5df"
      },
      "source": [
        "k=\"Joshua Kimmich\"\n",
        "for i in range(len(k)):\n",
        "\n",
        "  if i%2==0 :\n",
        "\n",
        "    a=k[i].upper()\n",
        "\n",
        "    print(a)\n",
        "\n",
        "  elif i%2==1 :\n",
        "\n",
        "    print(k[i])\n",
        "                       "
      ],
      "execution_count": null,
      "outputs": [
        {
          "output_type": "stream",
          "text": [
            "J\n",
            "o\n",
            "S\n",
            "h\n",
            "U\n",
            "a\n",
            " \n",
            "K\n",
            "I\n",
            "m\n",
            "M\n",
            "i\n",
            "C\n",
            "h\n"
          ],
          "name": "stdout"
        }
      ]
    },
    {
      "cell_type": "code",
      "metadata": {
        "colab": {
          "base_uri": "https://localhost:8080/"
        },
        "id": "rpeDO_MhUj4o",
        "outputId": "bcabd5f6-ed5a-4310-81ed-cb56718a8b6a"
      },
      "source": [
        "k=\"Joshua Kimmich\"\n",
        "a=\" \"\n",
        "for i in range(len(k)):\n",
        "      if i%2==0 :\n",
        "         a=a+k[i].upper()\n",
        "      elif i%2==1:\n",
        "         a=a+k[i]\n",
        "print(\"Converted String is: \",a)"
      ],
      "execution_count": null,
      "outputs": [
        {
          "output_type": "stream",
          "text": [
            "Converted String is:   JoShUa KImMiCh\n"
          ],
          "name": "stdout"
        }
      ]
    },
    {
      "cell_type": "code",
      "metadata": {
        "colab": {
          "base_uri": "https://localhost:8080/",
          "height": 52
        },
        "id": "sQL3jchHVLTh",
        "outputId": "fb6c4b02-1edf-4a4a-d4ff-2bcb070aac5e"
      },
      "source": [
        "k=\"Symphony air cooler\"\n",
        "v=['a','e','i','o','u','A','E','I','O','U'] #list of vowels\n",
        "p=list()\n",
        "\n",
        "for i in range(len(k)):\n",
        "     if i%2!=0:\n",
        "        if k[i] in v:\n",
        "           p.append(i**2)  \n",
        "print(\"The generated list is\", p)\n",
        "\n",
        "k[5]    "
      ],
      "execution_count": null,
      "outputs": [
        {
          "output_type": "stream",
          "text": [
            "The generated list is [25, 81, 225, 289]\n"
          ],
          "name": "stdout"
        },
        {
          "output_type": "execute_result",
          "data": {
            "application/vnd.google.colaboratory.intrinsic+json": {
              "type": "string"
            },
            "text/plain": [
              "'o'"
            ]
          },
          "metadata": {
            "tags": []
          },
          "execution_count": 2
        }
      ]
    },
    {
      "cell_type": "markdown",
      "metadata": {
        "id": "VPP4UMHPjCoO"
      },
      "source": [
        "#Example: Application of Nested For-loop \n",
        "\n",
        "1. Normalize a 2-D array between 0 and 1\n",
        "2. Standardize data as per mean and std\n",
        "\n",
        "\n",
        "\n",
        "\n",
        "\n",
        "\n"
      ]
    },
    {
      "cell_type": "code",
      "metadata": {
        "colab": {
          "base_uri": "https://localhost:8080/"
        },
        "id": "_9VTAGfwjLKh",
        "outputId": "4bc8067f-828b-4230-8bbf-dd99a740b296"
      },
      "source": [
        "# Consider a random 2-D array of size 100 x 2\n",
        "import numpy as np\n",
        "import random\n",
        "\n",
        "np.random.seed(0) # generates identical random numbers in every run\n",
        "x=np.random.randint(100,size=(100,2)) \n",
        "print(x)\n",
        "\n",
        "x_new=list()\n",
        "for i in range(x.shape[1]):\n",
        "    for j in range(x.shape[0]):\n",
        "        x_new.append((x[j]-np.min(x[:,i]))/(np.max(x[:,i])-np.min(x[:,i])))\n",
        "\n",
        "print(np.array(x_new))"
      ],
      "execution_count": null,
      "outputs": [
        {
          "output_type": "stream",
          "text": [
            "[[44 47]\n",
            " [64 67]\n",
            " [67  9]\n",
            " [83 21]\n",
            " [36 87]\n",
            " [70 88]\n",
            " [88 12]\n",
            " [58 65]\n",
            " [39 87]\n",
            " [46 88]\n",
            " [81 37]\n",
            " [25 77]\n",
            " [72  9]\n",
            " [20 80]\n",
            " [69 79]\n",
            " [47 64]\n",
            " [82 99]\n",
            " [88 49]\n",
            " [29 19]\n",
            " [19 14]\n",
            " [39 32]\n",
            " [65  9]\n",
            " [57 32]\n",
            " [31 74]\n",
            " [23 35]\n",
            " [75 55]\n",
            " [28 34]\n",
            " [ 0  0]\n",
            " [36 53]\n",
            " [ 5 38]\n",
            " [17 79]\n",
            " [ 4 42]\n",
            " [58 31]\n",
            " [ 1 65]\n",
            " [41 57]\n",
            " [35 11]\n",
            " [46 82]\n",
            " [91  0]\n",
            " [14 99]\n",
            " [53 12]\n",
            " [42 84]\n",
            " [75 68]\n",
            " [ 6 68]\n",
            " [47  3]\n",
            " [76 52]\n",
            " [78 15]\n",
            " [20 99]\n",
            " [58 23]\n",
            " [79 13]\n",
            " [85 48]\n",
            " [49 69]\n",
            " [41 35]\n",
            " [64 95]\n",
            " [69 94]\n",
            " [ 0 50]\n",
            " [36 34]\n",
            " [48 93]\n",
            " [ 3 98]\n",
            " [42 77]\n",
            " [21 73]\n",
            " [ 0 10]\n",
            " [43 58]\n",
            " [23 59]\n",
            " [ 2 98]\n",
            " [62 35]\n",
            " [94 67]\n",
            " [82 46]\n",
            " [99 20]\n",
            " [81 50]\n",
            " [27 14]\n",
            " [41 58]\n",
            " [65 36]\n",
            " [10 86]\n",
            " [43 11]\n",
            " [ 2 51]\n",
            " [80 32]\n",
            " [54  0]\n",
            " [38 19]\n",
            " [46 42]\n",
            " [56 60]\n",
            " [77 30]\n",
            " [24  2]\n",
            " [ 3 94]\n",
            " [98 13]\n",
            " [40 72]\n",
            " [19 95]\n",
            " [72 26]\n",
            " [66 52]\n",
            " [67 61]\n",
            " [14 96]\n",
            " [ 4 67]\n",
            " [11 86]\n",
            " [77 75]\n",
            " [56 16]\n",
            " [24 29]\n",
            " [21 25]\n",
            " [80 60]\n",
            " [61 83]\n",
            " [33 32]\n",
            " [70 85]]\n",
            "[[0.44444444 0.47474747]\n",
            " [0.64646465 0.67676768]\n",
            " [0.67676768 0.09090909]\n",
            " [0.83838384 0.21212121]\n",
            " [0.36363636 0.87878788]\n",
            " [0.70707071 0.88888889]\n",
            " [0.88888889 0.12121212]\n",
            " [0.58585859 0.65656566]\n",
            " [0.39393939 0.87878788]\n",
            " [0.46464646 0.88888889]\n",
            " [0.81818182 0.37373737]\n",
            " [0.25252525 0.77777778]\n",
            " [0.72727273 0.09090909]\n",
            " [0.2020202  0.80808081]\n",
            " [0.6969697  0.7979798 ]\n",
            " [0.47474747 0.64646465]\n",
            " [0.82828283 1.        ]\n",
            " [0.88888889 0.49494949]\n",
            " [0.29292929 0.19191919]\n",
            " [0.19191919 0.14141414]\n",
            " [0.39393939 0.32323232]\n",
            " [0.65656566 0.09090909]\n",
            " [0.57575758 0.32323232]\n",
            " [0.31313131 0.74747475]\n",
            " [0.23232323 0.35353535]\n",
            " [0.75757576 0.55555556]\n",
            " [0.28282828 0.34343434]\n",
            " [0.         0.        ]\n",
            " [0.36363636 0.53535354]\n",
            " [0.05050505 0.38383838]\n",
            " [0.17171717 0.7979798 ]\n",
            " [0.04040404 0.42424242]\n",
            " [0.58585859 0.31313131]\n",
            " [0.01010101 0.65656566]\n",
            " [0.41414141 0.57575758]\n",
            " [0.35353535 0.11111111]\n",
            " [0.46464646 0.82828283]\n",
            " [0.91919192 0.        ]\n",
            " [0.14141414 1.        ]\n",
            " [0.53535354 0.12121212]\n",
            " [0.42424242 0.84848485]\n",
            " [0.75757576 0.68686869]\n",
            " [0.06060606 0.68686869]\n",
            " [0.47474747 0.03030303]\n",
            " [0.76767677 0.52525253]\n",
            " [0.78787879 0.15151515]\n",
            " [0.2020202  1.        ]\n",
            " [0.58585859 0.23232323]\n",
            " [0.7979798  0.13131313]\n",
            " [0.85858586 0.48484848]\n",
            " [0.49494949 0.6969697 ]\n",
            " [0.41414141 0.35353535]\n",
            " [0.64646465 0.95959596]\n",
            " [0.6969697  0.94949495]\n",
            " [0.         0.50505051]\n",
            " [0.36363636 0.34343434]\n",
            " [0.48484848 0.93939394]\n",
            " [0.03030303 0.98989899]\n",
            " [0.42424242 0.77777778]\n",
            " [0.21212121 0.73737374]\n",
            " [0.         0.1010101 ]\n",
            " [0.43434343 0.58585859]\n",
            " [0.23232323 0.5959596 ]\n",
            " [0.02020202 0.98989899]\n",
            " [0.62626263 0.35353535]\n",
            " [0.94949495 0.67676768]\n",
            " [0.82828283 0.46464646]\n",
            " [1.         0.2020202 ]\n",
            " [0.81818182 0.50505051]\n",
            " [0.27272727 0.14141414]\n",
            " [0.41414141 0.58585859]\n",
            " [0.65656566 0.36363636]\n",
            " [0.1010101  0.86868687]\n",
            " [0.43434343 0.11111111]\n",
            " [0.02020202 0.51515152]\n",
            " [0.80808081 0.32323232]\n",
            " [0.54545455 0.        ]\n",
            " [0.38383838 0.19191919]\n",
            " [0.46464646 0.42424242]\n",
            " [0.56565657 0.60606061]\n",
            " [0.77777778 0.3030303 ]\n",
            " [0.24242424 0.02020202]\n",
            " [0.03030303 0.94949495]\n",
            " [0.98989899 0.13131313]\n",
            " [0.4040404  0.72727273]\n",
            " [0.19191919 0.95959596]\n",
            " [0.72727273 0.26262626]\n",
            " [0.66666667 0.52525253]\n",
            " [0.67676768 0.61616162]\n",
            " [0.14141414 0.96969697]\n",
            " [0.04040404 0.67676768]\n",
            " [0.11111111 0.86868687]\n",
            " [0.77777778 0.75757576]\n",
            " [0.56565657 0.16161616]\n",
            " [0.24242424 0.29292929]\n",
            " [0.21212121 0.25252525]\n",
            " [0.80808081 0.60606061]\n",
            " [0.61616162 0.83838384]\n",
            " [0.33333333 0.32323232]\n",
            " [0.70707071 0.85858586]\n",
            " [0.44444444 0.47474747]\n",
            " [0.64646465 0.67676768]\n",
            " [0.67676768 0.09090909]\n",
            " [0.83838384 0.21212121]\n",
            " [0.36363636 0.87878788]\n",
            " [0.70707071 0.88888889]\n",
            " [0.88888889 0.12121212]\n",
            " [0.58585859 0.65656566]\n",
            " [0.39393939 0.87878788]\n",
            " [0.46464646 0.88888889]\n",
            " [0.81818182 0.37373737]\n",
            " [0.25252525 0.77777778]\n",
            " [0.72727273 0.09090909]\n",
            " [0.2020202  0.80808081]\n",
            " [0.6969697  0.7979798 ]\n",
            " [0.47474747 0.64646465]\n",
            " [0.82828283 1.        ]\n",
            " [0.88888889 0.49494949]\n",
            " [0.29292929 0.19191919]\n",
            " [0.19191919 0.14141414]\n",
            " [0.39393939 0.32323232]\n",
            " [0.65656566 0.09090909]\n",
            " [0.57575758 0.32323232]\n",
            " [0.31313131 0.74747475]\n",
            " [0.23232323 0.35353535]\n",
            " [0.75757576 0.55555556]\n",
            " [0.28282828 0.34343434]\n",
            " [0.         0.        ]\n",
            " [0.36363636 0.53535354]\n",
            " [0.05050505 0.38383838]\n",
            " [0.17171717 0.7979798 ]\n",
            " [0.04040404 0.42424242]\n",
            " [0.58585859 0.31313131]\n",
            " [0.01010101 0.65656566]\n",
            " [0.41414141 0.57575758]\n",
            " [0.35353535 0.11111111]\n",
            " [0.46464646 0.82828283]\n",
            " [0.91919192 0.        ]\n",
            " [0.14141414 1.        ]\n",
            " [0.53535354 0.12121212]\n",
            " [0.42424242 0.84848485]\n",
            " [0.75757576 0.68686869]\n",
            " [0.06060606 0.68686869]\n",
            " [0.47474747 0.03030303]\n",
            " [0.76767677 0.52525253]\n",
            " [0.78787879 0.15151515]\n",
            " [0.2020202  1.        ]\n",
            " [0.58585859 0.23232323]\n",
            " [0.7979798  0.13131313]\n",
            " [0.85858586 0.48484848]\n",
            " [0.49494949 0.6969697 ]\n",
            " [0.41414141 0.35353535]\n",
            " [0.64646465 0.95959596]\n",
            " [0.6969697  0.94949495]\n",
            " [0.         0.50505051]\n",
            " [0.36363636 0.34343434]\n",
            " [0.48484848 0.93939394]\n",
            " [0.03030303 0.98989899]\n",
            " [0.42424242 0.77777778]\n",
            " [0.21212121 0.73737374]\n",
            " [0.         0.1010101 ]\n",
            " [0.43434343 0.58585859]\n",
            " [0.23232323 0.5959596 ]\n",
            " [0.02020202 0.98989899]\n",
            " [0.62626263 0.35353535]\n",
            " [0.94949495 0.67676768]\n",
            " [0.82828283 0.46464646]\n",
            " [1.         0.2020202 ]\n",
            " [0.81818182 0.50505051]\n",
            " [0.27272727 0.14141414]\n",
            " [0.41414141 0.58585859]\n",
            " [0.65656566 0.36363636]\n",
            " [0.1010101  0.86868687]\n",
            " [0.43434343 0.11111111]\n",
            " [0.02020202 0.51515152]\n",
            " [0.80808081 0.32323232]\n",
            " [0.54545455 0.        ]\n",
            " [0.38383838 0.19191919]\n",
            " [0.46464646 0.42424242]\n",
            " [0.56565657 0.60606061]\n",
            " [0.77777778 0.3030303 ]\n",
            " [0.24242424 0.02020202]\n",
            " [0.03030303 0.94949495]\n",
            " [0.98989899 0.13131313]\n",
            " [0.4040404  0.72727273]\n",
            " [0.19191919 0.95959596]\n",
            " [0.72727273 0.26262626]\n",
            " [0.66666667 0.52525253]\n",
            " [0.67676768 0.61616162]\n",
            " [0.14141414 0.96969697]\n",
            " [0.04040404 0.67676768]\n",
            " [0.11111111 0.86868687]\n",
            " [0.77777778 0.75757576]\n",
            " [0.56565657 0.16161616]\n",
            " [0.24242424 0.29292929]\n",
            " [0.21212121 0.25252525]\n",
            " [0.80808081 0.60606061]\n",
            " [0.61616162 0.83838384]\n",
            " [0.33333333 0.32323232]\n",
            " [0.70707071 0.85858586]]\n"
          ],
          "name": "stdout"
        }
      ]
    },
    {
      "cell_type": "markdown",
      "metadata": {
        "id": "xdKDDLG5YRGn"
      },
      "source": [
        "# Chapter-3 Functions & Modules"
      ]
    },
    {
      "cell_type": "code",
      "metadata": {
        "colab": {
          "base_uri": "https://localhost:8080/",
          "height": 129
        },
        "id": "JuHweGuQYQp8",
        "outputId": "73629e34-7525-401f-d398-6c2dfa0581d3"
      },
      "source": [
        "# Define a function using keyword \"def\", then the name of the function for example \"add\" and end it with :\n",
        "# Noteworthy points: \n",
        "#                   (a) Include : after function definition\n",
        "#                   (b) Use a return statement            \n",
        "def add(x,y):\n",
        "    return x+y\n",
        "add(1,-8)    "
      ],
      "execution_count": null,
      "outputs": [
        {
          "output_type": "error",
          "ename": "IndentationError",
          "evalue": "ignored",
          "traceback": [
            "\u001b[0;36m  File \u001b[0;32m\"<ipython-input-3-6854ca264649>\"\u001b[0;36m, line \u001b[0;32m6\u001b[0m\n\u001b[0;31m    return x+y\u001b[0m\n\u001b[0m         ^\u001b[0m\n\u001b[0;31mIndentationError\u001b[0m\u001b[0;31m:\u001b[0m expected an indented block\n"
          ]
        }
      ]
    },
    {
      "cell_type": "code",
      "metadata": {
        "id": "OKF5XaZAjNLS"
      },
      "source": [
        "import numpy as np\n",
        "err=list()\n",
        "def MAE(x,y):\n",
        "    for i in range(len(x)):\n",
        "        err.append(abs(x[i]-y[i]))\n",
        "    sum=0\n",
        "    for i in range(len(x)):\n",
        "         sum+=err[i]     \n",
        "    return sum/5     "
      ],
      "execution_count": null,
      "outputs": []
    },
    {
      "cell_type": "code",
      "metadata": {
        "colab": {
          "base_uri": "https://localhost:8080/"
        },
        "id": "n16o_eo1j6-b",
        "outputId": "947a6414-84d9-4085-fb05-298d5392bd8b"
      },
      "source": [
        "a=np.array([1,3,4,6,7])\n",
        "b=np.array([3,6,8,1,0.42])\n",
        "MAE(a1,b1)"
      ],
      "execution_count": null,
      "outputs": [
        {
          "output_type": "execute_result",
          "data": {
            "text/plain": [
              "4.116"
            ]
          },
          "metadata": {
            "tags": []
          },
          "execution_count": 14
        }
      ]
    },
    {
      "cell_type": "markdown",
      "metadata": {
        "id": "AnyiJoJx17a3"
      },
      "source": [
        "# Write a function that returns the descriptive statistics of a numpy array. Take a random numpy array of size 50 x 3"
      ]
    },
    {
      "cell_type": "code",
      "metadata": {
        "id": "0G3R5cSC2IFL"
      },
      "source": [
        "import numpy as np\n",
        "\n",
        "def descriptive(x):\n",
        "    sum=0 #for finding mean \n",
        "    sum2=0 # for finding standard deviation\n",
        "    mean=list()\n",
        "    #std=list()\n",
        "    n=(x.shape[0])\n",
        "    for i in range(x.shape[1]):\n",
        "        for j in range(x.shape[0]):\n",
        "              sum+=x[j,i]\n",
        "        mean.append(sum/n)\n",
        "    return mean          "
      ],
      "execution_count": null,
      "outputs": []
    },
    {
      "cell_type": "code",
      "metadata": {
        "colab": {
          "base_uri": "https://localhost:8080/"
        },
        "id": "iT6jF8zi3S9t",
        "outputId": "383f2828-6b75-4384-9d09-4ba328f63a1c"
      },
      "source": [
        "y=np.random.randint(25,size=(50,3))\n",
        "descriptive(y)"
      ],
      "execution_count": null,
      "outputs": [
        {
          "output_type": "execute_result",
          "data": {
            "text/plain": [
              "[12.18, 23.98, 38.16]"
            ]
          },
          "metadata": {
            "tags": []
          },
          "execution_count": 22
        }
      ]
    },
    {
      "cell_type": "markdown",
      "metadata": {
        "id": "XpoaWmap4Xnf"
      },
      "source": [
        "# Write a python function that takes in voltage and current as arguments and returns the plot for Ohm's law"
      ]
    },
    {
      "cell_type": "code",
      "metadata": {
        "colab": {
          "base_uri": "https://localhost:8080/",
          "height": 279
        },
        "id": "Um_Nn1dR4XHO",
        "outputId": "6e8d3035-7317-4ea9-f7aa-e725c3a444d9"
      },
      "source": [
        "def ohm(V,I):\n",
        "    import matplotlib.pyplot as plt  #plotting graphs, bar, pie-charts\n",
        "    x=plt.plot(V,I,'g')\n",
        "    plt.xlabel(\"Voltage\")\n",
        "    plt.ylabel(\"Current\")\n",
        "    x=plt.show()\n",
        "    return x\n",
        "V=np.array([2,4,6,8,10])\n",
        "I=np.array([1,3,5,7,9]) \n",
        "ohm(V,I)  # this is known as a function call "
      ],
      "execution_count": null,
      "outputs": [
        {
          "output_type": "display_data",
          "data": {
            "image/png": "[encoded data removed]",
            "text/plain": [
              "<Figure size 432x288 with 1 Axes>"
            ]
          },
          "metadata": {
            "tags": [],
            "needs_background": "light"
          }
        }
      ]
    },
    {
      "cell_type": "markdown",
      "metadata": {
        "id": "9v4fvJaZ5hMF"
      },
      "source": [
        "# Global & Local variables in Python Functions"
      ]
    },
    {
      "cell_type": "code",
      "metadata": {
        "id": "PQHLAkih4xFR",
        "colab": {
          "base_uri": "https://localhost:8080/",
          "height": 253
        },
        "outputId": "70500d42-4185-4b57-dfae-d983a958ff3a"
      },
      "source": [
        "x1=1\n",
        "\n",
        "def f1(x2):\n",
        "    print(\"x2= \",x2)\n",
        "    x3=30\n",
        "    print(\"x3= \",x3)\n",
        "\n",
        "print(\"Global x1 is\",x1)\n",
        "f1(25)\n",
        "print(\"The number x3 is \",x3)\n"
      ],
      "execution_count": null,
      "outputs": [
        {
          "output_type": "stream",
          "text": [
            "Global x1 is 1\n",
            "x2=  25\n",
            "x3=  30\n"
          ],
          "name": "stdout"
        },
        {
          "output_type": "error",
          "ename": "NameError",
          "evalue": "ignored",
          "traceback": [
            "\u001b[0;31m---------------------------------------------------------------------------\u001b[0m",
            "\u001b[0;31mNameError\u001b[0m                                 Traceback (most recent call last)",
            "\u001b[0;32m<ipython-input-1-338f49e0b220>\u001b[0m in \u001b[0;36m<module>\u001b[0;34m()\u001b[0m\n\u001b[1;32m      8\u001b[0m \u001b[0mprint\u001b[0m\u001b[0;34m(\u001b[0m\u001b[0;34m\"Global x1 is\"\u001b[0m\u001b[0;34m,\u001b[0m\u001b[0mx1\u001b[0m\u001b[0;34m)\u001b[0m\u001b[0;34m\u001b[0m\u001b[0;34m\u001b[0m\u001b[0m\n\u001b[1;32m      9\u001b[0m \u001b[0mf1\u001b[0m\u001b[0;34m(\u001b[0m\u001b[0;36m25\u001b[0m\u001b[0;34m)\u001b[0m\u001b[0;34m\u001b[0m\u001b[0;34m\u001b[0m\u001b[0m\n\u001b[0;32m---> 10\u001b[0;31m \u001b[0mprint\u001b[0m\u001b[0;34m(\u001b[0m\u001b[0;34m\"The number x3 is \"\u001b[0m\u001b[0;34m,\u001b[0m\u001b[0mx3\u001b[0m\u001b[0;34m)\u001b[0m\u001b[0;34m\u001b[0m\u001b[0;34m\u001b[0m\u001b[0m\n\u001b[0m",
            "\u001b[0;31mNameError\u001b[0m: name 'x3' is not defined"
          ]
        }
      ]
    },
    {
      "cell_type": "code",
      "metadata": {
        "colab": {
          "base_uri": "https://localhost:8080/"
        },
        "id": "ScKhJSaCu4J-",
        "outputId": "e87c591f-0316-4a0b-df3d-d64a61b7f063"
      },
      "source": [
        "var=\"Good\"\n",
        "\n",
        "def show():\n",
        "    global var1\n",
        "    var1=\"The Best\"\n",
        "    print(\"Accessing global variable defined outside function definition \",var)\n",
        "\n",
        "show()\n",
        "print(\"Accessing global variable defined inside function definition \",var1)\n"
      ],
      "execution_count": null,
      "outputs": [
        {
          "output_type": "stream",
          "text": [
            "Accessing global variable defined outside function definition  Good\n",
            "Accessing global variable defined inside function definition  The Best\n"
          ],
          "name": "stdout"
        }
      ]
    },
    {
      "cell_type": "markdown",
      "metadata": {
        "id": "Ow1LuFNLv6Sq"
      },
      "source": [
        "# Modifying a global variable in a python function\n",
        "\n"
      ]
    },
    {
      "cell_type": "code",
      "metadata": {
        "colab": {
          "base_uri": "https://localhost:8080/"
        },
        "id": "CgHY1hxFv5_P",
        "outputId": "7056b4eb-7ebd-4c6c-b51b-c33683646354"
      },
      "source": [
        "global var\n",
        "var=\"Cris\"\n",
        "\n",
        "def show():\n",
        "    var=\"Messi\"\n",
        "    print(\"The variable inside function is \",var)\n",
        "\n",
        "show()\n",
        "var=\"Apple\"\n",
        "print(\"The outside variable is\",var)"
      ],
      "execution_count": null,
      "outputs": [
        {
          "output_type": "stream",
          "text": [
            "The variable inside function is  Messi\n",
            "The outside variable is Apple\n"
          ],
          "name": "stdout"
        }
      ]
    },
    {
      "cell_type": "markdown",
      "metadata": {
        "id": "4IDLPC5ixgEg"
      },
      "source": [
        "# Global & Local variable in Nested functions"
      ]
    },
    {
      "cell_type": "code",
      "metadata": {
        "colab": {
          "base_uri": "https://localhost:8080/",
          "height": 346
        },
        "id": "6Zs5Ve78xlRI",
        "outputId": "a6f43b99-3a2f-4e79-f010-2e59c16cd05f"
      },
      "source": [
        "def outer():\n",
        "    outer_var=\"Cris\"\n",
        "    def inner():\n",
        "        inner_var=\"Messi\" \n",
        "        print(\"The outer variable is\",outer_var)\n",
        "        print(\"The inner variable is\",inner_var)\n",
        "    inner()\n",
        "    print(\"The outer variable is\",outer_var)\n",
        "    print(\"The inner variable is\",inner_var)\n",
        "outer()   "
      ],
      "execution_count": null,
      "outputs": [
        {
          "output_type": "stream",
          "text": [
            "The outer variable is Cris\n",
            "The inner variable is Messi\n",
            "The outer variable is Cris\n"
          ],
          "name": "stdout"
        },
        {
          "output_type": "error",
          "ename": "NameError",
          "evalue": "ignored",
          "traceback": [
            "\u001b[0;31m---------------------------------------------------------------------------\u001b[0m",
            "\u001b[0;31mNameError\u001b[0m                                 Traceback (most recent call last)",
            "\u001b[0;32m<ipython-input-14-1d4b609268fe>\u001b[0m in \u001b[0;36m<module>\u001b[0;34m()\u001b[0m\n\u001b[1;32m      8\u001b[0m     \u001b[0mprint\u001b[0m\u001b[0;34m(\u001b[0m\u001b[0;34m\"The outer variable is\"\u001b[0m\u001b[0;34m,\u001b[0m\u001b[0mouter_var\u001b[0m\u001b[0;34m)\u001b[0m\u001b[0;34m\u001b[0m\u001b[0;34m\u001b[0m\u001b[0m\n\u001b[1;32m      9\u001b[0m     \u001b[0mprint\u001b[0m\u001b[0;34m(\u001b[0m\u001b[0;34m\"The inner variable is\"\u001b[0m\u001b[0;34m,\u001b[0m\u001b[0minner_var\u001b[0m\u001b[0;34m)\u001b[0m\u001b[0;34m\u001b[0m\u001b[0;34m\u001b[0m\u001b[0m\n\u001b[0;32m---> 10\u001b[0;31m \u001b[0mouter\u001b[0m\u001b[0;34m(\u001b[0m\u001b[0;34m)\u001b[0m\u001b[0;34m\u001b[0m\u001b[0;34m\u001b[0m\u001b[0m\n\u001b[0m",
            "\u001b[0;32m<ipython-input-14-1d4b609268fe>\u001b[0m in \u001b[0;36mouter\u001b[0;34m()\u001b[0m\n\u001b[1;32m      7\u001b[0m     \u001b[0minner\u001b[0m\u001b[0;34m(\u001b[0m\u001b[0;34m)\u001b[0m\u001b[0;34m\u001b[0m\u001b[0;34m\u001b[0m\u001b[0m\n\u001b[1;32m      8\u001b[0m     \u001b[0mprint\u001b[0m\u001b[0;34m(\u001b[0m\u001b[0;34m\"The outer variable is\"\u001b[0m\u001b[0;34m,\u001b[0m\u001b[0mouter_var\u001b[0m\u001b[0;34m)\u001b[0m\u001b[0;34m\u001b[0m\u001b[0;34m\u001b[0m\u001b[0m\n\u001b[0;32m----> 9\u001b[0;31m     \u001b[0mprint\u001b[0m\u001b[0;34m(\u001b[0m\u001b[0;34m\"The inner variable is\"\u001b[0m\u001b[0;34m,\u001b[0m\u001b[0minner_var\u001b[0m\u001b[0;34m)\u001b[0m\u001b[0;34m\u001b[0m\u001b[0;34m\u001b[0m\u001b[0m\n\u001b[0m\u001b[1;32m     10\u001b[0m \u001b[0mouter\u001b[0m\u001b[0;34m(\u001b[0m\u001b[0;34m)\u001b[0m\u001b[0;34m\u001b[0m\u001b[0;34m\u001b[0m\u001b[0m\n",
            "\u001b[0;31mNameError\u001b[0m: name 'inner_var' is not defined"
          ]
        }
      ]
    },
    {
      "cell_type": "markdown",
      "metadata": {
        "id": "cNeWbOrTG9if"
      },
      "source": [
        "# Lambda Functions in Python \n",
        "\n",
        "\n",
        "*   These are anonymous functions \n",
        "*   Created using keyword lambda\n",
        "\n"
      ]
    },
    {
      "cell_type": "code",
      "metadata": {
        "colab": {
          "base_uri": "https://localhost:8080/"
        },
        "id": "EYngDy7kHAPn",
        "outputId": "198fbdee-f824-407c-a423-7211f5a0d4f3"
      },
      "source": [
        "quebec=lambda x1,x2: x1**2+x2**2\n",
        "print(\"The output is\",quebec(4,5))"
      ],
      "execution_count": null,
      "outputs": [
        {
          "output_type": "stream",
          "text": [
            "The output is 41\n"
          ],
          "name": "stdout"
        }
      ]
    },
    {
      "cell_type": "code",
      "metadata": {
        "colab": {
          "base_uri": "https://localhost:8080/"
        },
        "id": "k5O-rUJsH0NC",
        "outputId": "7870db5a-204f-47fa-b8cd-1e6a0352af79"
      },
      "source": [
        "def quebec(x1,x2):\n",
        "    return print(\"The output is\",x1**2+x2**2)\n",
        "quebec(4,5)    "
      ],
      "execution_count": null,
      "outputs": [
        {
          "output_type": "stream",
          "text": [
            "The output is 41\n"
          ],
          "name": "stdout"
        }
      ]
    }
  ]
}