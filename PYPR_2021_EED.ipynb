{
  "nbformat": 4,
  "nbformat_minor": 0,
  "metadata": {
    "colab": {
      "name": "PYPR_2021_EED.ipynb",
      "provenance": [],
      "mount_file_id": "1yiK237FytzEGJ9UCTxtpKav2kJHuQONr",
      "authorship_tag": "ABX9TyOCRTTVvjN7ybxbPcou8cot",
      "include_colab_link": true
    },
    "kernelspec": {
      "name": "python3",
      "display_name": "Python 3"
    },
    "language_info": {
      "name": "python"
    },
    "accelerator": "GPU"
  },
  "cells": [
    {
      "cell_type": "markdown",
      "metadata": {
        "id": "view-in-github",
        "colab_type": "text"
      },
      "source": [
        "<a href=\"https://colab.research.google.com/github/harshdhiman-ai/PYPR/blob/main/PYPR_2021_EED.ipynb\" target=\"_parent\"><img src=\"https://colab.research.google.com/assets/colab-badge.svg\" alt=\"Open In Colab\"/></a>"
      ]
    },
    {
      "cell_type": "code",
      "metadata": {
        "colab": {
          "base_uri": "https://localhost:8080/",
          "height": 35
        },
        "id": "LxjopMUK64XV",
        "outputId": "4d8c8517-42b1-4c5a-bb58-d5cc55610c35"
      },
      "source": [
        "import tensorflow as tf\n",
        "tf.test.gpu_device_name()"
      ],
      "execution_count": 18,
      "outputs": [
        {
          "output_type": "execute_result",
          "data": {
            "application/vnd.google.colaboratory.intrinsic+json": {
              "type": "string"
            },
            "text/plain": [
              "'/device:GPU:0'"
            ]
          },
          "metadata": {
            "tags": []
          },
          "execution_count": 18
        }
      ]
    },
    {
      "cell_type": "code",
      "metadata": {
        "colab": {
          "base_uri": "https://localhost:8080/"
        },
        "id": "cWqwDPp17_dB",
        "outputId": "ed20ab44-ab85-4d75-b428-c6702272bdf4"
      },
      "source": [
        "import math\n",
        "math.trunc(62.6938)"
      ],
      "execution_count": null,
      "outputs": [
        {
          "output_type": "execute_result",
          "data": {
            "text/plain": [
              "62"
            ]
          },
          "metadata": {
            "tags": []
          },
          "execution_count": 9
        }
      ]
    },
    {
      "cell_type": "code",
      "metadata": {
        "colab": {
          "base_uri": "https://localhost:8080/"
        },
        "id": "ewUirjID7-iK",
        "outputId": "3c6afca9-e070-4dd0-c90a-b76ea5cfef1e"
      },
      "source": [
        "import numpy as np\n",
        "import pandas as pd\n",
        "x=np.array([[1,2,3],[4,5,6]]) # array x has two rows and three cols\n",
        "print(x.shape)"
      ],
      "execution_count": null,
      "outputs": [
        {
          "output_type": "stream",
          "text": [
            "(2, 3)\n"
          ],
          "name": "stdout"
        }
      ]
    },
    {
      "cell_type": "markdown",
      "metadata": {
        "id": "mTm4ruCFrE7N"
      },
      "source": [
        "# Python Basics- Trigonometry"
      ]
    },
    {
      "cell_type": "code",
      "metadata": {
        "colab": {
          "base_uri": "https://localhost:8080/"
        },
        "id": "BKqyDrWdrKPE",
        "outputId": "794c3369-158c-42dd-e36b-5ee41c781c31"
      },
      "source": [
        "import math\n",
        "x=math.cos(math.pi/4)\n",
        "print(x)"
      ],
      "execution_count": null,
      "outputs": [
        {
          "output_type": "stream",
          "text": [
            "0.7071067811865476\n"
          ],
          "name": "stdout"
        }
      ]
    },
    {
      "cell_type": "code",
      "metadata": {
        "colab": {
          "base_uri": "https://localhost:8080/"
        },
        "id": "QObSGN-jsJD6",
        "outputId": "c1bbd03a-630c-4d53-f268-62654e84f24f"
      },
      "source": [
        "# Inverse Trignometric functions\n",
        "print(math.asin(-1))"
      ],
      "execution_count": null,
      "outputs": [
        {
          "output_type": "stream",
          "text": [
            "-1.5707963267948966\n"
          ],
          "name": "stdout"
        }
      ]
    },
    {
      "cell_type": "markdown",
      "metadata": {
        "id": "vaAlLhSGMUXF"
      },
      "source": [
        "# Addition"
      ]
    },
    {
      "cell_type": "code",
      "metadata": {
        "id": "I-JHjg8rKmAN"
      },
      "source": [
        ""
      ],
      "execution_count": null,
      "outputs": []
    },
    {
      "cell_type": "markdown",
      "metadata": {
        "id": "B2Okq9huNIG1"
      },
      "source": [
        "#Data Types in Python\n",
        "\n",
        "> Indented block\n",
        "\n",
        "> Indented block\n",
        "\n",
        "\n",
        "\n"
      ]
    },
    {
      "cell_type": "code",
      "metadata": {
        "colab": {
          "base_uri": "https://localhost:8080/"
        },
        "id": "0YKXuqucNP1r",
        "outputId": "753b27d6-9f67-4c24-e3da-408f49b1aba0"
      },
      "source": [
        "# type() command is used for determining the type of a variable.\n",
        "x=1\n",
        "y=2.3\n",
        "z='aha'\n",
        "type(z)"
      ],
      "execution_count": null,
      "outputs": [
        {
          "output_type": "execute_result",
          "data": {
            "text/plain": [
              "str"
            ]
          },
          "metadata": {
            "tags": []
          },
          "execution_count": 2
        }
      ]
    },
    {
      "cell_type": "code",
      "metadata": {
        "colab": {
          "base_uri": "https://localhost:8080/"
        },
        "id": "KfYSFFuhqTnX",
        "outputId": "74fd002c-7d19-4578-9239-71d0b1d4c274"
      },
      "source": [
        "import math   # Python lib for math functions- log, exp, poly, hyperbolic\n",
        "import cmath  # Python library for working with complex functions\n",
        "# x=6+8i / 6+j8\n",
        "num=complex(6,8) # x=3+j4\n",
        "type(num)\n",
        "abs_value=abs(num) # Magnitude of the complex number x+iy, sqrt(x^2+y^2)\n",
        "print(y)\n",
        "# Function name is abs(), argument will be ......\n"
      ],
      "execution_count": null,
      "outputs": [
        {
          "output_type": "stream",
          "text": [
            "10.0\n",
            "6.0\n"
          ],
          "name": "stdout"
        }
      ]
    },
    {
      "cell_type": "markdown",
      "metadata": {
        "id": "dsbAmrT7yx5B"
      },
      "source": [
        "# Python Lists: Lists are used to store multiple items in a single variable.\n",
        "\n",
        "Lists are one of 4 built-in data types in Python used to store collections of data"
      ]
    },
    {
      "cell_type": "code",
      "metadata": {
        "colab": {
          "base_uri": "https://localhost:8080/"
        },
        "id": "CveJmSELwqVn",
        "outputId": "c79aaa29-9d7f-41b3-deb8-6d10a5c981fc"
      },
      "source": [
        "x=[181,68.75,'harsh', 45.100007,'apple','indonesia']\n",
        "# The most important/fundamental aspect is indexing \n",
        "# Indexing in python starts from 0\n",
        "x[0] # Means the first element of your list\n",
        "x[0:4] # This is known as list slicing\n",
        "x[-1] # Points to the first element from the end, This is known as negative indexing of list\n",
        "x[0]='Virat'\n",
        "print(x)"
      ],
      "execution_count": null,
      "outputs": [
        {
          "output_type": "stream",
          "text": [
            "['Virat', 68.75, 'harsh', 45.100007, 'apple', 'indonesia']\n"
          ],
          "name": "stdout"
        }
      ]
    },
    {
      "cell_type": "markdown",
      "metadata": {
        "id": "cYQa2Q7uy3Hs"
      },
      "source": [
        "# Python Tuple: Tuples are used to store multiple items in a single variable.\n",
        "\n",
        "Tuple is one of 4 built-in data types in Python used to store collections of data"
      ]
    },
    {
      "cell_type": "code",
      "metadata": {
        "colab": {
          "base_uri": "https://localhost:8080/"
        },
        "id": "AUF4tHKx0oLR",
        "outputId": "1782cd62-127f-47a0-93f1-fdb89ef023fb"
      },
      "source": [
        "y=(1,2,4,'dell',64.08) # y is defined as a tuple. \n",
        "print(y)\n",
        "## Tuples are ordered and unchangeble"
      ],
      "execution_count": null,
      "outputs": [
        {
          "output_type": "stream",
          "text": [
            "(1, 2, 4, 'dell', 64.08)\n"
          ],
          "name": "stdout"
        }
      ]
    },
    {
      "cell_type": "markdown",
      "metadata": {
        "id": "z7tgzO-iPpxl"
      },
      "source": [
        "# Python Sets: Sets are used to store multiple items in a single variable. Set is one of 4 built-in data types in Python used to store collections of data"
      ]
    },
    {
      "cell_type": "code",
      "metadata": {
        "colab": {
          "base_uri": "https://localhost:8080/",
          "height": 225
        },
        "id": "iEw8k-edP32-",
        "outputId": "6587e51a-55d8-454d-e7c2-bca3338450c2"
      },
      "source": [
        "x={'apple','cherry','mango'}\n",
        "# Set items are unordered and unchangeble\n",
        "# Set cannot have duplicate values and will be ignored, For example\n",
        "y={'apple','cherry','mango','apple'}\n",
        "print(y)\n",
        "#Set of voewls \n",
        "f={'a','e','i','o','u'}"
      ],
      "execution_count": null,
      "outputs": [
        {
          "output_type": "stream",
          "text": [
            "{'cherry', 'apple', 'mango'}\n"
          ],
          "name": "stdout"
        },
        {
          "output_type": "error",
          "ename": "TypeError",
          "evalue": "ignored",
          "traceback": [
            "\u001b[0;31m---------------------------------------------------------------------------\u001b[0m",
            "\u001b[0;31mTypeError\u001b[0m                                 Traceback (most recent call last)",
            "\u001b[0;32m<ipython-input-9-2eca30d3e6a8>\u001b[0m in \u001b[0;36m<module>\u001b[0;34m()\u001b[0m\n\u001b[1;32m      6\u001b[0m \u001b[0;31m#Set of voewls\u001b[0m\u001b[0;34m\u001b[0m\u001b[0;34m\u001b[0m\u001b[0;34m\u001b[0m\u001b[0m\n\u001b[1;32m      7\u001b[0m \u001b[0mf\u001b[0m\u001b[0;34m=\u001b[0m\u001b[0;34m{\u001b[0m\u001b[0;34m'a'\u001b[0m\u001b[0;34m,\u001b[0m\u001b[0;34m'e'\u001b[0m\u001b[0;34m,\u001b[0m\u001b[0;34m'i'\u001b[0m\u001b[0;34m,\u001b[0m\u001b[0;34m'o'\u001b[0m\u001b[0;34m,\u001b[0m\u001b[0;34m'u'\u001b[0m\u001b[0;34m}\u001b[0m\u001b[0;34m\u001b[0m\u001b[0;34m\u001b[0m\u001b[0m\n\u001b[0;32m----> 8\u001b[0;31m \u001b[0mprint\u001b[0m\u001b[0;34m(\u001b[0m\u001b[0mf\u001b[0m\u001b[0;34m[\u001b[0m\u001b[0;36m1\u001b[0m\u001b[0;34m]\u001b[0m\u001b[0;34m)\u001b[0m\u001b[0;34m\u001b[0m\u001b[0;34m\u001b[0m\u001b[0m\n\u001b[0m",
            "\u001b[0;31mTypeError\u001b[0m: 'set' object is not subscriptable"
          ]
        }
      ]
    },
    {
      "cell_type": "markdown",
      "metadata": {
        "id": "jP-fdO-FEC5V"
      },
      "source": [
        "#Python Variables and Ops Lecture-3: 24/6/2021"
      ]
    },
    {
      "cell_type": "code",
      "metadata": {
        "id": "f8oCOywhGSh8",
        "colab": {
          "base_uri": "https://localhost:8080/"
        },
        "outputId": "dc5f672e-6d38-4128-aae3-4320d8440b93"
      },
      "source": [
        "import cmath # Library to deal with complex number z=x+iy\n",
        "import math # Log, exp, hyperbolic, sin, cos, trigno\n",
        "#z=complex(3,4) # Aruguments are real and imag part of the CN , z= 3+j4\n",
        "# Magnitude of a complex number |z|= sqrt(x^2+y^2)\n",
        "#abs_z=abs(z)\n",
        "# Task is 3 raised to 12 3^12 , \n",
        "# In Matlab, ^ known as carrot operator. \n",
        "# In C programming , pow(3,12): You have use #include <math.h>\n",
        "a=1\n",
        "b=2\n",
        "c=a+b\n",
        "print(\"The addition is\",c)\n",
        "# In C programming, printf(\"The addition is %d\",c);\n",
        "c=a-b\n",
        "print(\"The sub is\",c)\n",
        "# Task is divide a by b and extract the remainder\n",
        "c=a/b\n",
        "print(\"The division is \",c)\n",
        "c=a%b\n",
        "print(\"The remainder is \",c)"
      ],
      "execution_count": null,
      "outputs": [
        {
          "output_type": "stream",
          "text": [
            "The addition is 3\n",
            "The sub is -1\n",
            "The division is  0.5\n",
            "The remainder is  1\n"
          ],
          "name": "stdout"
        }
      ]
    },
    {
      "cell_type": "markdown",
      "metadata": {
        "id": "JUPJAcLIMn0D"
      },
      "source": [
        "# Python Arith Operations & Expressions"
      ]
    },
    {
      "cell_type": "code",
      "metadata": {
        "colab": {
          "base_uri": "https://localhost:8080/"
        },
        "id": "p3cEW3Z_Mv9J",
        "outputId": "ed7b087a-4d07-448c-a36d-a3393de5eb88"
      },
      "source": [
        "a=1\n",
        "b=2\n",
        "import math\n",
        "# Evaluate a^2+b^2-sqrt(a+b)\n",
        "c=a**2+b**2-math.sqrt(a+b)\n",
        "print(\"The expression is\",c)\n",
        "x=45\n",
        "y=math.tan(math.pi/4) # angle pi/4\n",
        "print(y)"
      ],
      "execution_count": null,
      "outputs": [
        {
          "output_type": "stream",
          "text": [
            "The expression is 3.267949192431123\n",
            "0.9999999999999999\n"
          ],
          "name": "stdout"
        }
      ]
    },
    {
      "cell_type": "markdown",
      "metadata": {
        "id": "WeyTNppdHudq"
      },
      "source": [
        "#Python Relational & Logical Ops- (July 1, 2021)"
      ]
    },
    {
      "cell_type": "code",
      "metadata": {
        "colab": {
          "base_uri": "https://localhost:8080/"
        },
        "id": "5RbiHLg_H1Wh",
        "outputId": "bbe1f2b6-7838-4b97-ee6a-f9900269798f"
      },
      "source": [
        "# Use of == operator\n",
        "x=2\n",
        "y=3.5\n",
        "x==y\n",
        "# Difference between = (Assignment) and ==(Relational operator)\n",
        "#Strings in Python\n",
        "x=\"python\"\n",
        "y=\"programming\"\n",
        "z=\" \"\n",
        "print(\"The combined string is\",x+z+y)"
      ],
      "execution_count": null,
      "outputs": [
        {
          "output_type": "stream",
          "text": [
            "The combined string is python programming\n"
          ],
          "name": "stdout"
        }
      ]
    },
    {
      "cell_type": "code",
      "metadata": {
        "colab": {
          "base_uri": "https://localhost:8080/"
        },
        "id": "RSBHujOyKG0V",
        "outputId": "17b09801-8481-4704-fb78-558b6a9edada"
      },
      "source": [
        "#Logical Operations in Python\n",
        "# OR operator- symbol ||\n",
        "import math\n",
        "#OR operator (x+y), where x and y are binary inputs. False(0) and True(1)\n",
        "#AND operator (x*y), where x and y are binary inputs. False(0) and True(1)\n",
        "x=1\n",
        "y=math.pi/6\n",
        "theta=math.pi\n",
        "#evaluate the expression\n",
        "(x**2+math.sin(y))<(x-math.cos(theta)) and (math.sin(theta)+2*x < x*math.tan(y)) \n",
        "\n",
        "x*y #Normal multiplication\n",
        "x**y # x raised to y"
      ],
      "execution_count": null,
      "outputs": [
        {
          "output_type": "execute_result",
          "data": {
            "text/plain": [
              "False"
            ]
          },
          "metadata": {
            "tags": []
          },
          "execution_count": 18
        }
      ]
    },
    {
      "cell_type": "markdown",
      "metadata": {
        "id": "v5RQoe_nSu9o"
      },
      "source": [
        "# A three-phase star-connected load draws a current 10∠ − 45◦ ampere. Assuming wires have negligible impedance, calculate active, reactive and apparent power if the system voltage is 400 Volts. Compare all the powers if the load current changes to 10∠45◦ ampere"
      ]
    },
    {
      "cell_type": "code",
      "metadata": {
        "id": "2ENRaZPkS2zN",
        "colab": {
          "base_uri": "https://localhost:8080/"
        },
        "outputId": "2e3942a3-7a7b-48f1-d0b6-f0c3988a462c"
      },
      "source": [
        "import math\n",
        "import cmath\n",
        "phi=float(input('enter phase angle'))\n",
        "phi=phi*math.pi/180   ### degree to radian conversion for phase angle\n",
        "I=float(input('enter current magnitude'))\n",
        "V=float(input('enter line voltage'))\n",
        "I_new=cmath.rect(I,phi)  ## cmath.rect converts polar to rectangular with arguments in form of mag and phase (in radians)\n",
        "print(I_new)"
      ],
      "execution_count": null,
      "outputs": [
        {
          "output_type": "stream",
          "text": [
            "enter phase angle0\n",
            "enter current magnitude10\n",
            "enter line voltage400\n",
            "(10+0j)\n"
          ],
          "name": "stdout"
        }
      ]
    },
    {
      "cell_type": "code",
      "metadata": {
        "id": "z-peLBbqS5PF",
        "colab": {
          "base_uri": "https://localhost:8080/"
        },
        "outputId": "7f22d992-28f6-4a2f-e262-f26ee2ffb963"
      },
      "source": [
        "## Active Power: sqrt(3)*V_L*I_L*cos(phi)\n",
        "act_power=math.sqrt(3)*V*I_new.real  \n",
        "print(\"Active power in Watts is\",act_power,'Watts')\n",
        "\n",
        "## Reactive Power: sqrt(3)*V_L*I_L*sin(phi)\n",
        "react_power=math.sqrt(3)*V*I_new.imag\n",
        "print(\"Reactive power in VAR is\",react_power,'VAR')\n",
        "\n",
        "app_power=math.sqrt(3)*V*I_new   # S= sqrt(P^2+Q^2)\n",
        "print(\"apparent power is \",app_power, 'VA')\n",
        "#Absolute of Apparent power \n",
        "S=abs(app_power)\n",
        "print(\"Magnitude of apparent power is\",S,\"VA\")"
      ],
      "execution_count": null,
      "outputs": [
        {
          "output_type": "stream",
          "text": [
            "Active power in Watts is 6928.203230275509 Watts\n",
            "Reactive power in VAR is 0.0 VAR\n",
            "apparent power is  (6928.203230275509+0j) VA\n",
            "Magnitude of apparent power is 6928.203230275509 VA\n"
          ],
          "name": "stdout"
        }
      ]
    },
    {
      "cell_type": "markdown",
      "metadata": {
        "id": "4VMCl5X2xmNR"
      },
      "source": [
        "# Square roots of Quadratic Eqn"
      ]
    },
    {
      "cell_type": "code",
      "metadata": {
        "colab": {
          "base_uri": "https://localhost:8080/"
        },
        "id": "YuuGbzTzyIs-",
        "outputId": "460fdaa5-bd88-46e4-bea9-b1fda26c3bdc"
      },
      "source": [
        "# x^2-8x+90=0 compare this equation with ax^2+bx+c=0\n",
        "import math\n",
        "import cmath\n",
        "a=1\n",
        "b=-8\n",
        "c=90\n",
        "D=cmath.sqrt(b**2-4*a*c)\n",
        "# let us have two roots alpha and beta\n",
        "alpha= (-b+D)/(2*a)\n",
        "beta=(-b-D)/(2*a)\n",
        "print(\"The roots are\",alpha,beta)"
      ],
      "execution_count": null,
      "outputs": [
        {
          "output_type": "stream",
          "text": [
            "The roots are (4+8.602325267042627j) (4-8.602325267042627j)\n"
          ],
          "name": "stdout"
        }
      ]
    },
    {
      "cell_type": "markdown",
      "metadata": {
        "id": "pUfM23LfzjBz"
      },
      "source": [
        "# Compare area of a square with that of circle"
      ]
    },
    {
      "cell_type": "code",
      "metadata": {
        "colab": {
          "base_uri": "https://localhost:8080/"
        },
        "id": "wYyxoQY7znCq",
        "outputId": "5bcbfff7-2797-4e74-ee06-3e3cbf9ed8f5"
      },
      "source": [
        "a=5.12*0.01 # converison from cm to m\n",
        "r=0.23  \n",
        "area_s=a**2\n",
        "import math\n",
        "area_c=math.pi*r**2\n",
        "area_c<area_s       # Initial Hypothesis: area of circle is less than area of sqaure"
      ],
      "execution_count": null,
      "outputs": [
        {
          "output_type": "execute_result",
          "data": {
            "text/plain": [
              "False"
            ]
          },
          "metadata": {
            "tags": []
          },
          "execution_count": 2
        }
      ]
    },
    {
      "cell_type": "code",
      "metadata": {
        "colab": {
          "base_uri": "https://localhost:8080/"
        },
        "id": "xV9i5huK1Qda",
        "outputId": "e4567a4e-b8be-48c8-a8ff-580a5bf0f9e4"
      },
      "source": [
        "x=1\n",
        "y=0.94\n",
        "v=3/math.pi\n",
        "#import math\n",
        "# Logical OR, if one input is HIGH, output is HIGH\n",
        "(math.log(x**2)+9*math.exp(-y))>(7*v-math.log(x/4)) # log to the base e\n",
        "\n",
        "# for example , e^(-x)\n",
        "y=math.log2(2)\n",
        "print(y)\n",
        "x=1\n",
        "y=2\n",
        "import cmath\n",
        "k=complex(3,4)\n",
        "theta=36.86\n",
        "\n",
        "math.log(x**2)-math.sin(theta*math.pi/180)+y**(4.4)-abs(k)/2.0"
      ],
      "execution_count": null,
      "outputs": [
        {
          "output_type": "stream",
          "text": [
            "1.0\n"
          ],
          "name": "stdout"
        },
        {
          "output_type": "execute_result",
          "data": {
            "text/plain": [
              "18.012264778524575"
            ]
          },
          "metadata": {
            "tags": []
          },
          "execution_count": 15
        }
      ]
    },
    {
      "cell_type": "markdown",
      "metadata": {
        "id": "9xm6eWsRGs0K"
      },
      "source": [
        "# Application of Electrical Engg in Python"
      ]
    },
    {
      "cell_type": "code",
      "metadata": {
        "colab": {
          "base_uri": "https://localhost:8080/"
        },
        "id": "9rrhEmiFGxRk",
        "outputId": "573097a8-2360-4214-f5cf-3062cc93288f"
      },
      "source": [
        "I=complex(60,80) # I=60+j80 ampere\n",
        "V=complex(400,0) # Line-line voltage, V=400+j0 \n",
        "# How will you find the p.f. ?\n",
        "theta=math.atan(8/6)\n",
        "theta=theta*(180/math.pi)\n",
        "P=V*I.real\n",
        "print(\"The active power is\",P, \"Watts\")\n",
        "Q=V*I.imag\n",
        "print(\"The reactive power is\",Q, \"VAR\")\n"
      ],
      "execution_count": null,
      "outputs": [
        {
          "output_type": "execute_result",
          "data": {
            "text/plain": [
              "80.0"
            ]
          },
          "metadata": {
            "tags": []
          },
          "execution_count": 23
        }
      ]
    },
    {
      "cell_type": "markdown",
      "metadata": {
        "id": "kZldyWQKAwsA"
      },
      "source": [
        "# Numpy Module- Arrays in Python (July 8, 2021)\n",
        "\n"
      ]
    },
    {
      "cell_type": "code",
      "metadata": {
        "colab": {
          "base_uri": "https://localhost:8080/"
        },
        "id": "I5b64qlNA2_t",
        "outputId": "4f4eae66-06d8-424c-da61-d981a930b235"
      },
      "source": [
        "import numpy as np\n",
        "import math \n",
        "a=np.array([1,2,5])  # create 1-D array\n",
        "print(a)\n",
        "x=np.array([[1,2,3],[4,5,6]]) # creates a 2-D array with 3 cols and 2 rows\n",
        "print(x)\n",
        "c=np.zeros(3) # creates 1-D array of length 3 with all zeros\n",
        "print(c)\n",
        "f=np.ones((5,2))  # creates 1-D array of size 5 x 2 with all ones\n",
        "print(f)"
      ],
      "execution_count": 14,
      "outputs": [
        {
          "output_type": "stream",
          "text": [
            "[1 2 5]\n",
            "[[1 2 3]\n",
            " [4 5 6]]\n",
            "[0. 0. 0.]\n",
            "[[1. 1.]\n",
            " [1. 1.]\n",
            " [1. 1.]\n",
            " [1. 1.]\n",
            " [1. 1.]]\n"
          ],
          "name": "stdout"
        }
      ]
    },
    {
      "cell_type": "markdown",
      "metadata": {
        "id": "7ZP7-W7pIcRE"
      },
      "source": [
        "# Additional numpy functions for arrays"
      ]
    },
    {
      "cell_type": "code",
      "metadata": {
        "colab": {
          "base_uri": "https://localhost:8080/"
        },
        "id": "vd-iWVMIIiuS",
        "outputId": "2892b818-f24d-4c7b-9b60-ef111a406521"
      },
      "source": [
        "x=np.eye(5) # 5 x 5 matrix with 1 as diagonal element and 0 as off-diagonal element \n",
        "print(x)\n",
        "y=np.linspace(0,100,20) # creates array of 20 equally spaced elements b/w 0 and 100\n",
        "print(y) \n",
        "z=np.arange(0,10,1) #Array of values from 0 to less than 10 with step 1\n",
        "print(z) "
      ],
      "execution_count": 19,
      "outputs": [
        {
          "output_type": "stream",
          "text": [
            "[[1. 0. 0. 0. 0.]\n",
            " [0. 1. 0. 0. 0.]\n",
            " [0. 0. 1. 0. 0.]\n",
            " [0. 0. 0. 1. 0.]\n",
            " [0. 0. 0. 0. 1.]]\n",
            "[  0.           5.26315789  10.52631579  15.78947368  21.05263158\n",
            "  26.31578947  31.57894737  36.84210526  42.10526316  47.36842105\n",
            "  52.63157895  57.89473684  63.15789474  68.42105263  73.68421053\n",
            "  78.94736842  84.21052632  89.47368421  94.73684211 100.        ]\n",
            "[0 1 2 3 4 5 6 7 8 9]\n"
          ],
          "name": "stdout"
        }
      ]
    },
    {
      "cell_type": "markdown",
      "metadata": {
        "id": "oQ1KBctLJ18a"
      },
      "source": [
        "#Inspecting array properties"
      ]
    },
    {
      "cell_type": "code",
      "metadata": {
        "colab": {
          "base_uri": "https://localhost:8080/"
        },
        "id": "JpbHxHe9EYEG",
        "outputId": "65b019a8-e595-4c2c-edac-b60166850f49"
      },
      "source": [
        "x=np.array([(1,2,3),(4,5,6)])\n",
        "y=x.reshape((3,2))  # Changes the shape to 3x2 from 2x3\n",
        "print(y)\n",
        "y.shape # Matrix size in terms of rows and cols\n",
        "x.size # Returns the number of elements in an array\n",
        "p=x.tolist() # Converts array to a python list\n",
        "print(p)\n",
        "z=np.array([1,3,4,7,5,2,9])\n",
        "w=np.sort(z) # Sorts a given array\n",
        "print(w)"
      ],
      "execution_count": 27,
      "outputs": [
        {
          "output_type": "stream",
          "text": [
            "[[1 2]\n",
            " [3 4]\n",
            " [5 6]]\n",
            "[[1, 2, 3], [4, 5, 6]]\n",
            "[1 2 3 4 5 7 9]\n"
          ],
          "name": "stdout"
        }
      ]
    },
    {
      "cell_type": "markdown",
      "metadata": {
        "id": "ljfB6ltAUCzE"
      },
      "source": [
        "# Indexing & Slicing in Arrays"
      ]
    },
    {
      "cell_type": "code",
      "metadata": {
        "colab": {
          "base_uri": "https://localhost:8080/"
        },
        "id": "_SKmTYnfUHUd",
        "outputId": "368fc3cb-18ce-40f8-91a3-65399c02b71c"
      },
      "source": [
        "x=np.array([1,2,3,4,5])\n",
        "x[0:2]"
      ],
      "execution_count": 29,
      "outputs": [
        {
          "output_type": "execute_result",
          "data": {
            "text/plain": [
              "array([1, 2])"
            ]
          },
          "metadata": {
            "tags": []
          },
          "execution_count": 29
        }
      ]
    }
  ]
}