{
  "nbformat": 4,
  "nbformat_minor": 0,
  "metadata": {
    "accelerator": "GPU",
    "colab": {
      "name": "PYPR_2021_EED.ipynb",
      "provenance": [],
      "collapsed_sections": [],
      "mount_file_id": "1yiK237FytzEGJ9UCTxtpKav2kJHuQONr",
      "authorship_tag": "ABX9TyNiY35G6Bt1KX8eRcdisjRH",
      "include_colab_link": true
    },
    "kernelspec": {
      "display_name": "Python 3",
      "name": "python3"
    },
    "language_info": {
      "name": "python"
    }
  },
  "cells": [
    {
      "cell_type": "markdown",
      "metadata": {
        "id": "view-in-github",
        "colab_type": "text"
      },
      "source": [
        "<a href=\"https://colab.research.google.com/github/harshdhiman-ai/PYPR/blob/main/PYPR_2021_EED.ipynb\" target=\"_parent\"><img src=\"https://colab.research.google.com/assets/colab-badge.svg\" alt=\"Open In Colab\"/></a>"
      ]
    },
    {
      "cell_type": "code",
      "metadata": {
        "colab": {
          "base_uri": "https://localhost:8080/",
          "height": 35
        },
        "id": "LxjopMUK64XV",
        "outputId": "4d8c8517-42b1-4c5a-bb58-d5cc55610c35"
      },
      "source": [
        "import tensorflow as tf\n",
        "tf.test.gpu_device_name()"
      ],
      "execution_count": null,
      "outputs": [
        {
          "output_type": "execute_result",
          "data": {
            "application/vnd.google.colaboratory.intrinsic+json": {
              "type": "string"
            },
            "text/plain": [
              "'/device:GPU:0'"
            ]
          },
          "metadata": {
            "tags": []
          },
          "execution_count": 18
        }
      ]
    },
    {
      "cell_type": "code",
      "metadata": {
        "colab": {
          "base_uri": "https://localhost:8080/"
        },
        "id": "cWqwDPp17_dB",
        "outputId": "ed20ab44-ab85-4d75-b428-c6702272bdf4"
      },
      "source": [
        "import math\n",
        "math.trunc(62.6938)"
      ],
      "execution_count": null,
      "outputs": [
        {
          "output_type": "execute_result",
          "data": {
            "text/plain": [
              "62"
            ]
          },
          "metadata": {
            "tags": []
          },
          "execution_count": 9
        }
      ]
    },
    {
      "cell_type": "code",
      "metadata": {
        "colab": {
          "base_uri": "https://localhost:8080/"
        },
        "id": "ewUirjID7-iK",
        "outputId": "3c6afca9-e070-4dd0-c90a-b76ea5cfef1e"
      },
      "source": [
        "import numpy as np\n",
        "import pandas as pd\n",
        "x=np.array([[1,2,3],[4,5,6]]) # array x has two rows and three cols\n",
        "print(x.shape)"
      ],
      "execution_count": null,
      "outputs": [
        {
          "output_type": "stream",
          "text": [
            "(2, 3)\n"
          ],
          "name": "stdout"
        }
      ]
    },
    {
      "cell_type": "code",
      "metadata": {
        "colab": {
          "base_uri": "https://localhost:8080/"
        },
        "id": "BKqyDrWdrKPE",
        "outputId": "794c3369-158c-42dd-e36b-5ee41c781c31"
      },
      "source": [
        "import math\n",
        "x=math.cos(math.pi/4)\n",
        "print(x)"
      ],
      "execution_count": null,
      "outputs": [
        {
          "output_type": "stream",
          "text": [
            "0.7071067811865476\n"
          ],
          "name": "stdout"
        }
      ]
    },
    {
      "cell_type": "code",
      "metadata": {
        "colab": {
          "base_uri": "https://localhost:8080/"
        },
        "id": "QObSGN-jsJD6",
        "outputId": "c1bbd03a-630c-4d53-f268-62654e84f24f"
      },
      "source": [
        "# Inverse Trignometric functions\n",
        "print(math.asin(-1))"
      ],
      "execution_count": null,
      "outputs": [
        {
          "output_type": "stream",
          "text": [
            "-1.5707963267948966\n"
          ],
          "name": "stdout"
        }
      ]
    },
    {
      "cell_type": "markdown",
      "metadata": {
        "id": "vaAlLhSGMUXF"
      },
      "source": [
        "# Addition"
      ]
    },
    {
      "cell_type": "code",
      "metadata": {
        "id": "I-JHjg8rKmAN"
      },
      "source": [
        ""
      ],
      "execution_count": null,
      "outputs": []
    },
    {
      "cell_type": "markdown",
      "metadata": {
        "id": "B2Okq9huNIG1"
      },
      "source": [
        "#Data Types in Python\n",
        "\n",
        "> Indented block\n",
        "\n",
        "> Indented block\n",
        "\n",
        "\n",
        "\n"
      ]
    },
    {
      "cell_type": "code",
      "metadata": {
        "colab": {
          "base_uri": "https://localhost:8080/"
        },
        "id": "0YKXuqucNP1r",
        "outputId": "753b27d6-9f67-4c24-e3da-408f49b1aba0"
      },
      "source": [
        "# type() command is used for determining the type of a variable.\n",
        "x=1\n",
        "y=2.3\n",
        "z='aha'\n",
        "type(z)"
      ],
      "execution_count": null,
      "outputs": [
        {
          "output_type": "execute_result",
          "data": {
            "text/plain": [
              "str"
            ]
          },
          "metadata": {
            "tags": []
          },
          "execution_count": 2
        }
      ]
    },
    {
      "cell_type": "code",
      "metadata": {
        "colab": {
          "base_uri": "https://localhost:8080/"
        },
        "id": "KfYSFFuhqTnX",
        "outputId": "74fd002c-7d19-4578-9239-71d0b1d4c274"
      },
      "source": [
        "import math   # Python lib for math functions- log, exp, poly, hyperbolic\n",
        "import cmath  # Python library for working with complex functions\n",
        "# x=6+8i / 6+j8\n",
        "num=complex(6,8) # x=3+j4\n",
        "type(num)\n",
        "abs_value=abs(num) # Magnitude of the complex number x+iy, sqrt(x^2+y^2)\n",
        "print(y)\n",
        "# Function name is abs(), argument will be ......\n"
      ],
      "execution_count": null,
      "outputs": [
        {
          "output_type": "stream",
          "text": [
            "10.0\n",
            "6.0\n"
          ],
          "name": "stdout"
        }
      ]
    },
    {
      "cell_type": "code",
      "metadata": {
        "colab": {
          "base_uri": "https://localhost:8080/"
        },
        "id": "OQCg4JuXa61k",
        "outputId": "e1a3d6b1-d52a-4f24-d944-94d6f01e01ac"
      },
      "source": [
        "import math\n",
        "math.log2(100)"
      ],
      "execution_count": 1,
      "outputs": [
        {
          "output_type": "execute_result",
          "data": {
            "text/plain": [
              "6.643856189774724"
            ]
          },
          "metadata": {},
          "execution_count": 1
        }
      ]
    },
    {
      "cell_type": "markdown",
      "metadata": {
        "id": "dsbAmrT7yx5B"
      },
      "source": [
        "# Python Lists: Lists are used to store multiple items in a single variable.\n",
        "\n",
        "Lists are one of 4 built-in data types in Python used to store collections of data"
      ]
    },
    {
      "cell_type": "code",
      "metadata": {
        "colab": {
          "base_uri": "https://localhost:8080/"
        },
        "id": "CveJmSELwqVn",
        "outputId": "c79aaa29-9d7f-41b3-deb8-6d10a5c981fc"
      },
      "source": [
        "x=[181,68.75,'harsh', 45.100007,'apple','indonesia']\n",
        "# The most important/fundamental aspect is indexing \n",
        "# Indexing in python starts from 0\n",
        "x[0] # Means the first element of your list\n",
        "x[0:4] # This is known as list slicing\n",
        "x[-1] # Points to the first element from the end, This is known as negative indexing of list\n",
        "x[0]='Virat'\n",
        "print(x)"
      ],
      "execution_count": null,
      "outputs": [
        {
          "output_type": "stream",
          "text": [
            "['Virat', 68.75, 'harsh', 45.100007, 'apple', 'indonesia']\n"
          ],
          "name": "stdout"
        }
      ]
    },
    {
      "cell_type": "markdown",
      "metadata": {
        "id": "cYQa2Q7uy3Hs"
      },
      "source": [
        "# Python Tuple: Tuples are used to store multiple items in a single variable.\n",
        "\n",
        "Tuple is one of 4 built-in data types in Python used to store collections of data"
      ]
    },
    {
      "cell_type": "code",
      "metadata": {
        "colab": {
          "base_uri": "https://localhost:8080/"
        },
        "id": "AUF4tHKx0oLR",
        "outputId": "1782cd62-127f-47a0-93f1-fdb89ef023fb"
      },
      "source": [
        "y=(1,2,4,'dell',64.08) # y is defined as a tuple. \n",
        "print(y)\n",
        "## Tuples are ordered and unchangeble"
      ],
      "execution_count": null,
      "outputs": [
        {
          "output_type": "stream",
          "text": [
            "(1, 2, 4, 'dell', 64.08)\n"
          ],
          "name": "stdout"
        }
      ]
    },
    {
      "cell_type": "markdown",
      "metadata": {
        "id": "z7tgzO-iPpxl"
      },
      "source": [
        "# Python Sets: Sets are used to store multiple items in a single variable. Set is one of 4 built-in data types in Python used to store collections of data"
      ]
    },
    {
      "cell_type": "code",
      "metadata": {
        "colab": {
          "base_uri": "https://localhost:8080/",
          "height": 225
        },
        "id": "iEw8k-edP32-",
        "outputId": "6587e51a-55d8-454d-e7c2-bca3338450c2"
      },
      "source": [
        "x={'apple','cherry','mango'}\n",
        "# Set items are unordered and unchangeble\n",
        "# Set cannot have duplicate values and will be ignored, For example\n",
        "y={'apple','cherry','mango','apple'}\n",
        "print(y)\n",
        "#Set of voewls \n",
        "f={'a','e','i','o','u'}"
      ],
      "execution_count": null,
      "outputs": [
        {
          "output_type": "stream",
          "text": [
            "{'cherry', 'apple', 'mango'}\n"
          ],
          "name": "stdout"
        },
        {
          "output_type": "error",
          "ename": "TypeError",
          "evalue": "ignored",
          "traceback": [
            "\u001b[0;31m---------------------------------------------------------------------------\u001b[0m",
            "\u001b[0;31mTypeError\u001b[0m                                 Traceback (most recent call last)",
            "\u001b[0;32m<ipython-input-9-2eca30d3e6a8>\u001b[0m in \u001b[0;36m<module>\u001b[0;34m()\u001b[0m\n\u001b[1;32m      6\u001b[0m \u001b[0;31m#Set of voewls\u001b[0m\u001b[0;34m\u001b[0m\u001b[0;34m\u001b[0m\u001b[0;34m\u001b[0m\u001b[0m\n\u001b[1;32m      7\u001b[0m \u001b[0mf\u001b[0m\u001b[0;34m=\u001b[0m\u001b[0;34m{\u001b[0m\u001b[0;34m'a'\u001b[0m\u001b[0;34m,\u001b[0m\u001b[0;34m'e'\u001b[0m\u001b[0;34m,\u001b[0m\u001b[0;34m'i'\u001b[0m\u001b[0;34m,\u001b[0m\u001b[0;34m'o'\u001b[0m\u001b[0;34m,\u001b[0m\u001b[0;34m'u'\u001b[0m\u001b[0;34m}\u001b[0m\u001b[0;34m\u001b[0m\u001b[0;34m\u001b[0m\u001b[0m\n\u001b[0;32m----> 8\u001b[0;31m \u001b[0mprint\u001b[0m\u001b[0;34m(\u001b[0m\u001b[0mf\u001b[0m\u001b[0;34m[\u001b[0m\u001b[0;36m1\u001b[0m\u001b[0;34m]\u001b[0m\u001b[0;34m)\u001b[0m\u001b[0;34m\u001b[0m\u001b[0;34m\u001b[0m\u001b[0m\n\u001b[0m",
            "\u001b[0;31mTypeError\u001b[0m: 'set' object is not subscriptable"
          ]
        }
      ]
    },
    {
      "cell_type": "markdown",
      "metadata": {
        "id": "jP-fdO-FEC5V"
      },
      "source": [
        "#Python Variables and Ops Lecture-3: 24/6/2021"
      ]
    },
    {
      "cell_type": "code",
      "metadata": {
        "colab": {
          "base_uri": "https://localhost:8080/"
        },
        "id": "f8oCOywhGSh8",
        "outputId": "dc5f672e-6d38-4128-aae3-4320d8440b93"
      },
      "source": [
        "import cmath # Library to deal with complex number z=x+iy\n",
        "import math # Log, exp, hyperbolic, sin, cos, trigno\n",
        "#z=complex(3,4) # Aruguments are real and imag part of the CN , z= 3+j4\n",
        "# Magnitude of a complex number |z|= sqrt(x^2+y^2)\n",
        "#abs_z=abs(z)\n",
        "# Task is 3 raised to 12 3^12 , \n",
        "# In Matlab, ^ known as carrot operator. \n",
        "# In C programming , pow(3,12): You have use #include <math.h>\n",
        "a=1\n",
        "b=2\n",
        "c=a+b\n",
        "print(\"The addition is\",c)\n",
        "# In C programming, printf(\"The addition is %d\",c);\n",
        "c=a-b\n",
        "print(\"The sub is\",c)\n",
        "# Task is divide a by b and extract the remainder\n",
        "c=a/b\n",
        "print(\"The division is \",c)\n",
        "c=a%b\n",
        "print(\"The remainder is \",c)"
      ],
      "execution_count": null,
      "outputs": [
        {
          "output_type": "stream",
          "text": [
            "The addition is 3\n",
            "The sub is -1\n",
            "The division is  0.5\n",
            "The remainder is  1\n"
          ],
          "name": "stdout"
        }
      ]
    },
    {
      "cell_type": "markdown",
      "metadata": {
        "id": "JUPJAcLIMn0D"
      },
      "source": [
        "# Python Arith Operations & Expressions"
      ]
    },
    {
      "cell_type": "code",
      "metadata": {
        "colab": {
          "base_uri": "https://localhost:8080/"
        },
        "id": "p3cEW3Z_Mv9J",
        "outputId": "ed7b087a-4d07-448c-a36d-a3393de5eb88"
      },
      "source": [
        "a=1\n",
        "b=2\n",
        "import math\n",
        "# Evaluate a^2+b^2-sqrt(a+b)\n",
        "c=a**2+b**2-math.sqrt(a+b)\n",
        "print(\"The expression is\",c)\n",
        "x=45\n",
        "y=math.tan(math.pi/4) # angle pi/4\n",
        "print(y)"
      ],
      "execution_count": null,
      "outputs": [
        {
          "output_type": "stream",
          "text": [
            "The expression is 3.267949192431123\n",
            "0.9999999999999999\n"
          ],
          "name": "stdout"
        }
      ]
    },
    {
      "cell_type": "markdown",
      "metadata": {
        "id": "WeyTNppdHudq"
      },
      "source": [
        "#Python Relational & Logical Ops- (July 1, 2021)"
      ]
    },
    {
      "cell_type": "code",
      "metadata": {
        "colab": {
          "base_uri": "https://localhost:8080/"
        },
        "id": "5RbiHLg_H1Wh",
        "outputId": "bbe1f2b6-7838-4b97-ee6a-f9900269798f"
      },
      "source": [
        "# Use of == operator\n",
        "x=2\n",
        "y=3.5\n",
        "x==y\n",
        "# Difference between = (Assignment) and ==(Relational operator)\n",
        "#Strings in Python\n",
        "x=\"python\"\n",
        "y=\"programming\"\n",
        "z=\" \"\n",
        "print(\"The combined string is\",x+z+y)"
      ],
      "execution_count": null,
      "outputs": [
        {
          "output_type": "stream",
          "text": [
            "The combined string is python programming\n"
          ],
          "name": "stdout"
        }
      ]
    },
    {
      "cell_type": "code",
      "metadata": {
        "colab": {
          "base_uri": "https://localhost:8080/"
        },
        "id": "RSBHujOyKG0V",
        "outputId": "17b09801-8481-4704-fb78-558b6a9edada"
      },
      "source": [
        "#Logical Operations in Python\n",
        "# OR operator- symbol ||\n",
        "import math\n",
        "#OR operator (x+y), where x and y are binary inputs. False(0) and True(1)\n",
        "#AND operator (x*y), where x and y are binary inputs. False(0) and True(1)\n",
        "x=1\n",
        "y=math.pi/6\n",
        "theta=math.pi\n",
        "#evaluate the expression\n",
        "(x**2+math.sin(y))<(x-math.cos(theta)) and (math.sin(theta)+2*x < x*math.tan(y)) \n",
        "\n",
        "x*y #Normal multiplication\n",
        "x**y # x raised to y"
      ],
      "execution_count": null,
      "outputs": [
        {
          "output_type": "execute_result",
          "data": {
            "text/plain": [
              "False"
            ]
          },
          "metadata": {
            "tags": []
          },
          "execution_count": 18
        }
      ]
    },
    {
      "cell_type": "markdown",
      "metadata": {
        "id": "v5RQoe_nSu9o"
      },
      "source": [
        "# A three-phase star-connected load draws a current 10∠ − 45◦ ampere. Assuming wires have negligible impedance, calculate active, reactive and apparent power if the system voltage is 400 Volts. Compare all the powers if the load current changes to 10∠45◦ ampere"
      ]
    },
    {
      "cell_type": "code",
      "metadata": {
        "colab": {
          "base_uri": "https://localhost:8080/"
        },
        "id": "2ENRaZPkS2zN",
        "outputId": "2e3942a3-7a7b-48f1-d0b6-f0c3988a462c"
      },
      "source": [
        "import math\n",
        "import cmath\n",
        "phi=float(input('enter phase angle'))\n",
        "phi=phi*math.pi/180   ### degree to radian conversion for phase angle\n",
        "I=float(input('enter current magnitude'))\n",
        "V=float(input('enter line voltage'))\n",
        "I_new=cmath.rect(I,phi)  ## cmath.rect converts polar to rectangular with arguments in form of mag and phase (in radians)\n",
        "print(I_new)"
      ],
      "execution_count": null,
      "outputs": [
        {
          "output_type": "stream",
          "text": [
            "enter phase angle0\n",
            "enter current magnitude10\n",
            "enter line voltage400\n",
            "(10+0j)\n"
          ],
          "name": "stdout"
        }
      ]
    },
    {
      "cell_type": "code",
      "metadata": {
        "colab": {
          "base_uri": "https://localhost:8080/"
        },
        "id": "z-peLBbqS5PF",
        "outputId": "7f22d992-28f6-4a2f-e262-f26ee2ffb963"
      },
      "source": [
        "## Active Power: sqrt(3)*V_L*I_L*cos(phi)\n",
        "act_power=math.sqrt(3)*V*I_new.real  \n",
        "print(\"Active power in Watts is\",act_power,'Watts')\n",
        "\n",
        "## Reactive Power: sqrt(3)*V_L*I_L*sin(phi)\n",
        "react_power=math.sqrt(3)*V*I_new.imag\n",
        "print(\"Reactive power in VAR is\",react_power,'VAR')\n",
        "\n",
        "app_power=math.sqrt(3)*V*I_new   # S= sqrt(P^2+Q^2)\n",
        "print(\"apparent power is \",app_power, 'VA')\n",
        "#Absolute of Apparent power \n",
        "S=abs(app_power)\n",
        "print(\"Magnitude of apparent power is\",S,\"VA\")"
      ],
      "execution_count": null,
      "outputs": [
        {
          "output_type": "stream",
          "text": [
            "Active power in Watts is 6928.203230275509 Watts\n",
            "Reactive power in VAR is 0.0 VAR\n",
            "apparent power is  (6928.203230275509+0j) VA\n",
            "Magnitude of apparent power is 6928.203230275509 VA\n"
          ],
          "name": "stdout"
        }
      ]
    },
    {
      "cell_type": "markdown",
      "metadata": {
        "id": "mWdJF6KaOKM0"
      },
      "source": [
        "# E1-batch: Evaluate P, Q and S given I=4.5+j2.25 Ampere and Voltage of 440 Volts"
      ]
    },
    {
      "cell_type": "code",
      "metadata": {
        "colab": {
          "base_uri": "https://localhost:8080/"
        },
        "id": "oLN72rXaONOM",
        "outputId": "c07942b1-65d5-428f-c18f-e67b04c5642d"
      },
      "source": [
        "import cmath\n",
        "import math\n",
        "I=complex(4.5,2.25) # I= 4.5+j2.25\n",
        "V=440\n",
        "phi=math.atan(2.25/4.5)\n",
        "#phi=phi*180/(math.pi)\n",
        "print(\"The angle in radian is \",phi)\n",
        "P=V*abs(I)*math.cos(phi)              \n",
        "print(\"The active is \",P,\"Watts\")\n",
        "Q=V*abs(I)*math.sin(phi)\n",
        "print(\"The recactive power is \",Q,\"VAR\")\n",
        "S=V*I\n",
        "print(\"The Apparent is \",S,\"VA\")\n",
        "x=complex(5,19)\n",
        "abs(x)"
      ],
      "execution_count": null,
      "outputs": [
        {
          "output_type": "stream",
          "text": [
            "The angle in radian is  0.4636476090008061\n",
            "The active is  1979.9999999999998 Watts\n",
            "The recactive power is  989.9999999999999 VAR\n",
            "The Apparent is  (1980+990j) VA\n"
          ],
          "name": "stdout"
        },
        {
          "output_type": "execute_result",
          "data": {
            "text/plain": [
              "19.6468827043885"
            ]
          },
          "metadata": {
            "tags": []
          },
          "execution_count": 7
        }
      ]
    },
    {
      "cell_type": "markdown",
      "metadata": {
        "id": "4VMCl5X2xmNR"
      },
      "source": [
        "# Square roots of Quadratic Eqn"
      ]
    },
    {
      "cell_type": "code",
      "metadata": {
        "colab": {
          "base_uri": "https://localhost:8080/"
        },
        "id": "YuuGbzTzyIs-",
        "outputId": "460fdaa5-bd88-46e4-bea9-b1fda26c3bdc"
      },
      "source": [
        "# x^2-8x+90=0 compare this equation with ax^2+bx+c=0\n",
        "import math\n",
        "import cmath\n",
        "a=1\n",
        "b=-8\n",
        "c=90\n",
        "D=cmath.sqrt(b**2-4*a*c)\n",
        "# let us have two roots alpha and beta\n",
        "alpha= (-b+D)/(2*a)\n",
        "beta=(-b-D)/(2*a)\n",
        "print(\"The roots are\",alpha,beta)"
      ],
      "execution_count": null,
      "outputs": [
        {
          "output_type": "stream",
          "text": [
            "The roots are (4+8.602325267042627j) (4-8.602325267042627j)\n"
          ],
          "name": "stdout"
        }
      ]
    },
    {
      "cell_type": "markdown",
      "metadata": {
        "id": "pUfM23LfzjBz"
      },
      "source": [
        "# Compare area of a square with that of circle"
      ]
    },
    {
      "cell_type": "code",
      "metadata": {
        "colab": {
          "base_uri": "https://localhost:8080/"
        },
        "id": "wYyxoQY7znCq",
        "outputId": "5bcbfff7-2797-4e74-ee06-3e3cbf9ed8f5"
      },
      "source": [
        "a=5.12*0.01 # converison from cm to m\n",
        "r=0.23  \n",
        "area_s=a**2\n",
        "import math\n",
        "area_c=math.pi*r**2\n",
        "area_c<area_s       # Initial Hypothesis: area of circle is less than area of sqaure"
      ],
      "execution_count": null,
      "outputs": [
        {
          "output_type": "execute_result",
          "data": {
            "text/plain": [
              "False"
            ]
          },
          "metadata": {
            "tags": []
          },
          "execution_count": 2
        }
      ]
    },
    {
      "cell_type": "code",
      "metadata": {
        "colab": {
          "base_uri": "https://localhost:8080/"
        },
        "id": "xV9i5huK1Qda",
        "outputId": "e4567a4e-b8be-48c8-a8ff-580a5bf0f9e4"
      },
      "source": [
        "x=1\n",
        "y=0.94\n",
        "v=3/math.pi\n",
        "#import math\n",
        "# Logical OR, if one input is HIGH, output is HIGH\n",
        "(math.log(x**2)+9*math.exp(-y))>(7*v-math.log(x/4)) # log to the base e\n",
        "\n",
        "# for example , e^(-x)\n",
        "y=math.log2(2)\n",
        "print(y)\n",
        "x=1\n",
        "y=2\n",
        "import cmath\n",
        "k=complex(3,4)\n",
        "theta=36.86\n",
        "\n",
        "math.log(x**2)-math.sin(theta*math.pi/180)+y**(4.4)-abs(k)/2.0"
      ],
      "execution_count": null,
      "outputs": [
        {
          "output_type": "stream",
          "text": [
            "1.0\n"
          ],
          "name": "stdout"
        },
        {
          "output_type": "execute_result",
          "data": {
            "text/plain": [
              "18.012264778524575"
            ]
          },
          "metadata": {
            "tags": []
          },
          "execution_count": 15
        }
      ]
    },
    {
      "cell_type": "markdown",
      "metadata": {
        "id": "9xm6eWsRGs0K"
      },
      "source": [
        "# Application of Electrical Engg in Python"
      ]
    },
    {
      "cell_type": "code",
      "metadata": {
        "colab": {
          "base_uri": "https://localhost:8080/"
        },
        "id": "9rrhEmiFGxRk",
        "outputId": "573097a8-2360-4214-f5cf-3062cc93288f"
      },
      "source": [
        "I=complex(60,80) # I=60+j80 ampere\n",
        "V=complex(400,0) # Line-line voltage, V=400+j0 \n",
        "# How will you find the p.f. ?\n",
        "theta=math.atan(8/6)\n",
        "theta=theta*(180/math.pi)\n",
        "P=V*I.real\n",
        "print(\"The active power is\",P, \"Watts\")\n",
        "Q=V*I.imag\n",
        "print(\"The reactive power is\",Q, \"VAR\")\n"
      ],
      "execution_count": null,
      "outputs": [
        {
          "output_type": "execute_result",
          "data": {
            "text/plain": [
              "80.0"
            ]
          },
          "metadata": {
            "tags": []
          },
          "execution_count": 23
        }
      ]
    },
    {
      "cell_type": "markdown",
      "metadata": {
        "id": "kZldyWQKAwsA"
      },
      "source": [
        "# Numpy Module- Arrays in Python (July 8, 2021)\n",
        "\n"
      ]
    },
    {
      "cell_type": "code",
      "metadata": {
        "colab": {
          "base_uri": "https://localhost:8080/"
        },
        "id": "I5b64qlNA2_t",
        "outputId": "04cc794b-e183-44fc-c19a-bfa65259e3e5"
      },
      "source": [
        "import numpy as np\n",
        "import math \n",
        "\n",
        "a=np.array([1,2,5,6,7,67,34,13])  # create 1-D array\n",
        "print(a)\n",
        "\n",
        "\n",
        "x=np.array([[1,2,3],[4,5,6]]) # creates a 2-D array with 3 cols and 2 rows\n",
        "print(x)\n",
        "\n",
        "c=np.zeros(3) # creates 1-D array of length 3 with all zeros\n",
        "print(c)\n",
        "\n",
        "f=np.ones((5,2))  # creates 1-D array of size 5 x 2 with all ones\n",
        "print(f)"
      ],
      "execution_count": null,
      "outputs": [
        {
          "output_type": "stream",
          "text": [
            "[[1 2 3]\n",
            " [4 5 6]]\n",
            "[0. 0. 0.]\n",
            "[[1. 1.]\n",
            " [1. 1.]\n",
            " [1. 1.]\n",
            " [1. 1.]\n",
            " [1. 1.]]\n"
          ],
          "name": "stdout"
        }
      ]
    },
    {
      "cell_type": "markdown",
      "metadata": {
        "id": "7ZP7-W7pIcRE"
      },
      "source": [
        "# Additional numpy functions for arrays"
      ]
    },
    {
      "cell_type": "code",
      "metadata": {
        "colab": {
          "base_uri": "https://localhost:8080/"
        },
        "id": "vd-iWVMIIiuS",
        "outputId": "f2af398b-94a3-4796-fd36-eaeb4ff55dd7"
      },
      "source": [
        "x=np.eye(5) # 5 x 5 matrix with 1 as diagonal element and 0 as off-diagonal element \n",
        "#print(x)\n",
        "\n",
        "y=np.linspace(0,100,20) # creates array of 20 equally spaced elements b/w 0 and 100\n",
        "print(y) \n",
        "\n",
        "z=np.arange(0,10,1) #Array of values from 0 to less than 10 with step 1\n",
        "#print(z) "
      ],
      "execution_count": null,
      "outputs": [
        {
          "output_type": "stream",
          "text": [
            "[  0.           5.26315789  10.52631579  15.78947368  21.05263158\n",
            "  26.31578947  31.57894737  36.84210526  42.10526316  47.36842105\n",
            "  52.63157895  57.89473684  63.15789474  68.42105263  73.68421053\n",
            "  78.94736842  84.21052632  89.47368421  94.73684211 100.        ]\n"
          ],
          "name": "stdout"
        }
      ]
    },
    {
      "cell_type": "markdown",
      "metadata": {
        "id": "oQ1KBctLJ18a"
      },
      "source": [
        "#Inspecting array properties"
      ]
    },
    {
      "cell_type": "code",
      "metadata": {
        "colab": {
          "base_uri": "https://localhost:8080/"
        },
        "id": "JpbHxHe9EYEG",
        "outputId": "fcd9dc54-87e2-4a7d-8b7a-9572b0274b4e"
      },
      "source": [
        "import numpy as np\n",
        "\n",
        "x=np.array([(1,2,3),(4,5,6)])\n",
        "y=x.reshape((3,2))  # Changes the shape to 3x2 from 2x3\n",
        "print(y)\n",
        "\n",
        "#y=x.T # transpose of array x\n",
        "print(y)\n",
        "\n",
        "\n",
        "#y.shape # Matrix size in terms of rows and cols\n",
        "#y.size # Returns the number of elements in an array\n",
        "#x.shape\n",
        "\n",
        "#p=x.tolist() # Converts array to a python list\n",
        "#print(p[0])\n",
        "\n",
        "#z=np.array([1,3,4,7,5,2,9])\n",
        "#w=np.sort(z) # Sorts a given array\n",
        "#print(w)\n"
      ],
      "execution_count": 3,
      "outputs": [
        {
          "output_type": "stream",
          "name": "stdout",
          "text": [
            "[[1 2]\n",
            " [3 4]\n",
            " [5 6]]\n",
            "[[1 2]\n",
            " [3 4]\n",
            " [5 6]]\n"
          ]
        }
      ]
    },
    {
      "cell_type": "markdown",
      "metadata": {
        "id": "YypHalb1MaE-"
      },
      "source": [
        "# Resizing Array\n",
        "# If the new array is larger than the original array, then the new array is filled with repeated copies of a. Note that this behavior is different from a.resize(new_shape) which fills with zeros instead of repeated copies of a. \n"
      ]
    },
    {
      "cell_type": "code",
      "metadata": {
        "colab": {
          "base_uri": "https://localhost:8080/"
        },
        "id": "-uFDl8qdMiH_",
        "outputId": "8fff54ad-e1fe-4cc1-dcaf-974c84eca3ca"
      },
      "source": [
        "y=np.resize(x,(7,7)) # 7x7 target size of new array\n",
        "print(y)"
      ],
      "execution_count": null,
      "outputs": [
        {
          "output_type": "stream",
          "text": [
            "[[1 2 3 4 5 6 1]\n",
            " [2 3 4 5 6 1 2]\n",
            " [3 4 5 6 1 2 3]\n",
            " [4 5 6 1 2 3 4]\n",
            " [5 6 1 2 3 4 5]\n",
            " [6 1 2 3 4 5 6]\n",
            " [1 2 3 4 5 6 1]]\n"
          ],
          "name": "stdout"
        }
      ]
    },
    {
      "cell_type": "markdown",
      "metadata": {
        "id": "mnX69scTTIh1"
      },
      "source": [
        "# Adding/Deleting elements from Array"
      ]
    },
    {
      "cell_type": "code",
      "metadata": {
        "colab": {
          "base_uri": "https://localhost:8080/"
        },
        "id": "lSFWv-HATTpx",
        "outputId": "f1dae5e8-0508-4d28-a8fc-622d3326d75c"
      },
      "source": [
        "x=np.array([1,2])\n",
        "\n",
        "#y=np.append(x,[3,4,5]) # adds the values to the current array x\n",
        "#print(y)\n",
        "\n",
        "y=np.insert(x,1,5) # insert a given value 5 on axis=2 , that is, column index =2\n",
        "print(y)\n"
      ],
      "execution_count": null,
      "outputs": [
        {
          "output_type": "stream",
          "text": [
            "[1 5 2]\n"
          ],
          "name": "stdout"
        }
      ]
    },
    {
      "cell_type": "markdown",
      "metadata": {
        "id": "1TsNgyIXU3pd"
      },
      "source": [
        "#Combining and Splitting arrays "
      ]
    },
    {
      "cell_type": "code",
      "metadata": {
        "colab": {
          "base_uri": "https://localhost:8080/"
        },
        "id": "pofJUMfqU-RP",
        "outputId": "844ee0b9-0854-45cf-aaa2-f9974c9a81b9"
      },
      "source": [
        "import numpy as np\n",
        "x=np.array([(1,2,3,4,5,6)])\n",
        "y=np.array([(4,6,7,8,9,9)])\n",
        "z=np.concatenate((x,y),axis=1)  #Adds y as columns to end of x. For adding columns we keep axis=1.\n",
        "print(z)\n",
        "# Similary for concatenating rows (or adding rows) we keep axis=0\n",
        "#print(z)\n",
        "\n",
        "#z=np.split(x,3,axis=1) # splits a given array into 2 equal sub-arrays\n",
        "#print(z)"
      ],
      "execution_count": null,
      "outputs": [
        {
          "output_type": "stream",
          "text": [
            "[[1 2 3 4 5 6 4 6 7 8 9 9]]\n"
          ],
          "name": "stdout"
        }
      ]
    },
    {
      "cell_type": "markdown",
      "metadata": {
        "id": "iPBoLmAcYai1"
      },
      "source": [
        "# Random Arrays in Python"
      ]
    },
    {
      "cell_type": "code",
      "metadata": {
        "id": "wH7CQDFuYdSy"
      },
      "source": [
        "#x=np.random.rand(2,2) #creates 2x2 array of random floats between 0-1\n",
        "#print(x)\n",
        "\n",
        "#x=np.random.randint(51,size=(1000,1)) # creates random array of size 3x4 with values between 0-9#\n",
        "#print(x)\n",
        "\n",
        "#x.astype(str) # converts a given array to str data type"
      ],
      "execution_count": null,
      "outputs": []
    },
    {
      "cell_type": "markdown",
      "metadata": {
        "id": "m2Noxl_-BQZp"
      },
      "source": [
        "# Array plotting - Visualization in Python"
      ]
    },
    {
      "cell_type": "code",
      "metadata": {
        "colab": {
          "base_uri": "https://localhost:8080/",
          "height": 279
        },
        "id": "EL5RCWleBUv9",
        "outputId": "f6826301-420f-48c8-976f-68a4fb66dbbf"
      },
      "source": [
        "import matplotlib.pyplot as plt\n",
        "import numpy as np\n",
        "import math\n",
        "a=np.array([1,2,3,4,5,6,7,8,56,6.7,6,6,6,6,6,6,6,6,6,6]) #1-D array\n",
        "plt.plot(a,'g',linewidth=3.0)\n",
        "plt.xlabel('t')\n",
        "plt.ylabel('y(t)')\n",
        "plt.show()"
      ],
      "execution_count": null,
      "outputs": [
        {
          "output_type": "display_data",
          "data": {
            "image/png": "[encoded data removed]",
            "text/plain": [
              "<Figure size 432x288 with 1 Axes>"
            ]
          },
          "metadata": {
            "tags": []
          }
        }
      ]
    },
    {
      "cell_type": "code",
      "metadata": {
        "colab": {
          "base_uri": "https://localhost:8080/",
          "height": 592
        },
        "id": "rUc-hAWeE0OX",
        "outputId": "6d703466-f65e-4afa-9ed6-162d425db864"
      },
      "source": [
        "import numpy as np\n",
        "import math\n",
        "x=np.arange(0,math.pi/2,0.001)  #1-D array, with equally spaced entities \n",
        "print(x)\n",
        "print(\"The number of elements are \",len(x))\n",
        "print(\"The shape of array x is\",np.shape(x))\n",
        "y=np.sin(x) # returns the sine of array x or sine of entities present in array x\n",
        "plt.plot(y)\n",
        "plt.xlabel('x')\n",
        "plt.ylabel('y=sin(x)')\n",
        "plt.show()\n",
        "#print(np.max(y))\n",
        "v=np.cos(x)\n",
        "plt.plot(v)\n",
        "plt.xlabel('x')\n",
        "plt.ylabel('y=cos(x)')\n",
        "plt.show()"
      ],
      "execution_count": null,
      "outputs": [
        {
          "output_type": "stream",
          "text": [
            "[0.000e+00 1.000e-03 2.000e-03 ... 1.568e+00 1.569e+00 1.570e+00]\n",
            "The number of elements are  1571\n",
            "The shape of array x is (1571,)\n"
          ],
          "name": "stdout"
        },
        {
          "output_type": "display_data",
          "data": {
            "image/png": "[encoded data removed]",
            "text/plain": [
              "<Figure size 432x288 with 1 Axes>"
            ]
          },
          "metadata": {
            "tags": []
          }
        },
        {
          "output_type": "display_data",
          "data": {
            "image/png": "[encoded data removed]",
            "text/plain": [
              "<Figure size 432x288 with 1 Axes>"
            ]
          },
          "metadata": {
            "tags": []
          }
        }
      ]
    },
    {
      "cell_type": "markdown",
      "metadata": {
        "id": "ljfB6ltAUCzE"
      },
      "source": [
        "# Indexing & Slicing in Arrays"
      ]
    },
    {
      "cell_type": "code",
      "metadata": {
        "colab": {
          "base_uri": "https://localhost:8080/"
        },
        "id": "_SKmTYnfUHUd",
        "outputId": "5294d027-232e-4a0a-9315-a92e71c65ff8"
      },
      "source": [
        "import numpy as np\n",
        "x=np.array([(1,2,3,4,5),(2,3,4,5,6)])\n",
        "x[1] # extracts the first row\n",
        "\n",
        "#x[0:] # prints the entire 2-D array\n",
        "\n",
        "x[0,2:5] # prints first row and col number 3, 4 and 5\n",
        "\n",
        "#x[:,-1] # prints first column from the end and for all the rows\n",
        "\n",
        "#x>=4 # Returns boolean values for each array element given the condition\n",
        "\n",
        "#x[0,1]=-45.23 # manipulates the element on position (1,3)- 1st row and 3rd col\n",
        "\n",
        "#y=x[x<5] # returns array small than 3\n"
      ],
      "execution_count": null,
      "outputs": [
        {
          "output_type": "execute_result",
          "data": {
            "text/plain": [
              "array([[  1, -45,   3,   4,   5],\n",
              "       [  2,   3,   4,   5,   6]])"
            ]
          },
          "metadata": {
            "tags": []
          },
          "execution_count": 25
        }
      ]
    },
    {
      "cell_type": "markdown",
      "metadata": {
        "id": "nveEOR6pS8iM"
      },
      "source": [
        "# Arithmetic Ops on Arrays"
      ]
    },
    {
      "cell_type": "code",
      "metadata": {
        "colab": {
          "base_uri": "https://localhost:8080/"
        },
        "id": "5kgGz2zPTAmf",
        "outputId": "bcf75f42-4572-41b5-af87-ef0818f0dfc5"
      },
      "source": [
        "\n",
        "np.add(x,1) # add 1 to each element of array x\n",
        "np.subtract(x,-8) #subtract -8 from each element of array x\n",
        "\n",
        "np.power(x,2) # returns array with each element being squared\n",
        "\n",
        "# Consider two arrays x and y. Perform standard arithmetic ops\n",
        "y=np.array([(-1,2,13,-4,5),(-2.5,3.6,4.4,5,6)])\n",
        "\n",
        "x+y # standard addition\n",
        "x-y # standard subtraction\n",
        "x*y # element to element multiplication\n",
        "\n",
        "print(\"The shape of x and y is\",x.shape,y.shape)\n",
        "\n",
        "#np.dot(x,y.T) # matrix multiplaction of x and y' \n",
        "\n",
        "import cmath\n",
        "#np.sqrt(x) # returns the square root of array x\n",
        "\n",
        "np.abs(x)  # returns the absolute value of array x\n",
        "\n",
        "np.floor(y) # rounds down to the nearest integer value\n",
        "\n",
        "np.ceil(y)  # rounds up to the nearest integer value\n",
        "\n",
        "np.round(y) # rounds to the nearest integer"
      ],
      "execution_count": null,
      "outputs": [
        {
          "output_type": "stream",
          "text": [
            "The shape of x and y is (2, 5) (2, 5)\n"
          ],
          "name": "stdout"
        },
        {
          "output_type": "execute_result",
          "data": {
            "text/plain": [
              "array([[-1.,  2., 13., -4.,  5.],\n",
              "       [-2.,  4.,  4.,  5.,  6.]])"
            ]
          },
          "metadata": {
            "tags": []
          },
          "execution_count": 40
        }
      ]
    },
    {
      "cell_type": "markdown",
      "metadata": {
        "id": "ZSUfu1d2Vgw-"
      },
      "source": [
        "#Statistical Ops on Numpy Array"
      ]
    },
    {
      "cell_type": "code",
      "metadata": {
        "colab": {
          "base_uri": "https://localhost:8080/"
        },
        "id": "D_MBr2R1VlQp",
        "outputId": "4797bae7-5470-4357-8228-116b6a40ab46"
      },
      "source": [
        "#x=np.arange(1,50,1)\n",
        "#x\n",
        "#np.mean(x) # returns the mean value\n",
        "\n",
        "y=np.array([(-1,2,13,-4,5),(-2.5,3.6,4.4,5,6)])\n",
        "np.mean(y,axis=1)\n",
        "z=np.std(y,axis=1)\n",
        "\n",
        "variance=np.power(z,2)\n",
        "variance\n",
        "\n",
        "#xnew=list()\n",
        "#for i in range(len(x)):\n",
        "#    xnew.append((x[i]-x.max())/(x.max()-x.min()))\n",
        "#print(np.asarray(xnew).shape)  "
      ],
      "execution_count": null,
      "outputs": [
        {
          "output_type": "execute_result",
          "data": {
            "text/plain": [
              "array([34.   ,  9.024])"
            ]
          },
          "metadata": {
            "tags": []
          },
          "execution_count": 55
        }
      ]
    },
    {
      "cell_type": "code",
      "metadata": {
        "colab": {
          "base_uri": "https://localhost:8080/"
        },
        "id": "hqDiWmzW_dBs",
        "outputId": "9a088ff3-aa78-48be-9b41-01a12c88eb51"
      },
      "source": [
        "import math\n",
        "c=\"Benjamin White\"\n",
        "math.log2(len(c)-1)<=math.sinh(len(c)+1) or c[len(c)-1]!=c[:,-7] "
      ],
      "execution_count": null,
      "outputs": [
        {
          "output_type": "execute_result",
          "data": {
            "text/plain": [
              "True"
            ]
          },
          "metadata": {
            "tags": []
          },
          "execution_count": 15
        }
      ]
    },
    {
      "cell_type": "markdown",
      "metadata": {
        "id": "NK1tTjwy3rm2"
      },
      "source": [
        "# Decision-Making in Python"
      ]
    },
    {
      "cell_type": "code",
      "metadata": {
        "colab": {
          "base_uri": "https://localhost:8080/"
        },
        "id": "4XytS-hg3xiB",
        "outputId": "ae2a058d-d54f-4e22-9be5-1f3f92a1e3ee"
      },
      "source": [
        "x=-9\n",
        "y=8\n",
        "if (x+y)>0 or (y-7<0):\n",
        "   print(\"Condition is true\")\n",
        "else:\n",
        "   print(\"Condition is false\")   "
      ],
      "execution_count": null,
      "outputs": [
        {
          "output_type": "stream",
          "text": [
            "Condition is false\n"
          ],
          "name": "stdout"
        }
      ]
    },
    {
      "cell_type": "code",
      "metadata": {
        "colab": {
          "base_uri": "https://localhost:8080/"
        },
        "id": "H9RnX6PB4Xy0",
        "outputId": "abfae431-e355-4465-9f1f-92a28feeb6f0"
      },
      "source": [
        "import numpy as np\n",
        "x=np.arange(0,100,1)\n",
        "y=np.arange(1,101,1)\n",
        "k=np.mean(x)-np.mean(y)\n",
        "\n",
        "if k>0.05:\n",
        "   print(\"True and the mean is\",k)\n",
        "else:\n",
        "   print(\"False and the mean is\",k)    \n",
        "   "
      ],
      "execution_count": null,
      "outputs": [
        {
          "output_type": "stream",
          "text": [
            "False and the mean is -1.0\n"
          ],
          "name": "stdout"
        }
      ]
    },
    {
      "cell_type": "markdown",
      "metadata": {
        "id": "Zi_p-g8Q4u5k"
      },
      "source": [
        " # Problem Statement:  Xavier’s weight is 61 kgs with a height of 175.31 cm.  Determine, if his body mass index is greater than 20.1 or not"
      ]
    },
    {
      "cell_type": "code",
      "metadata": {
        "colab": {
          "base_uri": "https://localhost:8080/"
        },
        "id": "65Tp9E_i46Fi",
        "outputId": "7bec30e9-88db-4ea3-9b28-53daa48254b1"
      },
      "source": [
        "h=float(input(\"Enter height in cm\"))\n",
        "w=float(input(\"Enter weight in kgs\"))\n",
        "h=h*0.01\n",
        "BMI=w/(h**2)\n",
        "\n",
        "if BMI>20.01:\n",
        "   print(\"BMI higher than threshold and BMI is\",BMI)\n",
        "else:\n",
        "   print(\"Not true and BMI is\",round(BMI,4))  "
      ],
      "execution_count": null,
      "outputs": [
        {
          "output_type": "stream",
          "text": [
            "Enter height in cm181\n",
            "Enter weight in kgs68\n",
            "BMI higher than threshold and BMI is 20.756387167668876\n"
          ],
          "name": "stdout"
        }
      ]
    },
    {
      "cell_type": "markdown",
      "metadata": {
        "id": "4InVyPPO63q2"
      },
      "source": [
        "# Write a program to determine whether a wind farm operator will pay a penalty, given the actual and predicted wind powers in MW\n",
        "# Actual powers ={34.1, 45.6, 33.9, 45.78} and Predicted powers ={33.7, 41.4, 33.9, 45.88}"
      ]
    },
    {
      "cell_type": "code",
      "metadata": {
        "colab": {
          "base_uri": "https://localhost:8080/"
        },
        "id": "qkRE83iF7PPD",
        "outputId": "825cff68-d5fc-4910-a056-c910c14c5039"
      },
      "source": [
        "import numpy as np\n",
        "act=np.array([34.1,45.6,33.9, 45.78])\n",
        "pred=np.array([33.7,41.4,33.9, 45.88])\n",
        "\n",
        "for i in range(len(act)):\n",
        "    if act[i]<pred[i]:\n",
        "       print(\"Pay Penalty in\",i,\"window\")\n",
        "    else:   \n",
        "       print(\"Don't pay penalty in\",i,\"window\")\n",
        "   "
      ],
      "execution_count": null,
      "outputs": [
        {
          "output_type": "stream",
          "text": [
            "Don't pay penalty in 0 window\n",
            "Don't pay penalty in 1 window\n",
            "Don't pay penalty in 2 window\n",
            "Pay Penalty in 3 window\n"
          ],
          "name": "stdout"
        }
      ]
    },
    {
      "cell_type": "code",
      "metadata": {
        "colab": {
          "base_uri": "https://localhost:8080/"
        },
        "id": "xcxsMCW_9Arp",
        "outputId": "c8ba7c1e-2da0-4abe-c486-f25e3bbb7fd0"
      },
      "source": [
        "i=0\n",
        "while i<len(act):\n",
        "      if act[i]<pred[i]:\n",
        "         print(\"Pay penalty\")\n",
        "      else:\n",
        "         print(\"Don't pay penalty\")\n",
        "      i+=1    "
      ],
      "execution_count": null,
      "outputs": [
        {
          "output_type": "stream",
          "text": [
            "Don't pay penalty\n",
            "Don't pay penalty\n",
            "Don't pay penalty\n",
            "Pay penalty\n"
          ],
          "name": "stdout"
        }
      ]
    },
    {
      "cell_type": "markdown",
      "metadata": {
        "id": "FNing0uH_UAF"
      },
      "source": [
        "# Create Heaviside function H(x) for x in [-10,10] and plot the same in Python"
      ]
    },
    {
      "cell_type": "code",
      "metadata": {
        "colab": {
          "base_uri": "https://localhost:8080/",
          "height": 279
        },
        "id": "nffl9LRQ_ZMf",
        "outputId": "dd58f5b0-4b57-423b-a033-c393775f21b1"
      },
      "source": [
        "x=np.arange(-10,11,0.01)\n",
        "import matplotlib.pyplot as plt\n",
        "y=list()\n",
        "for i in x:    # for loop runs for the counter variable i in x , values of i are x \n",
        "    if (i>0):\n",
        "        y.append(1)\n",
        "    else: \n",
        "        y.append(0)\n",
        "plt.plot(x,y,'g')\n",
        "plt.xlabel(\"x\")\n",
        "plt.ylabel(\"y\")\n",
        "plt.grid()\n",
        "plt.show()"
      ],
      "execution_count": null,
      "outputs": [
        {
          "output_type": "display_data",
          "data": {
            "image/png": "[encoded data removed]",
            "text/plain": [
              "<Figure size 432x288 with 1 Axes>"
            ]
          },
          "metadata": {
            "tags": []
          }
        }
      ]
    },
    {
      "cell_type": "markdown",
      "metadata": {
        "id": "Yez8N_AQv5zb"
      },
      "source": [
        "# Experiment-4 | Decision Making | 22/7/2021\n",
        "1.   Consider two integers x and y.  Determine if x is divisible by y\n",
        "2.   Write a C code to check if the first and last character of variable x= \"BAYERN Munchen” is in lowercase.  Print appropriate message.\n",
        "3.  Write a python script to check if sum of roots of aquadratic equation p(x)=x^2−4x+8 is equal to product of the roots.\n",
        "4. For the following mark distribution: \n",
        "    \n",
        "\n",
        "*   Allot A+ grade if the average score in Math & Physics exceeds 75% of the overall average.\n",
        "* Allot A- grade if the average score in Math & Yoga exceeds 95% of the overall average. \n",
        "* Allot B+ grade if the average score in Math & C programming exceeds 70% of the overall average\n",
        "*   Else, allot B- grade.\n",
        "\n",
        "\n",
        "![if_else.JPG](data:image/jpeg;base64,/9j/4AAQSkZJRgABAQEAYABgAAD/4RDyRXhpZgAATU0AKgAAAAgABAE7AAIAAAANAAAISodpAAQAAAABAAAIWJydAAEAAAAaAAAQ0OocAAcAAAgMAAAAPgAAAAAc6gAAAAgAAAAAAAAAAAAAAAAAAAAAAAAAAAAAAAAAAAAAAAAAAAAAAAAAAAAAAAAAAAAAAAAAAAAAAAAAAAAAAAAAAAAAAAAAAAAAAAAAAAAAAAAAAAAAAAAAAAAAAAAAAAAAAAAAAAAAAAAAAAAAAAAAAAAAAAAAAAAAAAAAAAAAAAAAAAAAAAAAAAAAAAAAAAAAAAAAAAAAAAAAAAAAAAAAAAAAAAAAAAAAAAAAAAAAAAAAAAAAAAAAAAAAAAAAAAAAAAAAAAAAAAAAAAAAAAAAAAAAAAAAAAAAAAAAAAAAAAAAAAAAAAAAAAAAAAAAAAAAAAAAAAAAAAAAAAAAAAAAAAAAAAAAAAAAAAAAAAAAAAAAAAAAAAAAAAAAAAAAAAAAAAAAAAAAAAAAAAAAAAAAAAAAAAAAAAAAAAAAAAAAAAAAAAAAAAAAAAAAAAAAAAAAAAAAAAAAAAAAAAAAAAAAAAAAAAAAAAAAAAAAAAAAAAAAAAAAAAAAAAAAAAAAAAAAAAAAAAAAAAAAAAAAAAAAAAAAAAAAAAAAAAAAAAAAAAAAAAAAAAAAAAAAAAAAAAAAAAAAAAAAAAAAAAAAAAAAAAAAAAAAAAAAAAAAAAAAAAAAAAAAAAAAAAAAAAAAAAAAAAAAAAAAAAAAAAAAAAAAAAAAAAAAAAAAAAAAAAAAAAAAAAAAAAAAAAAAAAAAAAAAAAAAAAAAAAAAAAAAAAAAAAAAAAAAAAAAAAAAAAAAAAAAAAAAAAAAAAAAAAAAAAAAAAAAAAAAAAAAAAAAAAAAAAAAAAAAAAAAAAAAAAAAAAAAAAAAAAAAAAAAAAAAAAAAAAAAAAAAAAAAAAAAAAAAAAAAAAAAAAAAAAAAAAAAAAAAAAAAAAAAAAAAAAAAAAAAAAAAAAAAAAAAAAAAAAAAAAAAAAAAAAAAAAAAAAAAAAAAAAAAAAAAAAAAAAAAAAAAAAAAAAAAAAAAAAAAAAAAAAAAAAAAAAAAAAAAAAAAAAAAAAAAAAAAAAAAAAAAAAAAAAAAAAAAAAAAAAAAAAAAAAAAAAAAAAAAAAAAAAAAAAAAAAAAAAAAAAAAAAAAAAAAAAAAAAAAAAAAAAAAAAAAAAAAAAAAAAAAAAAAAAAAAAAAAAAAAAAAAAAAAAAAAAAAAAAAAAAAAAAAAAAAAAAAAAAAAAAAAAAAAAAAAAAAAAAAAAAAAAAAAAAAAAAAAAAAAAAAAAAAAAAAAAAAAAAAAAAAAAAAAAAAAAAAAAAAAAAAAAAAAAAAAAAAAAAAAAAAAAAAAAAAAAAAAAAAAAAAAAAAAAAAAAAAAAAAAAAAAAAAAAAAAAAAAAAAAAAAAAAAAAAAAAAAAAAAAAAAAAAAAAAAAAAAAAAAAAAAAAAAAAAAAAAAAAAAAAAAAAAAAAAAAAAAAAAAAAAAAAAAAAAAAAAAAAAAAAAAAAAAAAAAAAAAAAAAAAAAAAAAAAAAAAAAAAAAAAAAAAAAAAAAAAAAAAAAAAAAAAAAAAAAAAAAAAAAAAAAAAAAAAAAAAAAAAAAAAAAAAAAAAAAAAAAAAAAAAAAAAAAAAAAAAAAAAAAAAAAAAAAAAAAAAAAAAAAAAAAAAAAAAAAAAAAAAAAAAAAAAAAAAAAAAAAAAAAAAAAAAAAAAAAAAAAAAAAAAAAAAAAAAAAAAAAAAAAAAAAAAAAAAAAAAAAAAAAAAAAAAAAAAAAAAAAAAAAAAAAAAAAAAAAAAAAAAAAAAAAAAAAAAAAAAAAAAAAAAAAAAAAAAAAAAAAAAAAAAAAAAAAAAAAAAAAAAAAAAAAAAAAAAAAAAAAAAAAAAAAAAAAAAAAAAAAAAAAAAAAAAAAAAAAAAAAAAAAAAAAAAAAAAAAAAAAAAAAAAAAAAAAAAAAAAAAAAAAAAAAAAAAAAAAAAAAAAAAAAAAAAAAAAAAAAAAAAAAAAAAAAAAAAAAAAAAAAAAAAAAAAAAAAAAAAAAAAAAAAAAAAAAAAAAAAAAAAAAAAAAAAAAAAAAAAAAAAAAAAAAAAAAAAAAAAAAAAAAAAAAAAAAAAAAAAAAAAAAAAAAAAAAAAAAAAAAAAAAAAAAAAAAAAAAAAAAAAAAAAAAAAAAAAAAAAAAAAAAAAAAAAAAAAAAAAAAAAAAAAAAAAAAAAAAAAAAAAAAAAAAAAAAAAAAAAAAAAAAAAAAAAAAAAAAAAAAAAAAAAAAAAAAAAAAAAAAAAAAAAAAAAAAAAAAAAAAAAAAAAAAAAAAAAAAAAAAAAAAAAAAAAAAAAAAAAAAAAAAAAAAAAAAAAAAAAAAAAAAAAAAAAAAAAAAAAAAAAAAAAAAAAAAAAAAAAAAAAAAAAAAAAAAAAAAAAAAAAAAAAAAAAAAAAAAAAAAAAAAAAAAAAAAAAAAAAAAAAAAAAAAAAAAAAAAAAAAAAAAAAAAAAAAAAAAAAAAAAAAAAAAAAAAAAAAAAAAAAAAAAAAAAAAAAAAAAAAAAAAAAAAAAAAAAAAAAAAAAAAAAAAAAAAAAAAAAAAAAAAAAAAAAAAAAAAAAAAAAAAAAAAAAAAAAAAAAAAAAAAAAAAAAAAAAAAAAAAAAAAAAAAAAAAAAAAAAAAAAAAAAAAAAAAAAAAAAAAAAAAAAAAAAAAAAAAAAAAAAAAAAAAAAAAAAAAAAAAAAAAAAAAAAAAAAAAAAAAAAAAAAAAAAAAAAAAAAAAAAAAAAAAAAAAAAAAAAAAAAAAAAAAAAAAAAAAAAAAAAAAAAAAAEhhcnNoIERoaW1hbgAAAAWQAwACAAAAFAAAEKaQBAACAAAAFAAAELqSkQACAAAAAzIyAACSkgACAAAAAzIyAADqHAAHAAAIDAAACJoAAAAAHOoAAAAIAAAAAAAAAAAAAAAAAAAAAAAAAAAAAAAAAAAAAAAAAAAAAAAAAAAAAAAAAAAAAAAAAAAAAAAAAAAAAAAAAAAAAAAAAAAAAAAAAAAAAAAAAAAAAAAAAAAAAAAAAAAAAAAAAAAAAAAAAAAAAAAAAAAAAAAAAAAAAAAAAAAAAAAAAAAAAAAAAAAAAAAAAAAAAAAAAAAAAAAAAAAAAAAAAAAAAAAAAAAAAAAAAAAAAAAAAAAAAAAAAAAAAAAAAAAAAAAAAAAAAAAAAAAAAAAAAAAAAAAAAAAAAAAAAAAAAAAAAAAAAAAAAAAAAAAAAAAAAAAAAAAAAAAAAAAAAAAAAAAAAAAAAAAAAAAAAAAAAAAAAAAAAAAAAAAAAAAAAAAAAAAAAAAAAAAAAAAAAAAAAAAAAAAAAAAAAAAAAAAAAAAAAAAAAAAAAAAAAAAAAAAAAAAAAAAAAAAAAAAAAAAAAAAAAAAAAAAAAAAAAAAAAAAAAAAAAAAAAAAAAAAAAAAAAAAAAAAAAAAAAAAAAAAAAAAAAAAAAAAAAAAAAAAAAAAAAAAAAAAAAAAAAAAAAAAAAAAAAAAAAAAAAAAAAAAAAAAAAAAAAAAAAAAAAAAAAAAAAAAAAAAAAAAAAAAAAAAAAAAAAAAAAAAAAAAAAAAAAAAAAAAAAAAAAAAAAAAAAAAAAAAAAAAAAAAAAAAAAAAAAAAAAAAAAAAAAAAAAAAAAAAAAAAAAAAAAAAAAAAAAAAAAAAAAAAAAAAAAAAAAAAAAAAAAAAAAAAAAAAAAAAAAAAAAAAAAAAAAAAAAAAAAAAAAAAAAAAAAAAAAAAAAAAAAAAAAAAAAAAAAAAAAAAAAAAAAAAAAAAAAAAAAAAAAAAAAAAAAAAAAAAAAAAAAAAAAAAAAAAAAAAAAAAAAAAAAAAAAAAAAAAAAAAAAAAAAAAAAAAAAAAAAAAAAAAAAAAAAAAAAAAAAAAAAAAAAAAAAAAAAAAAAAAAAAAAAAAAAAAAAAAAAAAAAAAAAAAAAAAAAAAAAAAAAAAAAAAAAAAAAAAAAAAAAAAAAAAAAAAAAAAAAAAAAAAAAAAAAAAAAAAAAAAAAAAAAAAAAAAAAAAAAAAAAAAAAAAAAAAAAAAAAAAAAAAAAAAAAAAAAAAAAAAAAAAAAAAAAAAAAAAAAAAAAAAAAAAAAAAAAAAAAAAAAAAAAAAAAAAAAAAAAAAAAAAAAAAAAAAAAAAAAAAAAAAAAAAAAAAAAAAAAAAAAAAAAAAAAAAAAAAAAAAAAAAAAAAAAAAAAAAAAAAAAAAAAAAAAAAAAAAAAAAAAAAAAAAAAAAAAAAAAAAAAAAAAAAAAAAAAAAAAAAAAAAAAAAAAAAAAAAAAAAAAAAAAAAAAAAAAAAAAAAAAAAAAAAAAAAAAAAAAAAAAAAAAAAAAAAAAAAAAAAAAAAAAAAAAAAAAAAAAAAAAAAAAAAAAAAAAAAAAAAAAAAAAAAAAAAAAAAAAAAAAAAAAAAAAAAAAAAAAAAAAAAAAAAAAAAAAAAAAAAAAAAAAAAAAAAAAAAAAAAAAAAAAAAAAAAAAAAAAAAAAAAAAAAAAAAAAAAAAAAAAAAAAAAAAAAAAAAAAAAAAAAAAAAAAAAAAAAAAAAAAAAAAAAAAAAAAAAAAAAAAAAAAAAAAAAAAAAAAAAAAAAAAAAAAAAAAAAAAAAAAAAAAAAAAAAAAAAAAAAAAAAAAAAAAAAAAAAAAAAAAAAAAAAAAAAAAAAAAAAAAAAAAAAAAAAAAAAAAAAAAAAAAAAAAAAAAAAAAAAAAAAAAAAAAAAAAAAAAAAAAAAAAAAAAAAAAAAAAAAAAAAAAAAAAAAAAAAAAAAAAAAAAAAAAAAAAAAAAAAAAAAAAAAAAAAAAAAAAAAAAAAAAAAAAAAAAAAAAAAAAAAAAAAAAAAAAAAAAAAAAAAAAAAAAAAAAAAAAAAAAAAAAAAAAAAAAAAAAAAAAAAAAAAAAAAAAAAAAAAAAAAAAAAAAAAAAAAAAAAAAAAAAAAAAAAAAAAAAAAAAAAAAAAAAAAAAAAAAAAAAAAAAAAAAAAAAAAAAAAAAAAAAAAAAAAAAAAAAAAAAAAAAAAAAAAAAAAAAAAAAAAAAAAAAAAAAAAAAAAAAAAAAAAAAAAAAAAAAAAAAAAAAAAAAAAAAAAAAAAAAAAAAAAAAAAAAAAAAAAAAAAAAAAAAAAAAAAAAAAAAAAAAAAAAAAAAAAAAAAAAAAAAAAAAAAAAAAAAAAAAAAAAAAAAAAAAAAAAAAAAAAAAAAAAAAAAAAAAAAAAAAAAAAAAAAAAAAAAAAAAAAAAAAAAAAAAAAAAAAAAAAAAAAAAAAAAAAAAAAAAAAAAAAAAAAAAAAAAAAAAAAAAAAAAAAAAAAAAAAAAAAAAAAAAAAAAAAAAAAAAAAAAAAAAAAAAAAAAAAAAAAAAAAAAAAAAAAAAAAAAAAAAAAAAAAAAAAAAAAAAAAAAAAAAAAAAAAAAAAAAAAAAAAAAAAAAAAAAAAAAAAAAAAAAAAAAAAAAAAAAAAAAAAAAAAAAAAAAAAAAAAAAAAAAAAAAAAAAAAAAAAAAAAAAAAAAAAAAAAAAAAAAAAAAAAAAAAAAAAAAAAAAAAAAAAAAAAAAAAAAAAAAAAAAAAAAAAAAAAAAAAAAAAAAAAAAAAAAAAAAAAAAAAAAAAAAAAAAAAAAAAAAAAAAAAAAAAAAAAAAAAAAAAAAAAAAAAAAAAAAAAAAAAAAAAyMDIxOjA3OjIyIDExOjI0OjUxADIwMjE6MDc6MjIgMTE6MjQ6NTEAAABIAGEAcgBzAGgAIABEAGgAaQBtAGEAbgAAAP/hCx9odHRwOi8vbnMuYWRvYmUuY29tL3hhcC8xLjAvADw/eHBhY2tldCBiZWdpbj0n77u/JyBpZD0nVzVNME1wQ2VoaUh6cmVTek5UY3prYzlkJz8+DQo8eDp4bXBtZXRhIHhtbG5zOng9ImFkb2JlOm5zOm1ldGEvIj48cmRmOlJERiB4bWxuczpyZGY9Imh0dHA6Ly93d3cudzMub3JnLzE5OTkvMDIvMjItcmRmLXN5bnRheC1ucyMiPjxyZGY6RGVzY3JpcHRpb24gcmRmOmFib3V0PSJ1dWlkOmZhZjViZGQ1LWJhM2QtMTFkYS1hZDMxLWQzM2Q3NTE4MmYxYiIgeG1sbnM6ZGM9Imh0dHA6Ly9wdXJsLm9yZy9kYy9lbGVtZW50cy8xLjEvIi8+PHJkZjpEZXNjcmlwdGlvbiByZGY6YWJvdXQ9InV1aWQ6ZmFmNWJkZDUtYmEzZC0xMWRhLWFkMzEtZDMzZDc1MTgyZjFiIiB4bWxuczp4bXA9Imh0dHA6Ly9ucy5hZG9iZS5jb20veGFwLzEuMC8iPjx4bXA6Q3JlYXRlRGF0ZT4yMDIxLTA3LTIyVDExOjI0OjUxLjIxNzwveG1wOkNyZWF0ZURhdGU+PC9yZGY6RGVzY3JpcHRpb24+PHJkZjpEZXNjcmlwdGlvbiByZGY6YWJvdXQ9InV1aWQ6ZmFmNWJkZDUtYmEzZC0xMWRhLWFkMzEtZDMzZDc1MTgyZjFiIiB4bWxuczpkYz0iaHR0cDovL3B1cmwub3JnL2RjL2VsZW1lbnRzLzEuMS8iPjxkYzpjcmVhdG9yPjxyZGY6U2VxIHhtbG5zOnJkZj0iaHR0cDovL3d3dy53My5vcmcvMTk5OS8wMi8yMi1yZGYtc3ludGF4LW5zIyI+PHJkZjpsaT5IYXJzaCBEaGltYW48L3JkZjpsaT48L3JkZjpTZXE+DQoJCQk8L2RjOmNyZWF0b3I+PC9yZGY6RGVzY3JpcHRpb24+PC9yZGY6UkRGPjwveDp4bXBtZXRhPg0KICAgICAgICAgICAgICAgICAgICAgICAgICAgICAgICAgICAgICAgICAgICAgICAgICAgICAgICAgICAgICAgICAgICAgICAgICAgICAgICAgICAgICAgICAgICAgICAgICAgIAogICAgICAgICAgICAgICAgICAgICAgICAgICAgICAgICAgICAgICAgICAgICAgICAgICAgICAgICAgICAgICAgICAgICAgICAgICAgICAgICAgICAgICAgICAgICAgICAgICAgCiAgICAgICAgICAgICAgICAgICAgICAgICAgICAgICAgICAgICAgICAgICAgICAgICAgICAgICAgICAgICAgICAgICAgICAgICAgICAgICAgICAgICAgICAgICAgICAgICAgICAKICAgICAgICAgICAgICAgICAgICAgICAgICAgICAgICAgICAgICAgICAgICAgICAgICAgICAgICAgICAgICAgICAgICAgICAgICAgICAgICAgICAgICAgICAgICAgICAgICAgIAogICAgICAgICAgICAgICAgICAgICAgICAgICAgICAgICAgICAgICAgICAgICAgICAgICAgICAgICAgICAgICAgICAgICAgICAgICAgICAgICAgICAgICAgICAgICAgICAgICAgCiAgICAgICAgICAgICAgICAgICAgICAgICAgICAgICAgICAgICAgICAgICAgICAgICAgICAgICAgICAgICAgICAgICAgICAgICAgICAgICAgICAgICAgICAgICAgICAgICAgICAKICAgICAgICAgICAgICAgICAgICAgICAgICAgICAgICAgICAgICAgICAgICAgICAgICAgICAgICAgICAgICAgICAgICAgICAgICAgICAgICAgICAgICAgICAgICAgICAgICAgIAogICAgICAgICAgICAgICAgICAgICAgICAgICAgICAgICAgICAgICAgICAgICAgICAgICAgICAgICAgICAgICAgICAgICAgICAgICAgICAgICAgICAgICAgICAgICAgICAgICAgCiAgICAgICAgICAgICAgICAgICAgICAgICAgICAgICAgICAgICAgICAgICAgICAgICAgICAgICAgICAgICAgICAgICAgICAgICAgICAgICAgICAgICAgICAgICAgICAgICAgICAKICAgICAgICAgICAgICAgICAgICAgICAgICAgICAgICAgICAgICAgICAgICAgICAgICAgICAgICAgICAgICAgICAgICAgICAgICAgICAgICAgICAgICAgICAgICAgICAgICAgIAogICAgICAgICAgICAgICAgICAgICAgICAgICAgICAgICAgICAgICAgICAgICAgICAgICAgICAgICAgICAgICAgICAgICAgICAgICAgICAgICAgICAgICAgICAgICAgICAgICAgCiAgICAgICAgICAgICAgICAgICAgICAgICAgICAgICAgICAgICAgICAgICAgICAgICAgICAgICAgICAgICAgICAgICAgICAgICAgICAgICAgICAgICAgICAgICAgICAgICAgICAKICAgICAgICAgICAgICAgICAgICAgICAgICAgICAgICAgICAgICAgICAgICAgICAgICAgICAgICAgICAgICAgICAgICAgICAgICAgICAgICAgICAgICAgICAgICAgICAgICAgIAogICAgICAgICAgICAgICAgICAgICAgICAgICAgICAgICAgICAgICAgICAgICAgICAgICAgICAgICAgICAgICAgICAgICAgICAgICAgICAgICAgICAgICAgICAgICAgICAgICAgCiAgICAgICAgICAgICAgICAgICAgICAgICAgICAgICAgICAgICAgICAgICAgICAgICAgICAgICAgICAgICAgICAgICAgICAgICAgICAgICAgICAgICAgICAgICAgICAgICAgICAKICAgICAgICAgICAgICAgICAgICAgICAgICAgICAgICAgICAgICAgICAgICAgICAgICAgICAgICAgICAgICAgICAgICAgICAgICAgICAgICAgICAgICAgICAgICAgICAgICAgIAogICAgICAgICAgICAgICAgICAgICAgICAgICAgICAgICAgICAgICAgICAgICAgICAgICAgICAgICAgICAgICAgICAgICAgICAgICAgICAgICAgICAgICAgICAgICAgICAgICAgCiAgICAgICAgICAgICAgICAgICAgICAgICAgICAgICAgICAgICAgICAgICAgICAgICAgICAgICAgICAgICAgICAgICAgICAgICAgICAgICAgICAgICAgICAgICAgICAgICAgICAKICAgICAgICAgICAgICAgICAgICAgICAgICAgICAgICAgICAgICAgICAgICAgICAgICAgICAgICAgICAgICAgICAgICAgICAgICAgICAgICAgICAgICAgICAgICAgICAgICAgIAogICAgICAgICAgICAgICAgICAgICAgICAgICAgICAgICAgICAgICAgICAgICAgICAgICAgICAgICAgICAgICAgICAgICAgICAgICAgICAgICAgICAgICAgICAgICAgICAgICAgCiAgICAgICAgICAgICAgICAgICAgICAgICAgICA8P3hwYWNrZXQgZW5kPSd3Jz8+/9sAQwAHBQUGBQQHBgUGCAcHCAoRCwoJCQoVDxAMERgVGhkYFRgXGx4nIRsdJR0XGCIuIiUoKSssKxogLzMvKjInKisq/9sAQwEHCAgKCQoUCwsUKhwYHCoqKioqKioqKioqKioqKioqKioqKioqKioqKioqKioqKioqKioqKioqKioqKioqKioq/8AAEQgAmAEhAwEiAAIRAQMRAf/EAB8AAAEFAQEBAQEBAAAAAAAAAAABAgMEBQYHCAkKC//EALUQAAIBAwMCBAMFBQQEAAABfQECAwAEEQUSITFBBhNRYQcicRQygZGhCCNCscEVUtHwJDNicoIJChYXGBkaJSYnKCkqNDU2Nzg5OkNERUZHSElKU1RVVldYWVpjZGVmZ2hpanN0dXZ3eHl6g4SFhoeIiYqSk5SVlpeYmZqio6Slpqeoqaqys7S1tre4ubrCw8TFxsfIycrS09TV1tfY2drh4uPk5ebn6Onq8fLz9PX29/j5+v/EAB8BAAMBAQEBAQEBAQEAAAAAAAABAgMEBQYHCAkKC//EALURAAIBAgQEAwQHBQQEAAECdwABAgMRBAUhMQYSQVEHYXETIjKBCBRCkaGxwQkjM1LwFWJy0QoWJDThJfEXGBkaJicoKSo1Njc4OTpDREVGR0hJSlNUVVZXWFlaY2RlZmdoaWpzdHV2d3h5eoKDhIWGh4iJipKTlJWWl5iZmqKjpKWmp6ipqrKztLW2t7i5usLDxMXGx8jJytLT1NXW19jZ2uLj5OXm5+jp6vLz9PX29/j5+v/aAAwDAQACEQMRAD8A+kaKKKAMf/hLdD/6CCf98t/hR/wluh/9BBP++W/wrYooAx/+Et0P/oIJ/wB8t/hR/wAJbof/AEEE/wC+W/wrYooAx/8AhLdD/wCggn/fLf4Uf8Jbof8A0EE/75b/AArYooAx/wDhLdD/AOggn/fLf4Uf8Jbof/QQT/vlv8K2KKAMf/hLdD/6CCf98t/hR/wluh/9BBP++W/wrm9Z1y6vPiK/huXxE/huCOzjnt3iWHzb52JDBWmRlwuBwBnn0rqbORtG0+1t9d1mO6uJJfJjuZlSFp2JJVdq4BbHoBnBOBQBF/wluh/9BBP++W/wo/4S3Q/+ggn/AHy3+FUfG3iE6V4N1660m8hXUNNtvMIBVzCTypZT0yPWr2j+KdE1qY2um6xZXt3HGHlignV2UdM4B6Z4oAP+Et0P/oIJ/wB8t/hR/wAJbof/AEEE/wC+W/wplprVpp3h832s+ILK6hWZ0a9XbFGTvICYDEbh93Gckjp2qwviTRX0VtXGq2n9nISHujMojUg4IJPQ54wec0ARf8Jbof8A0EE/75b/AAo/4S3Q/wDoIJ/3y3+FZeqfEnw1p+itqMOqWd0qzxwGNbhVYMzKOQeRgNu+ldLZX9pqVot1p9zFdW752ywuHVscHBFAGd/wluh/9BBP++W/wo/4S3Q/+ggn/fLf4VsUUAY//CW6H/0EE/75b/Cj/hLdD/6CCf8AfLf4VsUUAY//AAluh/8AQQT/AL5b/Cj/AIS3Q/8AoIJ/3y3+FbFFAGP/AMJbof8A0EE/75b/AAo/4S3Q/wDoIJ/3y3+FbFFAGP8A8Jbof/QQT/vlv8KP+Et0P/oIJ/3y3+FW9ZuJbPQb+5t22yw20kiNjOGCkg4+tcj8KfFmp+I/BvmeKHj/ALVtcNcOihFeN1EkbgYAxtbH1U0AdH/wluh/9BBP++W/wo/4S3Q/+ggn/fLf4VyHw98Z6t4i8SeI31ieJNKiSK509dqr5du+/DM2OchQ3PQGux07xVoWrGYabq1rcmGPzXEcoJCf3/dfccUAN/4S3Q/+ggn/AHy3+FH/AAluh/8AQQT/AL5b/CsTxR43sx4Vu7rwtrFpcXcD2xbyHSUokkqgEjnGVJxmuluNa0u0kuUutRtYWtIhNcLJMqmGM9GbJ+UcHk0AVf8AhLdD/wCggn/fLf4U+HxPo1xPHDDfI0kjBEUK3JJwB0qTSvEGk64ZRpN/DdNDjzFRvmQHoSOoBwcHvWjQAUUUUAFFFFABRRRQAUVjnxTpYOM3n/gBP/8AEUf8JVpfref+C+f/AOIoA2KKx/8AhKtL9bz/AMF8/wD8RR/wlWl+t5/4L5//AIigDYorH/4SrS/W8/8ABfP/APEUf8JVpfref+C+f/4igDYorH/4SrS/W8/8F8//AMRR/wAJVpfref8Agvn/APiKAMfxbqPhqe4fS/GHh26vrdVDwzPpEl5C5I5CtGjbWHTBwfTNcfDpWpab4L0CSWw1IWNn4jFzb2zQyTXFtZbmCBkUF+ARxgkAjPSvSP8AhKtL9bz/AMF8/wD8RR/wlWl+t5/4L5//AIigDzrxHbahreg/EuWx0jUsX1lClmslnIj3JERB2IQGPPGMZ9q2LeR/EHjbwvLpml6haJo0Ev225u7CS2VQ0YQQqXUbzu5+XK/L16V1v/CVaX63n/gvn/8AiKp6nrel6lYtbi81azJIImtbOdHUj0PlkfgQRQB53Z6Xe3PhXQdTtptQjttN1q/kuG02BJ5490sqrIsbo4bBPIClsEkVem0iQLZa7p58QaxaW+trfahHqGniGacCExh44FijLbTtbGzJKnGa7LQ9Q8P+HtHh03Tvt/kxZO6SyuGd2YlmZjs5JJJJ960P+Eq0v1vP/BfP/wDEUAcv4y1L/hJPA95NpGl6o4trm1mPm6dNDJMqTKzbI3UO2AD/AA/TNdrpmoxarYpd28VzFG5O1bq3eB8DuUcBh+IFUv8AhKtL9bz/AMF8/wD8RR/wlWl+t5/4L5//AIigDYorH/4SrS/W8/8ABfP/APEUf8JVpfref+C+f/4igDYorH/4SrS/W8/8F8//AMRR/wAJVpfref8Agvn/APiKANiisf8A4SrS/W8/8F8//wARR/wlWl+t5/4L5/8A4igDYorH/wCEq0v1vP8AwXz/APxFH/CVaX63n/gvn/8AiKALOvRvN4b1KKFGkke0lVUUZLEocADua8uPhvxDb+G/Dq6NYzRyato8OkaqCux7VRgiVgeQVUyL65YV6R/wlWl+t5/4L5//AIij/hKtL9bz/wAF8/8A8RQBykFnf6B4q8X3elaNLcxw6TapYwlCqXDRxuPLVsYPYED1rHhn1XX/ABhp+oSW+oT7dFvYppG0SeyjidghEQ8wbmJIOOSDjivQ/wDhKtL9bz/wXz//ABFH/CVaX63n/gvn/wDiKAOCm8MXdn+ztYaNpFhNbX/2e1JiW2LSJL5iFmZMZJByTn05qe38PnR9J8Q+G/EVtqmqW97/AKb/AGxZ2xe4udzDIYqD+8QgEDHKgYBwRXbf8JVpfref+C+f/wCIo/4SrS/W8/8ABfP/APEUAYPgTUNZudR1G2vLnUNR0qGOM2t/qWmtZTs53boyhRN4ACndtHXHNdtWP/wlWl+t5/4L5/8A4inweJNNuLiOGI3W+Rgq7rKZRk+pKYH40AatFFFABRRRQAUUUUAFFFFABRRRQAUUUUAFFFFABXnPi3xlrOgfFTRrKKSM6C9sH1BCg3Jvl8tHBxnAZlzzjFejVwev+HZNd+ItxBc2032C68PSWrXAjOxXMoIG7puHXHXigCv8WvGGr+G9MtYPDMscd+7faJ3dA/l26sFY4IIyWdQPxrrdQ8UaJozxxavqtraTPGJNksgUhem4jsue54rzO80TxLqvgHxBqOvaZP8A2zJDb6fBbRKZGaOF1LOqjP32LNx2A9K6LxZrWrJqN9owsruGyk08CKW20ea8a8dlYFN6ZSLHTDjnOcigDe1nxzomh63p2m31/axtfK773uEURqFyGOT0boDWa/jmy0vxzq9prus2dnpkNnazW3nyIgJffuIbqRhR9Kw4Fu9F034d32oadqLpZWjw3SQWUs0sLNAANyIpYcjHTjvWja6bcXPxO8UahLp1wLa60K1ihllgIDn96WjBI5IyuV+lAHewzR3EKTQSLLFIoZHRsqwPQgjqKfXMfDa1ubL4YeHLa/glt7mHToUlimQq6MEGQwPIPsa6egAooooAKKKKACiiigAooooAKKKKAOb8YeILrRv7JstMEQvtYvls4JZ1LRxfKzs5UEE4VDgZGTiqNjrGvT63rPhdr6y/tWyhhura+ezZo3hkLD54hIPmBRhww7Gr3jex0+70WGXUZr+1a0uUnt7vT7dppbeQdG2qrZHJByCMHmsDwNo10fF2veK7qTUJ47qCK0tpdQiEUs6x7mZxGFXYpLYUbQTtz3yQC/oepeKpvG8+l3upaRqFjZQ7r2S106S3aOVhlIwTM4Jx8x44GPWu0rkfhpZXVv4PF3qkM0OoaldT3lys6FXDPIcAggEYUKPoK66gAooooAKKKKACiiigAooooAKKKKACiiigAorjPFWp6hfeMNJ8IaTeS6f9rgkvL68hA8xIEIXYhOQrMzYzjIAOOea2dI8MwaJevPa6jq06PHsaC91GW5TOQdw8xmIPHY456UAbVFZ2u6/pvhvThfazOYLcypCGEbOS7naowoJ5Jx0rJHxD8PC31SWee5tTpMInuorq0lhkWI9JAjqCV9xQB09Fc6njvQpNLTUI5rl7eaYQWxFpLuu3IyPKXbmQYz8ygjgnOBUsPjHRpdMvr6WeS1TTzi7iuYHjlhPYFCMnPbAOe2aAN2iuatvHmj3V1cW0cWpJNaxmW4WXTp4/JXaWBYsoAyAcc807TfHei6xpMmp6Ub28s4whEsFjM4kLdFTC/OR325x3xQB0dFc9/wAJxoq6Rqmo3Ek9tHpIzfRTwMkkAxkEqRkgjkEZBqqvxJ8PPdraq2ofaZYvOt4f7Nn33Kf3ohsy4Hcjp16UAdXRXNv4/wDDsfhmDX2vHGnzXAtQ/kPuWUsV2MmNwIYEEYzmqx+Jnh4NdxEal9ps133Fr/Zdx50SYz5hTZkLj+Lp260AdbRWANV0vUdZ0K4tdYucXtvJNaW8P+pu02gln+XsCCOR171Tt/iV4buZokjnuvLluzZC4NlKIVnDFfLMm3aCSMdfT1oA6uiuc1bx3oWi3k9vey3TG2ZFuHt7KaZIWf7isyKQCcjj3GcZrcsrtb6yjuY4polkGQk8TRuPqrAEfjQBPRRRQAUUUUAFFFFABRXJfELxU/hnSbJLabyLrU71LOGbyTKYt2SzBACWYKpwuDk4qPQpotYs9T03T/EWuwX8DoJzeQxrcW5PIZVki27WHsR6YoA7GiuE8Nx6zL45vIo/FOpanpWlr5NyLyG2Cy3DAHapjiQjYOTyeWA7Gu7oAKKKKACiiigAooooAKKKKACiiigAooooA5HxVoOo/wDCR6X4q8Owx3OoadHJbzWkknl/areTBZVY8KwKgjPHUHGc1qaRrOqaneFLrw1e6TbqhJlvZ4CzNxgKsTvkdeSR9DW1RQBwXxhd4/B1i8UZlkXWtPKxggbz9oTAyeBmsjxP4c8QeM312/bQptODaM2m2lpc3EJlumdwzMxR2RVGMDLZ5PSvSdR0uy1e3SDUrZLiKOVJkV+gdDuVvqCAat0Ach4i0fUYrnw7q2j2IvX0ZmElgkio0kbx7D5ZYhdy8YyQCM81yHizTtRuLPxD4g1PT59Ol1ZbLTrDTTJG87MkpYMSpaMSEsduWKjaNx6ivXqrahp1nqtk9nqVtFdW8mN0cqhgccg/UHnPagDzzTprhb7VbLWdM1iDXtesXjgmvhaiOYRxkCNfIkYKRuJ+bGcnnsNU6f4h0P4XaNp3h+0eO+tYbeK5gtmh81EAAkEZkPl7/TPHWuh03wxpGk3n2uztP9K2bBPPK80ir/dDOSQvA4BxxWtQB5Hf+FPEeq6B48C6VfJNrOnww2Ud/dQNNK6owIYo5ReSO+K619Cv2+Ivh3VPswNnY6Rc200u9f3cjtDtXGcnIRuQMce9dfRQB5Zb+DddTwbDYvYf6Qvix9RMfnR8W5umkD53Y+6QcdfbNdIdBvv+Ey8UagLUeTf6ZBb28u9cyOolyvXIxuHXA5rr6KAPOvCvhbWdNh8ALe2flnR9Klt7796h8mQxoAOD83IPK5FUIPBmup8M49KawxfL4kF8YvOj/wBT9v8AN353Y/1fOM57YzxXqlFAHj13Fd3/AIi8UtbaTq+oaHNqKNdjTPsoWZ4UQMCZpFfOUAbaCCAMEHNeqaNqtrrmi2mqaczNa3cSyxFl2nB9R2NUbzwdoN/eTXNxYDzLg5n8qV41nOMfvFUgPwMfMDWvBBFa28cFtEkMMahEjjUKqqOgAHQUASUUUUAFFFFABRRRQBy3jjRbvUY9H1LTbb7ZdaLqCXq228KZl2sjKpJA3bXJGSBkdRVfQNP1G68a6v4ou9Pl06O4s4bO2tZ2TzX8suxd9hIGS+AMk8E8ZrsaKAOX+HmjXmieDYYdWhMOo3E011dqXDnzJJGY5IJB4I711FFFABRRRQAUUUUAFFFFABRRRQAUUUUAFFFFABRRRQAUUUUAebeKjorfGLTIvEiWstodFmZY7pA6lxKvOCDzgnmsu5Dx6D47fQkuYfDH9lH7IsquqC4CP5hhD8hMbOny5zjvXbXXhq8n+KWn+JUkgFna6XNZvGWPmF3kRgQMYxhT3z7Vo+KtKn1zwjqul2jRpPeWkkMbSkhQzKQMkAnH4UAYXh3xoJn0rSrnRdQtJLvT/Ps5ZvLK3IRV3AbXJU8ggMBwavReOdNn0HS9ThguW/tO5W0itQq+akpJDKw3YGzaxbBPCnGajTw1dx6z4YvXltxFo9lLBcfMcszRooK8cjKnrisPw9oSy/FTV7y0uUm0ewJnt4l5WO8nUebg+yqD7GU0Ab+ieLX8RqJ7TRbr+y5HkjF4Z4uNhIJZA+4AkcdTzyBVDS/FmlWHhfQ4/D2mX1y2pB/sNh5gaXapJdneRyAo7kseoAz0qjbeCtVbxra6wNK0TRGjkke8u9MuZC+oKykBHi8tVHJDElmIxx60tj4G1jRtO8NXmnPYT6xokE1vJDNK6Q3EUpyyhwpKkEKQdp6EYoA2brxlPaS6fZzaBeR6pqEkiQ2kk8IBEaglvMDkYwRjv7CuhsLia6so5rqzlspWzuglZGZOfVCQfXg1yeuaRr3iDSI4db8N+GdVHmMzWVxdyhYuBtZZTCSW+9k7F6jHTnX8GaLe+H/CtrpupXIuJ4i5+V2dY1LErGrN8zBQQoJ5IFAG7RRRQAUUUUAFFFFABRRRQAUUUUAcn8Q55bbQ7SY3EsNit9EL5LeUxzTQkkbIyCCSWK/Kp3MMgZJxXG3HiifQNC8W6n4dkuo9NgS3gs7W9WQzW9y52s3lSHei4ZCFYDJBIGDmu78YaDe6wulXmlPEbzSb5byKCdykc+FZSjMASOGJBwcEDiufvfAmqeJZde1DWGtdOvNRtYLe1gt5DOsJhcyJI7FV3EsemOAOvNAFjwpcWem+JItLvNN1ay1S6szPFc6heecbxQRvLYdlDgkcY4B44yK7uuRsdG13U/FthrfiSGysxpltJDDBaXDTebJJgM5JRdowuAME88111ABRRRQAUUUUAFFFFABRRRQAU2SRIo2kldURBlmY4Cj1Jp1cF45Uav448K+Gr0MdLvHnurmM/cuTEoKRN6jJ3Y77aAOp0zxPoGtXDwaNrmm6hNHnfHaXccrLj1CkkVqVnXy6ZpFrJq1xbQRiwt3PmrEN0cYGSoPYcDj2Fc5H401W1t9K1PXNJtbTSdVmjhjaO7LzW5l4iMilQpySAdp4J79aAO0orzm8+I+t2+m6xqsPh62n07SNRezl/wBNKzTAOF3IuwjPzDgsM/rW3p3irVD4on0TW9LtrWX7B9vge2umlBXdtKNlFwwOOmRQB1dFebWfxI8QXGj6Fqp8NWjWutzi1gRNQPmLId21mHl4CZU9CSBzjtV24+IV9peheLLjVdJgF94bQSPDb3RaO4Vk3rhygKnsflNAHeUVz0vikx+K9K0b7ID/AGhp01953mf6vyzGNuMc58zrkdOnNc9o/wAQ9YvrHQ9TvNCtYNM1a7+xhkvC00bEsFfZsxtJX+9nv7UAd9HPBcGRIpY5TG2yRVYNtPofQ+1Ms7G0063Fvp9rDawgkiOCMIoJ6nA4rjW8YWWkR6/LZaHCl4msJYJHCyob64dU2u7BePvYJO4gL36Vu21x4pFrdfbdO0k3CoDbeTeybHYnlXJiyoHHIzn0FAG5Uc9xDbR+ZczRwpkDdIwUZPQZNcS/jHVZP+Eh0o2tgdT02xW7SW3vGMTowYddhZXUqeMc8cjtXj1y7X4V6ZqPivSbHUxKLHajzeb5rOyASNujADAkNgZ5HUUAehUVyk/ifV77VNVtvDWmWl1FpDiK4ku7lojLLtDmNAEboCPmPGTjHes5fiHdarqmh2XhrTIbg6xp0t6r3lwYhB5bKrK21WJ5bHA60Ad5Wdq/iDRvD8KS67qtlpsch2o13cJEGPoNxGap+DvEb+KPDqahNai0nWea2nhWTeqyRSNG2GwMjKnBwKwdesdd0b4gHxRpei/8JDazWKWj28c6Rz2m1mYtGHwrBt3IyD8ooA66DWdMubGC9t9RtJbW4YJDOk6skrHgBWBwSfQVamnitoWmuJUiiQZZ5GCqv1JrzLxF4k0O/wDBOj6rZINLs4fEFv8Aa4rmMQNbSLIfMEg6A55J79cmte88YW+r/DrWPEE2iwX2hrEzWsNy4YX8YOCzIVIVSegOTjkgdKAOyN/ZrLJG11AJI4vOdTIMon98jsvB56cVJDNFcQpNbyJLFIoZHRgysD0II6ivPL4hvGviVlUIp8LRkKOgGZeKr6d42k0TR/C+jI2l2ZuNGhnS61a6MEcrYVfKQhTlu55444NAHp1FR27SvaxNcLGkrIC6xvvUHHIDEDI98CpKACiiigBGZV+8QPqaFdW+6wP0NZuvaPomsaeR4k06yv7W3zNtvIFlWMgHLYYHBxnmvMLHw7pCfDbXvE9la2Xh8a1EDAlvB5SLaq/7uMqi5JkHUgE/PgZwBQB69DcwXKsbeaOUKdrFGDYPpxUleb+HPJb4jWbR6J/wijDS3X7C6xq1+u5cMPLJUiP3Icb+VA6+kUAFFFFABRRRQAUUUUAFFFFABWJ4m8Mw+I7W2/0iSyvrGYXFlewgF4JMYzg8EEEgqeoNbdFAHNw6Hr96ktt4n1qxvbGWF4Xt7LTTb+aGXBLM0snr/Dt5rNt/AupSx6Zp+t6/Hf6NpU0c1vbrZeXNKY/9X5sm8hgpwflRckDNdtRQBx7+At/hnWtI/tLH9q6g975vkf6rc6vtxu5+7jOR16VpzeGvN8Y/279rx/xLWsPI8v1fdv3Z/DGPxrdooA5Cx8B/YvDnhrSv7R3/ANhXSXPm+Rjz9u/5cbvl+/1yelN1bwAmrQeLoZNRaNfEkKRHbDzb7Y9mevzevauxooA5Cx8H6oPFWn65q+s21w9jp0tilvbWJhUhyh35aRjn9309x0xyWXgP7H4X0LR/7S3/ANkXqXfneRjzdrM23G75fvdcnp0rr6oT65p1rrdtpFxciO+u0aSCJlYeaF+9hsYJHpnNAHP3XgCK7t9XV9QdJr7U01O2njiAa0lRUC9Sd4ynPTIJHvTdU8KeItf8P3ena14jtGeby/L+yaaY4htcMRIjSsXVsbWXcoIJrpNR1iw0qS0jv7gRSXkwgt0ClmlcjOAACegJJ6Adau0AcXo3gOey1LUrzUL+xf7fpy2H2fT9O+yxRKC53KPMc87/AF7U2HwNqkvgmDw9quu286Wr232eaGwMe1IXVgGBkbczbQMggD0rtqKAOSu/COrW+r6ld+Gdch02LVmD3kVxZG42yBQpkiIkXaxUD7wYZGcUaX4BtdG1/Rb7T7plt9I0yWwSB03NL5joxkL565Q5GOc9q62igDF8KeHf+EY0iax+1favNvbm73+Xsx5srSbcZPTdjPfGeKi1Ww8TtqTXOga3Yw27oFa0v7BplRh/ErJIhGeMg5/Ct+igDiT8OIp/D8Nhf363c7asmq3s0lsNtzIG3FQmcKvAA5OAO9TXvgITaV4h0ux1EWmna0pZbfyNwtZm++6/MOG67eOcnPNdhRQBzc3hLzdZ1K/+24+3aUunbPK+5tL/AD5zz9/px061SvPB+sN4ctNEstX01rGGxS0lj1DSTcByq7fMXEq7SR2O4cV2NFAFDQ9KTQ9AsdKhlkmSygSBZJTlnCjGT78VfoooAKKKKAM3xHpUuueGdR0q3uvskl5bPAtxs3eWWUjdjIz16ZFUdU8JW+qeB08OPO0KRwxJFOijKPHgq2DweVBxWxfX9ppllJd6jcxWttGMvLM4VV+pNQWOu6VqVhLe2OoW81tCSJZBIMREDJDZ+7gc80AY1h4a1SbxNaa34l1O1u57CB4bWKztWhQF8b3bc7EsQAABgDnrXUVm6T4i0fXWkGj6lbXjRAF1ikBIB6HHoex6GtKgAooooAKKKKACiiigAooooAKKKKACiiigAooooAKKKKACud8a+Fx4n0Ly7eb7LqVnILnT7sDmCdfun6HoR3BNdFQRkEUAeS6Nr19eeG7v4la/axSXlrA1pp1gkhMcLBtjvuxwXk6nsoA9a6d9b13w9ruiW3iC6s7+DWpWth9mtWhaCYRtIMZdtyEKRzyDg57Vp6f4K0mw8Hy+GWEt1p03m+YtwwLMJGLHlQO54x04qrbeCvsVzHfz6tqGt3VjC66dHqTx+XbkrjP7tFLEjjc244zzyaAOZ03xp4i1y+0dLDU9JjOqzXCS2i2bSzWCxZ5b96M8gKSQOWGK0PFPjC98PXkk8Ou6XeeRdQxSaVHbnzEjdlU7nDkq/wA24ZAHbHeuf0TSvEeiabZRaPNrya0GjW4srjT7YWQG75wZ/L3FACduJWbgdeldZc/DW1ukvLc65q8Wn3d59tksImhEYl3hyQxiL4LDoWxQB2lFFFABRRRQAUUUUAFFFFABRRRQAUUUUAcZ8Rbe5x4f1FIJ7my03VY7m9ggiMrGPayhtg5bazK3AJ4rg9flvPE3ibxrDoFlePavpthO8DwNE10UlYvhHAJLRqV5HO0diK9j1SyuL+y8qz1K402XcGE9ukbNx2IdWBB+mfes3TvCqaZZagINSvG1HUW33Gpv5ZmLAYUgbdgCjgLtwPTkmgDkU1+DVvjH4bbR7S8iifS7pZ3uLWS3ygMZC7XUFtrY5xgE4z1r0ysLR/DCadqs2q32oXWq6nNEIftNyEXy4wc7EVFVVGeTxknqeBW7QAUUUUAFFFFABRRRQAUUUUAY/wDYE/8A0HtV/wC+4v8A43R/YE//AEH9W/77i/8AjdFFAB/YE/8A0H9W/wC+4v8A43R/YE//AEH9W/77i/8AjdFFAB/YE/8A0H9W/wC+4v8A43R/YE//AEH9W/77i/8AjdFFAB/YE/8A0H9W/wC+4v8A43R/YE//AEH9W/77i/8AjdFFAB/YE/8A0H9W/wC+4v8A43R/YE//AEH9W/77i/8AjdFFAB/YE/8A0H9W/wC+4v8A43R/YE//AEH9W/77i/8AjdFFAB/YE/8A0H9W/wC+4v8A43R/YE//AEH9W/77i/8AjdFFAB/YE/8A0H9W/wC+4v8A43R/YE//AEH9W/77i/8AjdFFAB/YE/8A0H9W/wC+4v8A43R/YE//AEH9W/77i/8AjdFFAB/YE/8A0H9W/wC+4v8A43R/YE//AEH9W/77i/8AjdFFAB/YE/8A0H9W/wC+4v8A43R/YE//AEH9W/77i/8AjdFFAB/YE/8A0H9W/wC+4v8A43R/YE//AEH9W/77i/8AjdFFAB/YE/8A0H9W/wC+4v8A43R/YE//AEH9W/77i/8AjdFFAB/YE/8A0H9W/wC+4v8A43R/YE//AEH9W/77i/8AjdFFAB/YE/8A0H9W/wC+4v8A43R/YE//AEH9W/77i/8AjdFFAB/YE/8A0H9W/wC+4v8A43T4dEmhnjkbW9TlCMGKSPHtbHY4QHFFFAGrRRRQAUUUUAf/2Q==)\n",
        "\n"
      ]
    },
    {
      "cell_type": "code",
      "metadata": {
        "colab": {
          "base_uri": "https://localhost:8080/"
        },
        "id": "Bqbfxd4Qwe9U",
        "outputId": "caec0f80-22a9-442a-da0c-7181545c4d26"
      },
      "source": [
        "# Solution to Problem number 4\n",
        "import numpy as np\n",
        "# First we create a dictionary. Each dictionary item as a associated attribute of type either int, float, str or complex\n",
        "x={'Math':97,'C programming':71, 'Physics':49, 'Comm Skills':82, 'Yoga':75}\n",
        "# Now we want to access the marks of the students using .values() command. \n",
        "x.values()\n",
        "# To get average marks, we need to assign these values to an array. \n",
        "x=list(x.values())\n",
        "x=np.asarray(x)\n",
        "mean_marks=np.mean(x) #overall avg\n",
        "\n",
        "\n",
        "if (x[0]+x[2])/2 > 0.75*mean_marks:\n",
        "   print('Secured grade is A+')\n",
        "elif (x[0]+x[4])/2 >0.95*mean_marks:\n",
        "   print(\"Secured grade is A-\")\n",
        "elif (x[0]+x[1])/2 > 0.7*mean_marks:\n",
        "   print(\"Secured grade is B+\")\n",
        "else:       \n",
        "   print(\"Secured grade is B-\") \n"
      ],
      "execution_count": null,
      "outputs": [
        {
          "output_type": "stream",
          "text": [
            "Secured grade is A+\n"
          ],
          "name": "stdout"
        }
      ]
    },
    {
      "cell_type": "code",
      "metadata": {
        "colab": {
          "base_uri": "https://localhost:8080/"
        },
        "id": "9gFLWJ9A37OW",
        "outputId": "f64cf05f-ad61-4931-8694-fbcaad1c89e8"
      },
      "source": [
        "x='BAYERN Munchen'\n",
        "\n",
        "for i in range(len(x)):\n",
        "    if x[i].islower():\n",
        "       print(\"The character at position \",i, \"is in lowercase\")\n",
        "    elif x[i]==' ':\n",
        "       print(\"The character at position \",i, \"is a space\")   \n",
        "    else:\n",
        "       print(\"The character at position\",i, \"is in uppercase\")   "
      ],
      "execution_count": null,
      "outputs": [
        {
          "output_type": "stream",
          "text": [
            "The character at position 0 is in uppercase\n",
            "The character at position 1 is in uppercase\n",
            "The character at position 2 is in uppercase\n",
            "The character at position 3 is in uppercase\n",
            "The character at position 4 is in uppercase\n",
            "The character at position 5 is in uppercase\n",
            "The character at position  6 is a space\n",
            "The character at position 7 is in uppercase\n",
            "The character at position  8 is in lowercase\n",
            "The character at position  9 is in lowercase\n",
            "The character at position  10 is in lowercase\n",
            "The character at position  11 is in lowercase\n",
            "The character at position  12 is in lowercase\n",
            "The character at position  13 is in lowercase\n"
          ],
          "name": "stdout"
        }
      ]
    },
    {
      "cell_type": "code",
      "metadata": {
        "colab": {
          "base_uri": "https://localhost:8080/"
        },
        "id": "TxWdvSDCB1WP",
        "outputId": "77a6c81c-d563-402b-f5a3-5d54d05d4892"
      },
      "source": [
        "w=\"Stallion_241_mspr\"\n",
        "count=0\n",
        "for i in w:\n",
        "    if i.isnumeric==True:\n",
        "       count+=len(w)\n",
        "    else:\n",
        "       count+=len(w)/2\n",
        "print(round(count,1))          "
      ],
      "execution_count": null,
      "outputs": [
        {
          "output_type": "stream",
          "name": "stdout",
          "text": [
            "144.5\n"
          ]
        }
      ]
    },
    {
      "cell_type": "code",
      "metadata": {
        "colab": {
          "base_uri": "https://localhost:8080/",
          "height": 35
        },
        "id": "wFzhQZYQFViz",
        "outputId": "b200bbe8-72ec-4e53-9370-9a6326b0afa3"
      },
      "source": [
        "x='abc'\n",
        "y=str(34)\n",
        "x+y\n",
        "\"9909047426\""
      ],
      "execution_count": null,
      "outputs": [
        {
          "output_type": "execute_result",
          "data": {
            "application/vnd.google.colaboratory.intrinsic+json": {
              "type": "string"
            },
            "text/plain": [
              "'abc34'"
            ]
          },
          "metadata": {},
          "execution_count": 42
        }
      ]
    },
    {
      "cell_type": "code",
      "metadata": {
        "colab": {
          "base_uri": "https://localhost:8080/"
        },
        "id": "2Lv9Ckew-gZi",
        "outputId": "688f6417-b959-426e-f5b1-26474c92a1fa"
      },
      "source": [
        "x=3\n",
        "y=9\n",
        "\n",
        "if x%y==0:\n",
        "   print(\"x is divisible by y\")\n",
        "else: \n",
        "   print(\"false\")     "
      ],
      "execution_count": null,
      "outputs": [
        {
          "output_type": "stream",
          "text": [
            "false\n"
          ],
          "name": "stdout"
        }
      ]
    },
    {
      "cell_type": "code",
      "metadata": {
        "colab": {
          "base_uri": "https://localhost:8080/"
        },
        "id": "UQRbXLde_HpA",
        "outputId": "49845b27-d37b-4dac-d024-88fd7e0ce06c"
      },
      "source": [
        "global x\n",
        "x='RB Leipzig 1341'\n",
        "def freestick(x):\n",
        "    for i in range(len(x)):\n",
        "        if x[i].islower() or x[-i+1].isdigit():\n",
        "           y.append(1) \n",
        "        elif x[i].isupper() or x[i].isalpha():\n",
        "           y.append(-1)\n",
        "        else :\n",
        "           y.append(0)  \n",
        "    return y[3]  \n",
        "x='harshdhiman_2209'\n",
        "freestick(x)         \n",
        "      "
      ],
      "execution_count": null,
      "outputs": [
        {
          "output_type": "execute_result",
          "data": {
            "text/plain": [
              "1"
            ]
          },
          "metadata": {},
          "execution_count": 102
        }
      ]
    },
    {
      "cell_type": "markdown",
      "metadata": {
        "id": "4Yz2G51Fhj-b"
      },
      "source": [
        "# Looping in Python"
      ]
    },
    {
      "cell_type": "code",
      "metadata": {
        "colab": {
          "base_uri": "https://localhost:8080/"
        },
        "id": "3KnVYK7ch7J8",
        "outputId": "45ef1ecd-5014-45ec-852e-d6715af2a1d5"
      },
      "source": [
        "#for i in range(5):\n",
        "#    print(i)\n",
        "\n",
        "#for i in range(1,5):  # starts from n and ends at m-1\n",
        "#    print(i)\n",
        "\n",
        "for i in range(-10,10,1): # starts from n and runs till m-1 in step size (always of int type) of 1 and it cannot be fractional   \n",
        "    print(i)\n"
      ],
      "execution_count": null,
      "outputs": [
        {
          "output_type": "stream",
          "text": [
            "-10\n",
            "-8\n",
            "-6\n",
            "-4\n",
            "-2\n",
            "0\n",
            "2\n",
            "4\n",
            "6\n",
            "8\n"
          ],
          "name": "stdout"
        }
      ]
    },
    {
      "cell_type": "code",
      "metadata": {
        "colab": {
          "base_uri": "https://localhost:8080/"
        },
        "id": "WjX124JIikCw",
        "outputId": "5a1db45b-0290-4ddf-a37a-8a0e494fb0f5"
      },
      "source": [
        "import numpy as np\n",
        "x=np.arange(-10,10,1)\n",
        "#for i in x:\n",
        "#    print(i) \n",
        "\n",
        "for i in range(len(x)):\n",
        "    print(i)     "
      ],
      "execution_count": null,
      "outputs": [
        {
          "output_type": "stream",
          "text": [
            "0\n",
            "1\n",
            "2\n",
            "3\n",
            "4\n",
            "5\n",
            "6\n",
            "7\n",
            "8\n",
            "9\n",
            "10\n",
            "11\n",
            "12\n",
            "13\n",
            "14\n",
            "15\n",
            "16\n",
            "17\n",
            "18\n",
            "19\n"
          ],
          "name": "stdout"
        }
      ]
    },
    {
      "cell_type": "code",
      "metadata": {
        "colab": {
          "base_uri": "https://localhost:8080/"
        },
        "id": "6svJkJswjZ2g",
        "outputId": "e910e427-6930-4c02-c53e-5cb40befaf74"
      },
      "source": [
        "# While loop\n",
        "i=1\n",
        "num=12\n",
        "while i<=10:\n",
        "      print(num,\"x\",i,\"=\",i*num)\n",
        "      i=i+1\n",
        "      "
      ],
      "execution_count": null,
      "outputs": [
        {
          "output_type": "stream",
          "text": [
            "12 x 1 = 12\n",
            "12 x 2 = 24\n",
            "12 x 3 = 36\n",
            "12 x 4 = 48\n",
            "12 x 5 = 60\n",
            "12 x 6 = 72\n",
            "12 x 7 = 84\n",
            "12 x 8 = 96\n",
            "12 x 9 = 108\n",
            "12 x 10 = 120\n"
          ],
          "name": "stdout"
        }
      ]
    },
    {
      "cell_type": "markdown",
      "metadata": {
        "id": "XLohawaTk5H0"
      },
      "source": [
        "# Count number of vowels in a user-defined string\n"
      ]
    },
    {
      "cell_type": "code",
      "metadata": {
        "colab": {
          "base_uri": "https://localhost:8080/"
        },
        "id": "kktPwPlLk6aN",
        "outputId": "3333e0b2-4f8a-4683-f175-d20cc11f4e16"
      },
      "source": [
        "v=list(['a','e','i','o','u','A','E','I','O','U'])\n",
        "var=str(input(\"enter your name \"))\n",
        "count=0\n",
        "for i in range(len(var)):\n",
        "     if var[i] in v:      # in is a membership operator \n",
        "        count+=1\n",
        "print(\"Number of vowels are \",count)    \n"
      ],
      "execution_count": null,
      "outputs": [
        {
          "output_type": "stream",
          "text": [
            "enter your name vistara\n",
            "Number of vowels are  3\n"
          ],
          "name": "stdout"
        }
      ]
    },
    {
      "cell_type": "code",
      "metadata": {
        "colab": {
          "base_uri": "https://localhost:8080/"
        },
        "id": "I0eda0rhldgd",
        "outputId": "bd853c5c-15e7-4397-de73-9e012335b1e4"
      },
      "source": [
        "# Approach 2: Using nested for-loop\n",
        "\n",
        "v=list(['a','e','i','o','u','A','E','I','O','U'])\n",
        "var=str(input(\"enter your name \"))\n",
        "count=0\n",
        "\n",
        "for i in range(len(var)):\n",
        "     for j in v:\n",
        "          if var[i]==j:\n",
        "             count+=1\n",
        "print(\"number of vowels in \",var, \"are\",count)              "
      ],
      "execution_count": null,
      "outputs": [
        {
          "output_type": "stream",
          "text": [
            "enter your name apple_dell_sony_vio\n",
            "number of vowels in  apple_dell_sony_vio are 6\n"
          ],
          "name": "stdout"
        }
      ]
    },
    {
      "cell_type": "markdown",
      "metadata": {
        "id": "KDKynohbiuWX"
      },
      "source": [
        "# Accept number from user and calculate the sum of all number between 1 and given number\n",
        "                \n"
      ]
    },
    {
      "cell_type": "code",
      "metadata": {
        "id": "iHWZJDeOiwT0",
        "colab": {
          "base_uri": "https://localhost:8080/"
        },
        "outputId": "0007dd39-e216-46c1-8ad7-7a57b65e8868"
      },
      "source": [
        "sum=0\n",
        "n=int(input(\"Enter the given number \"))\n",
        "for i in range(1,n+1,1):\n",
        "    sum+=i\n",
        "print(\"The sum is\", sum)\n"
      ],
      "execution_count": null,
      "outputs": [
        {
          "output_type": "stream",
          "text": [
            "Enter the given number 100\n",
            "The sum is 5050\n"
          ],
          "name": "stdout"
        }
      ]
    },
    {
      "cell_type": "markdown",
      "metadata": {
        "id": "UjnGIU6xi13i"
      },
      "source": [
        "# Using range(1,101), make two list, one containing all even numbers and other containing all odd numbers."
      ]
    },
    {
      "cell_type": "code",
      "metadata": {
        "id": "aYiumqAYixC4"
      },
      "source": [
        "a=list() ## one for even \n",
        "b=list() ## One for odd numbers\n",
        "for i in range(1,101):\n",
        "    if i%2==0:\n",
        "       a1=i\n",
        "       a.append(a1)\n",
        "    else:\n",
        "       b1=i\n",
        "       b.append(b1)\n",
        "\n",
        "print(a)\n",
        "print(b)"
      ],
      "execution_count": null,
      "outputs": []
    },
    {
      "cell_type": "markdown",
      "metadata": {
        "id": "G0aPEodai8iZ"
      },
      "source": [
        "### From a list containing ints, strings and floats, make three lists to store them separately.\n"
      ]
    },
    {
      "cell_type": "code",
      "metadata": {
        "id": "qUvICGQOjCaI"
      },
      "source": [
        "harsh=list([22,\"Male\",65.7,\"dell\",\"glucose\"])\n",
        "lfc=list() # for string\n",
        "tot=list() # for integer\n",
        "mun=list()  # for float\n",
        "\n",
        "for i in harsh:\n",
        "    if type(i)==str:\n",
        "       lfc.append(i)\n",
        "    elif type(i)==int:\n",
        "       tot.append(i)\n",
        "    else:\n",
        "       mun.append(i)   \n",
        "print(lfc,tot,mun)\n"
      ],
      "execution_count": null,
      "outputs": []
    },
    {
      "cell_type": "markdown",
      "metadata": {
        "id": "u1jZi3VnjFgN"
      },
      "source": [
        "# Plot wind turbine power curve for Siemens SG 2.1-114"
      ]
    },
    {
      "cell_type": "code",
      "metadata": {
        "id": "XM0m3B39jIht",
        "colab": {
          "base_uri": "https://localhost:8080/",
          "height": 494
        },
        "outputId": "cc6d8edc-09ce-4527-abcd-8b3185797e5e"
      },
      "source": [
        "import math\n",
        "import numpy as np\n",
        "P_r=np.array(float(input(\"Enter rated power\")))  ##rated power in MW\n",
        "dia=np.array(int(input(\"Enter diameter in meters\"))) ## Rotor diameter in meters\n",
        "Cp=0.24 ## Power coefficient\n",
        "\n",
        "v_r=np.array(((2*P_r*10**6)/(1.125*Cp*(math.pi/4)*dia**2))**(1/3))\n",
        "print(\"Rated wind speed is \", v_r)\n",
        "\n",
        "v_cin= np.array(float(input(\"enter cut-in wind speed\"))) ## Cut-in speed\n",
        "v_coff=np.array(float(input(\"enter cut-off wind speed\"))) ## Cut-off speed\n",
        "P=list()  ### To create a list for wind power\n",
        "v=range(0,26,1) #### Wind speed vector with range command\n",
        "\n",
        "for i in v:     \n",
        "    if i<v_cin:\n",
        "         Pw=0\n",
        "         #print(Pw)\n",
        "         P=np.append(P,Pw) ## Add Pw value to Target array P \n",
        "    elif v_cin <=i <v_r:\n",
        "         Pw=0.5*1.125*(math.pi/4)*dia**2*i**3\n",
        "         #print(Pw)\n",
        "         P=np.append(P,Pw)\n",
        "    elif v_r<= i < v_coff:\n",
        "         i=v_r \n",
        "         Pw=0.5*1.125*(math.pi/4)*dia**2*i**3\n",
        "         #print(Pw)\n",
        "         P=np.append(P,Pw) \n",
        "    else:\n",
        "         Pw=0\n",
        "         #print(Pw)\n",
        "         P=np.append(P,Pw)\n",
        "\n",
        "print(P) \n",
        "\n",
        "import matplotlib.pyplot as plt\n",
        "plt.figure()\n",
        "plt.plot(v,P)\n",
        "plt.xlabel(\"Wind speed (m/sec)\")\n",
        "plt.ylabel(\"Wind power (Watts)\")\n",
        "plt.show()"
      ],
      "execution_count": null,
      "outputs": [
        {
          "output_type": "stream",
          "text": [
            "Enter rated power4\n",
            "Enter diameter in meters130\n",
            "Rated wind speed is  13.069226327166177\n",
            "enter cut-in wind speed2.5\n",
            "enter cut-off wind speed25\n",
            "[       0.                0.                0.           201587.16485152\n",
            "   477836.24261101   933273.91134962  1612697.31881215  2560903.61274337\n",
            "  3822689.94088806  5442853.45099101  7466191.29079699  9937500.6080508\n",
            " 12901578.5504972  16403222.26588099 16666666.66666666 16666666.66666666\n",
            " 16666666.66666666 16666666.66666666 16666666.66666666 16666666.66666666\n",
            " 16666666.66666666 16666666.66666666 16666666.66666666 16666666.66666666\n",
            " 16666666.66666666        0.        ]\n"
          ],
          "name": "stdout"
        },
        {
          "output_type": "display_data",
          "data": {
            "image/png": "[encoded data removed]",
            "text/plain": [
              "<Figure size 432x288 with 1 Axes>"
            ]
          },
          "metadata": {
            "tags": [],
            "needs_background": "light"
          }
        }
      ]
    },
    {
      "cell_type": "code",
      "metadata": {
        "colab": {
          "base_uri": "https://localhost:8080/"
        },
        "id": "HWg-Vg4TayWU",
        "outputId": "484eb2a8-e5bd-4300-ed70-efe1f7dac52f"
      },
      "source": [
        "x=int(input(\"Enter a number\"))\n",
        "if x%5==0:\n",
        "   print(\"Hello\")\n",
        "else: \n",
        "   print(\"bye\")    "
      ],
      "execution_count": null,
      "outputs": [
        {
          "output_type": "stream",
          "text": [
            "Enter a number100\n",
            "Hello\n"
          ],
          "name": "stdout"
        }
      ]
    },
    {
      "cell_type": "code",
      "metadata": {
        "colab": {
          "base_uri": "https://localhost:8080/"
        },
        "id": "JxtE7OzFbS7r",
        "outputId": "b06097c3-3d3e-4f54-beff-d8011b7063e6"
      },
      "source": [
        "cost=float(input(\"Enter the cost of bike in INR\"))\n",
        "if cost>100000:\n",
        "     tax=0.15*cost\n",
        "     final_cost=cost+tax\n",
        "elif cost>50000 or cost<=100000:\n",
        "     tax=0.1*cost\n",
        "     final_cost=cost+tax\n",
        "else: \n",
        "     tax=0.05*cost\n",
        "     final_cost=cost+tax\n",
        "print(\"The overall cost is \",final_cost)             "
      ],
      "execution_count": null,
      "outputs": [
        {
          "output_type": "stream",
          "text": [
            "Enter the cost of bike in INR75000\n",
            "The overall cost is  82500.0\n"
          ],
          "name": "stdout"
        }
      ]
    },
    {
      "cell_type": "code",
      "metadata": {
        "colab": {
          "base_uri": "https://localhost:8080/"
        },
        "id": "L4-OkoPac7I2",
        "outputId": "0da9f63d-05dd-4e14-976f-f62745ba5af8"
      },
      "source": [
        "import numpy as np\n",
        "x=np.array([28.78, 34.71, 32.95, 45.04, 29.22])\n",
        "SD=np.std(x)\n",
        "\n",
        "temp_F=float(input(\"Enter the temp in F \"))\n",
        "temp_K=temp_F*273.15/32\n",
        "\n",
        "if temp_K>5*SD:\n",
        "   temp_C=(temp_F-32)*(5/9)\n",
        "   print(\"Condition satisfied\")\n",
        "\n",
        "print(\"The temp in deg cel is\",round(temp_C,4))        "
      ],
      "execution_count": null,
      "outputs": [
        {
          "output_type": "stream",
          "text": [
            "Enter the temp in F 98.5\n",
            "Condition satisfied\n",
            "The temp in deg cel is 36.9444\n"
          ],
          "name": "stdout"
        }
      ]
    },
    {
      "cell_type": "code",
      "metadata": {
        "colab": {
          "base_uri": "https://localhost:8080/"
        },
        "id": "IwBj74W3SklO",
        "outputId": "dd6fc509-ff57-4deb-970c-7ce2b2b526d6"
      },
      "source": [
        "u=\"Kylian Mbappe\"\n",
        "u[-1]!=u[len(u)-1]"
      ],
      "execution_count": null,
      "outputs": [
        {
          "output_type": "execute_result",
          "data": {
            "text/plain": [
              "False"
            ]
          },
          "metadata": {
            "tags": []
          },
          "execution_count": 1
        }
      ]
    },
    {
      "cell_type": "code",
      "metadata": {
        "colab": {
          "base_uri": "https://localhost:8080/"
        },
        "id": "haTrwN0LfuRs",
        "outputId": "485219fb-50de-4470-a8a8-ac4bd0dcf927"
      },
      "source": [
        "x=np.random.rand(10,10)\n",
        "print(np.round(x,3))"
      ],
      "execution_count": null,
      "outputs": [
        {
          "output_type": "stream",
          "text": [
            "[[0.454 0.423 0.966 0.152 0.52  0.696 0.256 0.524 0.018 0.047]\n",
            " [0.071 0.101 0.544 0.836 0.394 0.515 0.986 0.666 0.093 0.027]\n",
            " [0.516 0.166 0.518 0.235 0.794 0.648 0.638 0.063 0.239 0.588]\n",
            " [0.544 0.438 0.813 0.327 0.368 0.108 0.099 0.217 0.906 0.642]\n",
            " [0.643 0.622 0.663 0.701 0.571 0.546 0.123 0.541 0.622 0.821]\n",
            " [0.455 0.055 0.166 0.4   0.752 0.151 0.615 0.858 0.255 0.11 ]\n",
            " [0.037 0.108 0.025 0.678 0.741 0.591 0.752 0.359 0.539 0.686]\n",
            " [0.289 0.639 0.079 0.634 0.213 0.822 0.927 0.926 0.112 0.256]\n",
            " [0.723 0.425 0.672 0.753 0.291 0.585 0.365 0.411 0.729 0.655]\n",
            " [0.45  0.064 0.483 0.728 0.777 0.482 0.528 0.925 0.971 0.017]]\n"
          ],
          "name": "stdout"
        }
      ]
    },
    {
      "cell_type": "code",
      "metadata": {
        "colab": {
          "base_uri": "https://localhost:8080/"
        },
        "id": "-Kh7BPznSafa",
        "outputId": "1d91fdb2-34da-474c-f621-0ff12e14e5df"
      },
      "source": [
        "k=\"Joshua Kimmich\"\n",
        "for i in range(len(k)):\n",
        "\n",
        "  if i%2==0 :\n",
        "\n",
        "    a=k[i].upper()\n",
        "\n",
        "    print(a)\n",
        "\n",
        "  elif i%2==1 :\n",
        "\n",
        "    print(k[i])\n",
        "                       "
      ],
      "execution_count": null,
      "outputs": [
        {
          "output_type": "stream",
          "text": [
            "J\n",
            "o\n",
            "S\n",
            "h\n",
            "U\n",
            "a\n",
            " \n",
            "K\n",
            "I\n",
            "m\n",
            "M\n",
            "i\n",
            "C\n",
            "h\n"
          ],
          "name": "stdout"
        }
      ]
    },
    {
      "cell_type": "code",
      "metadata": {
        "colab": {
          "base_uri": "https://localhost:8080/"
        },
        "id": "rpeDO_MhUj4o",
        "outputId": "bcabd5f6-ed5a-4310-81ed-cb56718a8b6a"
      },
      "source": [
        "k=\"Joshua Kimmich\"\n",
        "a=\" \"\n",
        "for i in range(len(k)):\n",
        "      if i%2==0 :\n",
        "         a=a+k[i].upper()\n",
        "      elif i%2==1:\n",
        "         a=a+k[i]\n",
        "print(\"Converted String is: \",a)"
      ],
      "execution_count": null,
      "outputs": [
        {
          "output_type": "stream",
          "text": [
            "Converted String is:   JoShUa KImMiCh\n"
          ],
          "name": "stdout"
        }
      ]
    },
    {
      "cell_type": "code",
      "metadata": {
        "colab": {
          "base_uri": "https://localhost:8080/",
          "height": 52
        },
        "id": "sQL3jchHVLTh",
        "outputId": "fb6c4b02-1edf-4a4a-d4ff-2bcb070aac5e"
      },
      "source": [
        "k=\"Symphony air cooler\"\n",
        "v=['a','e','i','o','u','A','E','I','O','U'] #list of vowels\n",
        "p=list()\n",
        "\n",
        "for i in range(len(k)):\n",
        "     if i%2!=0:\n",
        "        if k[i] in v:\n",
        "           p.append(i**2)  \n",
        "print(\"The generated list is\", p)\n",
        "\n",
        "k[5]    "
      ],
      "execution_count": null,
      "outputs": [
        {
          "output_type": "stream",
          "text": [
            "The generated list is [25, 81, 225, 289]\n"
          ],
          "name": "stdout"
        },
        {
          "output_type": "execute_result",
          "data": {
            "application/vnd.google.colaboratory.intrinsic+json": {
              "type": "string"
            },
            "text/plain": [
              "'o'"
            ]
          },
          "metadata": {
            "tags": []
          },
          "execution_count": 2
        }
      ]
    },
    {
      "cell_type": "markdown",
      "metadata": {
        "id": "VPP4UMHPjCoO"
      },
      "source": [
        "#Example: Application of Nested For-loop \n",
        "\n",
        "1. Normalize a 2-D array between 0 and 1\n",
        "2. Standardize data as per mean and std\n",
        "\n",
        "\n",
        "\n",
        "\n",
        "\n",
        "\n"
      ]
    },
    {
      "cell_type": "code",
      "metadata": {
        "colab": {
          "base_uri": "https://localhost:8080/",
          "height": 1000
        },
        "id": "_9VTAGfwjLKh",
        "outputId": "9908200e-a1ba-46b9-af30-be3957979395"
      },
      "source": [
        "import numpy as np\n",
        "import random\n",
        "\n",
        "np.random.seed(0)\n",
        "x=np.random.randint(100,size=(100,2)) \n",
        "print(x)\n",
        "\n",
        "x_new=[]\n",
        "for j in range(x.shape[1]):\n",
        "    for i in range(x.shape[0]):\n",
        "        x_new.append((x[j]-np.min(x[:,i]))/(np.max(x[:,i])-np.min(x[:,i])))\n",
        "\n",
        "print(np.array(x_new))"
      ],
      "execution_count": null,
      "outputs": [
        {
          "output_type": "stream",
          "name": "stdout",
          "text": [
            "[[44 47]\n",
            " [64 67]\n",
            " [67  9]\n",
            " [83 21]\n",
            " [36 87]\n",
            " [70 88]\n",
            " [88 12]\n",
            " [58 65]\n",
            " [39 87]\n",
            " [46 88]\n",
            " [81 37]\n",
            " [25 77]\n",
            " [72  9]\n",
            " [20 80]\n",
            " [69 79]\n",
            " [47 64]\n",
            " [82 99]\n",
            " [88 49]\n",
            " [29 19]\n",
            " [19 14]\n",
            " [39 32]\n",
            " [65  9]\n",
            " [57 32]\n",
            " [31 74]\n",
            " [23 35]\n",
            " [75 55]\n",
            " [28 34]\n",
            " [ 0  0]\n",
            " [36 53]\n",
            " [ 5 38]\n",
            " [17 79]\n",
            " [ 4 42]\n",
            " [58 31]\n",
            " [ 1 65]\n",
            " [41 57]\n",
            " [35 11]\n",
            " [46 82]\n",
            " [91  0]\n",
            " [14 99]\n",
            " [53 12]\n",
            " [42 84]\n",
            " [75 68]\n",
            " [ 6 68]\n",
            " [47  3]\n",
            " [76 52]\n",
            " [78 15]\n",
            " [20 99]\n",
            " [58 23]\n",
            " [79 13]\n",
            " [85 48]\n",
            " [49 69]\n",
            " [41 35]\n",
            " [64 95]\n",
            " [69 94]\n",
            " [ 0 50]\n",
            " [36 34]\n",
            " [48 93]\n",
            " [ 3 98]\n",
            " [42 77]\n",
            " [21 73]\n",
            " [ 0 10]\n",
            " [43 58]\n",
            " [23 59]\n",
            " [ 2 98]\n",
            " [62 35]\n",
            " [94 67]\n",
            " [82 46]\n",
            " [99 20]\n",
            " [81 50]\n",
            " [27 14]\n",
            " [41 58]\n",
            " [65 36]\n",
            " [10 86]\n",
            " [43 11]\n",
            " [ 2 51]\n",
            " [80 32]\n",
            " [54  0]\n",
            " [38 19]\n",
            " [46 42]\n",
            " [56 60]\n",
            " [77 30]\n",
            " [24  2]\n",
            " [ 3 94]\n",
            " [98 13]\n",
            " [40 72]\n",
            " [19 95]\n",
            " [72 26]\n",
            " [66 52]\n",
            " [67 61]\n",
            " [14 96]\n",
            " [ 4 67]\n",
            " [11 86]\n",
            " [77 75]\n",
            " [56 16]\n",
            " [24 29]\n",
            " [21 25]\n",
            " [80 60]\n",
            " [61 83]\n",
            " [33 32]\n",
            " [70 85]]\n"
          ]
        },
        {
          "output_type": "error",
          "ename": "IndexError",
          "evalue": "ignored",
          "traceback": [
            "\u001b[0;31m---------------------------------------------------------------------------\u001b[0m",
            "\u001b[0;31mIndexError\u001b[0m                                Traceback (most recent call last)",
            "\u001b[0;32m<ipython-input-26-431b33af109a>\u001b[0m in \u001b[0;36m<module>\u001b[0;34m()\u001b[0m\n\u001b[1;32m      9\u001b[0m \u001b[0;32mfor\u001b[0m \u001b[0mj\u001b[0m \u001b[0;32min\u001b[0m \u001b[0mrange\u001b[0m\u001b[0;34m(\u001b[0m\u001b[0mx\u001b[0m\u001b[0;34m.\u001b[0m\u001b[0mshape\u001b[0m\u001b[0;34m[\u001b[0m\u001b[0;36m1\u001b[0m\u001b[0;34m]\u001b[0m\u001b[0;34m)\u001b[0m\u001b[0;34m:\u001b[0m\u001b[0;34m\u001b[0m\u001b[0;34m\u001b[0m\u001b[0m\n\u001b[1;32m     10\u001b[0m     \u001b[0;32mfor\u001b[0m \u001b[0mi\u001b[0m \u001b[0;32min\u001b[0m \u001b[0mrange\u001b[0m\u001b[0;34m(\u001b[0m\u001b[0mx\u001b[0m\u001b[0;34m.\u001b[0m\u001b[0mshape\u001b[0m\u001b[0;34m[\u001b[0m\u001b[0;36m0\u001b[0m\u001b[0;34m]\u001b[0m\u001b[0;34m)\u001b[0m\u001b[0;34m:\u001b[0m\u001b[0;34m\u001b[0m\u001b[0;34m\u001b[0m\u001b[0m\n\u001b[0;32m---> 11\u001b[0;31m         \u001b[0mx_new\u001b[0m\u001b[0;34m.\u001b[0m\u001b[0mappend\u001b[0m\u001b[0;34m(\u001b[0m\u001b[0;34m(\u001b[0m\u001b[0mx\u001b[0m\u001b[0;34m[\u001b[0m\u001b[0mj\u001b[0m\u001b[0;34m]\u001b[0m\u001b[0;34m-\u001b[0m\u001b[0mnp\u001b[0m\u001b[0;34m.\u001b[0m\u001b[0mmin\u001b[0m\u001b[0;34m(\u001b[0m\u001b[0mx\u001b[0m\u001b[0;34m[\u001b[0m\u001b[0;34m:\u001b[0m\u001b[0;34m,\u001b[0m\u001b[0mi\u001b[0m\u001b[0;34m]\u001b[0m\u001b[0;34m)\u001b[0m\u001b[0;34m)\u001b[0m\u001b[0;34m/\u001b[0m\u001b[0;34m(\u001b[0m\u001b[0mnp\u001b[0m\u001b[0;34m.\u001b[0m\u001b[0mmax\u001b[0m\u001b[0;34m(\u001b[0m\u001b[0mx\u001b[0m\u001b[0;34m[\u001b[0m\u001b[0;34m:\u001b[0m\u001b[0;34m,\u001b[0m\u001b[0mi\u001b[0m\u001b[0;34m]\u001b[0m\u001b[0;34m)\u001b[0m\u001b[0;34m-\u001b[0m\u001b[0mnp\u001b[0m\u001b[0;34m.\u001b[0m\u001b[0mmin\u001b[0m\u001b[0;34m(\u001b[0m\u001b[0mx\u001b[0m\u001b[0;34m[\u001b[0m\u001b[0;34m:\u001b[0m\u001b[0;34m,\u001b[0m\u001b[0mi\u001b[0m\u001b[0;34m]\u001b[0m\u001b[0;34m)\u001b[0m\u001b[0;34m)\u001b[0m\u001b[0;34m)\u001b[0m\u001b[0;34m\u001b[0m\u001b[0;34m\u001b[0m\u001b[0m\n\u001b[0m\u001b[1;32m     12\u001b[0m \u001b[0;34m\u001b[0m\u001b[0m\n\u001b[1;32m     13\u001b[0m \u001b[0mprint\u001b[0m\u001b[0;34m(\u001b[0m\u001b[0mnp\u001b[0m\u001b[0;34m.\u001b[0m\u001b[0marray\u001b[0m\u001b[0;34m(\u001b[0m\u001b[0mx_new\u001b[0m\u001b[0;34m)\u001b[0m\u001b[0;34m)\u001b[0m\u001b[0;34m\u001b[0m\u001b[0;34m\u001b[0m\u001b[0m\n",
            "\u001b[0;31mIndexError\u001b[0m: index 2 is out of bounds for axis 1 with size 2"
          ]
        }
      ]
    },
    {
      "cell_type": "code",
      "metadata": {
        "id": "W0AAP_mp9aDr"
      },
      "source": [
        "import numpy as np\n",
        "import random\n",
        "\n",
        "np.random.seed(0)\n",
        "x=np.random.randint(100,size=(100,2)) \n",
        "print(x)\n",
        "\n",
        "x_new=[]\n",
        "for j in range(x.shape[1]):\n",
        "    for i in range(x.shape[0]):\n",
        "        x_new.append((x[j]-np.min(x[:,i]))/(np.max(x[:,i])-np.min(x[:,i])))\n",
        "\n",
        "print(np.array(x_new))"
      ],
      "execution_count": null,
      "outputs": []
    },
    {
      "cell_type": "markdown",
      "metadata": {
        "id": "xdKDDLG5YRGn"
      },
      "source": [
        "# Chapter-3 Functions & Modules"
      ]
    },
    {
      "cell_type": "code",
      "metadata": {
        "colab": {
          "base_uri": "https://localhost:8080/",
          "height": 129
        },
        "id": "JuHweGuQYQp8",
        "outputId": "73629e34-7525-401f-d398-6c2dfa0581d3"
      },
      "source": [
        "# Define a function using keyword \"def\", then the name of the function for example \"add\" and end it with :\n",
        "# Noteworthy points: \n",
        "#                   (a) Include : after function definition\n",
        "#                   (b) Use a return statement            \n",
        "def add(x,y):\n",
        "    return x+y\n",
        "add(1,-8)    "
      ],
      "execution_count": null,
      "outputs": [
        {
          "output_type": "error",
          "ename": "IndentationError",
          "evalue": "ignored",
          "traceback": [
            "\u001b[0;36m  File \u001b[0;32m\"<ipython-input-3-6854ca264649>\"\u001b[0;36m, line \u001b[0;32m6\u001b[0m\n\u001b[0;31m    return x+y\u001b[0m\n\u001b[0m         ^\u001b[0m\n\u001b[0;31mIndentationError\u001b[0m\u001b[0;31m:\u001b[0m expected an indented block\n"
          ]
        }
      ]
    },
    {
      "cell_type": "code",
      "metadata": {
        "id": "OKF5XaZAjNLS"
      },
      "source": [
        "import numpy as np\n",
        "err=list()\n",
        "def MAE(x,y):\n",
        "    for i in range(len(x)):\n",
        "        err.append(abs(x[i]-y[i]))\n",
        "    sum=0\n",
        "    for i in range(len(x)):\n",
        "         sum+=err[i]     \n",
        "    return sum/5     "
      ],
      "execution_count": null,
      "outputs": []
    },
    {
      "cell_type": "code",
      "metadata": {
        "colab": {
          "base_uri": "https://localhost:8080/"
        },
        "id": "n16o_eo1j6-b",
        "outputId": "947a6414-84d9-4085-fb05-298d5392bd8b"
      },
      "source": [
        "a=np.array([1,3,4,6,7])\n",
        "b=np.array([3,6,8,1,0.42])\n",
        "MAE(a1,b1)"
      ],
      "execution_count": null,
      "outputs": [
        {
          "output_type": "execute_result",
          "data": {
            "text/plain": [
              "4.116"
            ]
          },
          "metadata": {
            "tags": []
          },
          "execution_count": 14
        }
      ]
    },
    {
      "cell_type": "markdown",
      "metadata": {
        "id": "AnyiJoJx17a3"
      },
      "source": [
        "# Write a function that returns the descriptive statistics of a numpy array. Take a random numpy array of size 50 x 3"
      ]
    },
    {
      "cell_type": "code",
      "metadata": {
        "id": "0G3R5cSC2IFL"
      },
      "source": [
        "import numpy as np\n",
        "\n",
        "def descriptive(x):\n",
        "    sum=0 #for finding mean \n",
        "    sum2=0 # for finding standard deviation\n",
        "    mean=list()\n",
        "    #std=list()\n",
        "    n=(x.shape[0])\n",
        "    for i in range(x.shape[1]):\n",
        "        for j in range(x.shape[0]):\n",
        "              sum+=x[j,i]\n",
        "        mean.append(sum/n)\n",
        "    return mean          "
      ],
      "execution_count": null,
      "outputs": []
    },
    {
      "cell_type": "code",
      "metadata": {
        "colab": {
          "base_uri": "https://localhost:8080/"
        },
        "id": "iT6jF8zi3S9t",
        "outputId": "383f2828-6b75-4384-9d09-4ba328f63a1c"
      },
      "source": [
        "y=np.random.randint(25,size=(50,3))\n",
        "descriptive(y)"
      ],
      "execution_count": null,
      "outputs": [
        {
          "output_type": "execute_result",
          "data": {
            "text/plain": [
              "[12.18, 23.98, 38.16]"
            ]
          },
          "metadata": {
            "tags": []
          },
          "execution_count": 22
        }
      ]
    },
    {
      "cell_type": "markdown",
      "metadata": {
        "id": "XpoaWmap4Xnf"
      },
      "source": [
        "# Write a python function that takes in voltage and current as arguments and returns the plot for Ohm's law"
      ]
    },
    {
      "cell_type": "code",
      "metadata": {
        "colab": {
          "base_uri": "https://localhost:8080/",
          "height": 316
        },
        "id": "Um_Nn1dR4XHO",
        "outputId": "9a166b48-1a26-4cec-b88e-53170d345ea8"
      },
      "source": [
        "def plotcurve(V,I):\n",
        "    x=plt.plot(V,I,'g')\n",
        "    plt.xlabel(\"Voltage\")\n",
        "    plt.ylabel(\"Current\")\n",
        "    x=plt.show()\n",
        "    return x\n",
        "xx=np.array([2,4,6,8,10])\n",
        "yy=np.array([1,3,5,7,9]) \n",
        "plotcurve(xx,yy)  "
      ],
      "execution_count": null,
      "outputs": [
        {
          "output_type": "error",
          "ename": "NameError",
          "evalue": "ignored",
          "traceback": [
            "\u001b[0;31m---------------------------------------------------------------------------\u001b[0m",
            "\u001b[0;31mNameError\u001b[0m                                 Traceback (most recent call last)",
            "\u001b[0;32m<ipython-input-28-3a56706e190c>\u001b[0m in \u001b[0;36m<module>\u001b[0;34m()\u001b[0m\n\u001b[1;32m      7\u001b[0m \u001b[0mxx\u001b[0m\u001b[0;34m=\u001b[0m\u001b[0mnp\u001b[0m\u001b[0;34m.\u001b[0m\u001b[0marray\u001b[0m\u001b[0;34m(\u001b[0m\u001b[0;34m[\u001b[0m\u001b[0;36m2\u001b[0m\u001b[0;34m,\u001b[0m\u001b[0;36m4\u001b[0m\u001b[0;34m,\u001b[0m\u001b[0;36m6\u001b[0m\u001b[0;34m,\u001b[0m\u001b[0;36m8\u001b[0m\u001b[0;34m,\u001b[0m\u001b[0;36m10\u001b[0m\u001b[0;34m]\u001b[0m\u001b[0;34m)\u001b[0m\u001b[0;34m\u001b[0m\u001b[0;34m\u001b[0m\u001b[0m\n\u001b[1;32m      8\u001b[0m \u001b[0myy\u001b[0m\u001b[0;34m=\u001b[0m\u001b[0mnp\u001b[0m\u001b[0;34m.\u001b[0m\u001b[0marray\u001b[0m\u001b[0;34m(\u001b[0m\u001b[0;34m[\u001b[0m\u001b[0;36m1\u001b[0m\u001b[0;34m,\u001b[0m\u001b[0;36m3\u001b[0m\u001b[0;34m,\u001b[0m\u001b[0;36m5\u001b[0m\u001b[0;34m,\u001b[0m\u001b[0;36m7\u001b[0m\u001b[0;34m,\u001b[0m\u001b[0;36m9\u001b[0m\u001b[0;34m]\u001b[0m\u001b[0;34m)\u001b[0m\u001b[0;34m\u001b[0m\u001b[0;34m\u001b[0m\u001b[0m\n\u001b[0;32m----> 9\u001b[0;31m \u001b[0mplotcurve\u001b[0m\u001b[0;34m(\u001b[0m\u001b[0mxx\u001b[0m\u001b[0;34m,\u001b[0m\u001b[0myy\u001b[0m\u001b[0;34m)\u001b[0m\u001b[0;34m\u001b[0m\u001b[0;34m\u001b[0m\u001b[0m\n\u001b[0m",
            "\u001b[0;32m<ipython-input-28-3a56706e190c>\u001b[0m in \u001b[0;36mplotcurve\u001b[0;34m(V, I)\u001b[0m\n\u001b[1;32m      1\u001b[0m \u001b[0;32mdef\u001b[0m \u001b[0mplotcurve\u001b[0m\u001b[0;34m(\u001b[0m\u001b[0mV\u001b[0m\u001b[0;34m,\u001b[0m\u001b[0mI\u001b[0m\u001b[0;34m)\u001b[0m\u001b[0;34m:\u001b[0m\u001b[0;34m\u001b[0m\u001b[0;34m\u001b[0m\u001b[0m\n\u001b[0;32m----> 2\u001b[0;31m     \u001b[0mx\u001b[0m\u001b[0;34m=\u001b[0m\u001b[0mplt\u001b[0m\u001b[0;34m.\u001b[0m\u001b[0mplot\u001b[0m\u001b[0;34m(\u001b[0m\u001b[0mV\u001b[0m\u001b[0;34m,\u001b[0m\u001b[0mI\u001b[0m\u001b[0;34m,\u001b[0m\u001b[0;34m'g'\u001b[0m\u001b[0;34m)\u001b[0m\u001b[0;34m\u001b[0m\u001b[0;34m\u001b[0m\u001b[0m\n\u001b[0m\u001b[1;32m      3\u001b[0m     \u001b[0mplt\u001b[0m\u001b[0;34m.\u001b[0m\u001b[0mxlabel\u001b[0m\u001b[0;34m(\u001b[0m\u001b[0;34m\"Voltage\"\u001b[0m\u001b[0;34m)\u001b[0m\u001b[0;34m\u001b[0m\u001b[0;34m\u001b[0m\u001b[0m\n\u001b[1;32m      4\u001b[0m     \u001b[0mplt\u001b[0m\u001b[0;34m.\u001b[0m\u001b[0mylabel\u001b[0m\u001b[0;34m(\u001b[0m\u001b[0;34m\"Current\"\u001b[0m\u001b[0;34m)\u001b[0m\u001b[0;34m\u001b[0m\u001b[0;34m\u001b[0m\u001b[0m\n\u001b[1;32m      5\u001b[0m     \u001b[0mx\u001b[0m\u001b[0;34m=\u001b[0m\u001b[0mplt\u001b[0m\u001b[0;34m.\u001b[0m\u001b[0mshow\u001b[0m\u001b[0;34m(\u001b[0m\u001b[0;34m)\u001b[0m\u001b[0;34m\u001b[0m\u001b[0;34m\u001b[0m\u001b[0m\n",
            "\u001b[0;31mNameError\u001b[0m: name 'plt' is not defined"
          ]
        }
      ]
    },
    {
      "cell_type": "code",
      "metadata": {
        "id": "i5P85A3aAPvJ"
      },
      "source": [
        "def plotcurve(V,I):\n",
        "    x=plt.plot(V,I,'g')\n",
        "    plt.xlabel(\"Voltage\")\n",
        "    plt.ylabel(\"Current\")\n",
        "    x=plt.show()\n",
        "    return x\n",
        "xx=np.array([2,4,6,8,10])\n",
        "yy=np.array([1,3,5,7,9]) \n",
        "plotcurve(xx,yy)  "
      ],
      "execution_count": null,
      "outputs": []
    },
    {
      "cell_type": "markdown",
      "metadata": {
        "id": "9v4fvJaZ5hMF"
      },
      "source": [
        "# Global & Local variables in Python Functions"
      ]
    },
    {
      "cell_type": "code",
      "metadata": {
        "id": "PQHLAkih4xFR",
        "colab": {
          "base_uri": "https://localhost:8080/",
          "height": 253
        },
        "outputId": "70500d42-4185-4b57-dfae-d983a958ff3a"
      },
      "source": [
        "x1=1\n",
        "\n",
        "def f1(x2):\n",
        "    print(\"x2= \",x2)\n",
        "    x3=30\n",
        "    print(\"x3= \",x3)\n",
        "\n",
        "print(\"Global x1 is\",x1)\n",
        "f1(25)\n",
        "print(\"The number x3 is \",x3)\n"
      ],
      "execution_count": null,
      "outputs": [
        {
          "output_type": "stream",
          "text": [
            "Global x1 is 1\n",
            "x2=  25\n",
            "x3=  30\n"
          ],
          "name": "stdout"
        },
        {
          "output_type": "error",
          "ename": "NameError",
          "evalue": "ignored",
          "traceback": [
            "\u001b[0;31m---------------------------------------------------------------------------\u001b[0m",
            "\u001b[0;31mNameError\u001b[0m                                 Traceback (most recent call last)",
            "\u001b[0;32m<ipython-input-1-338f49e0b220>\u001b[0m in \u001b[0;36m<module>\u001b[0;34m()\u001b[0m\n\u001b[1;32m      8\u001b[0m \u001b[0mprint\u001b[0m\u001b[0;34m(\u001b[0m\u001b[0;34m\"Global x1 is\"\u001b[0m\u001b[0;34m,\u001b[0m\u001b[0mx1\u001b[0m\u001b[0;34m)\u001b[0m\u001b[0;34m\u001b[0m\u001b[0;34m\u001b[0m\u001b[0m\n\u001b[1;32m      9\u001b[0m \u001b[0mf1\u001b[0m\u001b[0;34m(\u001b[0m\u001b[0;36m25\u001b[0m\u001b[0;34m)\u001b[0m\u001b[0;34m\u001b[0m\u001b[0;34m\u001b[0m\u001b[0m\n\u001b[0;32m---> 10\u001b[0;31m \u001b[0mprint\u001b[0m\u001b[0;34m(\u001b[0m\u001b[0;34m\"The number x3 is \"\u001b[0m\u001b[0;34m,\u001b[0m\u001b[0mx3\u001b[0m\u001b[0;34m)\u001b[0m\u001b[0;34m\u001b[0m\u001b[0;34m\u001b[0m\u001b[0m\n\u001b[0m",
            "\u001b[0;31mNameError\u001b[0m: name 'x3' is not defined"
          ]
        }
      ]
    },
    {
      "cell_type": "code",
      "metadata": {
        "colab": {
          "base_uri": "https://localhost:8080/"
        },
        "id": "ScKhJSaCu4J-",
        "outputId": "e87c591f-0316-4a0b-df3d-d64a61b7f063"
      },
      "source": [
        "var=\"Good\"\n",
        "\n",
        "def show():\n",
        "    global var1\n",
        "    var1=\"The Best\"\n",
        "    print(\"Accessing global variable defined outside function definition \",var)\n",
        "\n",
        "show()\n",
        "print(\"Accessing global variable defined inside function definition \",var1)\n"
      ],
      "execution_count": null,
      "outputs": [
        {
          "output_type": "stream",
          "text": [
            "Accessing global variable defined outside function definition  Good\n",
            "Accessing global variable defined inside function definition  The Best\n"
          ],
          "name": "stdout"
        }
      ]
    },
    {
      "cell_type": "markdown",
      "metadata": {
        "id": "Ow1LuFNLv6Sq"
      },
      "source": [
        "# Modifying a global variable in a python function\n",
        "\n"
      ]
    },
    {
      "cell_type": "code",
      "metadata": {
        "colab": {
          "base_uri": "https://localhost:8080/"
        },
        "id": "CgHY1hxFv5_P",
        "outputId": "7056b4eb-7ebd-4c6c-b51b-c33683646354"
      },
      "source": [
        "global var\n",
        "var=\"Cris\"\n",
        "\n",
        "def show():\n",
        "    var=\"Messi\"\n",
        "    print(\"The variable inside function is \",var)\n",
        "\n",
        "show()\n",
        "var=\"Apple\"\n",
        "print(\"The outside variable is\",var)"
      ],
      "execution_count": null,
      "outputs": [
        {
          "output_type": "stream",
          "text": [
            "The variable inside function is  Messi\n",
            "The outside variable is Apple\n"
          ],
          "name": "stdout"
        }
      ]
    },
    {
      "cell_type": "markdown",
      "metadata": {
        "id": "4IDLPC5ixgEg"
      },
      "source": [
        "# Global & Local variable in Nested functions"
      ]
    },
    {
      "cell_type": "code",
      "metadata": {
        "colab": {
          "base_uri": "https://localhost:8080/",
          "height": 346
        },
        "id": "6Zs5Ve78xlRI",
        "outputId": "a6f43b99-3a2f-4e79-f010-2e59c16cd05f"
      },
      "source": [
        "def outer():\n",
        "    outer_var=\"Cris\"\n",
        "    def inner():\n",
        "        inner_var=\"Messi\" \n",
        "        print(\"The outer variable is\",outer_var)\n",
        "        print(\"The inner variable is\",inner_var)\n",
        "    inner()\n",
        "    print(\"The outer variable is\",outer_var)\n",
        "    print(\"The inner variable is\",inner_var)\n",
        "outer()   "
      ],
      "execution_count": null,
      "outputs": [
        {
          "output_type": "stream",
          "text": [
            "The outer variable is Cris\n",
            "The inner variable is Messi\n",
            "The outer variable is Cris\n"
          ],
          "name": "stdout"
        },
        {
          "output_type": "error",
          "ename": "NameError",
          "evalue": "ignored",
          "traceback": [
            "\u001b[0;31m---------------------------------------------------------------------------\u001b[0m",
            "\u001b[0;31mNameError\u001b[0m                                 Traceback (most recent call last)",
            "\u001b[0;32m<ipython-input-14-1d4b609268fe>\u001b[0m in \u001b[0;36m<module>\u001b[0;34m()\u001b[0m\n\u001b[1;32m      8\u001b[0m     \u001b[0mprint\u001b[0m\u001b[0;34m(\u001b[0m\u001b[0;34m\"The outer variable is\"\u001b[0m\u001b[0;34m,\u001b[0m\u001b[0mouter_var\u001b[0m\u001b[0;34m)\u001b[0m\u001b[0;34m\u001b[0m\u001b[0;34m\u001b[0m\u001b[0m\n\u001b[1;32m      9\u001b[0m     \u001b[0mprint\u001b[0m\u001b[0;34m(\u001b[0m\u001b[0;34m\"The inner variable is\"\u001b[0m\u001b[0;34m,\u001b[0m\u001b[0minner_var\u001b[0m\u001b[0;34m)\u001b[0m\u001b[0;34m\u001b[0m\u001b[0;34m\u001b[0m\u001b[0m\n\u001b[0;32m---> 10\u001b[0;31m \u001b[0mouter\u001b[0m\u001b[0;34m(\u001b[0m\u001b[0;34m)\u001b[0m\u001b[0;34m\u001b[0m\u001b[0;34m\u001b[0m\u001b[0m\n\u001b[0m",
            "\u001b[0;32m<ipython-input-14-1d4b609268fe>\u001b[0m in \u001b[0;36mouter\u001b[0;34m()\u001b[0m\n\u001b[1;32m      7\u001b[0m     \u001b[0minner\u001b[0m\u001b[0;34m(\u001b[0m\u001b[0;34m)\u001b[0m\u001b[0;34m\u001b[0m\u001b[0;34m\u001b[0m\u001b[0m\n\u001b[1;32m      8\u001b[0m     \u001b[0mprint\u001b[0m\u001b[0;34m(\u001b[0m\u001b[0;34m\"The outer variable is\"\u001b[0m\u001b[0;34m,\u001b[0m\u001b[0mouter_var\u001b[0m\u001b[0;34m)\u001b[0m\u001b[0;34m\u001b[0m\u001b[0;34m\u001b[0m\u001b[0m\n\u001b[0;32m----> 9\u001b[0;31m     \u001b[0mprint\u001b[0m\u001b[0;34m(\u001b[0m\u001b[0;34m\"The inner variable is\"\u001b[0m\u001b[0;34m,\u001b[0m\u001b[0minner_var\u001b[0m\u001b[0;34m)\u001b[0m\u001b[0;34m\u001b[0m\u001b[0;34m\u001b[0m\u001b[0m\n\u001b[0m\u001b[1;32m     10\u001b[0m \u001b[0mouter\u001b[0m\u001b[0;34m(\u001b[0m\u001b[0;34m)\u001b[0m\u001b[0;34m\u001b[0m\u001b[0;34m\u001b[0m\u001b[0m\n",
            "\u001b[0;31mNameError\u001b[0m: name 'inner_var' is not defined"
          ]
        }
      ]
    },
    {
      "cell_type": "markdown",
      "metadata": {
        "id": "cNeWbOrTG9if"
      },
      "source": [
        "# Lambda Functions in Python \n",
        "\n",
        "\n",
        "*   These are anonymous functions \n",
        "*   Created using keyword lambda\n",
        "\n"
      ]
    },
    {
      "cell_type": "code",
      "metadata": {
        "colab": {
          "base_uri": "https://localhost:8080/"
        },
        "id": "EYngDy7kHAPn",
        "outputId": "198fbdee-f824-407c-a423-7211f5a0d4f3"
      },
      "source": [
        "quebec=lambda x1,x2: x1**2+x2**2\n",
        "print(\"The output is\",quebec(4,5))"
      ],
      "execution_count": null,
      "outputs": [
        {
          "output_type": "stream",
          "text": [
            "The output is 41\n"
          ],
          "name": "stdout"
        }
      ]
    },
    {
      "cell_type": "code",
      "metadata": {
        "colab": {
          "base_uri": "https://localhost:8080/"
        },
        "id": "k5O-rUJsH0NC",
        "outputId": "7870db5a-204f-47fa-b8cd-1e6a0352af79"
      },
      "source": [
        "def quebec(x1,x2):\n",
        "    return print(\"The output is\",x1**2+x2**2)\n",
        "quebec(4,5)    "
      ],
      "execution_count": null,
      "outputs": [
        {
          "output_type": "stream",
          "text": [
            "The output is 41\n"
          ],
          "name": "stdout"
        }
      ]
    },
    {
      "cell_type": "code",
      "metadata": {
        "colab": {
          "base_uri": "https://localhost:8080/"
        },
        "id": "WQ25djyVDVnb",
        "outputId": "4a3b8801-8f4f-498d-ab26-4b26c9de0bbc"
      },
      "source": [
        "# Experiment-5, Question:2 \n",
        "# Write a python function to find sum of squares of even numbers\n",
        "def f(n):\n",
        "    sum=0\n",
        "    for i in range(1,n+1,1):\n",
        "        if i%2==0:\n",
        "           sum=sum+(i**2)\n",
        "    return sum       \n",
        "\n",
        "f(10)"
      ],
      "execution_count": null,
      "outputs": [
        {
          "output_type": "execute_result",
          "data": {
            "text/plain": [
              "220"
            ]
          },
          "metadata": {},
          "execution_count": 10
        }
      ]
    },
    {
      "cell_type": "code",
      "metadata": {
        "colab": {
          "base_uri": "https://localhost:8080/"
        },
        "id": "lY_9iFlzESNv",
        "outputId": "77de5f02-9fe4-4a84-8a0a-073757bf472a"
      },
      "source": [
        "# Experiment-5 Question:1\n",
        "def series(n):\n",
        "    sum=0\n",
        "    for i in range(1,n+1,1):\n",
        "        sum+=1/(i**2)\n",
        "    return round(sum,4)       \n",
        "\n",
        "series(10)"
      ],
      "execution_count": null,
      "outputs": [
        {
          "output_type": "execute_result",
          "data": {
            "text/plain": [
              "1.5498"
            ]
          },
          "metadata": {},
          "execution_count": 2
        }
      ]
    },
    {
      "cell_type": "code",
      "metadata": {
        "colab": {
          "base_uri": "https://localhost:8080/"
        },
        "id": "lifk8h7BExI8",
        "outputId": "468c53f4-2272-4de7-82fa-a4e3f1666786"
      },
      "source": [
        "#Write a function that determines active, reactive, and apparent power. \n",
        "# Pass voltage and current as phasors to the function as input arguments.\n",
        "powers=list()\n",
        "import numpy as np\n",
        "def power(x):\n",
        "    if type(x[0])=='numpy.complex128' and type(x[1])=='numpy.complex128':\n",
        "      angle=np.angle(x,deg=True)\n",
        "      s=x[0]*x[1]\n",
        "      act=s.real\n",
        "      reactive=s.imag\n",
        "      return [act, reactive,s]\n",
        "    else:\n",
        "      return print(\"invalid input arguments\")          \n",
        "  \n",
        "x=np.array([220+0j, 10-2j])  \n",
        "#type(x[1])\n",
        "power(x)        "
      ],
      "execution_count": null,
      "outputs": [
        {
          "output_type": "stream",
          "text": [
            "invalid input arguments\n"
          ],
          "name": "stdout"
        }
      ]
    },
    {
      "cell_type": "code",
      "metadata": {
        "colab": {
          "base_uri": "https://localhost:8080/",
          "height": 265
        },
        "id": "Q19hsYDmKFYo",
        "outputId": "b71b513f-3118-487d-f909-7aed61bc28ec"
      },
      "source": [
        "import matplotlib.pyplot as plt\n",
        "import math\n",
        "def plotsine(x):\n",
        "    y=np.sin(x)   #math.sin\n",
        "    z=np.cos(x)\n",
        "    k=plt.plot(x,z,'r')\n",
        "    k=plt.show() \n",
        "    return k \n",
        "import numpy as np\n",
        "x=np.arange(0,2*math.pi,0.005) #creates an array of range starts from 0 and ends at 2*pi, in steps of 0.005\n",
        "plotsine(x)"
      ],
      "execution_count": null,
      "outputs": [
        {
          "output_type": "display_data",
          "data": {
            "image/png": "[encoded data removed]",
            "text/plain": [
              "<Figure size 432x288 with 1 Axes>"
            ]
          },
          "metadata": {
            "needs_background": "light"
          }
        }
      ]
    },
    {
      "cell_type": "markdown",
      "metadata": {
        "id": "iSFxIoR6dMgY"
      },
      "source": [
        "#Modules in Python"
      ]
    },
    {
      "cell_type": "code",
      "metadata": {
        "colab": {
          "base_uri": "https://localhost:8080/"
        },
        "id": "4m0FcvlJdf-p",
        "outputId": "45823f50-629d-4738-c7a3-34313595cd73"
      },
      "source": [
        "from google.colab import drive\n",
        "drive.mount('/content/gdrive')"
      ],
      "execution_count": null,
      "outputs": [
        {
          "output_type": "stream",
          "text": [
            "Mounted at /content/gdrive\n"
          ],
          "name": "stdout"
        }
      ]
    },
    {
      "cell_type": "code",
      "metadata": {
        "id": "baxXmZj11xAf"
      },
      "source": [
        "import sys\n",
        "sys.path.append('/content/gdrive/MyDrive/Colab Notebooks')"
      ],
      "execution_count": null,
      "outputs": []
    },
    {
      "cell_type": "code",
      "metadata": {
        "colab": {
          "base_uri": "https://localhost:8080/",
          "height": 299
        },
        "id": "y5P4Jh6R1zQZ",
        "outputId": "11a51710-5f87-4309-850c-b03fcc143d4c"
      },
      "source": [
        "from arithmetic import add\n",
        "add(1,2)"
      ],
      "execution_count": null,
      "outputs": [
        {
          "output_type": "error",
          "ename": "NameError",
          "evalue": "ignored",
          "traceback": [
            "\u001b[0;31m---------------------------------------------------------------------------\u001b[0m",
            "\u001b[0;31mNameError\u001b[0m                                 Traceback (most recent call last)",
            "\u001b[0;32m<ipython-input-15-bad154cf23c1>\u001b[0m in \u001b[0;36m<module>\u001b[0;34m()\u001b[0m\n\u001b[0;32m----> 1\u001b[0;31m \u001b[0;32mfrom\u001b[0m \u001b[0marithmetic\u001b[0m \u001b[0;32mimport\u001b[0m \u001b[0madd\u001b[0m\u001b[0;34m\u001b[0m\u001b[0;34m\u001b[0m\u001b[0m\n\u001b[0m\u001b[1;32m      2\u001b[0m \u001b[0madd\u001b[0m\u001b[0;34m(\u001b[0m\u001b[0;36m1\u001b[0m\u001b[0;34m,\u001b[0m\u001b[0;36m2\u001b[0m\u001b[0;34m)\u001b[0m\u001b[0;34m\u001b[0m\u001b[0;34m\u001b[0m\u001b[0m\n",
            "\u001b[0;32m/content/gdrive/My Drive/Colab Notebooks/arithmetic.py\u001b[0m in \u001b[0;36m<module>\u001b[0;34m()\u001b[0m\n\u001b[0;32m----> 1\u001b[0;31m \u001b[0;34m{\u001b[0m\u001b[0;34m\"nbformat\"\u001b[0m\u001b[0;34m:\u001b[0m\u001b[0;36m4\u001b[0m\u001b[0;34m,\u001b[0m\u001b[0;34m\"nbformat_minor\"\u001b[0m\u001b[0;34m:\u001b[0m\u001b[0;36m0\u001b[0m\u001b[0;34m,\u001b[0m\u001b[0;34m\"metadata\"\u001b[0m\u001b[0;34m:\u001b[0m\u001b[0;34m{\u001b[0m\u001b[0;34m\"colab\"\u001b[0m\u001b[0;34m:\u001b[0m\u001b[0;34m{\u001b[0m\u001b[0;34m\"name\"\u001b[0m\u001b[0;34m:\u001b[0m\u001b[0;34m\"arithmetic.py\"\u001b[0m\u001b[0;34m,\u001b[0m\u001b[0;34m\"provenance\"\u001b[0m\u001b[0;34m:\u001b[0m\u001b[0;34m[\u001b[0m\u001b[0;34m]\u001b[0m\u001b[0;34m,\u001b[0m\u001b[0;34m\"collapsed_sections\"\u001b[0m\u001b[0;34m:\u001b[0m\u001b[0;34m[\u001b[0m\u001b[0;34m]\u001b[0m\u001b[0;34m,\u001b[0m\u001b[0;34m\"authorship_tag\"\u001b[0m\u001b[0;34m:\u001b[0m\u001b[0;34m\"ABX9TyPJwEsCLXhlD8nW0u1X/Yu+\"\u001b[0m\u001b[0;34m}\u001b[0m\u001b[0;34m,\u001b[0m\u001b[0;34m\"kernelspec\"\u001b[0m\u001b[0;34m:\u001b[0m\u001b[0;34m{\u001b[0m\u001b[0;34m\"name\"\u001b[0m\u001b[0;34m:\u001b[0m\u001b[0;34m\"python3\"\u001b[0m\u001b[0;34m,\u001b[0m\u001b[0;34m\"display_name\"\u001b[0m\u001b[0;34m:\u001b[0m\u001b[0;34m\"Python 3\"\u001b[0m\u001b[0;34m}\u001b[0m\u001b[0;34m,\u001b[0m\u001b[0;34m\"language_info\"\u001b[0m\u001b[0;34m:\u001b[0m\u001b[0;34m{\u001b[0m\u001b[0;34m\"name\"\u001b[0m\u001b[0;34m:\u001b[0m\u001b[0;34m\"python\"\u001b[0m\u001b[0;34m}\u001b[0m\u001b[0;34m}\u001b[0m\u001b[0;34m,\u001b[0m\u001b[0;34m\"cells\"\u001b[0m\u001b[0;34m:\u001b[0m\u001b[0;34m[\u001b[0m\u001b[0;34m{\u001b[0m\u001b[0;34m\"cell_type\"\u001b[0m\u001b[0;34m:\u001b[0m\u001b[0;34m\"code\"\u001b[0m\u001b[0;34m,\u001b[0m\u001b[0;34m\"metadata\"\u001b[0m\u001b[0;34m:\u001b[0m\u001b[0;34m{\u001b[0m\u001b[0;34m\"colab\"\u001b[0m\u001b[0;34m:\u001b[0m\u001b[0;34m{\u001b[0m\u001b[0;34m\"base_uri\"\u001b[0m\u001b[0;34m:\u001b[0m\u001b[0;34m\"https://localhost:8080/\"\u001b[0m\u001b[0;34m}\u001b[0m\u001b[0;34m,\u001b[0m\u001b[0;34m\"id\"\u001b[0m\u001b[0;34m:\u001b[0m\u001b[0;34m\"C0fPDaTC089x\"\u001b[0m\u001b[0;34m,\u001b[0m\u001b[0;34m\"executionInfo\"\u001b[0m\u001b[0;34m:\u001b[0m\u001b[0;34m{\u001b[0m\u001b[0;34m\"status\"\u001b[0m\u001b[0;34m:\u001b[0m\u001b[0;34m\"ok\"\u001b[0m\u001b[0;34m,\u001b[0m\u001b[0;34m\"timestamp\"\u001b[0m\u001b[0;34m:\u001b[0m\u001b[0;36m1629888086514\u001b[0m\u001b[0;34m,\u001b[0m\u001b[0;34m\"user_tz\"\u001b[0m\u001b[0;34m:\u001b[0m\u001b[0;34m-\u001b[0m\u001b[0;36m330\u001b[0m\u001b[0;34m,\u001b[0m\u001b[...\n\u001b[0m",
            "\u001b[0;31mNameError\u001b[0m: name 'null' is not defined"
          ]
        }
      ]
    },
    {
      "cell_type": "code",
      "metadata": {
        "colab": {
          "base_uri": "https://localhost:8080/"
        },
        "id": "qKdWZt2TkkVV",
        "outputId": "f4b3999a-a0be-4142-f48d-a5aa325d393c"
      },
      "source": [
        "# write a funciton that prints \"hello name\" \n",
        "# Scope of Global and Local variables\n",
        "x='Cristiano' # Default Global\n",
        "def f1(x1):\n",
        "    x1=\"Harsh\"  # Local\n",
        "    x2=0.6 \n",
        "    return print(\"Hello\",x1)\n",
        "f1(x1)\n",
        "print(\"The variable x is\",x1)"
      ],
      "execution_count": null,
      "outputs": [
        {
          "output_type": "stream",
          "text": [
            "Hello Harsh\n",
            "The variable x is Real Madrid\n"
          ],
          "name": "stdout"
        }
      ]
    },
    {
      "cell_type": "markdown",
      "metadata": {
        "id": "UIcZu4y2rkPa"
      },
      "source": [
        "# Recursion"
      ]
    },
    {
      "cell_type": "code",
      "metadata": {
        "colab": {
          "base_uri": "https://localhost:8080/"
        },
        "id": "tyJqWySgrj3W",
        "outputId": "cb9bc44f-3e6b-4792-bb3d-7d11cc90f987"
      },
      "source": [
        "def factorial(n):\n",
        "    if n==0:\n",
        "       return 1\n",
        "    else: \n",
        "       return n*factorial(n-1) \n",
        "factorial(4)           "
      ],
      "execution_count": null,
      "outputs": [
        {
          "output_type": "execute_result",
          "data": {
            "text/plain": [
              "24"
            ]
          },
          "metadata": {},
          "execution_count": 35
        }
      ]
    },
    {
      "cell_type": "markdown",
      "metadata": {
        "id": "DfafrLhrnwjs"
      },
      "source": [
        "# Chapter-4: File handling in Python"
      ]
    },
    {
      "cell_type": "code",
      "metadata": {
        "colab": {
          "base_uri": "https://localhost:8080/",
          "height": 35
        },
        "id": "EPyxj3dpzUEO",
        "outputId": "2dd8ea58-c33f-4ca4-aad5-c2f64237af54"
      },
      "source": [
        "file =open('demo.txt','r')\n",
        "file.read()"
      ],
      "execution_count": null,
      "outputs": [
        {
          "output_type": "execute_result",
          "data": {
            "application/vnd.google.colaboratory.intrinsic+json": {
              "type": "string"
            },
            "text/plain": [
              "'Hello! I feel good and amazing!'"
            ]
          },
          "metadata": {},
          "execution_count": 1
        }
      ]
    },
    {
      "cell_type": "markdown",
      "metadata": {
        "id": "PpCvS4vWntTb"
      },
      "source": [
        "# Writing to a file"
      ]
    },
    {
      "cell_type": "code",
      "metadata": {
        "colab": {
          "base_uri": "https://localhost:8080/",
          "height": 35
        },
        "id": "9o-y__OLnTpH",
        "outputId": "9469b8a8-7095-4d38-e052-bc032e2c4579"
      },
      "source": [
        "file=open('demo.txt','w')\n",
        "file.write('Good day mate!')\n",
        "file.close()\n",
        "file=open('demo.txt','r')\n",
        "file.read()\n"
      ],
      "execution_count": null,
      "outputs": [
        {
          "output_type": "execute_result",
          "data": {
            "application/vnd.google.colaboratory.intrinsic+json": {
              "type": "string"
            },
            "text/plain": [
              "'Good day mate!'"
            ]
          },
          "metadata": {},
          "execution_count": 2
        }
      ]
    },
    {
      "cell_type": "code",
      "metadata": {
        "colab": {
          "base_uri": "https://localhost:8080/",
          "height": 35
        },
        "id": "SUFE_REhsb-A",
        "outputId": "e2f23be9-bab3-4e8a-ab6f-bfed71a5af27"
      },
      "source": [
        "# Append something to an existing file\n",
        "file=open('demo.txt','a')\n",
        "file.write(\"Ok! Let's order an italian pizza\")\n",
        "file.write(\"AFC\")\n",
        "file.close()\n",
        "file=open('demo.txt','r')\n",
        "file.read()"
      ],
      "execution_count": null,
      "outputs": [
        {
          "output_type": "execute_result",
          "data": {
            "application/vnd.google.colaboratory.intrinsic+json": {
              "type": "string"
            },
            "text/plain": [
              "\"Good day mate!Ok! Let's order an italian pizzaOk! Let's order an italian pizzaAFC\""
            ]
          },
          "metadata": {},
          "execution_count": 4
        }
      ]
    },
    {
      "cell_type": "markdown",
      "metadata": {
        "id": "lukraK3ow5k3"
      },
      "source": [
        "# Creating a new .txt file"
      ]
    },
    {
      "cell_type": "code",
      "metadata": {
        "colab": {
          "base_uri": "https://localhost:8080/"
        },
        "id": "3Z9nDXNaweT5",
        "outputId": "a207ddac-465c-4bd3-af02-ac8d7cbc05b6"
      },
      "source": [
        "fileptr = open(\"pizza.txt\",\"a\")   \n",
        "fileptr.write(\"Margherita is the best\")\n",
        "fileptr.close()\n",
        "print(fileptr)    \n",
        "if fileptr:    \n",
        "    print(\"File created successfully\")  "
      ],
      "execution_count": null,
      "outputs": [
        {
          "output_type": "stream",
          "name": "stdout",
          "text": [
            "<_io.TextIOWrapper name='pizza.txt' mode='a' encoding='UTF-8'>\n",
            "File created successfully\n"
          ]
        }
      ]
    },
    {
      "cell_type": "code",
      "metadata": {
        "colab": {
          "base_uri": "https://localhost:8080/"
        },
        "id": "xPLNb5zRyGC3",
        "outputId": "833a2140-a82f-484b-a80e-fe3404607b29"
      },
      "source": [
        "def compare(list):\n",
        "    if list[0]==list[-1]\n",
        "       try:\n",
        "           print(\"Afghanistan\")\n",
        "       except:\n",
        "           print(\"Norway\")           \n",
        "list=[5.000, 5]\n",
        "compare(list)\n"
      ],
      "execution_count": null,
      "outputs": [
        {
          "output_type": "stream",
          "name": "stdout",
          "text": [
            "Afghanistan\n"
          ]
        }
      ]
    },
    {
      "cell_type": "code",
      "metadata": {
        "colab": {
          "base_uri": "https://localhost:8080/",
          "height": 316
        },
        "id": "infAEwSUIQ0a",
        "outputId": "0210d24c-03d0-4f88-a5f4-3359e775d629"
      },
      "source": [
        "def azima(x,y):\n",
        "    count=0\n",
        "    for i in range(len(x)):\n",
        "        if x[i]==y[i]:\n",
        "           erf.append(\"Zero error\")\n",
        "           count+=1\n",
        "        elif x[i]>y[i]:\n",
        "           erf.append(\"Pay penalty\")\n",
        "           count=count-1\n",
        "        else:\n",
        "           erf.append(\"Do not pay penalty\")        \n",
        "    return count\n",
        "x=[1.1,2.9,3.1,4.2,7.67]\n",
        "y=[1.7,1.8,2.1,4.2,6.67]\n",
        "azima(x,y)"
      ],
      "execution_count": null,
      "outputs": [
        {
          "output_type": "error",
          "ename": "NameError",
          "evalue": "ignored",
          "traceback": [
            "\u001b[0;31m---------------------------------------------------------------------------\u001b[0m",
            "\u001b[0;31mNameError\u001b[0m                                 Traceback (most recent call last)",
            "\u001b[0;32m<ipython-input-3-71c885fe40cb>\u001b[0m in \u001b[0;36m<module>\u001b[0;34m()\u001b[0m\n\u001b[1;32m     13\u001b[0m \u001b[0mx\u001b[0m\u001b[0;34m=\u001b[0m\u001b[0;34m[\u001b[0m\u001b[0;36m1.1\u001b[0m\u001b[0;34m,\u001b[0m\u001b[0;36m2.9\u001b[0m\u001b[0;34m,\u001b[0m\u001b[0;36m3.1\u001b[0m\u001b[0;34m,\u001b[0m\u001b[0;36m4.2\u001b[0m\u001b[0;34m,\u001b[0m\u001b[0;36m7.67\u001b[0m\u001b[0;34m]\u001b[0m\u001b[0;34m\u001b[0m\u001b[0;34m\u001b[0m\u001b[0m\n\u001b[1;32m     14\u001b[0m \u001b[0my\u001b[0m\u001b[0;34m=\u001b[0m\u001b[0;34m[\u001b[0m\u001b[0;36m1.7\u001b[0m\u001b[0;34m,\u001b[0m\u001b[0;36m1.8\u001b[0m\u001b[0;34m,\u001b[0m\u001b[0;36m2.1\u001b[0m\u001b[0;34m,\u001b[0m\u001b[0;36m4.2\u001b[0m\u001b[0;34m,\u001b[0m\u001b[0;36m6.67\u001b[0m\u001b[0;34m]\u001b[0m\u001b[0;34m\u001b[0m\u001b[0;34m\u001b[0m\u001b[0m\n\u001b[0;32m---> 15\u001b[0;31m \u001b[0mazima\u001b[0m\u001b[0;34m(\u001b[0m\u001b[0mx\u001b[0m\u001b[0;34m,\u001b[0m\u001b[0my\u001b[0m\u001b[0;34m)\u001b[0m\u001b[0;34m\u001b[0m\u001b[0;34m\u001b[0m\u001b[0m\n\u001b[0m",
            "\u001b[0;32m<ipython-input-3-71c885fe40cb>\u001b[0m in \u001b[0;36mazima\u001b[0;34m(x, y)\u001b[0m\n\u001b[1;32m      9\u001b[0m            \u001b[0mcount\u001b[0m\u001b[0;34m=\u001b[0m\u001b[0mcount\u001b[0m\u001b[0;34m-\u001b[0m\u001b[0;36m1\u001b[0m\u001b[0;34m\u001b[0m\u001b[0;34m\u001b[0m\u001b[0m\n\u001b[1;32m     10\u001b[0m         \u001b[0;32melse\u001b[0m\u001b[0;34m:\u001b[0m\u001b[0;34m\u001b[0m\u001b[0;34m\u001b[0m\u001b[0m\n\u001b[0;32m---> 11\u001b[0;31m            \u001b[0merf\u001b[0m\u001b[0;34m.\u001b[0m\u001b[0mappend\u001b[0m\u001b[0;34m(\u001b[0m\u001b[0;34m\"Do not pay penalty\"\u001b[0m\u001b[0;34m)\u001b[0m\u001b[0;34m\u001b[0m\u001b[0;34m\u001b[0m\u001b[0m\n\u001b[0m\u001b[1;32m     12\u001b[0m     \u001b[0;32mreturn\u001b[0m \u001b[0mcount\u001b[0m\u001b[0;34m\u001b[0m\u001b[0;34m\u001b[0m\u001b[0m\n\u001b[1;32m     13\u001b[0m \u001b[0mx\u001b[0m\u001b[0;34m=\u001b[0m\u001b[0;34m[\u001b[0m\u001b[0;36m1.1\u001b[0m\u001b[0;34m,\u001b[0m\u001b[0;36m2.9\u001b[0m\u001b[0;34m,\u001b[0m\u001b[0;36m3.1\u001b[0m\u001b[0;34m,\u001b[0m\u001b[0;36m4.2\u001b[0m\u001b[0;34m,\u001b[0m\u001b[0;36m7.67\u001b[0m\u001b[0;34m]\u001b[0m\u001b[0;34m\u001b[0m\u001b[0;34m\u001b[0m\u001b[0m\n",
            "\u001b[0;31mNameError\u001b[0m: name 'erf' is not defined"
          ]
        }
      ]
    },
    {
      "cell_type": "markdown",
      "metadata": {
        "id": "3-rJQuuwlqwz"
      },
      "source": [
        "# .csv files with Pandas Module"
      ]
    },
    {
      "cell_type": "code",
      "metadata": {
        "colab": {
          "base_uri": "https://localhost:8080/"
        },
        "id": "56XjbgiMkVlo",
        "outputId": "2e60259c-5504-4cb0-d6b2-2e138ab58d59"
      },
      "source": [
        "import pandas as pd\n",
        "df=pd.read_csv('hrdata.csv',index_col='Employee ID') #df is the dataframe \n",
        "print(df)"
      ],
      "execution_count": null,
      "outputs": [
        {
          "output_type": "stream",
          "name": "stdout",
          "text": [
            "              Name        DOB  Salary\n",
            "Employee ID                          \n",
            "AA2345       Peter  22/8/1994   67500\n",
            "AA2346         Sam  12/7/1994   45000\n",
            "AA2347       Jacob  21/5/1993   20000\n",
            "AA2348        Alan  31/5/1993   78241\n",
            "AA2349        Suzy  22/9/1992  105000\n"
          ]
        }
      ]
    },
    {
      "cell_type": "markdown",
      "metadata": {
        "id": "hqjLVcI_mqO2"
      },
      "source": [
        "# Indexing, Slicing in Pandas "
      ]
    },
    {
      "cell_type": "code",
      "metadata": {
        "colab": {
          "base_uri": "https://localhost:8080/",
          "height": 173
        },
        "id": "t7pWK7yKlz2d",
        "outputId": "aa785d17-58e0-4cfe-b5b7-920c051d39b7"
      },
      "source": [
        "# Selecting single value by row and column using .iloc\n",
        "#df.iloc[0:3,:] # Select all the rows and 2nd Col\n",
        "\n",
        "#for i in range((df.shape[0])):\n",
        "#     print(df.iloc[i,1])\n",
        "\n",
        "# Indexing and Slicing using .loc, specify index position \n",
        "#df.loc[['AA2346'],['DOB','Salary']]\n",
        "\n",
        "# Conditional indexing\n",
        "df[df['Salary']>60000]"
      ],
      "execution_count": null,
      "outputs": [
        {
          "output_type": "execute_result",
          "data": {
            "text/html": [
              "<div>\n",
              "<style scoped>\n",
              "    .dataframe tbody tr th:only-of-type {\n",
              "        vertical-align: middle;\n",
              "    }\n",
              "\n",
              "    .dataframe tbody tr th {\n",
              "        vertical-align: top;\n",
              "    }\n",
              "\n",
              "    .dataframe thead th {\n",
              "        text-align: right;\n",
              "    }\n",
              "</style>\n",
              "<table border=\"1\" class=\"dataframe\">\n",
              "  <thead>\n",
              "    <tr style=\"text-align: right;\">\n",
              "      <th></th>\n",
              "      <th>Name</th>\n",
              "      <th>DOB</th>\n",
              "      <th>Salary</th>\n",
              "    </tr>\n",
              "    <tr>\n",
              "      <th>Employee ID</th>\n",
              "      <th></th>\n",
              "      <th></th>\n",
              "      <th></th>\n",
              "    </tr>\n",
              "  </thead>\n",
              "  <tbody>\n",
              "    <tr>\n",
              "      <th>AA2345</th>\n",
              "      <td>Peter</td>\n",
              "      <td>22/8/1994</td>\n",
              "      <td>67500</td>\n",
              "    </tr>\n",
              "    <tr>\n",
              "      <th>AA2348</th>\n",
              "      <td>Alan</td>\n",
              "      <td>31/5/1993</td>\n",
              "      <td>78241</td>\n",
              "    </tr>\n",
              "    <tr>\n",
              "      <th>AA2349</th>\n",
              "      <td>Suzy</td>\n",
              "      <td>22/9/1992</td>\n",
              "      <td>105000</td>\n",
              "    </tr>\n",
              "  </tbody>\n",
              "</table>\n",
              "</div>"
            ],
            "text/plain": [
              "              Name        DOB  Salary\n",
              "Employee ID                          \n",
              "AA2345       Peter  22/8/1994   67500\n",
              "AA2348        Alan  31/5/1993   78241\n",
              "AA2349        Suzy  22/9/1992  105000"
            ]
          },
          "metadata": {},
          "execution_count": 105
        }
      ]
    },
    {
      "cell_type": "markdown",
      "metadata": {
        "id": "we5_8Tmx2bai"
      },
      "source": [
        "# Basic information about the dataframe"
      ]
    },
    {
      "cell_type": "code",
      "metadata": {
        "colab": {
          "base_uri": "https://localhost:8080/"
        },
        "id": "gjmjIJVj2eb5",
        "outputId": "93eace3d-64ff-4fa6-bc00-535b9172dcea"
      },
      "source": [
        "#df.shape\n",
        "#df.index\n",
        "#df.columns\n",
        "#check for null value\n",
        "#df.isnull()\n",
        "#df.describe()   # GIVES INFORMATION REGARDING STATISTICS OF DATAFRAME\n",
        "#df.mean() # Returns mean for the salary col\n",
        "#df.median() # Returns median for the salary col\n",
        "#df.std() # Returns Standard deviation for the salary col\n",
        "#df.min() # Returns minimum value for the salary col\n",
        "#df.max() # Returns maximum value for the salary col"
      ],
      "execution_count": null,
      "outputs": [
        {
          "output_type": "execute_result",
          "data": {
            "text/plain": [
              "Salary    67500.0\n",
              "dtype: float64"
            ]
          },
          "metadata": {},
          "execution_count": 112
        }
      ]
    },
    {
      "cell_type": "markdown",
      "metadata": {
        "id": "Ca2C_6AW41u3"
      },
      "source": [
        "#Add new cols to dataframe and export .csv to local"
      ]
    },
    {
      "cell_type": "code",
      "metadata": {
        "colab": {
          "base_uri": "https://localhost:8080/"
        },
        "id": "3cU84QTA46xx",
        "outputId": "04b72281-c8da-46f6-a716-f79950f92b41"
      },
      "source": [
        "# Add a new col to the existing dataframe \n",
        "df['Hometown']=['NY','Chicago','Gota','Srinagar','Patna']\n",
        "print(df)\n",
        "\n",
        "# Export the dataframe to the local\n",
        "df.to_csv('D:\\AY-2021-2022\\5th Semester\\hrdata_new.csv')\n",
        "df.to_html('hrdata.html')\n",
        "# Export dataframe to a python dictionary\n",
        "dictionary = df.to_dict()\n",
        "print(dictionary)"
      ],
      "execution_count": null,
      "outputs": [
        {
          "output_type": "stream",
          "name": "stdout",
          "text": [
            "              Name        DOB  Salary  Hometown\n",
            "Employee ID                                    \n",
            "AA2345       Peter  22/8/1994   67500        NY\n",
            "AA2346         Sam  12/7/1994   45000   Chicago\n",
            "AA2347       Jacob  21/5/1993   20000      Gota\n",
            "AA2348        Alan  31/5/1993   78241  Srinagar\n",
            "AA2349        Suzy  22/9/1992  105000     Patna\n",
            "{'Name': {'AA2345': 'Peter', 'AA2346': 'Sam', 'AA2347': 'Jacob', 'AA2348': 'Alan', 'AA2349': 'Suzy'}, 'DOB': {'AA2345': '22/8/1994', 'AA2346': '12/7/1994', 'AA2347': '21/5/1993', 'AA2348': '31/5/1993', 'AA2349': '22/9/1992'}, 'Salary': {'AA2345': 67500, 'AA2346': 45000, 'AA2347': 20000, 'AA2348': 78241, 'AA2349': 105000}, 'Hometown': {'AA2345': 'NY', 'AA2346': 'Chicago', 'AA2347': 'Gota', 'AA2348': 'Srinagar', 'AA2349': 'Patna'}}\n"
          ]
        }
      ]
    },
    {
      "cell_type": "code",
      "metadata": {
        "colab": {
          "base_uri": "https://localhost:8080/"
        },
        "id": "LSIVSxOn9db3",
        "outputId": "7f433d6a-036e-4f7a-ab51-5dd975fddaf2"
      },
      "source": [
        "# Rename column names\n",
        "df.rename(columns={'DOB':'Date of Birth'},inplace=True)\n",
        "print(df)\n"
      ],
      "execution_count": null,
      "outputs": [
        {
          "output_type": "stream",
          "name": "stdout",
          "text": [
            "              Name Date of Birth  Salary  Hometown\n",
            "Employee ID                                       \n",
            "AA2345       Peter     22/8/1994   67500        NY\n",
            "AA2346         Sam     12/7/1994   45000   Chicago\n",
            "AA2347       Jacob     21/5/1993   20000      Gota\n",
            "AA2348        Alan     31/5/1993   78241  Srinagar\n",
            "AA2349        Suzy     22/9/1992  105000     Patna\n"
          ]
        }
      ]
    },
    {
      "cell_type": "code",
      "metadata": {
        "colab": {
          "base_uri": "https://localhost:8080/"
        },
        "id": "-1CaecqJtGk5",
        "outputId": "6446b58b-6a0e-4156-ed7d-f67d423c3ef1"
      },
      "source": [
        "import random\n",
        "randomlist = []\n",
        "for i in range(0,56):\n",
        "     n = random.randint(20,25)\n",
        "     randomlist.append(n)\n",
        "print(randomlist)\n",
        "import pandas as pd\n",
        "df=pd.DataFrame(randomlist)\n",
        "df.to_csv('AI_ML_Scores.csv')"
      ],
      "execution_count": null,
      "outputs": [
        {
          "output_type": "stream",
          "name": "stdout",
          "text": [
            "[23, 20, 20, 22, 24, 21, 20, 20, 22, 23, 23, 24, 25, 23, 21, 20, 22, 24, 23, 25, 20, 21, 21, 23, 24, 23, 25, 25, 25, 20, 21, 21, 21, 25, 21, 21, 25, 23, 22, 23, 23, 20, 24, 23, 23, 25, 24, 22, 21, 24, 23, 22, 20, 24, 25, 20]\n"
          ]
        }
      ]
    },
    {
      "cell_type": "markdown",
      "metadata": {
        "id": "jTt7Z2ttiMaa"
      },
      "source": [
        "# Check Null values in DataFrame"
      ]
    },
    {
      "cell_type": "code",
      "metadata": {
        "id": "-oJyQvhkiPTp"
      },
      "source": [
        "# Check if NaN is present\n",
        "df.isnull().values.any()\n",
        "# Count number of null values in single dataframe col\n",
        "df['your column name'].isnull().sum()\n",
        "# Count number of null values in the entire DataFrame \n",
        "df.isnull().sum().sum()"
      ],
      "execution_count": null,
      "outputs": []
    },
    {
      "cell_type": "code",
      "metadata": {
        "id": "eWCaksCsskWW"
      },
      "source": [
        "#Time Format HH:MM:SS"
      ],
      "execution_count": null,
      "outputs": []
    },
    {
      "cell_type": "markdown",
      "metadata": {
        "id": "YGC28nTPyuUS"
      },
      "source": [
        "# Exceptions in Python"
      ]
    },
    {
      "cell_type": "code",
      "metadata": {
        "colab": {
          "base_uri": "https://localhost:8080/"
        },
        "id": "a0PJeVl6ytmx",
        "outputId": "3cac6c55-62d7-4ad7-a6ca-05d55bc57c4c"
      },
      "source": [
        "x=[1,2,3]\n",
        "try:\n",
        "   print(x[0])\n",
        "   print(x[1])\n",
        "except:\n",
        "   print(\"There was an error\")   "
      ],
      "execution_count": null,
      "outputs": [
        {
          "output_type": "stream",
          "name": "stdout",
          "text": [
            "1\n",
            "2\n"
          ]
        }
      ]
    },
    {
      "cell_type": "markdown",
      "metadata": {
        "id": "yo9oFeO9z_XC"
      },
      "source": [
        "# Specific exceptions and handling them in Python"
      ]
    },
    {
      "cell_type": "code",
      "metadata": {
        "colab": {
          "base_uri": "https://localhost:8080/"
        },
        "id": "YewM_aoU0C1D",
        "outputId": "77f737b5-0dca-4677-d184-6bfd15d471d5"
      },
      "source": [
        "def fun(x):\n",
        "    if x<4:\n",
        "       print(x/(x-3))\n",
        "\n",
        "try:\n",
        "   fun(1)\n",
        "   fun(3)\n",
        "except ZeroDivisionError:\n",
        "       print(\"Zero division error found and handled\")       \n",
        "except NameError:\n",
        "       print(\"Name error occured and handled\")          "
      ],
      "execution_count": null,
      "outputs": [
        {
          "output_type": "stream",
          "name": "stdout",
          "text": [
            "-0.5\n",
            "Zero division error found and handled\n"
          ]
        }
      ]
    },
    {
      "cell_type": "code",
      "metadata": {
        "colab": {
          "base_uri": "https://localhost:8080/",
          "height": 248
        },
        "id": "igHKelrg6X-c",
        "outputId": "de27a32e-0ac4-4c6d-9a77-01f604969ae7"
      },
      "source": [
        "# Program to depict Raising Exception\n",
        "\n",
        "try:\n",
        "\traise NameError(\"Hi there\") # Raise Error\n",
        "except NameError:\n",
        "\tprint (\"An exception\")\n",
        "\traise # To determine whether the exception was raised or not\n"
      ],
      "execution_count": null,
      "outputs": [
        {
          "output_type": "stream",
          "name": "stdout",
          "text": [
            "An exception\n"
          ]
        },
        {
          "output_type": "error",
          "ename": "NameError",
          "evalue": "ignored",
          "traceback": [
            "\u001b[0;31m---------------------------------------------------------------------------\u001b[0m",
            "\u001b[0;31mNameError\u001b[0m                                 Traceback (most recent call last)",
            "\u001b[0;32m<ipython-input-16-87bf2bdaba1c>\u001b[0m in \u001b[0;36m<module>\u001b[0;34m()\u001b[0m\n\u001b[1;32m      2\u001b[0m \u001b[0;34m\u001b[0m\u001b[0m\n\u001b[1;32m      3\u001b[0m \u001b[0;32mtry\u001b[0m\u001b[0;34m:\u001b[0m\u001b[0;34m\u001b[0m\u001b[0;34m\u001b[0m\u001b[0m\n\u001b[0;32m----> 4\u001b[0;31m         \u001b[0;32mraise\u001b[0m \u001b[0mNameError\u001b[0m\u001b[0;34m(\u001b[0m\u001b[0;34m\"Hi there\"\u001b[0m\u001b[0;34m)\u001b[0m \u001b[0;31m# Raise Error\u001b[0m\u001b[0;34m\u001b[0m\u001b[0;34m\u001b[0m\u001b[0m\n\u001b[0m\u001b[1;32m      5\u001b[0m \u001b[0;32mexcept\u001b[0m \u001b[0mNameError\u001b[0m\u001b[0;34m:\u001b[0m\u001b[0;34m\u001b[0m\u001b[0;34m\u001b[0m\u001b[0m\n\u001b[1;32m      6\u001b[0m         \u001b[0mprint\u001b[0m \u001b[0;34m(\u001b[0m\u001b[0;34m\"An exception\"\u001b[0m\u001b[0;34m)\u001b[0m\u001b[0;34m\u001b[0m\u001b[0;34m\u001b[0m\u001b[0m\n",
            "\u001b[0;31mNameError\u001b[0m: Hi there"
          ]
        }
      ]
    },
    {
      "cell_type": "code",
      "metadata": {
        "colab": {
          "base_uri": "https://localhost:8080/"
        },
        "id": "IcoB-5iD8x8c",
        "outputId": "90773b2c-1356-4dcb-b308-96a75fef3edf"
      },
      "source": [
        "While True:\n",
        "    try:\n",
        "         x = int(input(\"Please enter a number: \"))\n",
        "         break    \n",
        "    except ValueError:\n",
        "        print(\"Oops!  That was no valid number.  Try again...\")"
      ],
      "execution_count": null,
      "outputs": [
        {
          "name": "stdout",
          "output_type": "stream",
          "text": [
            "Please enter a number: abcd\n",
            "Oops!  That was no valid number.  Try again...\n",
            "Please enter a number: mgjhfghjklk,jhgf\n",
            "Oops!  That was no valid number.  Try again...\n",
            "Please enter a number: ;oiuytry\n",
            "Oops!  That was no valid number.  Try again...\n",
            "Please enter a number: 11\n"
          ]
        }
      ]
    },
    {
      "cell_type": "code",
      "metadata": {
        "id": "hKyCQiIZ_PSu"
      },
      "source": [
        "def divide(x, y):\n",
        "    try:\n",
        "         result = x / y\n",
        "    except ZeroDivisionError:\n",
        "         print(\"division by zero!\")\n",
        "    else:\n",
        "        print(\"result is\", result)\n",
        "    finally:\n",
        "         x=x*2\n",
        "         print(\"executing finally clause and the new value of x is \",x)\n",
        "         divide(x,y)"
      ],
      "execution_count": null,
      "outputs": []
    },
    {
      "cell_type": "code",
      "metadata": {
        "colab": {
          "base_uri": "https://localhost:8080/"
        },
        "id": "CRLNnu7q_eFO",
        "outputId": "872c961b-c657-413d-85a6-eab62db36f22"
      },
      "source": [
        "divide(1,2)"
      ],
      "execution_count": null,
      "outputs": [
        {
          "output_type": "stream",
          "name": "stdout",
          "text": [
            "result is 0.5\n",
            "executing finally clause and the new value of x is  2\n",
            "result is 1.0\n",
            "executing finally clause and the new value of x is  4\n",
            "result is 2.0\n",
            "executing finally clause and the new value of x is  8\n",
            "result is 4.0\n",
            "executing finally clause and the new value of x is  16\n",
            "result is 8.0\n",
            "executing finally clause and the new value of x is  32\n",
            "result is 16.0\n",
            "executing finally clause and the new value of x is  64\n",
            "result is 32.0\n",
            "executing finally clause and the new value of x is  128\n",
            "result is 64.0\n",
            "executing finally clause and the new value of x is  256\n",
            "result is 128.0\n",
            "executing finally clause and the new value of x is  512\n",
            "result is 256.0\n",
            "executing finally clause and the new value of x is  1024\n",
            "result is 512.0\n",
            "executing finally clause and the new value of x is  2048\n",
            "result is 1024.0\n",
            "executing finally clause and the new value of x is  4096\n",
            "result is 2048.0\n",
            "executing finally clause and the new value of x is  8192\n",
            "result is 4096.0\n",
            "executing finally clause and the new value of x is  16384\n",
            "result is 8192.0\n",
            "executing finally clause and the new value of x is  32768\n",
            "result is 16384.0\n",
            "executing finally clause and the new value of x is  65536\n",
            "result is 32768.0\n",
            "executing finally clause and the new value of x is  131072\n",
            "result is 65536.0\n",
            "executing finally clause and the new value of x is  262144\n",
            "result is 131072.0\n",
            "executing finally clause and the new value of x is  524288\n",
            "result is 262144.0\n",
            "executing finally clause and the new value of x is  1048576\n",
            "result is 524288.0\n",
            "executing finally clause and the new value of x is  2097152\n",
            "result is 1048576.0\n",
            "executing finally clause and the new value of x is  4194304\n",
            "result is 2097152.0\n",
            "executing finally clause and the new value of x is  8388608\n",
            "result is 4194304.0\n",
            "executing finally clause and the new value of x is  16777216\n",
            "result is 8388608.0\n",
            "executing finally clause and the new value of x is  33554432\n",
            "result is 16777216.0\n",
            "executing finally clause and the new value of x is  67108864\n",
            "result is 33554432.0\n",
            "executing finally clause and the new value of x is  134217728\n",
            "result is 67108864.0\n",
            "executing finally clause and the new value of x is  268435456\n",
            "result is 134217728.0\n",
            "executing finally clause and the new value of x is  536870912\n",
            "result is 268435456.0\n",
            "executing finally clause and the new value of x is  1073741824\n",
            "result is 536870912.0\n",
            "executing finally clause and the new value of x is  2147483648\n",
            "result is 1073741824.0\n",
            "executing finally clause and the new value of x is  4294967296\n",
            "result is 2147483648.0\n",
            "executing finally clause and the new value of x is  8589934592\n",
            "result is 4294967296.0\n",
            "executing finally clause and the new value of x is  17179869184\n",
            "result is 8589934592.0\n",
            "executing finally clause and the new value of x is  34359738368\n",
            "result is 17179869184.0\n",
            "executing finally clause and the new value of x is  68719476736\n",
            "result is 34359738368.0\n",
            "executing finally clause and the new value of x is  137438953472\n",
            "result is 68719476736.0\n",
            "executing finally clause and the new value of x is  274877906944\n",
            "result is 137438953472.0\n",
            "executing finally clause and the new value of x is  549755813888\n",
            "result is 274877906944.0\n",
            "executing finally clause and the new value of x is  1099511627776\n",
            "result is 549755813888.0\n",
            "executing finally clause and the new value of x is  2199023255552\n",
            "result is 1099511627776.0\n",
            "executing finally clause and the new value of x is  4398046511104\n",
            "result is 2199023255552.0\n",
            "executing finally clause and the new value of x is  8796093022208\n",
            "result is 4398046511104.0\n",
            "executing finally clause and the new value of x is  17592186044416\n",
            "result is 8796093022208.0\n",
            "executing finally clause and the new value of x is  35184372088832\n",
            "result is 17592186044416.0\n",
            "executing finally clause and the new value of x is  70368744177664\n",
            "result is 35184372088832.0\n",
            "executing finally clause and the new value of x is  140737488355328\n",
            "result is 70368744177664.0\n",
            "executing finally clause and the new value of x is  281474976710656\n",
            "result is 140737488355328.0\n",
            "executing finally clause and the new value of x is  562949953421312\n",
            "result is 281474976710656.0\n",
            "executing finally clause and the new value of x is  1125899906842624\n",
            "result is 562949953421312.0\n",
            "executing finally clause and the new value of x is  2251799813685248\n",
            "result is 1125899906842624.0\n",
            "executing finally clause and the new value of x is  4503599627370496\n",
            "result is 2251799813685248.0\n",
            "executing finally clause and the new value of x is  9007199254740992\n",
            "result is 4503599627370496.0\n",
            "executing finally clause and the new value of x is  18014398509481984\n",
            "result is 9007199254740992.0\n",
            "executing finally clause and the new value of x is  36028797018963968\n",
            "result is 1.8014398509481984e+16\n",
            "executing finally clause and the new value of x is  72057594037927936\n",
            "result is 3.602879701896397e+16\n",
            "executing finally clause and the new value of x is  144115188075855872\n",
            "result is 7.205759403792794e+16\n",
            "executing finally clause and the new value of x is  288230376151711744\n",
            "result is 1.4411518807585587e+17\n",
            "executing finally clause and the new value of x is  576460752303423488\n",
            "result is 2.8823037615171174e+17\n",
            "executing finally clause and the new value of x is  1152921504606846976\n",
            "result is 5.764607523034235e+17\n",
            "executing finally clause and the new value of x is  2305843009213693952\n",
            "result is 1.152921504606847e+18\n",
            "executing finally clause and the new value of x is  4611686018427387904\n",
            "result is 2.305843009213694e+18\n",
            "executing finally clause and the new value of x is  9223372036854775808\n",
            "result is 4.611686018427388e+18\n",
            "executing finally clause and the new value of x is  18446744073709551616\n",
            "result is 9.223372036854776e+18\n",
            "executing finally clause and the new value of x is  36893488147419103232\n",
            "result is 1.8446744073709552e+19\n",
            "executing finally clause and the new value of x is  73786976294838206464\n",
            "result is 3.6893488147419103e+19\n",
            "executing finally clause and the new value of x is  147573952589676412928\n",
            "result is 7.378697629483821e+19\n",
            "executing finally clause and the new value of x is  295147905179352825856\n",
            "result is 1.4757395258967641e+20\n",
            "executing finally clause and the new value of x is  590295810358705651712\n",
            "result is 2.9514790517935283e+20\n",
            "executing finally clause and the new value of x is  1180591620717411303424\n",
            "result is 5.902958103587057e+20\n",
            "executing finally clause and the new value of x is  2361183241434822606848\n",
            "result is 1.1805916207174113e+21\n",
            "executing finally clause and the new value of x is  4722366482869645213696\n",
            "result is 2.3611832414348226e+21\n",
            "executing finally clause and the new value of x is  9444732965739290427392\n",
            "result is 4.722366482869645e+21\n",
            "executing finally clause and the new value of x is  18889465931478580854784\n",
            "result is 9.44473296573929e+21\n",
            "executing finally clause and the new value of x is  37778931862957161709568\n",
            "result is 1.888946593147858e+22\n",
            "executing finally clause and the new value of x is  75557863725914323419136\n",
            "result is 3.777893186295716e+22\n",
            "executing finally clause and the new value of x is  151115727451828646838272\n",
            "result is 7.555786372591432e+22\n",
            "executing finally clause and the new value of x is  302231454903657293676544\n",
            "result is 1.5111572745182865e+23\n",
            "executing finally clause and the new value of x is  604462909807314587353088\n",
            "result is 3.022314549036573e+23\n",
            "executing finally clause and the new value of x is  1208925819614629174706176\n",
            "result is 6.044629098073146e+23\n",
            "executing finally clause and the new value of x is  2417851639229258349412352\n",
            "result is 1.2089258196146292e+24\n",
            "executing finally clause and the new value of x is  4835703278458516698824704\n",
            "result is 2.4178516392292583e+24\n",
            "executing finally clause and the new value of x is  9671406556917033397649408\n",
            "result is 4.835703278458517e+24\n",
            "executing finally clause and the new value of x is  19342813113834066795298816\n",
            "result is 9.671406556917033e+24\n",
            "executing finally clause and the new value of x is  38685626227668133590597632\n",
            "result is 1.9342813113834067e+25\n",
            "executing finally clause and the new value of x is  77371252455336267181195264\n",
            "result is 3.8685626227668134e+25\n",
            "executing finally clause and the new value of x is  154742504910672534362390528\n",
            "result is 7.737125245533627e+25\n",
            "executing finally clause and the new value of x is  309485009821345068724781056\n",
            "result is 1.5474250491067253e+26\n",
            "executing finally clause and the new value of x is  618970019642690137449562112\n",
            "result is 3.094850098213451e+26\n",
            "executing finally clause and the new value of x is  1237940039285380274899124224\n",
            "result is 6.189700196426902e+26\n",
            "executing finally clause and the new value of x is  2475880078570760549798248448\n",
            "result is 1.2379400392853803e+27\n",
            "executing finally clause and the new value of x is  4951760157141521099596496896\n",
            "result is 2.4758800785707605e+27\n",
            "executing finally clause and the new value of x is  9903520314283042199192993792\n",
            "result is 4.951760157141521e+27\n",
            "executing finally clause and the new value of x is  19807040628566084398385987584\n",
            "result is 9.903520314283042e+27\n",
            "executing finally clause and the new value of x is  39614081257132168796771975168\n",
            "result is 1.9807040628566084e+28\n",
            "executing finally clause and the new value of x is  79228162514264337593543950336\n",
            "result is 3.961408125713217e+28\n",
            "executing finally clause and the new value of x is  158456325028528675187087900672\n",
            "result is 7.922816251426434e+28\n",
            "executing finally clause and the new value of x is  316912650057057350374175801344\n",
            "result is 1.5845632502852868e+29\n",
            "executing finally clause and the new value of x is  633825300114114700748351602688\n",
            "result is 3.1691265005705735e+29\n",
            "executing finally clause and the new value of x is  1267650600228229401496703205376\n",
            "result is 6.338253001141147e+29\n",
            "executing finally clause and the new value of x is  2535301200456458802993406410752\n",
            "result is 1.2676506002282294e+30\n",
            "executing finally clause and the new value of x is  5070602400912917605986812821504\n",
            "result is 2.535301200456459e+30\n",
            "executing finally clause and the new value of x is  10141204801825835211973625643008\n",
            "result is 5.070602400912918e+30\n",
            "executing finally clause and the new value of x is  20282409603651670423947251286016\n",
            "result is 1.0141204801825835e+31\n",
            "executing finally clause and the new value of x is  40564819207303340847894502572032\n",
            "result is 2.028240960365167e+31\n",
            "executing finally clause and the new value of x is  81129638414606681695789005144064\n",
            "result is 4.056481920730334e+31\n",
            "executing finally clause and the new value of x is  162259276829213363391578010288128\n",
            "result is 8.112963841460668e+31\n",
            "executing finally clause and the new value of x is  324518553658426726783156020576256\n",
            "result is 1.6225927682921336e+32\n",
            "executing finally clause and the new value of x is  649037107316853453566312041152512\n",
            "result is 3.2451855365842673e+32\n",
            "executing finally clause and the new value of x is  1298074214633706907132624082305024\n",
            "result is 6.490371073168535e+32\n",
            "executing finally clause and the new value of x is  2596148429267413814265248164610048\n",
            "result is 1.298074214633707e+33\n",
            "executing finally clause and the new value of x is  5192296858534827628530496329220096\n",
            "result is 2.596148429267414e+33\n",
            "executing finally clause and the new value of x is  10384593717069655257060992658440192\n",
            "result is 5.192296858534828e+33\n",
            "executing finally clause and the new value of x is  20769187434139310514121985316880384\n",
            "result is 1.0384593717069655e+34\n",
            "executing finally clause and the new value of x is  41538374868278621028243970633760768\n",
            "result is 2.076918743413931e+34\n",
            "executing finally clause and the new value of x is  83076749736557242056487941267521536\n",
            "result is 4.153837486827862e+34\n",
            "executing finally clause and the new value of x is  166153499473114484112975882535043072\n",
            "result is 8.307674973655724e+34\n",
            "executing finally clause and the new value of x is  332306998946228968225951765070086144\n",
            "result is 1.661534994731145e+35\n",
            "executing finally clause and the new value of x is  664613997892457936451903530140172288\n",
            "result is 3.32306998946229e+35\n",
            "executing finally clause and the new value of x is  1329227995784915872903807060280344576\n",
            "result is 6.64613997892458e+35\n",
            "executing finally clause and the new value of x is  2658455991569831745807614120560689152\n",
            "result is 1.329227995784916e+36\n",
            "executing finally clause and the new value of x is  5316911983139663491615228241121378304\n",
            "result is 2.658455991569832e+36\n",
            "executing finally clause and the new value of x is  10633823966279326983230456482242756608\n",
            "result is 5.316911983139664e+36\n",
            "executing finally clause and the new value of x is  21267647932558653966460912964485513216\n",
            "result is 1.0633823966279327e+37\n",
            "executing finally clause and the new value of x is  42535295865117307932921825928971026432\n",
            "result is 2.1267647932558654e+37\n",
            "executing finally clause and the new value of x is  85070591730234615865843651857942052864\n",
            "result is 4.253529586511731e+37\n",
            "executing finally clause and the new value of x is  170141183460469231731687303715884105728\n",
            "result is 8.507059173023462e+37\n",
            "executing finally clause and the new value of x is  340282366920938463463374607431768211456\n",
            "result is 1.7014118346046923e+38\n",
            "executing finally clause and the new value of x is  680564733841876926926749214863536422912\n",
            "result is 3.402823669209385e+38\n",
            "executing finally clause and the new value of x is  1361129467683753853853498429727072845824\n",
            "result is 6.80564733841877e+38\n",
            "executing finally clause and the new value of x is  2722258935367507707706996859454145691648\n",
            "result is 1.361129467683754e+39\n",
            "executing finally clause and the new value of x is  5444517870735015415413993718908291383296\n",
            "result is 2.722258935367508e+39\n",
            "executing finally clause and the new value of x is  10889035741470030830827987437816582766592\n",
            "result is 5.444517870735016e+39\n",
            "executing finally clause and the new value of x is  21778071482940061661655974875633165533184\n",
            "result is 1.0889035741470031e+40\n",
            "executing finally clause and the new value of x is  43556142965880123323311949751266331066368\n",
            "result is 2.1778071482940062e+40\n",
            "executing finally clause and the new value of x is  87112285931760246646623899502532662132736\n",
            "result is 4.3556142965880123e+40\n",
            "executing finally clause and the new value of x is  174224571863520493293247799005065324265472\n",
            "result is 8.711228593176025e+40\n",
            "executing finally clause and the new value of x is  348449143727040986586495598010130648530944\n",
            "result is 1.742245718635205e+41\n",
            "executing finally clause and the new value of x is  696898287454081973172991196020261297061888\n",
            "result is 3.48449143727041e+41\n",
            "executing finally clause and the new value of x is  1393796574908163946345982392040522594123776\n",
            "result is 6.96898287454082e+41\n",
            "executing finally clause and the new value of x is  2787593149816327892691964784081045188247552\n",
            "result is 1.393796574908164e+42\n",
            "executing finally clause and the new value of x is  5575186299632655785383929568162090376495104\n",
            "result is 2.787593149816328e+42\n",
            "executing finally clause and the new value of x is  11150372599265311570767859136324180752990208\n",
            "result is 5.575186299632656e+42\n",
            "executing finally clause and the new value of x is  22300745198530623141535718272648361505980416\n",
            "result is 1.1150372599265312e+43\n",
            "executing finally clause and the new value of x is  44601490397061246283071436545296723011960832\n",
            "result is 2.2300745198530623e+43\n",
            "executing finally clause and the new value of x is  89202980794122492566142873090593446023921664\n",
            "result is 4.460149039706125e+43\n",
            "executing finally clause and the new value of x is  178405961588244985132285746181186892047843328\n",
            "result is 8.92029807941225e+43\n",
            "executing finally clause and the new value of x is  356811923176489970264571492362373784095686656\n",
            "result is 1.78405961588245e+44\n",
            "executing finally clause and the new value of x is  713623846352979940529142984724747568191373312\n",
            "result is 3.5681192317649e+44\n",
            "executing finally clause and the new value of x is  1427247692705959881058285969449495136382746624\n",
            "result is 7.1362384635298e+44\n",
            "executing finally clause and the new value of x is  2854495385411919762116571938898990272765493248\n",
            "result is 1.42724769270596e+45\n",
            "executing finally clause and the new value of x is  5708990770823839524233143877797980545530986496\n",
            "result is 2.85449538541192e+45\n",
            "executing finally clause and the new value of x is  11417981541647679048466287755595961091061972992\n",
            "result is 5.70899077082384e+45\n",
            "executing finally clause and the new value of x is  22835963083295358096932575511191922182123945984\n",
            "result is 1.141798154164768e+46\n",
            "executing finally clause and the new value of x is  45671926166590716193865151022383844364247891968\n",
            "result is 2.283596308329536e+46\n",
            "executing finally clause and the new value of x is  91343852333181432387730302044767688728495783936\n",
            "result is 4.567192616659072e+46\n",
            "executing finally clause and the new value of x is  182687704666362864775460604089535377456991567872\n",
            "result is 9.134385233318143e+46\n",
            "executing finally clause and the new value of x is  365375409332725729550921208179070754913983135744\n",
            "result is 1.8268770466636286e+47\n",
            "executing finally clause and the new value of x is  730750818665451459101842416358141509827966271488\n",
            "result is 3.6537540933272573e+47\n",
            "executing finally clause and the new value of x is  1461501637330902918203684832716283019655932542976\n",
            "result is 7.307508186654515e+47\n",
            "executing finally clause and the new value of x is  2923003274661805836407369665432566039311865085952\n",
            "result is 1.461501637330903e+48\n",
            "executing finally clause and the new value of x is  5846006549323611672814739330865132078623730171904\n",
            "result is 2.923003274661806e+48\n",
            "executing finally clause and the new value of x is  11692013098647223345629478661730264157247460343808\n",
            "result is 5.846006549323612e+48\n",
            "executing finally clause and the new value of x is  23384026197294446691258957323460528314494920687616\n",
            "result is 1.1692013098647223e+49\n",
            "executing finally clause and the new value of x is  46768052394588893382517914646921056628989841375232\n",
            "result is 2.3384026197294447e+49\n",
            "executing finally clause and the new value of x is  93536104789177786765035829293842113257979682750464\n",
            "result is 4.6768052394588893e+49\n",
            "executing finally clause and the new value of x is  187072209578355573530071658587684226515959365500928\n",
            "result is 9.353610478917779e+49\n",
            "executing finally clause and the new value of x is  374144419156711147060143317175368453031918731001856\n",
            "result is 1.8707220957835557e+50\n",
            "executing finally clause and the new value of x is  748288838313422294120286634350736906063837462003712\n",
            "result is 3.7414441915671115e+50\n",
            "executing finally clause and the new value of x is  1496577676626844588240573268701473812127674924007424\n",
            "result is 7.482888383134223e+50\n",
            "executing finally clause and the new value of x is  2993155353253689176481146537402947624255349848014848\n",
            "result is 1.4965776766268446e+51\n",
            "executing finally clause and the new value of x is  5986310706507378352962293074805895248510699696029696\n",
            "result is 2.9931553532536892e+51\n",
            "executing finally clause and the new value of x is  11972621413014756705924586149611790497021399392059392\n",
            "result is 5.986310706507379e+51\n",
            "executing finally clause and the new value of x is  23945242826029513411849172299223580994042798784118784\n",
            "result is 1.1972621413014757e+52\n",
            "executing finally clause and the new value of x is  47890485652059026823698344598447161988085597568237568\n",
            "result is 2.3945242826029513e+52\n",
            "executing finally clause and the new value of x is  95780971304118053647396689196894323976171195136475136\n",
            "result is 4.789048565205903e+52\n",
            "executing finally clause and the new value of x is  191561942608236107294793378393788647952342390272950272\n",
            "result is 9.578097130411805e+52\n",
            "executing finally clause and the new value of x is  383123885216472214589586756787577295904684780545900544\n",
            "result is 1.915619426082361e+53\n",
            "executing finally clause and the new value of x is  766247770432944429179173513575154591809369561091801088\n",
            "result is 3.831238852164722e+53\n",
            "executing finally clause and the new value of x is  1532495540865888858358347027150309183618739122183602176\n",
            "result is 7.662477704329444e+53\n",
            "executing finally clause and the new value of x is  3064991081731777716716694054300618367237478244367204352\n",
            "result is 1.532495540865889e+54\n",
            "executing finally clause and the new value of x is  6129982163463555433433388108601236734474956488734408704\n",
            "result is 3.064991081731778e+54\n",
            "executing finally clause and the new value of x is  12259964326927110866866776217202473468949912977468817408\n",
            "result is 6.129982163463556e+54\n",
            "executing finally clause and the new value of x is  24519928653854221733733552434404946937899825954937634816\n",
            "result is 1.2259964326927111e+55\n",
            "executing finally clause and the new value of x is  49039857307708443467467104868809893875799651909875269632\n",
            "result is 2.4519928653854222e+55\n",
            "executing finally clause and the new value of x is  98079714615416886934934209737619787751599303819750539264\n",
            "result is 4.9039857307708443e+55\n",
            "executing finally clause and the new value of x is  196159429230833773869868419475239575503198607639501078528\n",
            "result is 9.807971461541689e+55\n",
            "executing finally clause and the new value of x is  392318858461667547739736838950479151006397215279002157056\n",
            "result is 1.9615942923083377e+56\n",
            "executing finally clause and the new value of x is  784637716923335095479473677900958302012794430558004314112\n",
            "result is 3.9231885846166755e+56\n",
            "executing finally clause and the new value of x is  1569275433846670190958947355801916604025588861116008628224\n",
            "result is 7.846377169233351e+56\n",
            "executing finally clause and the new value of x is  3138550867693340381917894711603833208051177722232017256448\n",
            "result is 1.5692754338466702e+57\n",
            "executing finally clause and the new value of x is  6277101735386680763835789423207666416102355444464034512896\n",
            "result is 3.1385508676933404e+57\n",
            "executing finally clause and the new value of x is  12554203470773361527671578846415332832204710888928069025792\n",
            "result is 6.277101735386681e+57\n",
            "executing finally clause and the new value of x is  25108406941546723055343157692830665664409421777856138051584\n",
            "result is 1.2554203470773362e+58\n",
            "executing finally clause and the new value of x is  50216813883093446110686315385661331328818843555712276103168\n",
            "result is 2.5108406941546723e+58\n",
            "executing finally clause and the new value of x is  100433627766186892221372630771322662657637687111424552206336\n",
            "result is 5.021681388309345e+58\n",
            "executing finally clause and the new value of x is  200867255532373784442745261542645325315275374222849104412672\n",
            "result is 1.004336277661869e+59\n",
            "executing finally clause and the new value of x is  401734511064747568885490523085290650630550748445698208825344\n",
            "result is 2.008672555323738e+59\n",
            "executing finally clause and the new value of x is  803469022129495137770981046170581301261101496891396417650688\n",
            "result is 4.017345110647476e+59\n",
            "executing finally clause and the new value of x is  1606938044258990275541962092341162602522202993782792835301376\n",
            "result is 8.034690221294951e+59\n",
            "executing finally clause and the new value of x is  3213876088517980551083924184682325205044405987565585670602752\n",
            "result is 1.6069380442589903e+60\n",
            "executing finally clause and the new value of x is  6427752177035961102167848369364650410088811975131171341205504\n",
            "result is 3.2138760885179806e+60\n",
            "executing finally clause and the new value of x is  12855504354071922204335696738729300820177623950262342682411008\n",
            "result is 6.427752177035961e+60\n",
            "executing finally clause and the new value of x is  25711008708143844408671393477458601640355247900524685364822016\n",
            "result is 1.2855504354071922e+61\n",
            "executing finally clause and the new value of x is  51422017416287688817342786954917203280710495801049370729644032\n",
            "result is 2.5711008708143844e+61\n",
            "executing finally clause and the new value of x is  102844034832575377634685573909834406561420991602098741459288064\n",
            "result is 5.142201741628769e+61\n",
            "executing finally clause and the new value of x is  205688069665150755269371147819668813122841983204197482918576128\n",
            "result is 1.0284403483257538e+62\n",
            "executing finally clause and the new value of x is  411376139330301510538742295639337626245683966408394965837152256\n",
            "result is 2.0568806966515076e+62\n",
            "executing finally clause and the new value of x is  822752278660603021077484591278675252491367932816789931674304512\n",
            "result is 4.113761393303015e+62\n",
            "executing finally clause and the new value of x is  1645504557321206042154969182557350504982735865633579863348609024\n",
            "result is 8.22752278660603e+62\n",
            "executing finally clause and the new value of x is  3291009114642412084309938365114701009965471731267159726697218048\n",
            "result is 1.645504557321206e+63\n",
            "executing finally clause and the new value of x is  6582018229284824168619876730229402019930943462534319453394436096\n",
            "result is 3.291009114642412e+63\n",
            "executing finally clause and the new value of x is  13164036458569648337239753460458804039861886925068638906788872192\n",
            "result is 6.582018229284824e+63\n",
            "executing finally clause and the new value of x is  26328072917139296674479506920917608079723773850137277813577744384\n",
            "result is 1.3164036458569648e+64\n",
            "executing finally clause and the new value of x is  52656145834278593348959013841835216159447547700274555627155488768\n",
            "result is 2.6328072917139297e+64\n",
            "executing finally clause and the new value of x is  105312291668557186697918027683670432318895095400549111254310977536\n",
            "result is 5.2656145834278593e+64\n",
            "executing finally clause and the new value of x is  210624583337114373395836055367340864637790190801098222508621955072\n",
            "result is 1.0531229166855719e+65\n",
            "executing finally clause and the new value of x is  421249166674228746791672110734681729275580381602196445017243910144\n",
            "result is 2.1062458333711437e+65\n",
            "executing finally clause and the new value of x is  842498333348457493583344221469363458551160763204392890034487820288\n",
            "result is 4.2124916667422875e+65\n",
            "executing finally clause and the new value of x is  1684996666696914987166688442938726917102321526408785780068975640576\n",
            "result is 8.424983333484575e+65\n",
            "executing finally clause and the new value of x is  3369993333393829974333376885877453834204643052817571560137951281152\n",
            "result is 1.684996666696915e+66\n",
            "executing finally clause and the new value of x is  6739986666787659948666753771754907668409286105635143120275902562304\n",
            "result is 3.36999333339383e+66\n",
            "executing finally clause and the new value of x is  13479973333575319897333507543509815336818572211270286240551805124608\n",
            "result is 6.73998666678766e+66\n",
            "executing finally clause and the new value of x is  26959946667150639794667015087019630673637144422540572481103610249216\n",
            "result is 1.347997333357532e+67\n",
            "executing finally clause and the new value of x is  53919893334301279589334030174039261347274288845081144962207220498432\n",
            "result is 2.695994666715064e+67\n",
            "executing finally clause and the new value of x is  107839786668602559178668060348078522694548577690162289924414440996864\n",
            "result is 5.391989333430128e+67\n",
            "executing finally clause and the new value of x is  215679573337205118357336120696157045389097155380324579848828881993728\n",
            "result is 1.0783978666860256e+68\n",
            "executing finally clause and the new value of x is  431359146674410236714672241392314090778194310760649159697657763987456\n",
            "result is 2.1567957333720512e+68\n",
            "executing finally clause and the new value of x is  862718293348820473429344482784628181556388621521298319395315527974912\n",
            "result is 4.3135914667441024e+68\n",
            "executing finally clause and the new value of x is  1725436586697640946858688965569256363112777243042596638790631055949824\n",
            "result is 8.627182933488205e+68\n",
            "executing finally clause and the new value of x is  3450873173395281893717377931138512726225554486085193277581262111899648\n",
            "result is 1.725436586697641e+69\n",
            "executing finally clause and the new value of x is  6901746346790563787434755862277025452451108972170386555162524223799296\n",
            "result is 3.450873173395282e+69\n",
            "executing finally clause and the new value of x is  13803492693581127574869511724554050904902217944340773110325048447598592\n",
            "result is 6.901746346790564e+69\n",
            "executing finally clause and the new value of x is  27606985387162255149739023449108101809804435888681546220650096895197184\n",
            "result is 1.3803492693581128e+70\n",
            "executing finally clause and the new value of x is  55213970774324510299478046898216203619608871777363092441300193790394368\n",
            "result is 2.7606985387162255e+70\n",
            "executing finally clause and the new value of x is  110427941548649020598956093796432407239217743554726184882600387580788736\n",
            "result is 5.521397077432451e+70\n",
            "executing finally clause and the new value of x is  220855883097298041197912187592864814478435487109452369765200775161577472\n",
            "result is 1.1042794154864902e+71\n",
            "executing finally clause and the new value of x is  441711766194596082395824375185729628956870974218904739530401550323154944\n",
            "result is 2.2085588309729804e+71\n",
            "executing finally clause and the new value of x is  883423532389192164791648750371459257913741948437809479060803100646309888\n",
            "result is 4.417117661945961e+71\n",
            "executing finally clause and the new value of x is  1766847064778384329583297500742918515827483896875618958121606201292619776\n",
            "result is 8.834235323891922e+71\n",
            "executing finally clause and the new value of x is  3533694129556768659166595001485837031654967793751237916243212402585239552\n",
            "result is 1.7668470647783843e+72\n",
            "executing finally clause and the new value of x is  7067388259113537318333190002971674063309935587502475832486424805170479104\n",
            "result is 3.533694129556769e+72\n",
            "executing finally clause and the new value of x is  14134776518227074636666380005943348126619871175004951664972849610340958208\n",
            "result is 7.067388259113537e+72\n",
            "executing finally clause and the new value of x is  28269553036454149273332760011886696253239742350009903329945699220681916416\n",
            "result is 1.4134776518227075e+73\n",
            "executing finally clause and the new value of x is  56539106072908298546665520023773392506479484700019806659891398441363832832\n",
            "result is 2.826955303645415e+73\n",
            "executing finally clause and the new value of x is  113078212145816597093331040047546785012958969400039613319782796882727665664\n",
            "result is 5.65391060729083e+73\n",
            "executing finally clause and the new value of x is  226156424291633194186662080095093570025917938800079226639565593765455331328\n",
            "result is 1.130782121458166e+74\n",
            "executing finally clause and the new value of x is  452312848583266388373324160190187140051835877600158453279131187530910662656\n",
            "result is 2.261564242916332e+74\n",
            "executing finally clause and the new value of x is  904625697166532776746648320380374280103671755200316906558262375061821325312\n",
            "result is 4.523128485832664e+74\n",
            "executing finally clause and the new value of x is  1809251394333065553493296640760748560207343510400633813116524750123642650624\n",
            "result is 9.046256971665328e+74\n",
            "executing finally clause and the new value of x is  3618502788666131106986593281521497120414687020801267626233049500247285301248\n",
            "result is 1.8092513943330656e+75\n",
            "executing finally clause and the new value of x is  7237005577332262213973186563042994240829374041602535252466099000494570602496\n",
            "result is 3.618502788666131e+75\n",
            "executing finally clause and the new value of x is  14474011154664524427946373126085988481658748083205070504932198000989141204992\n",
            "result is 7.237005577332262e+75\n",
            "executing finally clause and the new value of x is  28948022309329048855892746252171976963317496166410141009864396001978282409984\n",
            "result is 1.4474011154664524e+76\n",
            "executing finally clause and the new value of x is  57896044618658097711785492504343953926634992332820282019728792003956564819968\n",
            "result is 2.894802230932905e+76\n",
            "executing finally clause and the new value of x is  115792089237316195423570985008687907853269984665640564039457584007913129639936\n",
            "result is 5.78960446186581e+76\n",
            "executing finally clause and the new value of x is  231584178474632390847141970017375815706539969331281128078915168015826259279872\n",
            "result is 1.157920892373162e+77\n",
            "executing finally clause and the new value of x is  463168356949264781694283940034751631413079938662562256157830336031652518559744\n",
            "result is 2.315841784746324e+77\n",
            "executing finally clause and the new value of x is  926336713898529563388567880069503262826159877325124512315660672063305037119488\n",
            "result is 4.631683569492648e+77\n",
            "executing finally clause and the new value of x is  1852673427797059126777135760139006525652319754650249024631321344126610074238976\n",
            "result is 9.263367138985296e+77\n",
            "executing finally clause and the new value of x is  3705346855594118253554271520278013051304639509300498049262642688253220148477952\n",
            "result is 1.8526734277970591e+78\n",
            "executing finally clause and the new value of x is  7410693711188236507108543040556026102609279018600996098525285376506440296955904\n",
            "result is 3.7053468555941183e+78\n",
            "executing finally clause and the new value of x is  14821387422376473014217086081112052205218558037201992197050570753012880593911808\n",
            "result is 7.410693711188237e+78\n",
            "executing finally clause and the new value of x is  29642774844752946028434172162224104410437116074403984394101141506025761187823616\n",
            "result is 1.4821387422376473e+79\n",
            "executing finally clause and the new value of x is  59285549689505892056868344324448208820874232148807968788202283012051522375647232\n",
            "result is 2.9642774844752946e+79\n",
            "executing finally clause and the new value of x is  118571099379011784113736688648896417641748464297615937576404566024103044751294464\n",
            "result is 5.928554968950589e+79\n",
            "executing finally clause and the new value of x is  237142198758023568227473377297792835283496928595231875152809132048206089502588928\n",
            "result is 1.1857109937901178e+80\n",
            "executing finally clause and the new value of x is  474284397516047136454946754595585670566993857190463750305618264096412179005177856\n",
            "result is 2.3714219875802357e+80\n",
            "executing finally clause and the new value of x is  948568795032094272909893509191171341133987714380927500611236528192824358010355712\n",
            "result is 4.7428439751604714e+80\n",
            "executing finally clause and the new value of x is  1897137590064188545819787018382342682267975428761855001222473056385648716020711424\n",
            "result is 9.485687950320943e+80\n",
            "executing finally clause and the new value of x is  3794275180128377091639574036764685364535950857523710002444946112771297432041422848\n",
            "result is 1.8971375900641885e+81\n",
            "executing finally clause and the new value of x is  7588550360256754183279148073529370729071901715047420004889892225542594864082845696\n",
            "result is 3.794275180128377e+81\n",
            "executing finally clause and the new value of x is  15177100720513508366558296147058741458143803430094840009779784451085189728165691392\n",
            "result is 7.588550360256754e+81\n",
            "executing finally clause and the new value of x is  30354201441027016733116592294117482916287606860189680019559568902170379456331382784\n",
            "result is 1.517710072051351e+82\n",
            "executing finally clause and the new value of x is  60708402882054033466233184588234965832575213720379360039119137804340758912662765568\n",
            "result is 3.035420144102702e+82\n",
            "executing finally clause and the new value of x is  121416805764108066932466369176469931665150427440758720078238275608681517825325531136\n",
            "result is 6.070840288205404e+82\n",
            "executing finally clause and the new value of x is  242833611528216133864932738352939863330300854881517440156476551217363035650651062272\n",
            "result is 1.2141680576410807e+83\n",
            "executing finally clause and the new value of x is  485667223056432267729865476705879726660601709763034880312953102434726071301302124544\n",
            "result is 2.4283361152821613e+83\n",
            "executing finally clause and the new value of x is  971334446112864535459730953411759453321203419526069760625906204869452142602604249088\n",
            "result is 4.856672230564323e+83\n",
            "executing finally clause and the new value of x is  1942668892225729070919461906823518906642406839052139521251812409738904285205208498176\n",
            "result is 9.713344461128645e+83\n",
            "executing finally clause and the new value of x is  3885337784451458141838923813647037813284813678104279042503624819477808570410416996352\n",
            "result is 1.942668892225729e+84\n",
            "executing finally clause and the new value of x is  7770675568902916283677847627294075626569627356208558085007249638955617140820833992704\n",
            "result is 3.885337784451458e+84\n",
            "executing finally clause and the new value of x is  15541351137805832567355695254588151253139254712417116170014499277911234281641667985408\n",
            "result is 7.770675568902916e+84\n",
            "executing finally clause and the new value of x is  31082702275611665134711390509176302506278509424834232340028998555822468563283335970816\n",
            "result is 1.5541351137805833e+85\n",
            "executing finally clause and the new value of x is  62165404551223330269422781018352605012557018849668464680057997111644937126566671941632\n",
            "result is 3.1082702275611665e+85\n",
            "executing finally clause and the new value of x is  124330809102446660538845562036705210025114037699336929360115994223289874253133343883264\n",
            "result is 6.216540455122333e+85\n",
            "executing finally clause and the new value of x is  248661618204893321077691124073410420050228075398673858720231988446579748506266687766528\n",
            "result is 1.2433080910244666e+86\n",
            "executing finally clause and the new value of x is  497323236409786642155382248146820840100456150797347717440463976893159497012533375533056\n",
            "result is 2.4866161820489332e+86\n",
            "executing finally clause and the new value of x is  994646472819573284310764496293641680200912301594695434880927953786318994025066751066112\n",
            "result is 4.9732323640978664e+86\n",
            "executing finally clause and the new value of x is  1989292945639146568621528992587283360401824603189390869761855907572637988050133502132224\n",
            "result is 9.946464728195733e+86\n",
            "executing finally clause and the new value of x is  3978585891278293137243057985174566720803649206378781739523711815145275976100267004264448\n",
            "result is 1.9892929456391466e+87\n",
            "executing finally clause and the new value of x is  7957171782556586274486115970349133441607298412757563479047423630290551952200534008528896\n",
            "result is 3.978585891278293e+87\n",
            "executing finally clause and the new value of x is  15914343565113172548972231940698266883214596825515126958094847260581103904401068017057792\n",
            "result is 7.957171782556586e+87\n",
            "executing finally clause and the new value of x is  31828687130226345097944463881396533766429193651030253916189694521162207808802136034115584\n",
            "result is 1.5914343565113173e+88\n",
            "executing finally clause and the new value of x is  63657374260452690195888927762793067532858387302060507832379389042324415617604272068231168\n",
            "result is 3.1828687130226345e+88\n",
            "executing finally clause and the new value of x is  127314748520905380391777855525586135065716774604121015664758778084648831235208544136462336\n",
            "result is 6.365737426045269e+88\n",
            "executing finally clause and the new value of x is  254629497041810760783555711051172270131433549208242031329517556169297662470417088272924672\n",
            "result is 1.2731474852090538e+89\n",
            "executing finally clause and the new value of x is  509258994083621521567111422102344540262867098416484062659035112338595324940834176545849344\n",
            "result is 2.5462949704181076e+89\n",
            "executing finally clause and the new value of x is  1018517988167243043134222844204689080525734196832968125318070224677190649881668353091698688\n",
            "result is 5.092589940836215e+89\n",
            "executing finally clause and the new value of x is  2037035976334486086268445688409378161051468393665936250636140449354381299763336706183397376\n",
            "result is 1.018517988167243e+90\n",
            "executing finally clause and the new value of x is  4074071952668972172536891376818756322102936787331872501272280898708762599526673412366794752\n",
            "result is 2.037035976334486e+90\n",
            "executing finally clause and the new value of x is  8148143905337944345073782753637512644205873574663745002544561797417525199053346824733589504\n",
            "result is 4.074071952668972e+90\n",
            "executing finally clause and the new value of x is  16296287810675888690147565507275025288411747149327490005089123594835050398106693649467179008\n",
            "result is 8.148143905337944e+90\n",
            "executing finally clause and the new value of x is  32592575621351777380295131014550050576823494298654980010178247189670100796213387298934358016\n",
            "result is 1.629628781067589e+91\n",
            "executing finally clause and the new value of x is  65185151242703554760590262029100101153646988597309960020356494379340201592426774597868716032\n",
            "result is 3.259257562135178e+91\n",
            "executing finally clause and the new value of x is  130370302485407109521180524058200202307293977194619920040712988758680403184853549195737432064\n",
            "result is 6.518515124270356e+91\n",
            "executing finally clause and the new value of x is  260740604970814219042361048116400404614587954389239840081425977517360806369707098391474864128\n",
            "result is 1.3037030248540711e+92\n",
            "executing finally clause and the new value of x is  521481209941628438084722096232800809229175908778479680162851955034721612739414196782949728256\n",
            "result is 2.6074060497081422e+92\n",
            "executing finally clause and the new value of x is  1042962419883256876169444192465601618458351817556959360325703910069443225478828393565899456512\n",
            "result is 5.2148120994162844e+92\n",
            "executing finally clause and the new value of x is  2085924839766513752338888384931203236916703635113918720651407820138886450957656787131798913024\n",
            "result is 1.0429624198832569e+93\n",
            "executing finally clause and the new value of x is  4171849679533027504677776769862406473833407270227837441302815640277772901915313574263597826048\n",
            "result is 2.0859248397665138e+93\n",
            "executing finally clause and the new value of x is  8343699359066055009355553539724812947666814540455674882605631280555545803830627148527195652096\n",
            "result is 4.1718496795330275e+93\n",
            "executing finally clause and the new value of x is  16687398718132110018711107079449625895333629080911349765211262561111091607661254297054391304192\n",
            "result is 8.343699359066055e+93\n",
            "executing finally clause and the new value of x is  33374797436264220037422214158899251790667258161822699530422525122222183215322508594108782608384\n",
            "result is 1.668739871813211e+94\n",
            "executing finally clause and the new value of x is  66749594872528440074844428317798503581334516323645399060845050244444366430645017188217565216768\n",
            "result is 3.337479743626422e+94\n",
            "executing finally clause and the new value of x is  133499189745056880149688856635597007162669032647290798121690100488888732861290034376435130433536\n",
            "result is 6.674959487252844e+94\n",
            "executing finally clause and the new value of x is  266998379490113760299377713271194014325338065294581596243380200977777465722580068752870260867072\n",
            "result is 1.3349918974505688e+95\n",
            "executing finally clause and the new value of x is  533996758980227520598755426542388028650676130589163192486760401955554931445160137505740521734144\n",
            "result is 2.6699837949011376e+95\n",
            "executing finally clause and the new value of x is  1067993517960455041197510853084776057301352261178326384973520803911109862890320275011481043468288\n",
            "result is 5.339967589802275e+95\n",
            "executing finally clause and the new value of x is  2135987035920910082395021706169552114602704522356652769947041607822219725780640550022962086936576\n",
            "result is 1.067993517960455e+96\n",
            "executing finally clause and the new value of x is  4271974071841820164790043412339104229205409044713305539894083215644439451561281100045924173873152\n",
            "result is 2.13598703592091e+96\n",
            "executing finally clause and the new value of x is  8543948143683640329580086824678208458410818089426611079788166431288878903122562200091848347746304\n",
            "result is 4.27197407184182e+96\n",
            "executing finally clause and the new value of x is  17087896287367280659160173649356416916821636178853222159576332862577757806245124400183696695492608\n",
            "result is 8.54394814368364e+96\n",
            "executing finally clause and the new value of x is  34175792574734561318320347298712833833643272357706444319152665725155515612490248800367393390985216\n",
            "result is 1.708789628736728e+97\n",
            "executing finally clause and the new value of x is  68351585149469122636640694597425667667286544715412888638305331450311031224980497600734786781970432\n",
            "result is 3.417579257473456e+97\n",
            "executing finally clause and the new value of x is  136703170298938245273281389194851335334573089430825777276610662900622062449960995201469573563940864\n",
            "result is 6.835158514946912e+97\n",
            "executing finally clause and the new value of x is  273406340597876490546562778389702670669146178861651554553221325801244124899921990402939147127881728\n",
            "result is 1.3670317029893825e+98\n",
            "executing finally clause and the new value of x is  546812681195752981093125556779405341338292357723303109106442651602488249799843980805878294255763456\n",
            "result is 2.734063405978765e+98\n",
            "executing finally clause and the new value of x is  1093625362391505962186251113558810682676584715446606218212885303204976499599687961611756588511526912\n",
            "result is 5.46812681195753e+98\n",
            "executing finally clause and the new value of x is  2187250724783011924372502227117621365353169430893212436425770606409952999199375923223513177023053824\n",
            "result is 1.093625362391506e+99\n",
            "executing finally clause and the new value of x is  4374501449566023848745004454235242730706338861786424872851541212819905998398751846447026354046107648\n",
            "result is 2.187250724783012e+99\n",
            "executing finally clause and the new value of x is  8749002899132047697490008908470485461412677723572849745703082425639811996797503692894052708092215296\n",
            "result is 4.374501449566024e+99\n",
            "executing finally clause and the new value of x is  17498005798264095394980017816940970922825355447145699491406164851279623993595007385788105416184430592\n",
            "result is 8.749002899132048e+99\n",
            "executing finally clause and the new value of x is  34996011596528190789960035633881941845650710894291398982812329702559247987190014771576210832368861184\n",
            "result is 1.7498005798264095e+100\n",
            "executing finally clause and the new value of x is  69992023193056381579920071267763883691301421788582797965624659405118495974380029543152421664737722368\n",
            "result is 3.499601159652819e+100\n",
            "executing finally clause and the new value of x is  139984046386112763159840142535527767382602843577165595931249318810236991948760059086304843329475444736\n",
            "result is 6.999202319305638e+100\n",
            "executing finally clause and the new value of x is  279968092772225526319680285071055534765205687154331191862498637620473983897520118172609686658950889472\n",
            "result is 1.3998404638611276e+101\n",
            "executing finally clause and the new value of x is  559936185544451052639360570142111069530411374308662383724997275240947967795040236345219373317901778944\n",
            "result is 2.7996809277222553e+101\n",
            "executing finally clause and the new value of x is  1119872371088902105278721140284222139060822748617324767449994550481895935590080472690438746635803557888\n",
            "result is 5.599361855444511e+101\n",
            "executing finally clause and the new value of x is  2239744742177804210557442280568444278121645497234649534899989100963791871180160945380877493271607115776\n",
            "result is 1.1198723710889021e+102\n",
            "executing finally clause and the new value of x is  4479489484355608421114884561136888556243290994469299069799978201927583742360321890761754986543214231552\n",
            "result is 2.2397447421778042e+102\n",
            "executing finally clause and the new value of x is  8958978968711216842229769122273777112486581988938598139599956403855167484720643781523509973086428463104\n",
            "result is 4.4794894843556084e+102\n",
            "executing finally clause and the new value of x is  17917957937422433684459538244547554224973163977877196279199912807710334969441287563047019946172856926208\n",
            "result is 8.958978968711217e+102\n",
            "executing finally clause and the new value of x is  35835915874844867368919076489095108449946327955754392558399825615420669938882575126094039892345713852416\n",
            "result is 1.7917957937422434e+103\n",
            "executing finally clause and the new value of x is  71671831749689734737838152978190216899892655911508785116799651230841339877765150252188079784691427704832\n",
            "result is 3.583591587484487e+103\n",
            "executing finally clause and the new value of x is  143343663499379469475676305956380433799785311823017570233599302461682679755530300504376159569382855409664\n",
            "result is 7.167183174968974e+103\n",
            "executing finally clause and the new value of x is  286687326998758938951352611912760867599570623646035140467198604923365359511060601008752319138765710819328\n",
            "result is 1.4334366349937947e+104\n",
            "executing finally clause and the new value of x is  573374653997517877902705223825521735199141247292070280934397209846730719022121202017504638277531421638656\n",
            "result is 2.8668732699875894e+104\n",
            "executing finally clause and the new value of x is  1146749307995035755805410447651043470398282494584140561868794419693461438044242404035009276555062843277312\n",
            "result is 5.733746539975179e+104\n",
            "executing finally clause and the new value of x is  2293498615990071511610820895302086940796564989168281123737588839386922876088484808070018553110125686554624\n",
            "result is 1.1467493079950358e+105\n",
            "executing finally clause and the new value of x is  4586997231980143023221641790604173881593129978336562247475177678773845752176969616140037106220251373109248\n",
            "result is 2.2934986159900715e+105\n",
            "executing finally clause and the new value of x is  9173994463960286046443283581208347763186259956673124494950355357547691504353939232280074212440502746218496\n",
            "result is 4.586997231980143e+105\n",
            "executing finally clause and the new value of x is  18347988927920572092886567162416695526372519913346248989900710715095383008707878464560148424881005492436992\n",
            "result is 9.173994463960286e+105\n",
            "executing finally clause and the new value of x is  36695977855841144185773134324833391052745039826692497979801421430190766017415756929120296849762010984873984\n",
            "result is 1.8347988927920572e+106\n",
            "executing finally clause and the new value of x is  73391955711682288371546268649666782105490079653384995959602842860381532034831513858240593699524021969747968\n",
            "result is 3.6695977855841144e+106\n",
            "executing finally clause and the new value of x is  146783911423364576743092537299333564210980159306769991919205685720763064069663027716481187399048043939495936\n",
            "result is 7.339195571168229e+106\n",
            "executing finally clause and the new value of x is  293567822846729153486185074598667128421960318613539983838411371441526128139326055432962374798096087878991872\n",
            "result is 1.4678391142336458e+107\n",
            "executing finally clause and the new value of x is  587135645693458306972370149197334256843920637227079967676822742883052256278652110865924749596192175757983744\n",
            "result is 2.9356782284672915e+107\n",
            "executing finally clause and the new value of x is  1174271291386916613944740298394668513687841274454159935353645485766104512557304221731849499192384351515967488\n",
            "result is 5.871356456934583e+107\n",
            "executing finally clause and the new value of x is  2348542582773833227889480596789337027375682548908319870707290971532209025114608443463698998384768703031934976\n",
            "result is 1.1742712913869166e+108\n",
            "executing finally clause and the new value of x is  4697085165547666455778961193578674054751365097816639741414581943064418050229216886927397996769537406063869952\n",
            "result is 2.3485425827738332e+108\n",
            "executing finally clause and the new value of x is  9394170331095332911557922387157348109502730195633279482829163886128836100458433773854795993539074812127739904\n",
            "result is 4.6970851655476665e+108\n",
            "executing finally clause and the new value of x is  18788340662190665823115844774314696219005460391266558965658327772257672200916867547709591987078149624255479808\n",
            "result is 9.394170331095333e+108\n",
            "executing finally clause and the new value of x is  37576681324381331646231689548629392438010920782533117931316655544515344401833735095419183974156299248510959616\n",
            "result is 1.8788340662190666e+109\n",
            "executing finally clause and the new value of x is  75153362648762663292463379097258784876021841565066235862633311089030688803667470190838367948312598497021919232\n",
            "result is 3.757668132438133e+109\n",
            "executing finally clause and the new value of x is  150306725297525326584926758194517569752043683130132471725266622178061377607334940381676735896625196994043838464\n",
            "result is 7.515336264876266e+109\n",
            "executing finally clause and the new value of x is  300613450595050653169853516389035139504087366260264943450533244356122755214669880763353471793250393988087676928\n",
            "result is 1.5030672529752533e+110\n",
            "executing finally clause and the new value of x is  601226901190101306339707032778070279008174732520529886901066488712245510429339761526706943586500787976175353856\n",
            "result is 3.0061345059505065e+110\n",
            "executing finally clause and the new value of x is  1202453802380202612679414065556140558016349465041059773802132977424491020858679523053413887173001575952350707712\n",
            "result is 6.012269011901013e+110\n",
            "executing finally clause and the new value of x is  2404907604760405225358828131112281116032698930082119547604265954848982041717359046106827774346003151904701415424\n",
            "result is 1.2024538023802026e+111\n",
            "executing finally clause and the new value of x is  4809815209520810450717656262224562232065397860164239095208531909697964083434718092213655548692006303809402830848\n",
            "result is 2.4049076047604052e+111\n",
            "executing finally clause and the new value of x is  9619630419041620901435312524449124464130795720328478190417063819395928166869436184427311097384012607618805661696\n",
            "result is 4.8098152095208105e+111\n",
            "executing finally clause and the new value of x is  19239260838083241802870625048898248928261591440656956380834127638791856333738872368854622194768025215237611323392\n",
            "result is 9.619630419041621e+111\n",
            "executing finally clause and the new value of x is  38478521676166483605741250097796497856523182881313912761668255277583712667477744737709244389536050430475222646784\n",
            "result is 1.9239260838083242e+112\n",
            "executing finally clause and the new value of x is  76957043352332967211482500195592995713046365762627825523336510555167425334955489475418488779072100860950445293568\n",
            "result is 3.8478521676166484e+112\n",
            "executing finally clause and the new value of x is  153914086704665934422965000391185991426092731525255651046673021110334850669910978950836977558144201721900890587136\n",
            "result is 7.695704335233297e+112\n",
            "executing finally clause and the new value of x is  307828173409331868845930000782371982852185463050511302093346042220669701339821957901673955116288403443801781174272\n",
            "result is 1.5391408670466593e+113\n",
            "executing finally clause and the new value of x is  615656346818663737691860001564743965704370926101022604186692084441339402679643915803347910232576806887603562348544\n",
            "result is 3.078281734093319e+113\n",
            "executing finally clause and the new value of x is  1231312693637327475383720003129487931408741852202045208373384168882678805359287831606695820465153613775207124697088\n",
            "result is 6.156563468186638e+113\n",
            "executing finally clause and the new value of x is  2462625387274654950767440006258975862817483704404090416746768337765357610718575663213391640930307227550414249394176\n",
            "result is 1.2313126936373275e+114\n",
            "executing finally clause and the new value of x is  4925250774549309901534880012517951725634967408808180833493536675530715221437151326426783281860614455100828498788352\n",
            "result is 2.462625387274655e+114\n",
            "executing finally clause and the new value of x is  9850501549098619803069760025035903451269934817616361666987073351061430442874302652853566563721228910201656997576704\n",
            "result is 4.92525077454931e+114\n",
            "executing finally clause and the new value of x is  19701003098197239606139520050071806902539869635232723333974146702122860885748605305707133127442457820403313995153408\n",
            "result is 9.85050154909862e+114\n",
            "executing finally clause and the new value of x is  39402006196394479212279040100143613805079739270465446667948293404245721771497210611414266254884915640806627990306816\n",
            "result is 1.970100309819724e+115\n",
            "executing finally clause and the new value of x is  78804012392788958424558080200287227610159478540930893335896586808491443542994421222828532509769831281613255980613632\n",
            "result is 3.940200619639448e+115\n",
            "executing finally clause and the new value of x is  157608024785577916849116160400574455220318957081861786671793173616982887085988842445657065019539662563226511961227264\n",
            "result is 7.880401239278896e+115\n",
            "executing finally clause and the new value of x is  315216049571155833698232320801148910440637914163723573343586347233965774171977684891314130039079325126453023922454528\n",
            "result is 1.5760802478557792e+116\n",
            "executing finally clause and the new value of x is  630432099142311667396464641602297820881275828327447146687172694467931548343955369782628260078158650252906047844909056\n",
            "result is 3.1521604957115583e+116\n",
            "executing finally clause and the new value of x is  1260864198284623334792929283204595641762551656654894293374345388935863096687910739565256520156317300505812095689818112\n",
            "result is 6.304320991423117e+116\n",
            "executing finally clause and the new value of x is  2521728396569246669585858566409191283525103313309788586748690777871726193375821479130513040312634601011624191379636224\n",
            "result is 1.2608641982846233e+117\n",
            "executing finally clause and the new value of x is  5043456793138493339171717132818382567050206626619577173497381555743452386751642958261026080625269202023248382759272448\n",
            "result is 2.5217283965692467e+117\n",
            "executing finally clause and the new value of x is  10086913586276986678343434265636765134100413253239154346994763111486904773503285916522052161250538404046496765518544896\n",
            "result is 5.0434567931384933e+117\n",
            "executing finally clause and the new value of x is  20173827172553973356686868531273530268200826506478308693989526222973809547006571833044104322501076808092993531037089792\n",
            "result is 1.0086913586276987e+118\n",
            "executing finally clause and the new value of x is  40347654345107946713373737062547060536401653012956617387979052445947619094013143666088208645002153616185987062074179584\n",
            "result is 2.0173827172553973e+118\n",
            "executing finally clause and the new value of x is  80695308690215893426747474125094121072803306025913234775958104891895238188026287332176417290004307232371974124148359168\n",
            "result is 4.034765434510795e+118\n",
            "executing finally clause and the new value of x is  161390617380431786853494948250188242145606612051826469551916209783790476376052574664352834580008614464743948248296718336\n",
            "result is 8.06953086902159e+118\n",
            "executing finally clause and the new value of x is  322781234760863573706989896500376484291213224103652939103832419567580952752105149328705669160017228929487896496593436672\n",
            "result is 1.613906173804318e+119\n",
            "executing finally clause and the new value of x is  645562469521727147413979793000752968582426448207305878207664839135161905504210298657411338320034457858975792993186873344\n",
            "result is 3.227812347608636e+119\n",
            "executing finally clause and the new value of x is  1291124939043454294827959586001505937164852896414611756415329678270323811008420597314822676640068915717951585986373746688\n",
            "result is 6.455624695217272e+119\n",
            "executing finally clause and the new value of x is  2582249878086908589655919172003011874329705792829223512830659356540647622016841194629645353280137831435903171972747493376\n",
            "result is 1.2911249390434543e+120\n",
            "executing finally clause and the new value of x is  5164499756173817179311838344006023748659411585658447025661318713081295244033682389259290706560275662871806343945494986752\n",
            "result is 2.5822498780869086e+120\n",
            "executing finally clause and the new value of x is  10328999512347634358623676688012047497318823171316894051322637426162590488067364778518581413120551325743612687890989973504\n",
            "result is 5.164499756173817e+120\n",
            "executing finally clause and the new value of x is  20657999024695268717247353376024094994637646342633788102645274852325180976134729557037162826241102651487225375781979947008\n",
            "result is 1.0328999512347634e+121\n",
            "executing finally clause and the new value of x is  41315998049390537434494706752048189989275292685267576205290549704650361952269459114074325652482205302974450751563959894016\n",
            "result is 2.065799902469527e+121\n",
            "executing finally clause and the new value of x is  82631996098781074868989413504096379978550585370535152410581099409300723904538918228148651304964410605948901503127919788032\n",
            "result is 4.131599804939054e+121\n",
            "executing finally clause and the new value of x is  165263992197562149737978827008192759957101170741070304821162198818601447809077836456297302609928821211897803006255839576064\n",
            "result is 8.263199609878108e+121\n",
            "executing finally clause and the new value of x is  330527984395124299475957654016385519914202341482140609642324397637202895618155672912594605219857642423795606012511679152128\n",
            "result is 1.6526399219756215e+122\n",
            "executing finally clause and the new value of x is  661055968790248598951915308032771039828404682964281219284648795274405791236311345825189210439715284847591212025023358304256\n",
            "result is 3.305279843951243e+122\n",
            "executing finally clause and the new value of x is  1322111937580497197903830616065542079656809365928562438569297590548811582472622691650378420879430569695182424050046716608512\n",
            "result is 6.610559687902486e+122\n",
            "executing finally clause and the new value of x is  2644223875160994395807661232131084159313618731857124877138595181097623164945245383300756841758861139390364848100093433217024\n",
            "result is 1.3221119375804972e+123\n",
            "executing finally clause and the new value of x is  5288447750321988791615322464262168318627237463714249754277190362195246329890490766601513683517722278780729696200186866434048\n",
            "result is 2.6442238751609944e+123\n",
            "executing finally clause and the new value of x is  10576895500643977583230644928524336637254474927428499508554380724390492659780981533203027367035444557561459392400373732868096\n",
            "result is 5.288447750321989e+123\n",
            "executing finally clause and the new value of x is  21153791001287955166461289857048673274508949854856999017108761448780985319561963066406054734070889115122918784800747465736192\n",
            "result is 1.0576895500643978e+124\n",
            "executing finally clause and the new value of x is  42307582002575910332922579714097346549017899709713998034217522897561970639123926132812109468141778230245837569601494931472384\n",
            "result is 2.1153791001287955e+124\n",
            "executing finally clause and the new value of x is  84615164005151820665845159428194693098035799419427996068435045795123941278247852265624218936283556460491675139202989862944768\n",
            "result is 4.230758200257591e+124\n",
            "executing finally clause and the new value of x is  169230328010303641331690318856389386196071598838855992136870091590247882556495704531248437872567112920983350278405979725889536\n",
            "result is 8.461516400515182e+124\n",
            "executing finally clause and the new value of x is  338460656020607282663380637712778772392143197677711984273740183180495765112991409062496875745134225841966700556811959451779072\n",
            "result is 1.6923032801030364e+125\n",
            "executing finally clause and the new value of x is  676921312041214565326761275425557544784286395355423968547480366360991530225982818124993751490268451683933401113623918903558144\n",
            "result is 3.384606560206073e+125\n",
            "executing finally clause and the new value of x is  1353842624082429130653522550851115089568572790710847937094960732721983060451965636249987502980536903367866802227247837807116288\n",
            "result is 6.769213120412146e+125\n",
            "executing finally clause and the new value of x is  2707685248164858261307045101702230179137145581421695874189921465443966120903931272499975005961073806735733604454495675614232576\n",
            "result is 1.3538426240824291e+126\n",
            "executing finally clause and the new value of x is  5415370496329716522614090203404460358274291162843391748379842930887932241807862544999950011922147613471467208908991351228465152\n",
            "result is 2.7076852481648583e+126\n",
            "executing finally clause and the new value of x is  10830740992659433045228180406808920716548582325686783496759685861775864483615725089999900023844295226942934417817982702456930304\n",
            "result is 5.415370496329717e+126\n",
            "executing finally clause and the new value of x is  21661481985318866090456360813617841433097164651373566993519371723551728967231450179999800047688590453885868835635965404913860608\n",
            "result is 1.0830740992659433e+127\n",
            "executing finally clause and the new value of x is  43322963970637732180912721627235682866194329302747133987038743447103457934462900359999600095377180907771737671271930809827721216\n",
            "result is 2.1661481985318866e+127\n",
            "executing finally clause and the new value of x is  86645927941275464361825443254471365732388658605494267974077486894206915868925800719999200190754361815543475342543861619655442432\n",
            "result is 4.332296397063773e+127\n",
            "executing finally clause and the new value of x is  173291855882550928723650886508942731464777317210988535948154973788413831737851601439998400381508723631086950685087723239310884864\n",
            "result is 8.664592794127546e+127\n",
            "executing finally clause and the new value of x is  346583711765101857447301773017885462929554634421977071896309947576827663475703202879996800763017447262173901370175446478621769728\n",
            "result is 1.7329185588255093e+128\n",
            "executing finally clause and the new value of x is  693167423530203714894603546035770925859109268843954143792619895153655326951406405759993601526034894524347802740350892957243539456\n",
            "result is 3.4658371176510186e+128\n",
            "executing finally clause and the new value of x is  1386334847060407429789207092071541851718218537687908287585239790307310653902812811519987203052069789048695605480701785914487078912\n",
            "result is 6.931674235302037e+128\n",
            "executing finally clause and the new value of x is  2772669694120814859578414184143083703436437075375816575170479580614621307805625623039974406104139578097391210961403571828974157824\n",
            "result is 1.3863348470604074e+129\n",
            "executing finally clause and the new value of x is  5545339388241629719156828368286167406872874150751633150340959161229242615611251246079948812208279156194782421922807143657948315648\n",
            "result is 2.772669694120815e+129\n",
            "executing finally clause and the new value of x is  11090678776483259438313656736572334813745748301503266300681918322458485231222502492159897624416558312389564843845614287315896631296\n",
            "result is 5.54533938824163e+129\n",
            "executing finally clause and the new value of x is  22181357552966518876627313473144669627491496603006532601363836644916970462445004984319795248833116624779129687691228574631793262592\n",
            "result is 1.109067877648326e+130\n",
            "executing finally clause and the new value of x is  44362715105933037753254626946289339254982993206013065202727673289833940924890009968639590497666233249558259375382457149263586525184\n",
            "result is 2.218135755296652e+130\n",
            "executing finally clause and the new value of x is  88725430211866075506509253892578678509965986412026130405455346579667881849780019937279180995332466499116518750764914298527173050368\n",
            "result is 4.436271510593304e+130\n",
            "executing finally clause and the new value of x is  177450860423732151013018507785157357019931972824052260810910693159335763699560039874558361990664932998233037501529828597054346100736\n",
            "result is 8.872543021186608e+130\n",
            "executing finally clause and the new value of x is  354901720847464302026037015570314714039863945648104521621821386318671527399120079749116723981329865996466075003059657194108692201472\n",
            "result is 1.7745086042373215e+131\n",
            "executing finally clause and the new value of x is  709803441694928604052074031140629428079727891296209043243642772637343054798240159498233447962659731992932150006119314388217384402944\n",
            "result is 3.549017208474643e+131\n",
            "executing finally clause and the new value of x is  1419606883389857208104148062281258856159455782592418086487285545274686109596480318996466895925319463985864300012238628776434768805888\n",
            "result is 7.098034416949286e+131\n",
            "executing finally clause and the new value of x is  2839213766779714416208296124562517712318911565184836172974571090549372219192960637992933791850638927971728600024477257552869537611776\n",
            "result is 1.4196068833898572e+132\n",
            "executing finally clause and the new value of x is  5678427533559428832416592249125035424637823130369672345949142181098744438385921275985867583701277855943457200048954515105739075223552\n",
            "result is 2.8392137667797144e+132\n",
            "executing finally clause and the new value of x is  11356855067118857664833184498250070849275646260739344691898284362197488876771842551971735167402555711886914400097909030211478150447104\n",
            "result is 5.678427533559429e+132\n",
            "executing finally clause and the new value of x is  22713710134237715329666368996500141698551292521478689383796568724394977753543685103943470334805111423773828800195818060422956300894208\n",
            "result is 1.1356855067118858e+133\n",
            "executing finally clause and the new value of x is  45427420268475430659332737993000283397102585042957378767593137448789955507087370207886940669610222847547657600391636120845912601788416\n",
            "result is 2.2713710134237715e+133\n",
            "executing finally clause and the new value of x is  90854840536950861318665475986000566794205170085914757535186274897579911014174740415773881339220445695095315200783272241691825203576832\n",
            "result is 4.542742026847543e+133\n",
            "executing finally clause and the new value of x is  181709681073901722637330951972001133588410340171829515070372549795159822028349480831547762678440891390190630401566544483383650407153664\n",
            "result is 9.085484053695086e+133\n",
            "executing finally clause and the new value of x is  363419362147803445274661903944002267176820680343659030140745099590319644056698961663095525356881782780381260803133088966767300814307328\n",
            "result is 1.8170968107390172e+134\n",
            "executing finally clause and the new value of x is  726838724295606890549323807888004534353641360687318060281490199180639288113397923326191050713763565560762521606266177933534601628614656\n",
            "result is 3.6341936214780345e+134\n",
            "executing finally clause and the new value of x is  1453677448591213781098647615776009068707282721374636120562980398361278576226795846652382101427527131121525043212532355867069203257229312\n",
            "result is 7.268387242956069e+134\n",
            "executing finally clause and the new value of x is  2907354897182427562197295231552018137414565442749272241125960796722557152453591693304764202855054262243050086425064711734138406514458624\n",
            "result is 1.4536774485912138e+135\n",
            "executing finally clause and the new value of x is  5814709794364855124394590463104036274829130885498544482251921593445114304907183386609528405710108524486100172850129423468276813028917248\n",
            "result is 2.9073548971824276e+135\n",
            "executing finally clause and the new value of x is  11629419588729710248789180926208072549658261770997088964503843186890228609814366773219056811420217048972200345700258846936553626057834496\n",
            "result is 5.814709794364855e+135\n",
            "executing finally clause and the new value of x is  23258839177459420497578361852416145099316523541994177929007686373780457219628733546438113622840434097944400691400517693873107252115668992\n",
            "result is 1.162941958872971e+136\n",
            "executing finally clause and the new value of x is  46517678354918840995156723704832290198633047083988355858015372747560914439257467092876227245680868195888801382801035387746214504231337984\n",
            "result is 2.325883917745942e+136\n",
            "executing finally clause and the new value of x is  93035356709837681990313447409664580397266094167976711716030745495121828878514934185752454491361736391777602765602070775492429008462675968\n",
            "result is 4.651767835491884e+136\n",
            "executing finally clause and the new value of x is  186070713419675363980626894819329160794532188335953423432061490990243657757029868371504908982723472783555205531204141550984858016925351936\n",
            "result is 9.303535670983768e+136\n",
            "executing finally clause and the new value of x is  372141426839350727961253789638658321589064376671906846864122981980487315514059736743009817965446945567110411062408283101969716033850703872\n",
            "result is 1.8607071341967536e+137\n",
            "executing finally clause and the new value of x is  744282853678701455922507579277316643178128753343813693728245963960974631028119473486019635930893891134220822124816566203939432067701407744\n",
            "result is 3.7214142683935073e+137\n",
            "executing finally clause and the new value of x is  1488565707357402911845015158554633286356257506687627387456491927921949262056238946972039271861787782268441644249633132407878864135402815488\n",
            "result is 7.442828536787015e+137\n",
            "executing finally clause and the new value of x is  2977131414714805823690030317109266572712515013375254774912983855843898524112477893944078543723575564536883288499266264815757728270805630976\n",
            "result is 1.488565707357403e+138\n",
            "executing finally clause and the new value of x is  5954262829429611647380060634218533145425030026750509549825967711687797048224955787888157087447151129073766576998532529631515456541611261952\n",
            "result is 2.977131414714806e+138\n",
            "executing finally clause and the new value of x is  11908525658859223294760121268437066290850060053501019099651935423375594096449911575776314174894302258147533153997065059263030913083222523904\n",
            "result is 5.954262829429612e+138\n",
            "executing finally clause and the new value of x is  23817051317718446589520242536874132581700120107002038199303870846751188192899823151552628349788604516295066307994130118526061826166445047808\n",
            "result is 1.1908525658859223e+139\n",
            "executing finally clause and the new value of x is  47634102635436893179040485073748265163400240214004076398607741693502376385799646303105256699577209032590132615988260237052123652332890095616\n",
            "result is 2.3817051317718447e+139\n",
            "executing finally clause and the new value of x is  95268205270873786358080970147496530326800480428008152797215483387004752771599292606210513399154418065180265231976520474104247304665780191232\n",
            "result is 4.7634102635436893e+139\n",
            "executing finally clause and the new value of x is  190536410541747572716161940294993060653600960856016305594430966774009505543198585212421026798308836130360530463953040948208494609331560382464\n",
            "result is 9.526820527087379e+139\n",
            "executing finally clause and the new value of x is  381072821083495145432323880589986121307201921712032611188861933548019011086397170424842053596617672260721060927906081896416989218663120764928\n",
            "result is 1.9053641054174757e+140\n",
            "executing finally clause and the new value of x is  762145642166990290864647761179972242614403843424065222377723867096038022172794340849684107193235344521442121855812163792833978437326241529856\n",
            "result is 3.8107282108349515e+140\n",
            "executing finally clause and the new value of x is  1524291284333980581729295522359944485228807686848130444755447734192076044345588681699368214386470689042884243711624327585667956874652483059712\n",
            "result is 7.621456421669903e+140\n",
            "executing finally clause and the new value of x is  3048582568667961163458591044719888970457615373696260889510895468384152088691177363398736428772941378085768487423248655171335913749304966119424\n",
            "result is 1.5242912843339806e+141\n",
            "executing finally clause and the new value of x is  6097165137335922326917182089439777940915230747392521779021790936768304177382354726797472857545882756171536974846497310342671827498609932238848\n",
            "result is 3.048582568667961e+141\n",
            "executing finally clause and the new value of x is  12194330274671844653834364178879555881830461494785043558043581873536608354764709453594945715091765512343073949692994620685343654997219864477696\n",
            "result is 6.097165137335922e+141\n",
            "executing finally clause and the new value of x is  24388660549343689307668728357759111763660922989570087116087163747073216709529418907189891430183531024686147899385989241370687309994439728955392\n",
            "result is 1.2194330274671845e+142\n",
            "executing finally clause and the new value of x is  48777321098687378615337456715518223527321845979140174232174327494146433419058837814379782860367062049372295798771978482741374619988879457910784\n",
            "result is 2.438866054934369e+142\n",
            "executing finally clause and the new value of x is  97554642197374757230674913431036447054643691958280348464348654988292866838117675628759565720734124098744591597543956965482749239977758915821568\n",
            "result is 4.877732109868738e+142\n",
            "executing finally clause and the new value of x is  195109284394749514461349826862072894109287383916560696928697309976585733676235351257519131441468248197489183195087913930965498479955517831643136\n",
            "result is 9.755464219737476e+142\n",
            "executing finally clause and the new value of x is  390218568789499028922699653724145788218574767833121393857394619953171467352470702515038262882936496394978366390175827861930996959911035663286272\n",
            "result is 1.9510928439474951e+143\n",
            "executing finally clause and the new value of x is  780437137578998057845399307448291576437149535666242787714789239906342934704941405030076525765872992789956732780351655723861993919822071326572544\n",
            "result is 3.9021856878949903e+143\n",
            "executing finally clause and the new value of x is  1560874275157996115690798614896583152874299071332485575429578479812685869409882810060153051531745985579913465560703311447723987839644142653145088\n",
            "result is 7.804371375789981e+143\n",
            "executing finally clause and the new value of x is  3121748550315992231381597229793166305748598142664971150859156959625371738819765620120306103063491971159826931121406622895447975679288285306290176\n",
            "result is 1.5608742751579961e+144\n",
            "executing finally clause and the new value of x is  6243497100631984462763194459586332611497196285329942301718313919250743477639531240240612206126983942319653862242813245790895951358576570612580352\n",
            "result is 3.1217485503159922e+144\n",
            "executing finally clause and the new value of x is  12486994201263968925526388919172665222994392570659884603436627838501486955279062480481224412253967884639307724485626491581791902717153141225160704\n",
            "result is 6.243497100631985e+144\n",
            "executing finally clause and the new value of x is  24973988402527937851052777838345330445988785141319769206873255677002973910558124960962448824507935769278615448971252983163583805434306282450321408\n",
            "result is 1.248699420126397e+145\n",
            "executing finally clause and the new value of x is  49947976805055875702105555676690660891977570282639538413746511354005947821116249921924897649015871538557230897942505966327167610868612564900642816\n",
            "result is 2.497398840252794e+145\n",
            "executing finally clause and the new value of x is  99895953610111751404211111353381321783955140565279076827493022708011895642232499843849795298031743077114461795885011932654335221737225129801285632\n",
            "result is 4.994797680505588e+145\n",
            "executing finally clause and the new value of x is  199791907220223502808422222706762643567910281130558153654986045416023791284464999687699590596063486154228923591770023865308670443474450259602571264\n",
            "result is 9.989595361011175e+145\n",
            "executing finally clause and the new value of x is  399583814440447005616844445413525287135820562261116307309972090832047582568929999375399181192126972308457847183540047730617340886948900519205142528\n",
            "result is 1.997919072202235e+146\n",
            "executing finally clause and the new value of x is  799167628880894011233688890827050574271641124522232614619944181664095165137859998750798362384253944616915694367080095461234681773897801038410285056\n",
            "result is 3.99583814440447e+146\n",
            "executing finally clause and the new value of x is  1598335257761788022467377781654101148543282249044465229239888363328190330275719997501596724768507889233831388734160190922469363547795602076820570112\n",
            "result is 7.99167628880894e+146\n",
            "executing finally clause and the new value of x is  3196670515523576044934755563308202297086564498088930458479776726656380660551439995003193449537015778467662777468320381844938727095591204153641140224\n",
            "result is 1.598335257761788e+147\n",
            "executing finally clause and the new value of x is  6393341031047152089869511126616404594173128996177860916959553453312761321102879990006386899074031556935325554936640763689877454191182408307282280448\n",
            "result is 3.196670515523576e+147\n",
            "executing finally clause and the new value of x is  12786682062094304179739022253232809188346257992355721833919106906625522642205759980012773798148063113870651109873281527379754908382364816614564560896\n",
            "result is 6.393341031047152e+147\n",
            "executing finally clause and the new value of x is  25573364124188608359478044506465618376692515984711443667838213813251045284411519960025547596296126227741302219746563054759509816764729633229129121792\n",
            "result is 1.2786682062094304e+148\n",
            "executing finally clause and the new value of x is  51146728248377216718956089012931236753385031969422887335676427626502090568823039920051095192592252455482604439493126109519019633529459266458258243584\n",
            "result is 2.557336412418861e+148\n",
            "executing finally clause and the new value of x is  102293456496754433437912178025862473506770063938845774671352855253004181137646079840102190385184504910965208878986252219038039267058918532916516487168\n",
            "result is 5.114672824837722e+148\n",
            "executing finally clause and the new value of x is  204586912993508866875824356051724947013540127877691549342705710506008362275292159680204380770369009821930417757972504438076078534117837065833032974336\n",
            "result is 1.0229345649675443e+149\n",
            "executing finally clause and the new value of x is  409173825987017733751648712103449894027080255755383098685411421012016724550584319360408761540738019643860835515945008876152157068235674131666065948672\n",
            "result is 2.0458691299350887e+149\n",
            "executing finally clause and the new value of x is  818347651974035467503297424206899788054160511510766197370822842024033449101168638720817523081476039287721671031890017752304314136471348263332131897344\n",
            "result is 4.0917382598701773e+149\n",
            "executing finally clause and the new value of x is  1636695303948070935006594848413799576108321023021532394741645684048066898202337277441635046162952078575443342063780035504608628272942696526664263794688\n",
            "result is 8.183476519740355e+149\n",
            "executing finally clause and the new value of x is  3273390607896141870013189696827599152216642046043064789483291368096133796404674554883270092325904157150886684127560071009217256545885393053328527589376\n",
            "result is 1.636695303948071e+150\n",
            "executing finally clause and the new value of x is  6546781215792283740026379393655198304433284092086129578966582736192267592809349109766540184651808314301773368255120142018434513091770786106657055178752\n",
            "result is 3.273390607896142e+150\n",
            "executing finally clause and the new value of x is  13093562431584567480052758787310396608866568184172259157933165472384535185618698219533080369303616628603546736510240284036869026183541572213314110357504\n",
            "result is 6.546781215792284e+150\n",
            "executing finally clause and the new value of x is  26187124863169134960105517574620793217733136368344518315866330944769070371237396439066160738607233257207093473020480568073738052367083144426628220715008\n",
            "result is 1.3093562431584567e+151\n",
            "executing finally clause and the new value of x is  52374249726338269920211035149241586435466272736689036631732661889538140742474792878132321477214466514414186946040961136147476104734166288853256441430016\n",
            "result is 2.6187124863169135e+151\n",
            "executing finally clause and the new value of x is  104748499452676539840422070298483172870932545473378073263465323779076281484949585756264642954428933028828373892081922272294952209468332577706512882860032\n",
            "result is 5.237424972633827e+151\n",
            "executing finally clause and the new value of x is  209496998905353079680844140596966345741865090946756146526930647558152562969899171512529285908857866057656747784163844544589904418936665155413025765720064\n",
            "result is 1.0474849945267654e+152\n",
            "executing finally clause and the new value of x is  418993997810706159361688281193932691483730181893512293053861295116305125939798343025058571817715732115313495568327689089179808837873330310826051531440128\n",
            "result is 2.094969989053531e+152\n",
            "executing finally clause and the new value of x is  837987995621412318723376562387865382967460363787024586107722590232610251879596686050117143635431464230626991136655378178359617675746660621652103062880256\n",
            "result is 4.189939978107062e+152\n",
            "executing finally clause and the new value of x is  1675975991242824637446753124775730765934920727574049172215445180465220503759193372100234287270862928461253982273310756356719235351493321243304206125760512\n",
            "result is 8.379879956214123e+152\n",
            "executing finally clause and the new value of x is  3351951982485649274893506249551461531869841455148098344430890360930441007518386744200468574541725856922507964546621512713438470702986642486608412251521024\n",
            "result is 1.6759759912428246e+153\n",
            "executing finally clause and the new value of x is  6703903964971298549787012499102923063739682910296196688861780721860882015036773488400937149083451713845015929093243025426876941405973284973216824503042048\n",
            "result is 3.3519519824856493e+153\n",
            "executing finally clause and the new value of x is  13407807929942597099574024998205846127479365820592393377723561443721764030073546976801874298166903427690031858186486050853753882811946569946433649006084096\n",
            "result is 6.703903964971299e+153\n",
            "executing finally clause and the new value of x is  26815615859885194199148049996411692254958731641184786755447122887443528060147093953603748596333806855380063716372972101707507765623893139892867298012168192\n",
            "result is 1.3407807929942597e+154\n",
            "executing finally clause and the new value of x is  53631231719770388398296099992823384509917463282369573510894245774887056120294187907207497192667613710760127432745944203415015531247786279785734596024336384\n",
            "result is 2.6815615859885194e+154\n",
            "executing finally clause and the new value of x is  107262463439540776796592199985646769019834926564739147021788491549774112240588375814414994385335227421520254865491888406830031062495572559571469192048672768\n",
            "result is 5.363123171977039e+154\n",
            "executing finally clause and the new value of x is  214524926879081553593184399971293538039669853129478294043576983099548224481176751628829988770670454843040509730983776813660062124991145119142938384097345536\n",
            "result is 1.0726246343954078e+155\n",
            "executing finally clause and the new value of x is  429049853758163107186368799942587076079339706258956588087153966199096448962353503257659977541340909686081019461967553627320124249982290238285876768194691072\n",
            "result is 2.1452492687908155e+155\n",
            "executing finally clause and the new value of x is  858099707516326214372737599885174152158679412517913176174307932398192897924707006515319955082681819372162038923935107254640248499964580476571753536389382144\n",
            "result is 4.290498537581631e+155\n",
            "executing finally clause and the new value of x is  1716199415032652428745475199770348304317358825035826352348615864796385795849414013030639910165363638744324077847870214509280496999929160953143507072778764288\n",
            "result is 8.580997075163262e+155\n",
            "executing finally clause and the new value of x is  3432398830065304857490950399540696608634717650071652704697231729592771591698828026061279820330727277488648155695740429018560993999858321906287014145557528576\n",
            "result is 1.7161994150326524e+156\n",
            "executing finally clause and the new value of x is  6864797660130609714981900799081393217269435300143305409394463459185543183397656052122559640661454554977296311391480858037121987999716643812574028291115057152\n",
            "result is 3.432398830065305e+156\n",
            "executing finally clause and the new value of x is  13729595320261219429963801598162786434538870600286610818788926918371086366795312104245119281322909109954592622782961716074243975999433287625148056582230114304\n",
            "result is 6.86479766013061e+156\n",
            "executing finally clause and the new value of x is  27459190640522438859927603196325572869077741200573221637577853836742172733590624208490238562645818219909185245565923432148487951998866575250296113164460228608\n",
            "result is 1.372959532026122e+157\n",
            "executing finally clause and the new value of x is  54918381281044877719855206392651145738155482401146443275155707673484345467181248416980477125291636439818370491131846864296975903997733150500592226328920457216\n",
            "result is 2.745919064052244e+157\n",
            "executing finally clause and the new value of x is  109836762562089755439710412785302291476310964802292886550311415346968690934362496833960954250583272879636740982263693728593951807995466301001184452657840914432\n",
            "result is 5.491838128104488e+157\n",
            "executing finally clause and the new value of x is  219673525124179510879420825570604582952621929604585773100622830693937381868724993667921908501166545759273481964527387457187903615990932602002368905315681828864\n",
            "result is 1.0983676256208976e+158\n",
            "executing finally clause and the new value of x is  439347050248359021758841651141209165905243859209171546201245661387874763737449987335843817002333091518546963929054774914375807231981865204004737810631363657728\n",
            "result is 2.196735251241795e+158\n",
            "executing finally clause and the new value of x is  878694100496718043517683302282418331810487718418343092402491322775749527474899974671687634004666183037093927858109549828751614463963730408009475621262727315456\n",
            "result is 4.39347050248359e+158\n",
            "executing finally clause and the new value of x is  1757388200993436087035366604564836663620975436836686184804982645551499054949799949343375268009332366074187855716219099657503228927927460816018951242525454630912\n",
            "result is 8.78694100496718e+158\n",
            "executing finally clause and the new value of x is  3514776401986872174070733209129673327241950873673372369609965291102998109899599898686750536018664732148375711432438199315006457855854921632037902485050909261824\n",
            "result is 1.757388200993436e+159\n",
            "executing finally clause and the new value of x is  7029552803973744348141466418259346654483901747346744739219930582205996219799199797373501072037329464296751422864876398630012915711709843264075804970101818523648\n",
            "result is 3.514776401986872e+159\n",
            "executing finally clause and the new value of x is  14059105607947488696282932836518693308967803494693489478439861164411992439598399594747002144074658928593502845729752797260025831423419686528151609940203637047296\n",
            "result is 7.029552803973744e+159\n",
            "executing finally clause and the new value of x is  28118211215894977392565865673037386617935606989386978956879722328823984879196799189494004288149317857187005691459505594520051662846839373056303219880407274094592\n",
            "result is 1.405910560794749e+160\n",
            "executing finally clause and the new value of x is  56236422431789954785131731346074773235871213978773957913759444657647969758393598378988008576298635714374011382919011189040103325693678746112606439760814548189184\n",
            "result is 2.811821121589498e+160\n",
            "executing finally clause and the new value of x is  112472844863579909570263462692149546471742427957547915827518889315295939516787196757976017152597271428748022765838022378080206651387357492225212879521629096378368\n",
            "result is 5.623642243178996e+160\n",
            "executing finally clause and the new value of x is  224945689727159819140526925384299092943484855915095831655037778630591879033574393515952034305194542857496045531676044756160413302774714984450425759043258192756736\n",
            "result is 1.1247284486357991e+161\n",
            "executing finally clause and the new value of x is  449891379454319638281053850768598185886969711830191663310075557261183758067148787031904068610389085714992091063352089512320826605549429968900851518086516385513472\n",
            "result is 2.2494568972715982e+161\n",
            "executing finally clause and the new value of x is  899782758908639276562107701537196371773939423660383326620151114522367516134297574063808137220778171429984182126704179024641653211098859937801703036173032771026944\n",
            "result is 4.4989137945431964e+161\n",
            "executing finally clause and the new value of x is  1799565517817278553124215403074392743547878847320766653240302229044735032268595148127616274441556342859968364253408358049283306422197719875603406072346065542053888\n",
            "result is 8.997827589086393e+161\n",
            "executing finally clause and the new value of x is  3599131035634557106248430806148785487095757694641533306480604458089470064537190296255232548883112685719936728506816716098566612844395439751206812144692131084107776\n",
            "result is 1.7995655178172786e+162\n",
            "executing finally clause and the new value of x is  7198262071269114212496861612297570974191515389283066612961208916178940129074380592510465097766225371439873457013633432197133225688790879502413624289384262168215552\n",
            "result is 3.599131035634557e+162\n",
            "executing finally clause and the new value of x is  14396524142538228424993723224595141948383030778566133225922417832357880258148761185020930195532450742879746914027266864394266451377581759004827248578768524336431104\n",
            "result is 7.198262071269114e+162\n",
            "executing finally clause and the new value of x is  28793048285076456849987446449190283896766061557132266451844835664715760516297522370041860391064901485759493828054533728788532902755163518009654497157537048672862208\n",
            "result is 1.439652414253823e+163\n",
            "executing finally clause and the new value of x is  57586096570152913699974892898380567793532123114264532903689671329431521032595044740083720782129802971518987656109067457577065805510327036019308994315074097345724416\n",
            "result is 2.879304828507646e+163\n",
            "executing finally clause and the new value of x is  115172193140305827399949785796761135587064246228529065807379342658863042065190089480167441564259605943037975312218134915154131611020654072038617988630148194691448832\n",
            "result is 5.758609657015292e+163\n",
            "executing finally clause and the new value of x is  230344386280611654799899571593522271174128492457058131614758685317726084130380178960334883128519211886075950624436269830308263222041308144077235977260296389382897664\n",
            "result is 1.1517219314030583e+164\n",
            "executing finally clause and the new value of x is  460688772561223309599799143187044542348256984914116263229517370635452168260760357920669766257038423772151901248872539660616526444082616288154471954520592778765795328\n",
            "result is 2.3034438628061165e+164\n",
            "executing finally clause and the new value of x is  921377545122446619199598286374089084696513969828232526459034741270904336521520715841339532514076847544303802497745079321233052888165232576308943909041185557531590656\n",
            "result is 4.606887725612233e+164\n",
            "executing finally clause and the new value of x is  1842755090244893238399196572748178169393027939656465052918069482541808673043041431682679065028153695088607604995490158642466105776330465152617887818082371115063181312\n",
            "result is 9.213775451224466e+164\n",
            "executing finally clause and the new value of x is  3685510180489786476798393145496356338786055879312930105836138965083617346086082863365358130056307390177215209990980317284932211552660930305235775636164742230126362624\n",
            "result is 1.8427550902448932e+165\n",
            "executing finally clause and the new value of x is  7371020360979572953596786290992712677572111758625860211672277930167234692172165726730716260112614780354430419981960634569864423105321860610471551272329484460252725248\n",
            "result is 3.6855101804897865e+165\n",
            "executing finally clause and the new value of x is  14742040721959145907193572581985425355144223517251720423344555860334469384344331453461432520225229560708860839963921269139728846210643721220943102544658968920505450496\n",
            "result is 7.371020360979573e+165\n",
            "executing finally clause and the new value of x is  29484081443918291814387145163970850710288447034503440846689111720668938768688662906922865040450459121417721679927842538279457692421287442441886205089317937841010900992\n",
            "result is 1.4742040721959146e+166\n",
            "executing finally clause and the new value of x is  58968162887836583628774290327941701420576894069006881693378223441337877537377325813845730080900918242835443359855685076558915384842574884883772410178635875682021801984\n",
            "result is 2.9484081443918292e+166\n",
            "executing finally clause and the new value of x is  117936325775673167257548580655883402841153788138013763386756446882675755074754651627691460161801836485670886719711370153117830769685149769767544820357271751364043603968\n",
            "result is 5.896816288783659e+166\n",
            "executing finally clause and the new value of x is  235872651551346334515097161311766805682307576276027526773512893765351510149509303255382920323603672971341773439422740306235661539370299539535089640714543502728087207936\n",
            "result is 1.1793632577567317e+167\n",
            "executing finally clause and the new value of x is  471745303102692669030194322623533611364615152552055053547025787530703020299018606510765840647207345942683546878845480612471323078740599079070179281429087005456174415872\n",
            "result is 2.3587265155134633e+167\n",
            "executing finally clause and the new value of x is  943490606205385338060388645247067222729230305104110107094051575061406040598037213021531681294414691885367093757690961224942646157481198158140358562858174010912348831744\n",
            "result is 4.717453031026927e+167\n",
            "executing finally clause and the new value of x is  1886981212410770676120777290494134445458460610208220214188103150122812081196074426043063362588829383770734187515381922449885292314962396316280717125716348021824697663488\n",
            "result is 9.434906062053853e+167\n",
            "executing finally clause and the new value of x is  3773962424821541352241554580988268890916921220416440428376206300245624162392148852086126725177658767541468375030763844899770584629924792632561434251432696043649395326976\n",
            "result is 1.8869812124107707e+168\n",
            "executing finally clause and the new value of x is  7547924849643082704483109161976537781833842440832880856752412600491248324784297704172253450355317535082936750061527689799541169259849585265122868502865392087298790653952\n",
            "result is 3.7739624248215414e+168\n",
            "executing finally clause and the new value of x is  15095849699286165408966218323953075563667684881665761713504825200982496649568595408344506900710635070165873500123055379599082338519699170530245737005730784174597581307904\n",
            "result is 7.547924849643083e+168\n",
            "executing finally clause and the new value of x is  30191699398572330817932436647906151127335369763331523427009650401964993299137190816689013801421270140331747000246110759198164677039398341060491474011461568349195162615808\n",
            "result is 1.5095849699286165e+169\n",
            "executing finally clause and the new value of x is  60383398797144661635864873295812302254670739526663046854019300803929986598274381633378027602842540280663494000492221518396329354078796682120982948022923136698390325231616\n",
            "result is 3.019169939857233e+169\n",
            "executing finally clause and the new value of x is  120766797594289323271729746591624604509341479053326093708038601607859973196548763266756055205685080561326988000984443036792658708157593364241965896045846273396780650463232\n",
            "result is 6.038339879714466e+169\n",
            "executing finally clause and the new value of x is  241533595188578646543459493183249209018682958106652187416077203215719946393097526533512110411370161122653976001968886073585317416315186728483931792091692546793561300926464\n",
            "result is 1.2076679759428932e+170\n",
            "executing finally clause and the new value of x is  483067190377157293086918986366498418037365916213304374832154406431439892786195053067024220822740322245307952003937772147170634832630373456967863584183385093587122601852928\n",
            "result is 2.4153359518857865e+170\n",
            "executing finally clause and the new value of x is  966134380754314586173837972732996836074731832426608749664308812862879785572390106134048441645480644490615904007875544294341269665260746913935727168366770187174245203705856\n",
            "result is 4.830671903771573e+170\n",
            "executing finally clause and the new value of x is  1932268761508629172347675945465993672149463664853217499328617625725759571144780212268096883290961288981231808015751088588682539330521493827871454336733540374348490407411712\n",
            "result is 9.661343807543146e+170\n",
            "executing finally clause and the new value of x is  3864537523017258344695351890931987344298927329706434998657235251451519142289560424536193766581922577962463616031502177177365078661042987655742908673467080748696980814823424\n",
            "result is 1.9322687615086292e+171\n",
            "executing finally clause and the new value of x is  7729075046034516689390703781863974688597854659412869997314470502903038284579120849072387533163845155924927232063004354354730157322085975311485817346934161497393961629646848\n",
            "result is 3.8645375230172583e+171\n",
            "executing finally clause and the new value of x is  15458150092069033378781407563727949377195709318825739994628941005806076569158241698144775066327690311849854464126008708709460314644171950622971634693868322994787923259293696\n",
            "result is 7.729075046034517e+171\n",
            "executing finally clause and the new value of x is  30916300184138066757562815127455898754391418637651479989257882011612153138316483396289550132655380623699708928252017417418920629288343901245943269387736645989575846518587392\n",
            "result is 1.5458150092069033e+172\n",
            "executing finally clause and the new value of x is  61832600368276133515125630254911797508782837275302959978515764023224306276632966792579100265310761247399417856504034834837841258576687802491886538775473291979151693037174784\n",
            "result is 3.091630018413807e+172\n",
            "executing finally clause and the new value of x is  123665200736552267030251260509823595017565674550605919957031528046448612553265933585158200530621522494798835713008069669675682517153375604983773077550946583958303386074349568\n",
            "result is 6.183260036827614e+172\n",
            "executing finally clause and the new value of x is  247330401473104534060502521019647190035131349101211839914063056092897225106531867170316401061243044989597671426016139339351365034306751209967546155101893167916606772148699136\n",
            "result is 1.2366520073655227e+173\n",
            "executing finally clause and the new value of x is  494660802946209068121005042039294380070262698202423679828126112185794450213063734340632802122486089979195342852032278678702730068613502419935092310203786335833213544297398272\n",
            "result is 2.4733040147310453e+173\n",
            "executing finally clause and the new value of x is  989321605892418136242010084078588760140525396404847359656252224371588900426127468681265604244972179958390685704064557357405460137227004839870184620407572671666427088594796544\n",
            "result is 4.946608029462091e+173\n",
            "executing finally clause and the new value of x is  1978643211784836272484020168157177520281050792809694719312504448743177800852254937362531208489944359916781371408129114714810920274454009679740369240815145343332854177189593088\n",
            "result is 9.893216058924181e+173\n",
            "executing finally clause and the new value of x is  3957286423569672544968040336314355040562101585619389438625008897486355601704509874725062416979888719833562742816258229429621840548908019359480738481630290686665708354379186176\n",
            "result is 1.9786432117848363e+174\n",
            "executing finally clause and the new value of x is  7914572847139345089936080672628710081124203171238778877250017794972711203409019749450124833959777439667125485632516458859243681097816038718961476963260581373331416708758372352\n",
            "result is 3.9572864235696725e+174\n",
            "executing finally clause and the new value of x is  15829145694278690179872161345257420162248406342477557754500035589945422406818039498900249667919554879334250971265032917718487362195632077437922953926521162746662833417516744704\n",
            "result is 7.914572847139345e+174\n",
            "executing finally clause and the new value of x is  31658291388557380359744322690514840324496812684955115509000071179890844813636078997800499335839109758668501942530065835436974724391264154875845907853042325493325666835033489408\n",
            "result is 1.582914569427869e+175\n",
            "executing finally clause and the new value of x is  63316582777114760719488645381029680648993625369910231018000142359781689627272157995600998671678219517337003885060131670873949448782528309751691815706084650986651333670066978816\n",
            "result is 3.165829138855738e+175\n",
            "executing finally clause and the new value of x is  126633165554229521438977290762059361297987250739820462036000284719563379254544315991201997343356439034674007770120263341747898897565056619503383631412169301973302667340133957632\n",
            "result is 6.331658277711476e+175\n",
            "executing finally clause and the new value of x is  253266331108459042877954581524118722595974501479640924072000569439126758509088631982403994686712878069348015540240526683495797795130113239006767262824338603946605334680267915264\n",
            "result is 1.2663316555422952e+176\n",
            "executing finally clause and the new value of x is  506532662216918085755909163048237445191949002959281848144001138878253517018177263964807989373425756138696031080481053366991595590260226478013534525648677207893210669360535830528\n",
            "result is 2.5326633110845904e+176\n",
            "executing finally clause and the new value of x is  1013065324433836171511818326096474890383898005918563696288002277756507034036354527929615978746851512277392062160962106733983191180520452956027069051297354415786421338721071661056\n",
            "result is 5.065326622169181e+176\n",
            "executing finally clause and the new value of x is  2026130648867672343023636652192949780767796011837127392576004555513014068072709055859231957493703024554784124321924213467966382361040905912054138102594708831572842677442143322112\n",
            "result is 1.0130653244338362e+177\n",
            "executing finally clause and the new value of x is  4052261297735344686047273304385899561535592023674254785152009111026028136145418111718463914987406049109568248643848426935932764722081811824108276205189417663145685354884286644224\n",
            "result is 2.0261306488676723e+177\n",
            "executing finally clause and the new value of x is  8104522595470689372094546608771799123071184047348509570304018222052056272290836223436927829974812098219136497287696853871865529444163623648216552410378835326291370709768573288448\n",
            "result is 4.052261297735345e+177\n",
            "executing finally clause and the new value of x is  16209045190941378744189093217543598246142368094697019140608036444104112544581672446873855659949624196438272994575393707743731058888327247296433104820757670652582741419537146576896\n",
            "result is 8.10452259547069e+177\n",
            "executing finally clause and the new value of x is  32418090381882757488378186435087196492284736189394038281216072888208225089163344893747711319899248392876545989150787415487462117776654494592866209641515341305165482839074293153792\n",
            "result is 1.620904519094138e+178\n",
            "executing finally clause and the new value of x is  64836180763765514976756372870174392984569472378788076562432145776416450178326689787495422639798496785753091978301574830974924235553308989185732419283030682610330965678148586307584\n",
            "result is 3.241809038188276e+178\n",
            "executing finally clause and the new value of x is  129672361527531029953512745740348785969138944757576153124864291552832900356653379574990845279596993571506183956603149661949848471106617978371464838566061365220661931356297172615168\n",
            "result is 6.483618076376552e+178\n",
            "executing finally clause and the new value of x is  259344723055062059907025491480697571938277889515152306249728583105665800713306759149981690559193987143012367913206299323899696942213235956742929677132122730441323862712594345230336\n",
            "result is 1.2967236152753103e+179\n",
            "executing finally clause and the new value of x is  518689446110124119814050982961395143876555779030304612499457166211331601426613518299963381118387974286024735826412598647799393884426471913485859354264245460882647725425188690460672\n",
            "result is 2.5934472305506206e+179\n",
            "executing finally clause and the new value of x is  1037378892220248239628101965922790287753111558060609224998914332422663202853227036599926762236775948572049471652825197295598787768852943826971718708528490921765295450850377380921344\n",
            "result is 5.186894461101241e+179\n",
            "executing finally clause and the new value of x is  2074757784440496479256203931845580575506223116121218449997828664845326405706454073199853524473551897144098943305650394591197575537705887653943437417056981843530590901700754761842688\n",
            "result is 1.0373788922202482e+180\n",
            "executing finally clause and the new value of x is  4149515568880992958512407863691161151012446232242436899995657329690652811412908146399707048947103794288197886611300789182395151075411775307886874834113963687061181803401509523685376\n",
            "result is 2.0747577844404965e+180\n",
            "executing finally clause and the new value of x is  8299031137761985917024815727382322302024892464484873799991314659381305622825816292799414097894207588576395773222601578364790302150823550615773749668227927374122363606803019047370752\n",
            "result is 4.149515568880993e+180\n",
            "executing finally clause and the new value of x is  16598062275523971834049631454764644604049784928969747599982629318762611245651632585598828195788415177152791546445203156729580604301647101231547499336455854748244727213606038094741504\n",
            "result is 8.299031137761986e+180\n",
            "executing finally clause and the new value of x is  33196124551047943668099262909529289208099569857939495199965258637525222491303265171197656391576830354305583092890406313459161208603294202463094998672911709496489454427212076189483008\n",
            "result is 1.6598062275523972e+181\n",
            "executing finally clause and the new value of x is  66392249102095887336198525819058578416199139715878990399930517275050444982606530342395312783153660708611166185780812626918322417206588404926189997345823418992978908854424152378966016\n",
            "result is "
          ]
        }
      ]
    },
    {
      "cell_type": "code",
      "metadata": {
        "id": "G_DYkVXJpkqe"
      },
      "source": [
        "gearbox_info=df\n",
        "gearbox_info['New Col']="
      ],
      "execution_count": null,
      "outputs": []
    }
  ]
}